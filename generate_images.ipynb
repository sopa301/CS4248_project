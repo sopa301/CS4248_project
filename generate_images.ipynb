{
 "cells": [
  {
   "cell_type": "code",
   "execution_count": 1,
   "metadata": {},
   "outputs": [],
   "source": [
    "# Generates images for processing by the VLM\n",
    "\n",
    "OUTPUT_SIZE = 224 # it's a square image\n",
    "MAX_EMOJIS_PER_ROW = 3\n",
    "MAX_EMOJI_SEQUENCE_LENGTH = MAX_EMOJIS_PER_ROW * MAX_EMOJIS_PER_ROW\n"
   ]
  },
  {
   "cell_type": "code",
   "execution_count": null,
   "metadata": {},
   "outputs": [],
   "source": []
  },
  {
   "cell_type": "code",
   "execution_count": 2,
   "metadata": {},
   "outputs": [
    {
     "data": {
      "text/plain": [
       "count    1655.000000\n",
       "mean        2.588520\n",
       "std         1.281149\n",
       "min         1.000000\n",
       "25%         2.000000\n",
       "50%         2.000000\n",
       "75%         3.000000\n",
       "max        18.000000\n",
       "Name: length, dtype: float64"
      ]
     },
     "execution_count": 2,
     "metadata": {},
     "output_type": "execute_result"
    },
    {
     "data": {
      "image/png": "[encoded data removed]",
      "text/plain": [
       "<Figure size 640x480 with 1 Axes>"
      ]
     },
     "metadata": {},
     "output_type": "display_data"
    }
   ],
   "source": [
    "import pandas as pd\n",
    "import grapheme\n",
    "\n",
    "elco_df = pd.read_csv('elco.csv')\n",
    "\n",
    "# count the lengths and graph it\n",
    "elco_df['length'] = elco_df['EM'].apply(lambda x: len(list(grapheme.graphemes(x))))\n",
    "elco_df['length'].hist(bins=elco_df['length'].max())\n",
    "elco_df['length'].describe()"
   ]
  },
  {
   "cell_type": "code",
   "execution_count": 3,
   "metadata": {},
   "outputs": [
    {
     "data": {
      "text/plain": [
       "103"
      ]
     },
     "execution_count": 3,
     "metadata": {},
     "output_type": "execute_result"
    }
   ],
   "source": [
    "# count number of lengths > 9\n",
    "elco_df[elco_df['length'] > 9].shape[0]\n",
    "elco_df[elco_df['length'] > 4].shape[0]"
   ]
  },
  {
   "cell_type": "code",
   "execution_count": 57,
   "metadata": {},
   "outputs": [
    {
     "name": "stdout",
     "output_type": "stream",
     "text": [
      "Skipping 👬👬👬👬👬👬👬👬👬👬👬 because it's too long\n",
      "Couldn't find image for 🇷🇺 at noto-emoji-main/noto-emoji-main/png/72/emoji_u1f1f7_1f1fa.png\n",
      "Couldn't find image for 🇦🇽 at noto-emoji-main/noto-emoji-main/png/72/emoji_u1f1e6_1f1fd.png\n",
      "Couldn't find image for 🇺🇸 at noto-emoji-main/noto-emoji-main/png/72/emoji_u1f1fa_1f1f8.png\n",
      "Couldn't find image for 🇦🇽 at noto-emoji-main/noto-emoji-main/png/72/emoji_u1f1e6_1f1fd.png\n",
      "Skipping 📦📦📦📦📦📦📦📦📦✖️💯 because it's too long\n",
      "Skipping 🧍‍♂️🧍‍♂️🧍‍♂️🧍‍♂️🧍‍♂️🧍‍♂️🧍‍♂️🧍‍♂️🧍‍♂️🕍 because it's too long\n",
      "Skipping 🍏🍎🍐🍊🥔🍠🥐🥯🍞🫓🍑🥥🥝 because it's too long\n",
      "Skipping 🍏🍌🥐🌮🥪🥨🧀🥚🥞🥬🌶️🍢🧋🌰🍪🎂🥂🍨 because it's too long\n",
      "Skipping 💸🏦💵🪙💰💹🏧💲💳🤑 because it's too long\n",
      "Couldn't find image for 🇸🇬 at noto-emoji-main/noto-emoji-main/png/72/emoji_u1f1f8_1f1ec.png\n",
      "Couldn't find image for 🇻🇪 at noto-emoji-main/noto-emoji-main/png/72/emoji_u1f1fb_1f1ea.png\n",
      "Couldn't find image for 🇫🇷 at noto-emoji-main/noto-emoji-main/png/72/emoji_u1f1eb_1f1f7.png\n",
      "Couldn't find image for 🇺🇳 at noto-emoji-main/noto-emoji-main/png/72/emoji_u1f1fa_1f1f3.png\n",
      "Couldn't find image for 🇻🇪 at noto-emoji-main/noto-emoji-main/png/72/emoji_u1f1fb_1f1ea.png\n",
      "Couldn't find image for 🇧🇱 at noto-emoji-main/noto-emoji-main/png/72/emoji_u1f1e7_1f1f1.png\n",
      "Couldn't find image for 🇦🇫 at noto-emoji-main/noto-emoji-main/png/72/emoji_u1f1e6_1f1eb.png\n",
      "Couldn't find image for 🇮🇴 at noto-emoji-main/noto-emoji-main/png/72/emoji_u1f1ee_1f1f4.png\n",
      "Couldn't find image for 🇬🇧 at noto-emoji-main/noto-emoji-main/png/72/emoji_u1f1ec_1f1e7.png\n",
      "Couldn't find image for 🇻🇪 at noto-emoji-main/noto-emoji-main/png/72/emoji_u1f1fb_1f1ea.png\n",
      "Couldn't find image for 🇨🇿 at noto-emoji-main/noto-emoji-main/png/72/emoji_u1f1e8_1f1ff.png\n",
      "Couldn't find image for 🇮🇴 at noto-emoji-main/noto-emoji-main/png/72/emoji_u1f1ee_1f1f4.png\n",
      "Couldn't find image for 🇻🇪 at noto-emoji-main/noto-emoji-main/png/72/emoji_u1f1fb_1f1ea.png\n",
      "Couldn't find image for 🇨🇳 at noto-emoji-main/noto-emoji-main/png/72/emoji_u1f1e8_1f1f3.png\n",
      "Couldn't find image for 🇨🇳 at noto-emoji-main/noto-emoji-main/png/72/emoji_u1f1e8_1f1f3.png\n",
      "Couldn't find image for 🇨🇳 at noto-emoji-main/noto-emoji-main/png/72/emoji_u1f1e8_1f1f3.png\n",
      "Couldn't find image for 🇨🇳 at noto-emoji-main/noto-emoji-main/png/72/emoji_u1f1e8_1f1f3.png\n",
      "Couldn't find image for 🇨🇳 at noto-emoji-main/noto-emoji-main/png/72/emoji_u1f1e8_1f1f3.png\n",
      "Couldn't find image for 🇨🇳 at noto-emoji-main/noto-emoji-main/png/72/emoji_u1f1e8_1f1f3.png\n",
      "Undone: 29\n"
     ]
    }
   ],
   "source": [
    "import os\n",
    "import cv2\n",
    "import grapheme\n",
    "import numpy as np\n",
    "import pygame\n",
    "import shutil\n",
    "\n",
    "pygame.init()\n",
    "\n",
    "def emoji_to_noto_filename(emoji, extension=\"png\"):\n",
    "    # Step 1: Get the Unicode code points of the emoji.\n",
    "    codepoints = [f\"U{ord(char):04X}\" for char in emoji]\n",
    "    # Step 2: Join the code points with underscores for ZWJ (Zero-Width Joiner) support.\n",
    "    # Replace the \"U\" prefix with a lowercase \"u\" and remove the \"+\" symbol.\n",
    "    file_name_parts = [f\"u{codepoints[0][1:].lower()}\"]  # First code point with \"u\"\n",
    "    for codepoint in codepoints[1:]:\n",
    "        str = codepoint[1:].lower()\n",
    "        if str == 'fe0f': # Remove the variation selector\n",
    "          continue\n",
    "        file_name_parts.append(codepoint[1:].lower())  # Following code points without \"u\"\n",
    "    \n",
    "    # Step 3: Construct the filename (e.g., emoji_u1f9cf_200d_2640.png)\n",
    "    file_name = \"_\".join(file_name_parts)\n",
    "    return f\"emoji_{file_name}.{extension}\"\n",
    "\n",
    "def get_png_image_for_emoji_google(emoji):\n",
    "  IMAGE_DIR = 'noto-emoji-main/noto-emoji-main/png/72'\n",
    "  filename = emoji_to_noto_filename(emoji)\n",
    "  path = f'{IMAGE_DIR}/{filename}'\n",
    "  if not os.path.exists(path):\n",
    "    print(f\"Couldn't find image for {emoji} at {path}\")\n",
    "    return None\n",
    "  img = cv2.imread(path, cv2.IMREAD_COLOR)  # Use only RGB channels\n",
    "  img_new_size = OUTPUT_SIZE // MAX_EMOJIS_PER_ROW\n",
    "  img = cv2.resize(img, (img_new_size, img_new_size))\n",
    "  return img\n",
    "\n",
    "\n",
    "def generate_google_dataset():\n",
    "  output_path = 'google_dataset'\n",
    "  if os.path.exists(output_path):\n",
    "    # delete the directory\n",
    "    shutil.rmtree(output_path)\n",
    "\n",
    "  os.makedirs(output_path, exist_ok=True)\n",
    "\n",
    "  undone = 0\n",
    "\n",
    "  i = -1\n",
    "  for text in elco_df['EM']:\n",
    "    i += 1\n",
    "    units = list(grapheme.graphemes(text))\n",
    "    units = [unit for unit in units if unit != ',' and unit != ' '] # don't ask me why they're there\n",
    "    if len(units) > MAX_EMOJI_SEQUENCE_LENGTH:\n",
    "      print(f\"Skipping {text} because it's too long\")\n",
    "      undone += 1\n",
    "      continue\n",
    "    \n",
    "    output_filename = f'{output_path}/{i}.png'\n",
    "    \n",
    "    x = 0\n",
    "    y = 0\n",
    "    # Make a white image of size OUTPUT_SIZE x OUTPUT_SIZE\n",
    "    canvas = np.zeros((OUTPUT_SIZE, OUTPUT_SIZE, 3), dtype=np.uint8)  # RGB image\n",
    "    \n",
    "    img_new_size = OUTPUT_SIZE // MAX_EMOJIS_PER_ROW\n",
    "\n",
    "    generated = True\n",
    "    # Generate the image\n",
    "    for j in range(len(units)):\n",
    "      unit = units[j]\n",
    "      try:\n",
    "        img = get_png_image_for_emoji_google(unit)\n",
    "      except Exception as e:\n",
    "        undone += 1\n",
    "        generated = False\n",
    "        print(f\"Error generating {unit}: {e}\")\n",
    "        break\n",
    "      if img is None:\n",
    "        undone += 1\n",
    "        generated = False\n",
    "        break\n",
    "\n",
    "      # Ensure img is in RGB before placing it on the canvas\n",
    "      if img.shape[2] == 4:  # If the image is RGBA, convert it to RGB\n",
    "          img = img[..., :3]\n",
    "\n",
    "      # Write the img to canvas starting at x, y\n",
    "      x_pos = j % MAX_EMOJIS_PER_ROW\n",
    "      y_pos = j // MAX_EMOJIS_PER_ROW\n",
    "      x = x_pos * img_new_size\n",
    "      y = y_pos * img_new_size\n",
    "      canvas[y:y+img.shape[0], x:x+img.shape[1]] = img\n",
    "    \n",
    "    if generated:\n",
    "      cv2.imwrite(output_filename, canvas)\n",
    "  \n",
    "  print(f\"Undone: {undone}\")\n",
    "\n",
    "generate_google_dataset()\n"
   ]
  },
  {
   "cell_type": "code",
   "execution_count": null,
   "metadata": {},
   "outputs": [],
   "source": []
  }
 ],
 "metadata": {
  "kernelspec": {
   "display_name": "Python 3",
   "language": "python",
   "name": "python3"
  },
  "language_info": {
   "codemirror_mode": {
    "name": "ipython",
    "version": 3
   },
   "file_extension": ".py",
   "mimetype": "text/x-python",
   "name": "python",
   "nbconvert_exporter": "python",
   "pygments_lexer": "ipython3",
   "version": "3.12.7"
  }
 },
 "nbformat": 4,
 "nbformat_minor": 2
}
