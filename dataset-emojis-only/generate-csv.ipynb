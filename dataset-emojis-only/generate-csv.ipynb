{
 "cells": [
  {
   "cell_type": "markdown",
   "metadata": {},
   "source": [
    "### Dependencies"
   ]
  },
  {
   "cell_type": "code",
   "execution_count": 17,
   "metadata": {},
   "outputs": [],
   "source": [
    "import emoji\n",
    "import os\n",
    "import cv2\n",
    "import grapheme\n",
    "import numpy as np\n",
    "import shutil\n",
    "import pandas as pd\n",
    "\n",
    "np.random.seed(0)"
   ]
  },
  {
   "cell_type": "markdown",
   "metadata": {},
   "source": [
    "# Generate CSVs"
   ]
  },
  {
   "cell_type": "markdown",
   "metadata": {},
   "source": [
    "### Testing utility functions\n",
    "* `list[emoji]` -> `str` \n",
    "* `str` -> `list[emoji]`"
   ]
  },
  {
   "cell_type": "code",
   "execution_count": null,
   "metadata": {},
   "outputs": [
    {
     "name": "stdout",
     "output_type": "stream",
     "text": [
      "face_savoring_foodbread\n",
      "U+1F3B7\n",
      "necktie [EM] chart_increasing.\n",
      "[':necktie:', ':chart_increasing:']\n"
     ]
    }
   ],
   "source": [
    "import emoji\n",
    "import ast\n",
    "\n",
    "def emoji_to_unicode(emoji_str):\n",
    "    return ' '.join([f\"U+{ord(char):X}\" for char in emoji_str])\n",
    "\n",
    "def process_emoji_list_to_str(emoji_list):\n",
    "    desc_processed = ' [EM] '.join(desc.strip(':') for desc in emoji_list)\n",
    "    return f\"{desc_processed}.\"\n",
    "\n",
    "def unprocess_emoji_list_from_str(emoji_str):\n",
    "    s = emoji_str[:-1].split(' [EM] ')\n",
    "    return [f\":{desc}:\" for desc in s]\n",
    "\n",
    "def emoji_str_from_description(desc_str: str) -> str:\n",
    "    \"\"\"\n",
    "    Converts a description string containing emoji descriptions into a string of actual emojis.\n",
    "    Args:\n",
    "        desc_str (str): A string containing emoji descriptions separated by ' [EM] '.\n",
    "                        The string is expected to start with \"This is\" and end with a period (\".\").\n",
    "\n",
    "    Returns:\n",
    "        str: A string of emojis corresponding to the descriptions in the input string.\n",
    "\n",
    "    Example:\n",
    "        >>> emoji_str_from_description('This is face_savoring_food [EM] bread.')\n",
    "        '😋🍞'\n",
    "    \"\"\"\n",
    "    desc_str = desc_str[8:-1]  # Remove \"This is\" at the start and \".\" at the end\n",
    "    desc_list = desc_str.split(' [EM] ')  # Split the string into a list of descriptions\n",
    "    emoji_lst = []\n",
    "    for desc in desc_list:\n",
    "        if desc == \"pouting_face\":\n",
    "            emoji_lst.append('😡')\n",
    "        else:\n",
    "            emoji_lst.append(emoji.emojize(f\":{desc}:\"))\n",
    "    return ''.join(emoji_lst)\n",
    "\n",
    "\n",
    "# write some tests for processing and unprocessing📈\n",
    "print(emoji_str_from_description('This is face_savoring_food [EM] bread.'))\n",
    "print(emoji_to_unicode('🎷'))\n",
    "print(process_emoji_list_to_str([':necktie:', ':chart_increasing:']))\n",
    "print(unprocess_emoji_list_from_str(process_emoji_list_to_str([':necktie:', ':chart_increasing:'])))\n"
   ]
  },
  {
   "cell_type": "code",
   "execution_count": 19,
   "metadata": {},
   "outputs": [],
   "source": [
    "import csv\n",
    "import ast\n",
    "import os\n",
    "\n",
    "def generate_csv(input_file_path, output_file_path):\n",
    "    with open(input_file_path, newline='', encoding='utf-8') as fin, \\\n",
    "        open(output_file_path, 'w', newline='', encoding='utf-8') as fout:\n",
    "\n",
    "        reader = csv.DictReader(fin)\n",
    "        fieldnames = ['sent1', 'sent2', 'label', 'strategy'] # needs to have the same fieldnames in the output csv\n",
    "        writer = csv.DictWriter(fout, fieldnames=fieldnames)\n",
    "        writer.writeheader()\n",
    "\n",
    "        for row in reader:\n",
    "            em = emoji_str_from_description(row['sent1'])\n",
    "            en = ' '.join(row['sent2'].split()[2:])[:-1] \n",
    "            writer.writerow({\n",
    "                'sent1': em,\n",
    "                'sent2': en,\n",
    "                'label': row['label'],\n",
    "                'strategy': row['strategy'],\n",
    "            })\n",
    "\n",
    "    print(f\"Conversion complete! Output saved to {output_file_path}\")"
   ]
  },
  {
   "cell_type": "code",
   "execution_count": 20,
   "metadata": {},
   "outputs": [
    {
     "name": "stdout",
     "output_type": "stream",
     "text": [
      "Conversion complete! Output saved to ./converted/train.csv\n",
      "Conversion complete! Output saved to ./converted/test.csv\n",
      "Conversion complete! Output saved to ./converted/val.csv\n"
     ]
    }
   ],
   "source": [
    "csvs_to_generate = [\n",
    "    (\n",
    "     'train',\n",
    "     os.path.join('.', 'originals', 'train.csv'), \n",
    "     os.path.join('.', 'converted', 'train.csv')), \n",
    "\n",
    "    ('test',\n",
    "     os.path.join('.', 'originals', 'test.csv'), \n",
    "     os.path.join('.', 'converted', 'test.csv')), \n",
    "\n",
    "    ('val',\n",
    "     os.path.join('.', 'originals', 'val.csv'), \n",
    "     os.path.join('.', 'converted', 'val.csv')), \n",
    "]\n",
    "\n",
    "for folder_type, input, output in csvs_to_generate:\n",
    "    generate_csv(input, output)"
   ]
  }
 ],
 "metadata": {
  "kernelspec": {
   "display_name": ".venv",
   "language": "python",
   "name": "python3"
  },
  "language_info": {
   "codemirror_mode": {
    "name": "ipython",
    "version": 3
   },
   "file_extension": ".py",
   "mimetype": "text/x-python",
   "name": "python",
   "nbconvert_exporter": "python",
   "pygments_lexer": "ipython3",
   "version": "3.11.5"
  }
 },
 "nbformat": 4,
 "nbformat_minor": 2
}
