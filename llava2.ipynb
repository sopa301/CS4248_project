{
 "cells": [
  {
   "cell_type": "markdown",
   "metadata": {},
   "source": [
    "LLAVA case study"
   ]
  },
  {
   "cell_type": "code",
   "execution_count": 2,
   "metadata": {},
   "outputs": [
    {
     "name": "stderr",
     "output_type": "stream",
     "text": [
      "c:\\Users\\Seth\\miniconda3\\envs\\nlpproj\\lib\\site-packages\\tqdm\\auto.py:21: TqdmWarning: IProgress not found. Please update jupyter and ipywidgets. See https://ipywidgets.readthedocs.io/en/stable/user_install.html\n",
      "  from .autonotebook import tqdm as notebook_tqdm\n",
      "The installed version of bitsandbytes was compiled without GPU support. 8-bit optimizers, 8-bit multiplication, and GPU quantization are unavailable.\n",
      "Some kwargs in processor config are unused and will not have any effect: num_additional_image_tokens. \n",
      "Loading checkpoint shards: 100%|██████████| 3/3 [01:24<00:00, 28.18s/it]\n"
     ]
    }
   ],
   "source": [
    "# Load model directly\n",
    "from transformers import AutoProcessor, AutoModelForImageTextToText, Trainer, TrainingArguments\n",
    "from sklearn.metrics import accuracy_score, f1_score\n",
    "import torch\n",
    "import pandas as pd\n",
    "from PIL import Image\n",
    "from torch.amp import autocast\n",
    "\n",
    "device = \"cpu\"\n",
    "processor = AutoProcessor.from_pretrained(\"llava-hf/llava-1.5-7b-hf\")\n",
    "model = AutoModelForImageTextToText.from_pretrained(\"llava-hf/llava-1.5-7b-hf\").to(device)"
   ]
  },
  {
   "cell_type": "markdown",
   "metadata": {},
   "source": [
    "load dataset"
   ]
  },
  {
   "cell_type": "code",
   "execution_count": 3,
   "metadata": {},
   "outputs": [],
   "source": [
    "train_dataset = pd.read_csv(\"generated_img_dataset/train.csv\")\n",
    "valid_dataset = pd.read_csv(\"generated_img_dataset/val.csv\")\n",
    "test_dataset = pd.read_csv(\"generated_img_dataset/test.csv\")"
   ]
  },
  {
   "cell_type": "code",
   "execution_count": 6,
   "metadata": {},
   "outputs": [
    {
     "data": {
      "text/html": [
       "<div>\n",
       "<style scoped>\n",
       "    .dataframe tbody tr th:only-of-type {\n",
       "        vertical-align: middle;\n",
       "    }\n",
       "\n",
       "    .dataframe tbody tr th {\n",
       "        vertical-align: top;\n",
       "    }\n",
       "\n",
       "    .dataframe thead th {\n",
       "        text-align: right;\n",
       "    }\n",
       "</style>\n",
       "<table border=\"1\" class=\"dataframe\">\n",
       "  <thead>\n",
       "    <tr style=\"text-align: right;\">\n",
       "      <th></th>\n",
       "      <th>EM</th>\n",
       "      <th>EN</th>\n",
       "      <th>unicode</th>\n",
       "      <th>label</th>\n",
       "      <th>strategy</th>\n",
       "      <th>image</th>\n",
       "    </tr>\n",
       "  </thead>\n",
       "  <tbody>\n",
       "    <tr>\n",
       "      <th>0</th>\n",
       "      <td>👔📈</td>\n",
       "      <td>big business</td>\n",
       "      <td>U+1F454 U+1F4C8</td>\n",
       "      <td>1</td>\n",
       "      <td>1</td>\n",
       "      <td>./generated_img_dataset/test_google/0.png</td>\n",
       "    </tr>\n",
       "    <tr>\n",
       "      <th>1</th>\n",
       "      <td>🏢🤑🤑</td>\n",
       "      <td>big business</td>\n",
       "      <td>U+1F3E2 U+1F911 U+1F911</td>\n",
       "      <td>1</td>\n",
       "      <td>1</td>\n",
       "      <td>./generated_img_dataset/test_google/1.png</td>\n",
       "    </tr>\n",
       "    <tr>\n",
       "      <th>2</th>\n",
       "      <td>👨‍💻🤝</td>\n",
       "      <td>big business</td>\n",
       "      <td>U+1F468 U+200D U+1F4BB U+1F91D</td>\n",
       "      <td>1</td>\n",
       "      <td>1</td>\n",
       "      <td>./generated_img_dataset/test_google/2.png</td>\n",
       "    </tr>\n",
       "    <tr>\n",
       "      <th>3</th>\n",
       "      <td>🏢🧑‍🤝‍🧑🧑‍🤝‍🧑🧑‍🤝‍🧑</td>\n",
       "      <td>big business</td>\n",
       "      <td>U+1F3E2 U+1F9D1 U+200D U+1F91D U+200D U+1F9D1 ...</td>\n",
       "      <td>1</td>\n",
       "      <td>1</td>\n",
       "      <td>./generated_img_dataset/test_google/3.png</td>\n",
       "    </tr>\n",
       "    <tr>\n",
       "      <th>4</th>\n",
       "      <td>👩‍💻🤑</td>\n",
       "      <td>big business</td>\n",
       "      <td>U+1F469 U+200D U+1F4BB U+1F911</td>\n",
       "      <td>1</td>\n",
       "      <td>1</td>\n",
       "      <td>./generated_img_dataset/test_google/4.png</td>\n",
       "    </tr>\n",
       "    <tr>\n",
       "      <th>...</th>\n",
       "      <td>...</td>\n",
       "      <td>...</td>\n",
       "      <td>...</td>\n",
       "      <td>...</td>\n",
       "      <td>...</td>\n",
       "      <td>...</td>\n",
       "    </tr>\n",
       "    <tr>\n",
       "      <th>488</th>\n",
       "      <td>👍👣</td>\n",
       "      <td>effective entrance</td>\n",
       "      <td>U+1F44D U+1F463</td>\n",
       "      <td>0</td>\n",
       "      <td>6</td>\n",
       "      <td>./generated_img_dataset/test_google/513.png</td>\n",
       "    </tr>\n",
       "    <tr>\n",
       "      <th>489</th>\n",
       "      <td>👏🪜</td>\n",
       "      <td>effective entrance</td>\n",
       "      <td>U+1F44F U+1FA9C</td>\n",
       "      <td>0</td>\n",
       "      <td>6</td>\n",
       "      <td>./generated_img_dataset/test_google/514.png</td>\n",
       "    </tr>\n",
       "    <tr>\n",
       "      <th>490</th>\n",
       "      <td>😤🗣️💬</td>\n",
       "      <td>effective entrance</td>\n",
       "      <td>U+1F624 U+1F5E3 U+FE0F U+1F4AC</td>\n",
       "      <td>0</td>\n",
       "      <td>6</td>\n",
       "      <td>./generated_img_dataset/test_google/515.png</td>\n",
       "    </tr>\n",
       "    <tr>\n",
       "      <th>491</th>\n",
       "      <td>💨🤬</td>\n",
       "      <td>effective entrance</td>\n",
       "      <td>U+1F4A8 U+1F92C</td>\n",
       "      <td>0</td>\n",
       "      <td>6</td>\n",
       "      <td>./generated_img_dataset/test_google/516.png</td>\n",
       "    </tr>\n",
       "    <tr>\n",
       "      <th>492</th>\n",
       "      <td>👍👣➡️</td>\n",
       "      <td>effective entrance</td>\n",
       "      <td>U+1F44D U+1F463 U+27A1 U+FE0F</td>\n",
       "      <td>0</td>\n",
       "      <td>6</td>\n",
       "      <td>./generated_img_dataset/test_google/517.png</td>\n",
       "    </tr>\n",
       "  </tbody>\n",
       "</table>\n",
       "<p>493 rows × 6 columns</p>\n",
       "</div>"
      ],
      "text/plain": [
       "                   EM                  EN  \\\n",
       "0                  👔📈        big business   \n",
       "1                 🏢🤑🤑        big business   \n",
       "2                👨‍💻🤝        big business   \n",
       "3    🏢🧑‍🤝‍🧑🧑‍🤝‍🧑🧑‍🤝‍🧑        big business   \n",
       "4                👩‍💻🤑        big business   \n",
       "..                ...                 ...   \n",
       "488                👍👣  effective entrance   \n",
       "489                👏🪜  effective entrance   \n",
       "490              😤🗣️💬  effective entrance   \n",
       "491                💨🤬  effective entrance   \n",
       "492              👍👣➡️  effective entrance   \n",
       "\n",
       "                                               unicode  label  strategy  \\\n",
       "0                                      U+1F454 U+1F4C8      1         1   \n",
       "1                              U+1F3E2 U+1F911 U+1F911      1         1   \n",
       "2                       U+1F468 U+200D U+1F4BB U+1F91D      1         1   \n",
       "3    U+1F3E2 U+1F9D1 U+200D U+1F91D U+200D U+1F9D1 ...      1         1   \n",
       "4                       U+1F469 U+200D U+1F4BB U+1F911      1         1   \n",
       "..                                                 ...    ...       ...   \n",
       "488                                    U+1F44D U+1F463      0         6   \n",
       "489                                    U+1F44F U+1FA9C      0         6   \n",
       "490                     U+1F624 U+1F5E3 U+FE0F U+1F4AC      0         6   \n",
       "491                                    U+1F4A8 U+1F92C      0         6   \n",
       "492                      U+1F44D U+1F463 U+27A1 U+FE0F      0         6   \n",
       "\n",
       "                                           image  \n",
       "0      ./generated_img_dataset/test_google/0.png  \n",
       "1      ./generated_img_dataset/test_google/1.png  \n",
       "2      ./generated_img_dataset/test_google/2.png  \n",
       "3      ./generated_img_dataset/test_google/3.png  \n",
       "4      ./generated_img_dataset/test_google/4.png  \n",
       "..                                           ...  \n",
       "488  ./generated_img_dataset/test_google/513.png  \n",
       "489  ./generated_img_dataset/test_google/514.png  \n",
       "490  ./generated_img_dataset/test_google/515.png  \n",
       "491  ./generated_img_dataset/test_google/516.png  \n",
       "492  ./generated_img_dataset/test_google/517.png  \n",
       "\n",
       "[493 rows x 6 columns]"
      ]
     },
     "execution_count": 6,
     "metadata": {},
     "output_type": "execute_result"
    }
   ],
   "source": [
    "test_dataset"
   ]
  },
  {
   "cell_type": "code",
   "execution_count": null,
   "metadata": {},
   "outputs": [
    {
     "name": "stdout",
     "output_type": "stream",
     "text": [
      "Starting prediction with batch size 8 on device cpu...\n"
     ]
    },
    {
     "name": "stderr",
     "output_type": "stream",
     "text": [
      "Processing Batches:   0%|          | 0/62 [00:00<?, ?it/s]Expanding inputs for image tokens in LLaVa should be done in processing. Please add `patch_size` and `vision_feature_select_strategy` to the model's processing config or set directly with `processor.patch_size = {{patch_size}}` and processor.vision_feature_select_strategy = {{vision_feature_select_strategy}}`. Using processors without these attributes in the config is deprecated and will throw an error in v4.47.\n",
      "Processing Batches:   2%|▏         | 1/62 [11:29<11:40:53, 689.40s/it]"
     ]
    },
    {
     "name": "stdout",
     "output_type": "stream",
     "text": [
      "Batch starting row 0: EN = big business -> Prediction: 1, Generated: user:  \n",
      "does this emoji sequence mean 'big business'? answer yes or no. assistant: yes....\n"
     ]
    },
    {
     "name": "stderr",
     "output_type": "stream",
     "text": [
      "Processing Batches:   3%|▎         | 2/62 [19:14<9:17:37, 557.62s/it] "
     ]
    },
    {
     "name": "stdout",
     "output_type": "stream",
     "text": [
      "Batch starting row 8: EN = big expenditure -> Prediction: 1, Generated: user:  \n",
      "does this emoji sequence mean 'big expenditure'? answer yes or no. assistant: yes....\n"
     ]
    },
    {
     "name": "stderr",
     "output_type": "stream",
     "text": [
      "Processing Batches:   5%|▍         | 3/62 [27:00<8:26:50, 515.44s/it]"
     ]
    },
    {
     "name": "stdout",
     "output_type": "stream",
     "text": [
      "Batch starting row 16: EN = big voice -> Prediction: 1, Generated: user:  \n",
      "does this emoji sequence mean 'big voice'? answer yes or no. assistant: yes....\n"
     ]
    },
    {
     "name": "stderr",
     "output_type": "stream",
     "text": [
      "Processing Batches:   6%|▋         | 4/62 [34:42<7:57:56, 494.43s/it]"
     ]
    },
    {
     "name": "stdout",
     "output_type": "stream",
     "text": [
      "Batch starting row 24: EN = big group -> Prediction: 1, Generated: user:  \n",
      "does this emoji sequence mean 'big group'? answer yes or no. assistant: yes....\n"
     ]
    },
    {
     "name": "stderr",
     "output_type": "stream",
     "text": [
      "Processing Batches:   8%|▊         | 5/62 [42:27<7:39:52, 484.08s/it]"
     ]
    },
    {
     "name": "stdout",
     "output_type": "stream",
     "text": [
      "Batch starting row 32: EN = big man -> Prediction: 1, Generated: user:  \n",
      "does this emoji sequence mean 'big man'? answer yes or no. assistant: no....\n"
     ]
    },
    {
     "name": "stderr",
     "output_type": "stream",
     "text": [
      "Processing Batches:  10%|▉         | 6/62 [50:34<7:32:35, 484.92s/it]"
     ]
    },
    {
     "name": "stdout",
     "output_type": "stream",
     "text": [
      "Batch starting row 40: EN = big city -> Prediction: 1, Generated: user:  \n",
      "does this emoji sequence mean 'big city'? answer yes or no. assistant: yes...\n"
     ]
    },
    {
     "name": "stderr",
     "output_type": "stream",
     "text": [
      "Processing Batches:  11%|█▏        | 7/62 [58:27<7:20:48, 480.89s/it]"
     ]
    },
    {
     "name": "stdout",
     "output_type": "stream",
     "text": [
      "Batch starting row 48: EN = big tipper -> Prediction: 1, Generated: user:  \n",
      "does this emoji sequence mean 'big tipper'? answer yes or no. assistant: no....\n"
     ]
    },
    {
     "name": "stderr",
     "output_type": "stream",
     "text": [
      "Processing Batches:  13%|█▎        | 8/62 [1:06:13<7:08:39, 476.29s/it]"
     ]
    },
    {
     "name": "stdout",
     "output_type": "stream",
     "text": [
      "Batch starting row 56: EN = big day -> Prediction: 1, Generated: user:  \n",
      "does this emoji sequence mean 'big day'? answer yes or no. assistant: yes....\n"
     ]
    },
    {
     "name": "stderr",
     "output_type": "stream",
     "text": [
      "Processing Batches:  15%|█▍        | 9/62 [1:13:57<6:57:21, 472.48s/it]"
     ]
    },
    {
     "name": "stdout",
     "output_type": "stream",
     "text": [
      "Batch starting row 64: EN = hot doll -> Prediction: 1, Generated: user:  \n",
      "does this emoji sequence mean 'hot doll'? answer yes or no. assistant: no....\n"
     ]
    },
    {
     "name": "stderr",
     "output_type": "stream",
     "text": [
      "Processing Batches:  16%|█▌        | 10/62 [1:21:53<6:50:18, 473.44s/it]"
     ]
    },
    {
     "name": "stdout",
     "output_type": "stream",
     "text": [
      "Batch starting row 72: EN = hot water -> Prediction: 1, Generated: user:  \n",
      "does this emoji sequence mean 'hot water'? answer yes or no. assistant: yes....\n"
     ]
    },
    {
     "name": "stderr",
     "output_type": "stream",
     "text": [
      "Processing Batches:  18%|█▊        | 11/62 [1:29:54<6:44:34, 475.97s/it]"
     ]
    },
    {
     "name": "stdout",
     "output_type": "stream",
     "text": [
      "Batch starting row 80: EN = hot stove -> Prediction: 1, Generated: user:  \n",
      "does this emoji sequence mean 'hot stove'? answer yes or no. assistant: yes....\n"
     ]
    },
    {
     "name": "stderr",
     "output_type": "stream",
     "text": [
      "Processing Batches:  19%|█▉        | 12/62 [1:37:40<6:33:56, 472.72s/it]"
     ]
    },
    {
     "name": "stdout",
     "output_type": "stream",
     "text": [
      "Batch starting row 88: EN = hot topic -> Prediction: 1, Generated: user:  \n",
      "does this emoji sequence mean 'hot topic'? answer yes or no. assistant: no...\n"
     ]
    },
    {
     "name": "stderr",
     "output_type": "stream",
     "text": [
      "Processing Batches:  21%|██        | 13/62 [1:45:36<6:26:50, 473.68s/it]"
     ]
    },
    {
     "name": "stdout",
     "output_type": "stream",
     "text": [
      "Batch starting row 96: EN = hot merchandise -> Prediction: 1, Generated: user:  \n",
      "does this emoji sequence mean 'hot merchandise'? answer yes or no. assistant: yes....\n"
     ]
    },
    {
     "name": "stderr",
     "output_type": "stream",
     "text": [
      "Processing Batches:  23%|██▎       | 14/62 [1:53:32<6:19:35, 474.49s/it]"
     ]
    },
    {
     "name": "stdout",
     "output_type": "stream",
     "text": [
      "Batch starting row 104: EN = hot argument -> Prediction: 1, Generated: user:  \n",
      "does this emoji sequence mean 'hot argument'? answer yes or no. assistant: no....\n"
     ]
    },
    {
     "name": "stderr",
     "output_type": "stream",
     "text": [
      "Processing Batches:  24%|██▍       | 15/62 [2:01:37<6:14:04, 477.55s/it]"
     ]
    },
    {
     "name": "stdout",
     "output_type": "stream",
     "text": [
      "Batch starting row 112: EN = hot forehead -> Prediction: 1, Generated: user:  \n",
      "does this emoji sequence mean 'hot forehead'? answer yes or no. assistant: no....\n"
     ]
    },
    {
     "name": "stderr",
     "output_type": "stream",
     "text": [
      "Processing Batches:  26%|██▌       | 16/62 [2:09:28<6:04:35, 475.55s/it]"
     ]
    },
    {
     "name": "stdout",
     "output_type": "stream",
     "text": [
      "Batch starting row 120: EN = full game -> Prediction: 1, Generated: user:  \n",
      "does this emoji sequence mean 'full game'? answer yes or no. assistant: no...\n"
     ]
    },
    {
     "name": "stderr",
     "output_type": "stream",
     "text": [
      "Processing Batches:  27%|██▋       | 17/62 [2:17:26<5:57:23, 476.52s/it]"
     ]
    },
    {
     "name": "stdout",
     "output_type": "stream",
     "text": [
      "Batch starting row 128: EN = full auditorium -> Prediction: 1, Generated: user:  \n",
      "does this emoji sequence mean 'full auditorium'? answer yes or no. assistant: no....\n"
     ]
    },
    {
     "name": "stderr",
     "output_type": "stream",
     "text": [
      "Processing Batches:  29%|██▉       | 18/62 [2:25:09<5:46:27, 472.45s/it]"
     ]
    },
    {
     "name": "stdout",
     "output_type": "stream",
     "text": [
      "Batch starting row 136: EN = full attention -> Prediction: 1, Generated: user:  \n",
      "does this emoji sequence mean 'full attention'? answer yes or no. assistant: no....\n"
     ]
    },
    {
     "name": "stderr",
     "output_type": "stream",
     "text": [
      "Processing Batches:  31%|███       | 19/62 [2:32:50<5:36:05, 468.96s/it]"
     ]
    },
    {
     "name": "stdout",
     "output_type": "stream",
     "text": [
      "Batch starting row 144: EN = full glass -> Prediction: 1, Generated: user:  \n",
      "does this emoji sequence mean 'full glass'? answer yes or no. assistant: yes....\n"
     ]
    },
    {
     "name": "stderr",
     "output_type": "stream",
     "text": [
      "Processing Batches:  32%|███▏      | 20/62 [2:42:28<5:51:14, 501.78s/it]"
     ]
    },
    {
     "name": "stdout",
     "output_type": "stream",
     "text": [
      "Batch starting row 152: EN = little boy -> Prediction: 1, Generated: user:  \n",
      "does this emoji sequence mean 'little boy'? answer yes or no. assistant: yes....\n"
     ]
    },
    {
     "name": "stderr",
     "output_type": "stream",
     "text": [
      "Processing Batches:  34%|███▍      | 21/62 [2:52:29<6:03:12, 531.52s/it]"
     ]
    },
    {
     "name": "stdout",
     "output_type": "stream",
     "text": [
      "Batch starting row 160: EN = little man -> Prediction: 1, Generated: user:  \n",
      "does this emoji sequence mean 'little man'? answer yes or no. assistant: no....\n"
     ]
    },
    {
     "name": "stderr",
     "output_type": "stream",
     "text": [
      "Processing Batches:  35%|███▌      | 22/62 [3:02:30<6:08:07, 552.19s/it]"
     ]
    },
    {
     "name": "stdout",
     "output_type": "stream",
     "text": [
      "Batch starting row 168: EN = little house -> Prediction: 1, Generated: user:  \n",
      "does this emoji sequence mean 'little house'? answer yes or no. assistant: yes....\n"
     ]
    },
    {
     "name": "stderr",
     "output_type": "stream",
     "text": [
      "Processing Batches:  37%|███▋      | 23/62 [3:12:34<6:09:09, 567.93s/it]"
     ]
    },
    {
     "name": "stdout",
     "output_type": "stream",
     "text": [
      "Batch starting row 176: EN = thin oil -> Prediction: 1, Generated: user:  \n",
      "does this emoji sequence mean 'thin oil'? answer yes or no. assistant: no....\n"
     ]
    },
    {
     "name": "stderr",
     "output_type": "stream",
     "text": [
      "Processing Batches:  39%|███▊      | 24/62 [3:22:25<6:04:05, 574.87s/it]"
     ]
    },
    {
     "name": "stdout",
     "output_type": "stream",
     "text": [
      "Batch starting row 184: EN = thin soup -> Prediction: 1, Generated: user:  \n",
      "does this emoji sequence mean 'thin soup'? answer yes or no. assistant: no....\n"
     ]
    },
    {
     "name": "stderr",
     "output_type": "stream",
     "text": [
      "Processing Batches:  40%|████      | 25/62 [3:32:32<6:00:25, 584.46s/it]"
     ]
    },
    {
     "name": "stdout",
     "output_type": "stream",
     "text": [
      "Batch starting row 192: EN = thin air -> Prediction: 1, Generated: user:  \n",
      "does this emoji sequence mean 'thin air'? answer yes or no. assistant: yes....\n"
     ]
    },
    {
     "name": "stderr",
     "output_type": "stream",
     "text": [
      "Processing Batches:  42%|████▏     | 26/62 [3:50:35<7:20:28, 734.12s/it]"
     ]
    },
    {
     "name": "stdout",
     "output_type": "stream",
     "text": [
      "Batch starting row 200: EN = thin line -> Prediction: 1, Generated: user:  \n",
      "does this emoji sequence mean 'thin line'? answer yes or no. assistant: no....\n"
     ]
    },
    {
     "name": "stderr",
     "output_type": "stream",
     "text": [
      "Processing Batches:  44%|████▎     | 27/62 [3:58:23<6:21:33, 654.10s/it]"
     ]
    },
    {
     "name": "stdout",
     "output_type": "stream",
     "text": [
      "Batch starting row 208: EN = ineffectual ruler -> Prediction: 1, Generated: user:  \n",
      "does this emoji sequence mean 'ineffectual ruler'? answer yes or no. assistant: yes....\n"
     ]
    },
    {
     "name": "stderr",
     "output_type": "stream",
     "text": [
      "Processing Batches:  45%|████▌     | 28/62 [4:06:21<5:40:47, 601.41s/it]"
     ]
    },
    {
     "name": "stdout",
     "output_type": "stream",
     "text": [
      "Batch starting row 216: EN = ineffectual therapy -> Prediction: 1, Generated: user:  \n",
      "does this emoji sequence mean 'ineffectual therapy'? answer yes or no. assistant: no....\n"
     ]
    },
    {
     "name": "stderr",
     "output_type": "stream",
     "text": [
      "Processing Batches:  47%|████▋     | 29/62 [4:14:16<5:09:49, 563.33s/it]"
     ]
    },
    {
     "name": "stdout",
     "output_type": "stream",
     "text": [
      "Batch starting row 224: EN = effective step -> Prediction: 1, Generated: user:  \n",
      "does this emoji sequence mean 'effective step'? answer yes or no. assistant: no....\n"
     ]
    },
    {
     "name": "stderr",
     "output_type": "stream",
     "text": [
      "Processing Batches:  48%|████▊     | 30/62 [4:22:08<4:45:50, 535.94s/it]"
     ]
    },
    {
     "name": "stdout",
     "output_type": "stream",
     "text": [
      "Batch starting row 232: EN = effective reprimand -> Prediction: 1, Generated: user:  \n",
      "does this emoji sequence mean 'effective reprimand'? answer yes or no. assistant: no....\n"
     ]
    },
    {
     "name": "stderr",
     "output_type": "stream",
     "text": [
      "Processing Batches:  50%|█████     | 31/62 [4:29:56<4:26:25, 515.65s/it]"
     ]
    },
    {
     "name": "stdout",
     "output_type": "stream",
     "text": [
      "Batch starting row 240: EN = effective entrance -> Prediction: 1, Generated: user:  \n",
      "does this emoji sequence mean 'effective entrance'? answer yes or no. assistant: no....\n"
     ]
    },
    {
     "name": "stderr",
     "output_type": "stream",
     "text": [
      "Processing Batches:  52%|█████▏    | 32/62 [4:37:59<4:12:50, 505.70s/it]"
     ]
    },
    {
     "name": "stdout",
     "output_type": "stream",
     "text": [
      "Batch starting row 248: EN = big business -> Prediction: 1, Generated: user:  \n",
      "does this emoji sequence mean 'big business'? answer yes or no. assistant: no...\n"
     ]
    },
    {
     "name": "stderr",
     "output_type": "stream",
     "text": [
      "Processing Batches:  53%|█████▎    | 33/62 [4:45:59<4:00:46, 498.16s/it]"
     ]
    },
    {
     "name": "stdout",
     "output_type": "stream",
     "text": [
      "Batch starting row 256: EN = big expenditure -> Prediction: 1, Generated: user:  \n",
      "does this emoji sequence mean 'big expenditure'? answer yes or no. assistant: no....\n"
     ]
    },
    {
     "name": "stderr",
     "output_type": "stream",
     "text": [
      "Processing Batches:  55%|█████▍    | 34/62 [4:53:46<3:48:04, 488.72s/it]"
     ]
    },
    {
     "name": "stdout",
     "output_type": "stream",
     "text": [
      "Batch starting row 264: EN = big voice -> Prediction: 1, Generated: user:  \n",
      "does this emoji sequence mean 'big voice'? answer yes or no. assistant: no....\n"
     ]
    },
    {
     "name": "stderr",
     "output_type": "stream",
     "text": [
      "Processing Batches:  56%|█████▋    | 35/62 [5:01:26<3:35:59, 479.99s/it]"
     ]
    },
    {
     "name": "stdout",
     "output_type": "stream",
     "text": [
      "Batch starting row 272: EN = big group -> Prediction: 1, Generated: user:  \n",
      "does this emoji sequence mean 'big group'? answer yes or no. assistant: no....\n"
     ]
    },
    {
     "name": "stderr",
     "output_type": "stream",
     "text": [
      "Processing Batches:  58%|█████▊    | 36/62 [5:08:59<3:24:36, 472.17s/it]"
     ]
    },
    {
     "name": "stdout",
     "output_type": "stream",
     "text": [
      "Batch starting row 280: EN = big man -> Prediction: 1, Generated: user:  \n",
      "does this emoji sequence mean 'big man'? answer yes or no. assistant: no....\n"
     ]
    },
    {
     "name": "stderr",
     "output_type": "stream",
     "text": [
      "Processing Batches:  60%|█████▉    | 37/62 [5:16:58<3:17:29, 473.98s/it]"
     ]
    },
    {
     "name": "stdout",
     "output_type": "stream",
     "text": [
      "Batch starting row 288: EN = big city -> Prediction: 1, Generated: user:  \n",
      "does this emoji sequence mean 'big city'? answer yes or no. assistant: yes....\n"
     ]
    },
    {
     "name": "stderr",
     "output_type": "stream",
     "text": [
      "Processing Batches:  61%|██████▏   | 38/62 [5:25:16<3:12:29, 481.22s/it]"
     ]
    },
    {
     "name": "stdout",
     "output_type": "stream",
     "text": [
      "Batch starting row 296: EN = big tipper -> Prediction: 1, Generated: user:  \n",
      "does this emoji sequence mean 'big tipper'? answer yes or no. assistant: no....\n"
     ]
    },
    {
     "name": "stderr",
     "output_type": "stream",
     "text": [
      "Processing Batches:  63%|██████▎   | 39/62 [5:32:49<3:01:15, 472.83s/it]"
     ]
    },
    {
     "name": "stdout",
     "output_type": "stream",
     "text": [
      "Batch starting row 304: EN = big day -> Prediction: 1, Generated: user:  \n",
      "does this emoji sequence mean 'big day'? answer yes or no. assistant: no....\n"
     ]
    },
    {
     "name": "stderr",
     "output_type": "stream",
     "text": [
      "Processing Batches:  65%|██████▍   | 40/62 [5:40:30<2:52:06, 469.39s/it]"
     ]
    },
    {
     "name": "stdout",
     "output_type": "stream",
     "text": [
      "Batch starting row 312: EN = hot doll -> Prediction: 1, Generated: user:  \n",
      "does this emoji sequence mean 'hot doll'? answer yes or no. assistant: no....\n"
     ]
    },
    {
     "name": "stderr",
     "output_type": "stream",
     "text": [
      "Processing Batches:  66%|██████▌   | 41/62 [5:48:16<2:43:52, 468.23s/it]"
     ]
    },
    {
     "name": "stdout",
     "output_type": "stream",
     "text": [
      "Batch starting row 320: EN = hot water -> Prediction: 1, Generated: user:  \n",
      "does this emoji sequence mean 'hot water'? answer yes or no. assistant: no....\n"
     ]
    },
    {
     "name": "stderr",
     "output_type": "stream",
     "text": [
      "Processing Batches:  68%|██████▊   | 42/62 [5:55:53<2:35:00, 465.01s/it]"
     ]
    },
    {
     "name": "stdout",
     "output_type": "stream",
     "text": [
      "Batch starting row 328: EN = hot topic -> Prediction: 1, Generated: user:  \n",
      "does this emoji sequence mean 'hot topic'? answer yes or no. assistant: no...\n"
     ]
    },
    {
     "name": "stderr",
     "output_type": "stream",
     "text": [
      "Processing Batches:  69%|██████▉   | 43/62 [6:03:33<2:26:42, 463.30s/it]"
     ]
    },
    {
     "name": "stdout",
     "output_type": "stream",
     "text": [
      "Batch starting row 336: EN = hot merchandise -> Prediction: 1, Generated: user:  \n",
      "does this emoji sequence mean 'hot merchandise'? answer yes or no. assistant: no....\n"
     ]
    },
    {
     "name": "stderr",
     "output_type": "stream",
     "text": [
      "Processing Batches:  71%|███████   | 44/62 [6:10:55<2:17:06, 457.05s/it]"
     ]
    },
    {
     "name": "stdout",
     "output_type": "stream",
     "text": [
      "Batch starting row 344: EN = hot temper -> Prediction: 1, Generated: user:  \n",
      "does this emoji sequence mean 'hot temper'? answer yes or no. assistant: no....\n"
     ]
    },
    {
     "name": "stderr",
     "output_type": "stream",
     "text": [
      "Processing Batches:  73%|███████▎  | 45/62 [6:18:44<2:10:30, 460.61s/it]"
     ]
    },
    {
     "name": "stdout",
     "output_type": "stream",
     "text": [
      "Batch starting row 352: EN = hot argument -> Prediction: 1, Generated: user:  \n",
      "does this emoji sequence mean 'hot argument'? answer yes or no. assistant: no....\n"
     ]
    },
    {
     "name": "stderr",
     "output_type": "stream",
     "text": [
      "Processing Batches:  74%|███████▍  | 46/62 [6:26:20<2:02:28, 459.26s/it]"
     ]
    },
    {
     "name": "stdout",
     "output_type": "stream",
     "text": [
      "Batch starting row 360: EN = hot forehead -> Prediction: 1, Generated: user:  \n",
      "does this emoji sequence mean 'hot forehead'? answer yes or no. assistant: no....\n"
     ]
    },
    {
     "name": "stderr",
     "output_type": "stream",
     "text": [
      "Processing Batches:  76%|███████▌  | 47/62 [6:34:09<1:55:30, 462.04s/it]"
     ]
    },
    {
     "name": "stdout",
     "output_type": "stream",
     "text": [
      "Batch starting row 368: EN = full game -> Prediction: 1, Generated: user:  \n",
      "does this emoji sequence mean 'full game'? answer yes or no. assistant: no....\n"
     ]
    },
    {
     "name": "stderr",
     "output_type": "stream",
     "text": [
      "Processing Batches:  77%|███████▋  | 48/62 [6:42:13<1:49:23, 468.80s/it]"
     ]
    },
    {
     "name": "stdout",
     "output_type": "stream",
     "text": [
      "Batch starting row 376: EN = full auditorium -> Prediction: 1, Generated: user:  \n",
      "does this emoji sequence mean 'full auditorium'? answer yes or no. assistant: no....\n"
     ]
    },
    {
     "name": "stderr",
     "output_type": "stream",
     "text": [
      "Processing Batches:  79%|███████▉  | 49/62 [6:49:58<1:41:17, 467.47s/it]"
     ]
    },
    {
     "name": "stdout",
     "output_type": "stream",
     "text": [
      "Batch starting row 384: EN = full attention -> Prediction: 1, Generated: user:  \n",
      "does this emoji sequence mean 'full attention'? answer yes or no. assistant: no....\n"
     ]
    },
    {
     "name": "stderr",
     "output_type": "stream",
     "text": [
      "Processing Batches:  81%|████████  | 50/62 [6:57:54<1:33:59, 469.98s/it]"
     ]
    },
    {
     "name": "stdout",
     "output_type": "stream",
     "text": [
      "Batch starting row 392: EN = full life -> Prediction: 1, Generated: user:  \n",
      "does this emoji sequence mean 'full life'? answer yes or no. assistant: no....\n"
     ]
    },
    {
     "name": "stderr",
     "output_type": "stream",
     "text": [
      "Processing Batches:  82%|████████▏ | 51/62 [7:05:33<1:25:34, 466.79s/it]"
     ]
    },
    {
     "name": "stdout",
     "output_type": "stream",
     "text": [
      "Batch starting row 400: EN = little boy -> Prediction: 1, Generated: user:  \n",
      "does this emoji sequence mean 'little boy'? answer yes or no. assistant: no....\n"
     ]
    },
    {
     "name": "stderr",
     "output_type": "stream",
     "text": [
      "Processing Batches:  84%|████████▍ | 52/62 [7:13:09<1:17:14, 463.45s/it]"
     ]
    },
    {
     "name": "stdout",
     "output_type": "stream",
     "text": [
      "Batch starting row 408: EN = little man -> Prediction: 1, Generated: user:  \n",
      "does this emoji sequence mean 'little man'? answer yes or no. assistant: yes....\n"
     ]
    },
    {
     "name": "stderr",
     "output_type": "stream",
     "text": [
      "Processing Batches:  85%|████████▌ | 53/62 [7:20:55<1:09:40, 464.47s/it]"
     ]
    },
    {
     "name": "stdout",
     "output_type": "stream",
     "text": [
      "Batch starting row 416: EN = little house -> Prediction: 1, Generated: user:  \n",
      "does this emoji sequence mean 'little house'? answer yes or no. assistant: no....\n"
     ]
    },
    {
     "name": "stderr",
     "output_type": "stream",
     "text": [
      "Processing Batches:  87%|████████▋ | 54/62 [7:28:40<1:01:55, 464.40s/it]"
     ]
    },
    {
     "name": "stdout",
     "output_type": "stream",
     "text": [
      "Batch starting row 424: EN = thin oil -> Prediction: 1, Generated: user:  \n",
      "does this emoji sequence mean 'thin oil'? answer yes or no. assistant: no....\n"
     ]
    },
    {
     "name": "stderr",
     "output_type": "stream",
     "text": [
      "Processing Batches:  89%|████████▊ | 55/62 [7:38:39<58:53, 504.77s/it]  "
     ]
    },
    {
     "name": "stdout",
     "output_type": "stream",
     "text": [
      "Batch starting row 432: EN = thin soup -> Prediction: 1, Generated: user:  \n",
      "does this emoji sequence mean 'thin soup'? answer yes or no. assistant: no....\n"
     ]
    },
    {
     "name": "stderr",
     "output_type": "stream",
     "text": [
      "Processing Batches:  90%|█████████ | 56/62 [7:51:15<58:02, 580.39s/it]"
     ]
    },
    {
     "name": "stdout",
     "output_type": "stream",
     "text": [
      "Batch starting row 440: EN = thin air -> Prediction: 1, Generated: user:  \n",
      "does this emoji sequence mean 'thin air'? answer yes or no. assistant: no....\n"
     ]
    },
    {
     "name": "stderr",
     "output_type": "stream",
     "text": [
      "Processing Batches:  92%|█████████▏| 57/62 [8:04:01<52:59, 635.90s/it]"
     ]
    },
    {
     "name": "stdout",
     "output_type": "stream",
     "text": [
      "Batch starting row 448: EN = thin line -> Prediction: 1, Generated: user:  \n",
      "does this emoji sequence mean 'thin line'? answer yes or no. assistant: no...\n"
     ]
    },
    {
     "name": "stderr",
     "output_type": "stream",
     "text": [
      "Processing Batches:  94%|█████████▎| 58/62 [8:16:13<44:19, 664.89s/it]"
     ]
    },
    {
     "name": "stdout",
     "output_type": "stream",
     "text": [
      "Batch starting row 456: EN = ineffectual ruler -> Prediction: 1, Generated: user:  \n",
      "does this emoji sequence mean 'ineffectual ruler'? answer yes or no. assistant: no....\n"
     ]
    },
    {
     "name": "stderr",
     "output_type": "stream",
     "text": [
      "Processing Batches:  95%|█████████▌| 59/62 [8:28:24<34:13, 684.50s/it]"
     ]
    },
    {
     "name": "stdout",
     "output_type": "stream",
     "text": [
      "Batch starting row 464: EN = ineffectual therapy -> Prediction: 1, Generated: user:  \n",
      "does this emoji sequence mean 'ineffectual therapy'? answer yes or no. assistant: no....\n"
     ]
    },
    {
     "name": "stderr",
     "output_type": "stream",
     "text": [
      "Processing Batches:  97%|█████████▋| 60/62 [8:40:15<23:04, 692.46s/it]"
     ]
    },
    {
     "name": "stdout",
     "output_type": "stream",
     "text": [
      "Batch starting row 472: EN = effective step -> Prediction: 1, Generated: user:  \n",
      "does this emoji sequence mean 'effective step'? answer yes or no. assistant: no...\n"
     ]
    },
    {
     "name": "stderr",
     "output_type": "stream",
     "text": [
      "Processing Batches:  98%|█████████▊| 61/62 [8:52:56<11:53, 713.11s/it]"
     ]
    },
    {
     "name": "stdout",
     "output_type": "stream",
     "text": [
      "Batch starting row 480: EN = effective reprimand -> Prediction: 1, Generated: user:  \n",
      "does this emoji sequence mean 'effective reprimand'? answer yes or no. assistant: no....\n"
     ]
    },
    {
     "name": "stderr",
     "output_type": "stream",
     "text": [
      "Processing Batches: 100%|██████████| 62/62 [8:59:10<00:00, 521.79s/it]"
     ]
    },
    {
     "name": "stdout",
     "output_type": "stream",
     "text": [
      "Batch starting row 488: EN = effective entrance -> Prediction: 1, Generated: user:  \n",
      "does this emoji sequence mean 'effective entrance'? answer yes or no. assistant: no....\n",
      "Finished prediction.\n",
      "Accuracy: 0.4949290060851927\n",
      "F1 Macro: 0.3310719131614654\n"
     ]
    },
    {
     "name": "stderr",
     "output_type": "stream",
     "text": [
      "\n"
     ]
    }
   ],
   "source": [
    "import torch\n",
    "from PIL import Image\n",
    "from tqdm.auto import tqdm\n",
    "\n",
    "# --- Configuration ---\n",
    "BATCH_SIZE = 8 # <<< START SMALL (e.g., 2 or 4) and increase if possible\n",
    "\n",
    "# Helper function to yield batches from the DataFrame\n",
    "def generate_batches(df, batch_size):\n",
    "    for i in range(0, len(df), batch_size):\n",
    "        yield df.iloc[i:min(i + batch_size, len(df))]\n",
    "\n",
    "def batch_zero_shot_predict(batch_samples):\n",
    "    \"\"\"\n",
    "    Given a batch of samples (a slice of your DataFrame),\n",
    "    construct conversations, generate prompts, process images and text\n",
    "    through the model to produce zero-shot predictions for the batch.\n",
    "    Returns a tuple (list_of_predictions, list_of_generated_texts).\n",
    "    \"\"\"\n",
    "    batch_prompts_structured = []\n",
    "    batch_raw_images = []\n",
    "    batch_indices_processed = [] # Keep track of which samples were successful\n",
    "\n",
    "    # 1. Prepare batch data (prompts and images)\n",
    "    for index, sample in batch_samples.iterrows():\n",
    "        # Construct prompt message\n",
    "        prompt_message = f\"Does this emoji sequence mean '{sample['EN']}'? Answer yes or no.\"\n",
    "\n",
    "        # Build the conversation structure for the processor template\n",
    "        # Note: We still build one structure per sample before applying the template\n",
    "        conversation = [\n",
    "            {\n",
    "                \"role\": \"user\",\n",
    "                \"content\": [\n",
    "                    {\"type\": \"text\", \"text\": prompt_message},\n",
    "                    {\"type\": \"image\"},\n",
    "                ],\n",
    "            },\n",
    "        ]\n",
    "        batch_prompts_structured.append(conversation)\n",
    "\n",
    "        # Load the image\n",
    "        try:\n",
    "            raw_image = Image.open(sample['image']).convert(\"RGB\")\n",
    "            batch_raw_images.append(raw_image)\n",
    "            batch_indices_processed.append(index) # Store original index\n",
    "        except Exception as e:\n",
    "            print(f\"Warning: Error loading image {sample['image']} for index {index}: {e}. Skipping this sample.\")\n",
    "            # Append placeholders to keep lists aligned for now, will filter later\n",
    "            # Or handle differently if your processor/model is sensitive to None\n",
    "            batch_raw_images.append(None) # Placeholder\n",
    "\n",
    "    # Filter out samples where image loading failed\n",
    "    valid_indices = [i for i, img in enumerate(batch_raw_images) if img is not None]\n",
    "    if not valid_indices:\n",
    "        print(\"Warning: No valid images found in this batch. Skipping.\")\n",
    "        # Return empty lists matching the expected output structure\n",
    "        return [0] * len(batch_samples), [\"<IMAGE_LOAD_ERROR>\"] * len(batch_samples)\n",
    "\n",
    "    # Keep only valid images and their corresponding structured prompts\n",
    "    final_batch_raw_images = [batch_raw_images[i] for i in valid_indices]\n",
    "    final_batch_prompts_structured = [batch_prompts_structured[i] for i in valid_indices]\n",
    "    original_indices_for_valid = [batch_samples.index[i] for i in valid_indices] # Get original df index\n",
    "\n",
    "    # 2. Apply chat template and tokenize prompts\n",
    "    # We need to apply the template individually then tokenize as a batch\n",
    "    # because apply_chat_template usually works on a single conversation.\n",
    "    batch_final_prompts_text = []\n",
    "    for conv in final_batch_prompts_structured:\n",
    "         # Use add_generation_prompt=True for the model's turn\n",
    "        prompt_text = processor.apply_chat_template(conv, add_generation_prompt=True)\n",
    "        batch_final_prompts_text.append(prompt_text)\n",
    "\n",
    "    # 3. Process the batch of images and text prompts\n",
    "    # Use padding=True for batching text inputs\n",
    "    inputs = processor(\n",
    "        images=final_batch_raw_images,\n",
    "        text=batch_final_prompts_text,\n",
    "        return_tensors=\"pt\",\n",
    "        padding=True, # Crucial for batching text\n",
    "        truncation=True # Good practice\n",
    "    )\n",
    "    inputs = {k: v.to(device) for k, v in inputs.items()}\n",
    "\n",
    "    # 4. Generate outputs from the model for the batch\n",
    "    generated_ids = None\n",
    "    try:\n",
    "        with torch.no_grad():\n",
    "            generated_ids = model.generate(**inputs, max_new_tokens=50)\n",
    "    except Exception as e:\n",
    "         print(f\"Error during model generation for a batch (possible OOM): {e}\")\n",
    "         # Handle error: return default predictions for this batch\n",
    "         # Create placeholder results aligned with the original batch size\n",
    "         batch_predictions = [0] * len(batch_samples)\n",
    "         batch_generated_texts = [\"<GENERATION_ERROR>\"] * len(batch_samples)\n",
    "         return batch_predictions, batch_generated_texts\n",
    "\n",
    "    # Clean up GPU memory if applicable\n",
    "    # del inputs\n",
    "    # if torch.cuda.is_available():\n",
    "    #     torch.cuda.empty_cache()\n",
    "\n",
    "    # 5. Decode the generated tokens to text for the batch\n",
    "    # Use batch_decode for efficiency\n",
    "    batch_decoded_texts = processor.batch_decode(generated_ids, skip_special_tokens=True)\n",
    "\n",
    "    # 6. Interpret results and map back to original batch structure\n",
    "    batch_predictions_map = {}\n",
    "    batch_generated_texts_map = {}\n",
    "    for i, decoded_text in enumerate(batch_decoded_texts):\n",
    "        cleaned_text = decoded_text.strip().lower()\n",
    "        # The LLaVA output might include the prompt, need to isolate the answer\n",
    "        # Find the last occurrence of the assistant's turn marker if apply_chat_template added one\n",
    "        # Or simply check the end of the string if the template is simple\n",
    "        # Example check (adapt based on your model's exact output format):\n",
    "        answer_part = cleaned_text.split(\"assistant:\")[-1] # separator\n",
    "\n",
    "        prediction = 1 if \"yes\" in answer_part else 0\n",
    "        original_index = original_indices_for_valid[i] # Map back using original df index\n",
    "        batch_predictions_map[original_index] = prediction\n",
    "        batch_generated_texts_map[original_index] = cleaned_text # Store full generated text\n",
    "\n",
    "    # Create final lists in the original batch order, filling in defaults for skipped items\n",
    "    \n",
    "    final_predictions = []\n",
    "    final_gen_texts = []\n",
    "    for index in batch_samples.index:\n",
    "        final_predictions.append(batch_predictions_map.get(index, 0)) # Default 0 if skipped/error\n",
    "        final_gen_texts.append(batch_generated_texts_map.get(index, \"<SKIPPED_OR_ERROR>\"))\n",
    "\n",
    "    return final_predictions, final_gen_texts\n",
    "\n",
    "# --- Main prediction loop using batches ---\n",
    "predictions = []\n",
    "generated_texts = []\n",
    "true_labels = test_dataset[\"label\"].tolist()\n",
    "\n",
    "# Create the batch generator with a progress bar\n",
    "batch_generator = generate_batches(test_dataset, BATCH_SIZE)\n",
    "num_batches = (len(test_dataset) + BATCH_SIZE - 1) // BATCH_SIZE\n",
    "\n",
    "print(f\"Starting prediction with batch size {BATCH_SIZE} on device {device}...\")\n",
    "for batch_df in tqdm(batch_generator, total=num_batches, desc=\"Processing Batches\"):\n",
    "    batch_preds, batch_gen_texts = batch_zero_shot_predict(batch_df)\n",
    "    predictions.extend(batch_preds)\n",
    "    generated_texts.extend(batch_gen_texts)\n",
    "\n",
    "    # Optional: Print progress for the first item in the batch\n",
    "    first_idx = batch_df.index[0]\n",
    "    print(f\"Batch starting row {first_idx}: EN = {batch_df.iloc[0]['EN']} -> Prediction: {batch_preds[0]}, Generated: {batch_gen_texts[0][:100]}...\") # Print truncated generated text\n",
    "\n",
    "print(\"Finished prediction.\")\n",
    "\n",
    "# from sklearn.metrics import accuracy_score, f1_score\n",
    "# print(f\"Accuracy: {accuracy_score(true_labels, predictions)}\")\n",
    "# print(f\"F1 Macro: {f1_score(true_labels, predictions, average='macro')}\")\n"
   ]
  },
  {
   "cell_type": "markdown",
   "metadata": {},
   "source": [
    "save predictions"
   ]
  },
  {
   "cell_type": "code",
   "execution_count": 11,
   "metadata": {},
   "outputs": [
    {
     "data": {
      "text/plain": [
       "[\"user:  \\ndoes this emoji sequence mean 'big business'? answer yes or no. assistant: yes.\",\n",
       " \"user:  \\ndoes this emoji sequence mean 'big business'? answer yes or no. assistant: yes.\",\n",
       " \"user:  \\ndoes this emoji sequence mean 'big business'? answer yes or no. assistant: no.\",\n",
       " \"user:  \\ndoes this emoji sequence mean 'big business'? answer yes or no. assistant: no.\",\n",
       " \"user:  \\ndoes this emoji sequence mean 'big business'? answer yes or no. assistant: no.\",\n",
       " \"user:  \\ndoes this emoji sequence mean 'big business'? answer yes or no. assistant: yes.\",\n",
       " \"user:  \\ndoes this emoji sequence mean 'big business'? answer yes or no. assistant: no.\",\n",
       " \"user:  \\ndoes this emoji sequence mean 'big business'? answer yes or no. assistant: no.\",\n",
       " \"user:  \\ndoes this emoji sequence mean 'big expenditure'? answer yes or no. assistant: yes.\",\n",
       " \"user:  \\ndoes this emoji sequence mean 'big expenditure'? answer yes or no. assistant: yes.\",\n",
       " \"user:  \\ndoes this emoji sequence mean 'big expenditure'? answer yes or no. assistant: yes.\",\n",
       " \"user:  \\ndoes this emoji sequence mean 'big expenditure'? answer yes or no. assistant: yes.\",\n",
       " \"user:  \\ndoes this emoji sequence mean 'big expenditure'? answer yes or no. assistant: yes.\",\n",
       " \"user:  \\ndoes this emoji sequence mean 'big expenditure'? answer yes or no. assistant: yes.\",\n",
       " \"user:  \\ndoes this emoji sequence mean 'big expenditure'? answer yes or no. assistant: yes.\",\n",
       " \"user:  \\ndoes this emoji sequence mean 'big expenditure'? answer yes or no. assistant: yes.\",\n",
       " \"user:  \\ndoes this emoji sequence mean 'big voice'? answer yes or no. assistant: yes.\",\n",
       " \"user:  \\ndoes this emoji sequence mean 'big voice'? answer yes or no. assistant: yes.\",\n",
       " \"user:  \\ndoes this emoji sequence mean 'big voice'? answer yes or no. assistant: yes.\",\n",
       " \"user:  \\ndoes this emoji sequence mean 'big voice'? answer yes or no. assistant: yes.\",\n",
       " \"user:  \\ndoes this emoji sequence mean 'big voice'? answer yes or no. assistant: yes.\",\n",
       " \"user:  \\ndoes this emoji sequence mean 'big voice'? answer yes or no. assistant: yes.\",\n",
       " \"user:  \\ndoes this emoji sequence mean 'big voice'? answer yes or no. assistant: no.\",\n",
       " \"user:  \\ndoes this emoji sequence mean 'big voice'? answer yes or no. assistant: yes.\",\n",
       " \"user:  \\ndoes this emoji sequence mean 'big group'? answer yes or no. assistant: yes.\",\n",
       " \"user:  \\ndoes this emoji sequence mean 'big group'? answer yes or no. assistant: yes.\",\n",
       " \"user:  \\ndoes this emoji sequence mean 'big group'? answer yes or no. assistant: yes.\",\n",
       " \"user:  \\ndoes this emoji sequence mean 'big group'? answer yes or no. assistant: yes.\",\n",
       " \"user:  \\ndoes this emoji sequence mean 'big group'? answer yes or no. assistant: yes.\",\n",
       " \"user:  \\ndoes this emoji sequence mean 'big group'? answer yes or no. assistant: yes.\",\n",
       " \"user:  \\ndoes this emoji sequence mean 'big group'? answer yes or no. assistant: yes.\",\n",
       " \"user:  \\ndoes this emoji sequence mean 'big man'? answer yes or no. assistant: no.\",\n",
       " \"user:  \\ndoes this emoji sequence mean 'big man'? answer yes or no. assistant: no.\",\n",
       " \"user:  \\ndoes this emoji sequence mean 'big man'? answer yes or no. assistant: no.\",\n",
       " \"user:  \\ndoes this emoji sequence mean 'big man'? answer yes or no. assistant: yes.\",\n",
       " \"user:  \\ndoes this emoji sequence mean 'big man'? answer yes or no. assistant: yes.\",\n",
       " \"user:  \\ndoes this emoji sequence mean 'big man'? answer yes or no. assistant: no.\",\n",
       " \"user:  \\ndoes this emoji sequence mean 'big man'? answer yes or no. assistant: no.\",\n",
       " \"user:  \\ndoes this emoji sequence mean 'big man'? answer yes or no. assistant: yes.\",\n",
       " \"user:  \\ndoes this emoji sequence mean 'big city'? answer yes or no. assistant: yes.\",\n",
       " \"user:  \\ndoes this emoji sequence mean 'big city'? answer yes or no. assistant: yes\",\n",
       " \"user:  \\ndoes this emoji sequence mean 'big city'? answer yes or no. assistant: yes.\",\n",
       " \"user:  \\ndoes this emoji sequence mean 'big city'? answer yes or no. assistant: yes.\",\n",
       " \"user:  \\ndoes this emoji sequence mean 'big city'? answer yes or no. assistant: yes.\",\n",
       " \"user:  \\ndoes this emoji sequence mean 'big city'? answer yes or no. assistant: yes.\",\n",
       " \"user:  \\ndoes this emoji sequence mean 'big city'? answer yes or no. assistant: yes.\",\n",
       " \"user:  \\ndoes this emoji sequence mean 'big tipper'? answer yes or no. assistant: no.\",\n",
       " \"user:  \\ndoes this emoji sequence mean 'big tipper'? answer yes or no. assistant: no.\",\n",
       " \"user:  \\ndoes this emoji sequence mean 'big tipper'? answer yes or no. assistant: no.\",\n",
       " \"user:  \\ndoes this emoji sequence mean 'big tipper'? answer yes or no. assistant: no.\",\n",
       " \"user:  \\ndoes this emoji sequence mean 'big tipper'? answer yes or no. assistant: no.\",\n",
       " \"user:  \\ndoes this emoji sequence mean 'big tipper'? answer yes or no. assistant: no.\",\n",
       " \"user:  \\ndoes this emoji sequence mean 'big tipper'? answer yes or no. assistant: no.\",\n",
       " \"user:  \\ndoes this emoji sequence mean 'big tipper'? answer yes or no. assistant: yes.\",\n",
       " \"user:  \\ndoes this emoji sequence mean 'big day'? answer yes or no. assistant: yes.\",\n",
       " \"user:  \\ndoes this emoji sequence mean 'big day'? answer yes or no. assistant: yes.\",\n",
       " \"user:  \\ndoes this emoji sequence mean 'big day'? answer yes or no. assistant: yes.\",\n",
       " \"user:  \\ndoes this emoji sequence mean 'big day'? answer yes or no. assistant: no.\",\n",
       " \"user:  \\ndoes this emoji sequence mean 'big day'? answer yes or no. assistant: yes.\",\n",
       " \"user:  \\ndoes this emoji sequence mean 'big day'? answer yes or no. assistant: yes.\",\n",
       " \"user:  \\ndoes this emoji sequence mean 'big day'? answer yes or no. assistant: no.\",\n",
       " \"user:  \\ndoes this emoji sequence mean 'big day'? answer yes or no. assistant: yes.\",\n",
       " \"user:  \\ndoes this emoji sequence mean 'hot doll'? answer yes or no. assistant: no.\",\n",
       " \"user:  \\ndoes this emoji sequence mean 'hot doll'? answer yes or no. assistant: no.\",\n",
       " \"user:  \\ndoes this emoji sequence mean 'hot doll'? answer yes or no. assistant: no.\",\n",
       " \"user:  \\ndoes this emoji sequence mean 'hot doll'? answer yes or no. assistant: no.\",\n",
       " \"user:  \\ndoes this emoji sequence mean 'hot doll'? answer yes or no. assistant: no.\",\n",
       " \"user:  \\ndoes this emoji sequence mean 'hot doll'? answer yes or no. assistant: no.\",\n",
       " \"user:  \\ndoes this emoji sequence mean 'hot doll'? answer yes or no. assistant: no.\",\n",
       " \"user:  \\ndoes this emoji sequence mean 'hot doll'? answer yes or no. assistant: no.\",\n",
       " \"user:  \\ndoes this emoji sequence mean 'hot water'? answer yes or no. assistant: yes.\",\n",
       " \"user:  \\ndoes this emoji sequence mean 'hot water'? answer yes or no. assistant: no.\",\n",
       " \"user:  \\ndoes this emoji sequence mean 'hot water'? answer yes or no. assistant: yes.\",\n",
       " \"user:  \\ndoes this emoji sequence mean 'hot water'? answer yes or no. assistant: yes.\",\n",
       " \"user:  \\ndoes this emoji sequence mean 'hot water'? answer yes or no. assistant: yes.\",\n",
       " \"user:  \\ndoes this emoji sequence mean 'hot water'? answer yes or no. assistant: yes.\",\n",
       " \"user:  \\ndoes this emoji sequence mean 'hot water'? answer yes or no. assistant: yes.\",\n",
       " \"user:  \\ndoes this emoji sequence mean 'hot water'? answer yes or no. assistant: yes.\",\n",
       " \"user:  \\ndoes this emoji sequence mean 'hot stove'? answer yes or no. assistant: yes.\",\n",
       " \"user:  \\ndoes this emoji sequence mean 'hot stove'? answer yes or no. assistant: yes.\",\n",
       " \"user:  \\ndoes this emoji sequence mean 'hot stove'? answer yes or no. assistant: yes.\",\n",
       " \"user:  \\ndoes this emoji sequence mean 'hot stove'? answer yes or no. assistant: no.\",\n",
       " \"user:  \\ndoes this emoji sequence mean 'hot stove'? answer yes or no. assistant: no.\",\n",
       " \"user:  \\ndoes this emoji sequence mean 'hot stove'? answer yes or no. assistant: yes.\",\n",
       " \"user:  \\ndoes this emoji sequence mean 'hot stove'? answer yes or no. assistant: yes.\",\n",
       " \"user:  \\ndoes this emoji sequence mean 'hot stove'? answer yes or no. assistant: yes.\",\n",
       " \"user:  \\ndoes this emoji sequence mean 'hot topic'? answer yes or no. assistant: no.\",\n",
       " \"user:  \\ndoes this emoji sequence mean 'hot topic'? answer yes or no. assistant: no.\",\n",
       " \"user:  \\ndoes this emoji sequence mean 'hot topic'? answer yes or no. assistant: no\",\n",
       " \"user:  \\ndoes this emoji sequence mean 'hot topic'? answer yes or no. assistant: no\",\n",
       " \"user:  \\ndoes this emoji sequence mean 'hot topic'? answer yes or no. assistant: no.\",\n",
       " \"user:  \\ndoes this emoji sequence mean 'hot topic'? answer yes or no. assistant: no.\",\n",
       " \"user:  \\ndoes this emoji sequence mean 'hot topic'? answer yes or no. assistant: no.\",\n",
       " \"user:  \\ndoes this emoji sequence mean 'hot topic'? answer yes or no. assistant: no.\",\n",
       " \"user:  \\ndoes this emoji sequence mean 'hot merchandise'? answer yes or no. assistant: no.\",\n",
       " \"user:  \\ndoes this emoji sequence mean 'hot merchandise'? answer yes or no. assistant: no.\",\n",
       " \"user:  \\ndoes this emoji sequence mean 'hot merchandise'? answer yes or no. assistant: yes.\",\n",
       " \"user:  \\ndoes this emoji sequence mean 'hot merchandise'? answer yes or no. assistant: yes.\",\n",
       " \"user:  \\ndoes this emoji sequence mean 'hot merchandise'? answer yes or no. assistant: no.\",\n",
       " \"user:  \\ndoes this emoji sequence mean 'hot merchandise'? answer yes or no. assistant: no.\",\n",
       " \"user:  \\ndoes this emoji sequence mean 'hot merchandise'? answer yes or no. assistant: no.\",\n",
       " \"user:  \\ndoes this emoji sequence mean 'hot merchandise'? answer yes or no. assistant: no.\",\n",
       " \"user:  \\ndoes this emoji sequence mean 'hot temper'? answer yes or no. assistant: no\",\n",
       " \"user:  \\ndoes this emoji sequence mean 'hot temper'? answer yes or no. assistant: no\",\n",
       " \"user:  \\ndoes this emoji sequence mean 'hot argument'? answer yes or no. assistant: no.\",\n",
       " \"user:  \\ndoes this emoji sequence mean 'hot argument'? answer yes or no. assistant: yes.\",\n",
       " \"user:  \\ndoes this emoji sequence mean 'hot argument'? answer yes or no. assistant: no.\",\n",
       " \"user:  \\ndoes this emoji sequence mean 'hot argument'? answer yes or no. assistant: no.\",\n",
       " \"user:  \\ndoes this emoji sequence mean 'hot argument'? answer yes or no. assistant: no.\",\n",
       " \"user:  \\ndoes this emoji sequence mean 'hot argument'? answer yes or no. assistant: no.\",\n",
       " \"user:  \\ndoes this emoji sequence mean 'hot forehead'? answer yes or no. assistant: no.\",\n",
       " \"user:  \\ndoes this emoji sequence mean 'hot forehead'? answer yes or no. assistant: no.\",\n",
       " \"user:  \\ndoes this emoji sequence mean 'hot forehead'? answer yes or no. assistant: no.\",\n",
       " \"user:  \\ndoes this emoji sequence mean 'hot forehead'? answer yes or no. assistant: no.\",\n",
       " \"user:  \\ndoes this emoji sequence mean 'hot forehead'? answer yes or no. assistant: no.\",\n",
       " \"user:  \\ndoes this emoji sequence mean 'hot forehead'? answer yes or no. assistant: no.\",\n",
       " \"user:  \\ndoes this emoji sequence mean 'hot forehead'? answer yes or no. assistant: no.\",\n",
       " \"user:  \\ndoes this emoji sequence mean 'hot forehead'? answer yes or no. assistant: no.\",\n",
       " \"user:  \\ndoes this emoji sequence mean 'full game'? answer yes or no. assistant: no.\",\n",
       " \"user:  \\ndoes this emoji sequence mean 'full game'? answer yes or no. assistant: no.\",\n",
       " \"user:  \\ndoes this emoji sequence mean 'full game'? answer yes or no. assistant: no\",\n",
       " \"user:  \\ndoes this emoji sequence mean 'full game'? answer yes or no. assistant: no\",\n",
       " \"user:  \\ndoes this emoji sequence mean 'full game'? answer yes or no. assistant: no\",\n",
       " \"user:  \\ndoes this emoji sequence mean 'full game'? answer yes or no. assistant: no.\",\n",
       " \"user:  \\ndoes this emoji sequence mean 'full game'? answer yes or no. assistant: no\",\n",
       " \"user:  \\ndoes this emoji sequence mean 'full auditorium'? answer yes or no. assistant: no.\",\n",
       " \"user:  \\ndoes this emoji sequence mean 'full auditorium'? answer yes or no. assistant: no.\",\n",
       " \"user:  \\ndoes this emoji sequence mean 'full auditorium'? answer yes or no. assistant: yes.\",\n",
       " \"user:  \\ndoes this emoji sequence mean 'full auditorium'? answer yes or no. assistant: no.\",\n",
       " \"user:  \\ndoes this emoji sequence mean 'full auditorium'? answer yes or no. assistant: no.\",\n",
       " \"user:  \\ndoes this emoji sequence mean 'full auditorium'? answer yes or no. assistant: no.\",\n",
       " \"user:  \\ndoes this emoji sequence mean 'full attention'? answer yes or no. assistant: no.\",\n",
       " \"user:  \\ndoes this emoji sequence mean 'full attention'? answer yes or no. assistant: no.\",\n",
       " \"user:  \\ndoes this emoji sequence mean 'full attention'? answer yes or no. assistant: no.\",\n",
       " \"user:  \\ndoes this emoji sequence mean 'full attention'? answer yes or no. assistant: no\",\n",
       " \"user:  \\ndoes this emoji sequence mean 'full attention'? answer yes or no. assistant: no\",\n",
       " \"user:  \\ndoes this emoji sequence mean 'full attention'? answer yes or no. assistant: no.\",\n",
       " \"user:  \\ndoes this emoji sequence mean 'full attention'? answer yes or no. assistant: no.\",\n",
       " \"user:  \\ndoes this emoji sequence mean 'full glass'? answer yes or no. assistant: yes.\",\n",
       " \"user:  \\ndoes this emoji sequence mean 'full glass'? answer yes or no. assistant: no.\",\n",
       " \"user:  \\ndoes this emoji sequence mean 'full glass'? answer yes or no. assistant: no.\",\n",
       " \"user:  \\ndoes this emoji sequence mean 'full glass'? answer yes or no. assistant: yes.\",\n",
       " \"user:  \\ndoes this emoji sequence mean 'full glass'? answer yes or no. assistant: no.\",\n",
       " \"user:  \\ndoes this emoji sequence mean 'full glass'? answer yes or no. assistant: yes.\",\n",
       " \"user:  \\ndoes this emoji sequence mean 'full glass'? answer yes or no. assistant: yes.\",\n",
       " \"user:  \\ndoes this emoji sequence mean 'full life'? answer yes or no. assistant: no.\",\n",
       " \"user:  \\ndoes this emoji sequence mean 'full life'? answer yes or no. assistant: no.\",\n",
       " \"user:  \\ndoes this emoji sequence mean 'full life'? answer yes or no. assistant: no.\",\n",
       " \"user:  \\ndoes this emoji sequence mean 'full life'? answer yes or no. assistant: no.\",\n",
       " \"user:  \\ndoes this emoji sequence mean 'full life'? answer yes or no. assistant: no.\",\n",
       " \"user:  \\ndoes this emoji sequence mean 'full life'? answer yes or no. assistant: no.\",\n",
       " \"user:  \\ndoes this emoji sequence mean 'full life'? answer yes or no. assistant: no.\",\n",
       " \"user:  \\ndoes this emoji sequence mean 'little boy'? answer yes or no. assistant: yes.\",\n",
       " \"user:  \\ndoes this emoji sequence mean 'little boy'? answer yes or no. assistant: yes.\",\n",
       " \"user:  \\ndoes this emoji sequence mean 'little boy'? answer yes or no. assistant: yes.\",\n",
       " \"user:  \\ndoes this emoji sequence mean 'little boy'? answer yes or no. assistant: yes.\",\n",
       " \"user:  \\ndoes this emoji sequence mean 'little boy'? answer yes or no. assistant: yes.\",\n",
       " \"user:  \\ndoes this emoji sequence mean 'little boy'? answer yes or no. assistant: yes.\",\n",
       " \"user:  \\ndoes this emoji sequence mean 'little boy'? answer yes or no. assistant: yes.\",\n",
       " \"user:  \\ndoes this emoji sequence mean 'little boy'? answer yes or no. assistant: yes.\",\n",
       " \"user:  \\ndoes this emoji sequence mean 'little man'? answer yes or no. assistant: no.\",\n",
       " \"user:  \\ndoes this emoji sequence mean 'little man'? answer yes or no. assistant: no.\",\n",
       " \"user:  \\ndoes this emoji sequence mean 'little man'? answer yes or no. assistant: no.\",\n",
       " \"user:  \\ndoes this emoji sequence mean 'little man'? answer yes or no. assistant: yes.\",\n",
       " \"user:  \\ndoes this emoji sequence mean 'little man'? answer yes or no. assistant: yes.\",\n",
       " \"user:  \\ndoes this emoji sequence mean 'little man'? answer yes or no. assistant: yes.\",\n",
       " \"user:  \\ndoes this emoji sequence mean 'little man'? answer yes or no. assistant: yes.\",\n",
       " \"user:  \\ndoes this emoji sequence mean 'little man'? answer yes or no. assistant: yes.\",\n",
       " \"user:  \\ndoes this emoji sequence mean 'little house'? answer yes or no. assistant: yes.\",\n",
       " \"user:  \\ndoes this emoji sequence mean 'little house'? answer yes or no. assistant: yes.\",\n",
       " \"user:  \\ndoes this emoji sequence mean 'little house'? answer yes or no. assistant: yes.\",\n",
       " \"user:  \\ndoes this emoji sequence mean 'little house'? answer yes or no. assistant: yes.\",\n",
       " \"user:  \\ndoes this emoji sequence mean 'little house'? answer yes or no. assistant: yes.\",\n",
       " \"user:  \\ndoes this emoji sequence mean 'little house'? answer yes or no. assistant: yes.\",\n",
       " \"user:  \\ndoes this emoji sequence mean 'little house'? answer yes or no. assistant: yes.\",\n",
       " \"user:  \\ndoes this emoji sequence mean 'little house'? answer yes or no. assistant: yes.\",\n",
       " \"user:  \\ndoes this emoji sequence mean 'thin oil'? answer yes or no. assistant: no.\",\n",
       " \"user:  \\ndoes this emoji sequence mean 'thin oil'? answer yes or no. assistant: no.\",\n",
       " \"user:  \\ndoes this emoji sequence mean 'thin oil'? answer yes or no. assistant: no.\",\n",
       " \"user:  \\ndoes this emoji sequence mean 'thin oil'? answer yes or no. assistant: no.\",\n",
       " \"user:  \\ndoes this emoji sequence mean 'thin oil'? answer yes or no. assistant: no.\",\n",
       " \"user:  \\ndoes this emoji sequence mean 'thin oil'? answer yes or no. assistant: no.\",\n",
       " \"user:  \\ndoes this emoji sequence mean 'thin oil'? answer yes or no. assistant: no.\",\n",
       " \"user:  \\ndoes this emoji sequence mean 'thin oil'? answer yes or no. assistant: no.\",\n",
       " \"user:  \\ndoes this emoji sequence mean 'thin soup'? answer yes or no. assistant: no.\",\n",
       " \"user:  \\ndoes this emoji sequence mean 'thin soup'? answer yes or no. assistant: no.\",\n",
       " \"user:  \\ndoes this emoji sequence mean 'thin soup'? answer yes or no. assistant: yes.\",\n",
       " \"user:  \\ndoes this emoji sequence mean 'thin soup'? answer yes or no. assistant: no.\",\n",
       " \"user:  \\ndoes this emoji sequence mean 'thin soup'? answer yes or no. assistant: no.\",\n",
       " \"user:  \\ndoes this emoji sequence mean 'thin soup'? answer yes or no. assistant: yes.\",\n",
       " \"user:  \\ndoes this emoji sequence mean 'thin soup'? answer yes or no. assistant: no.\",\n",
       " \"user:  \\ndoes this emoji sequence mean 'thin soup'? answer yes or no. assistant: no.\",\n",
       " \"user:  \\ndoes this emoji sequence mean 'thin air'? answer yes or no. assistant: yes.\",\n",
       " \"user:  \\ndoes this emoji sequence mean 'thin air'? answer yes or no. assistant: no.\",\n",
       " \"user:  \\ndoes this emoji sequence mean 'thin air'? answer yes or no. assistant: no.\",\n",
       " \"user:  \\ndoes this emoji sequence mean 'thin air'? answer yes or no. assistant: no.\",\n",
       " \"user:  \\ndoes this emoji sequence mean 'thin air'? answer yes or no. assistant: yes.\",\n",
       " \"user:  \\ndoes this emoji sequence mean 'thin air'? answer yes or no. assistant: no.\",\n",
       " \"user:  \\ndoes this emoji sequence mean 'thin air'? answer yes or no. assistant: yes.\",\n",
       " \"user:  \\ndoes this emoji sequence mean 'thin air'? answer yes or no. assistant: yes.\",\n",
       " \"user:  \\ndoes this emoji sequence mean 'thin line'? answer yes or no. assistant: no.\",\n",
       " \"user:  \\ndoes this emoji sequence mean 'thin line'? answer yes or no. assistant: no.\",\n",
       " \"user:  \\ndoes this emoji sequence mean 'thin line'? answer yes or no. assistant: no.\",\n",
       " \"user:  \\ndoes this emoji sequence mean 'thin line'? answer yes or no. assistant: no.\",\n",
       " \"user:  \\ndoes this emoji sequence mean 'thin line'? answer yes or no. assistant: no.\",\n",
       " \"user:  \\ndoes this emoji sequence mean 'thin line'? answer yes or no. assistant: no.\",\n",
       " \"user:  \\ndoes this emoji sequence mean 'thin line'? answer yes or no. assistant: no.\",\n",
       " \"user:  \\ndoes this emoji sequence mean 'thin line'? answer yes or no. assistant: no.\",\n",
       " \"user:  \\ndoes this emoji sequence mean 'ineffectual ruler'? answer yes or no. assistant: yes.\",\n",
       " \"user:  \\ndoes this emoji sequence mean 'ineffectual ruler'? answer yes or no. assistant: yes.\",\n",
       " \"user:  \\ndoes this emoji sequence mean 'ineffectual ruler'? answer yes or no. assistant: yes.\",\n",
       " \"user:  \\ndoes this emoji sequence mean 'ineffectual ruler'? answer yes or no. assistant: no.\",\n",
       " \"user:  \\ndoes this emoji sequence mean 'ineffectual ruler'? answer yes or no. assistant: yes.\",\n",
       " \"user:  \\ndoes this emoji sequence mean 'ineffectual ruler'? answer yes or no. assistant: yes.\",\n",
       " \"user:  \\ndoes this emoji sequence mean 'ineffectual therapy'? answer yes or no. assistant: no.\",\n",
       " \"user:  \\ndoes this emoji sequence mean 'ineffectual therapy'? answer yes or no. assistant: no.\",\n",
       " \"user:  \\ndoes this emoji sequence mean 'ineffectual therapy'? answer yes or no. assistant: no.\",\n",
       " \"user:  \\ndoes this emoji sequence mean 'ineffectual therapy'? answer yes or no. assistant: no.\",\n",
       " \"user:  \\ndoes this emoji sequence mean 'ineffectual therapy'? answer yes or no. assistant: no.\",\n",
       " \"user:  \\ndoes this emoji sequence mean 'ineffectual therapy'? answer yes or no. assistant: no.\",\n",
       " \"user:  \\ndoes this emoji sequence mean 'ineffectual therapy'? answer yes or no. assistant: yes.\",\n",
       " \"user:  \\ndoes this emoji sequence mean 'ineffectual therapy'? answer yes or no. assistant: no.\",\n",
       " \"user:  \\ndoes this emoji sequence mean 'effective step'? answer yes or no. assistant: no\",\n",
       " \"user:  \\ndoes this emoji sequence mean 'effective step'? answer yes or no. assistant: no\",\n",
       " \"user:  \\ndoes this emoji sequence mean 'effective step'? answer yes or no. assistant: no.\",\n",
       " \"user:  \\ndoes this emoji sequence mean 'effective step'? answer yes or no. assistant: no\",\n",
       " \"user:  \\ndoes this emoji sequence mean 'effective step'? answer yes or no. assistant: no\",\n",
       " \"user:  \\ndoes this emoji sequence mean 'effective step'? answer yes or no. assistant: no\",\n",
       " \"user:  \\ndoes this emoji sequence mean 'effective step'? answer yes or no. assistant: no\",\n",
       " \"user:  \\ndoes this emoji sequence mean 'effective step'? answer yes or no. assistant: no\",\n",
       " \"user:  \\ndoes this emoji sequence mean 'effective reprimand'? answer yes or no. assistant: no.\",\n",
       " \"user:  \\ndoes this emoji sequence mean 'effective reprimand'? answer yes or no. assistant: no.\",\n",
       " \"user:  \\ndoes this emoji sequence mean 'effective reprimand'? answer yes or no. assistant: no.\",\n",
       " \"user:  \\ndoes this emoji sequence mean 'effective reprimand'? answer yes or no. assistant: no.\",\n",
       " \"user:  \\ndoes this emoji sequence mean 'effective reprimand'? answer yes or no. assistant: no.\",\n",
       " \"user:  \\ndoes this emoji sequence mean 'effective reprimand'? answer yes or no. assistant: no.\",\n",
       " \"user:  \\ndoes this emoji sequence mean 'effective entrance'? answer yes or no. assistant: no.\",\n",
       " \"user:  \\ndoes this emoji sequence mean 'effective entrance'? answer yes or no. assistant: no.\",\n",
       " \"user:  \\ndoes this emoji sequence mean 'effective entrance'? answer yes or no. assistant: no.\",\n",
       " \"user:  \\ndoes this emoji sequence mean 'effective entrance'? answer yes or no. assistant: no.\",\n",
       " \"user:  \\ndoes this emoji sequence mean 'effective entrance'? answer yes or no. assistant: no.\",\n",
       " \"user:  \\ndoes this emoji sequence mean 'effective entrance'? answer yes or no. assistant: no.\",\n",
       " \"user:  \\ndoes this emoji sequence mean 'effective entrance'? answer yes or no. assistant: no.\",\n",
       " \"user:  \\ndoes this emoji sequence mean 'effective entrance'? answer yes or no. assistant: no.\",\n",
       " \"user:  \\ndoes this emoji sequence mean 'big business'? answer yes or no. assistant: no.\",\n",
       " \"user:  \\ndoes this emoji sequence mean 'big business'? answer yes or no. assistant: no.\",\n",
       " \"user:  \\ndoes this emoji sequence mean 'big business'? answer yes or no. assistant: no.\",\n",
       " \"user:  \\ndoes this emoji sequence mean 'big business'? answer yes or no. assistant: no.\",\n",
       " \"user:  \\ndoes this emoji sequence mean 'big business'? answer yes or no. assistant: no\",\n",
       " \"user:  \\ndoes this emoji sequence mean 'big business'? answer yes or no. assistant: no.\",\n",
       " \"user:  \\ndoes this emoji sequence mean 'big business'? answer yes or no. assistant: no\",\n",
       " \"user:  \\ndoes this emoji sequence mean 'big business'? answer yes or no. assistant: no.\",\n",
       " \"user:  \\ndoes this emoji sequence mean 'big expenditure'? answer yes or no. assistant: no.\",\n",
       " \"user:  \\ndoes this emoji sequence mean 'big expenditure'? answer yes or no. assistant: no.\",\n",
       " \"user:  \\ndoes this emoji sequence mean 'big expenditure'? answer yes or no. assistant: no.\",\n",
       " \"user:  \\ndoes this emoji sequence mean 'big expenditure'? answer yes or no. assistant: yes.\",\n",
       " \"user:  \\ndoes this emoji sequence mean 'big expenditure'? answer yes or no. assistant: no.\",\n",
       " \"user:  \\ndoes this emoji sequence mean 'big expenditure'? answer yes or no. assistant: no.\",\n",
       " \"user:  \\ndoes this emoji sequence mean 'big expenditure'? answer yes or no. assistant: yes.\",\n",
       " \"user:  \\ndoes this emoji sequence mean 'big expenditure'? answer yes or no. assistant: no.\",\n",
       " \"user:  \\ndoes this emoji sequence mean 'big voice'? answer yes or no. assistant: no.\",\n",
       " \"user:  \\ndoes this emoji sequence mean 'big voice'? answer yes or no. assistant: no\",\n",
       " \"user:  \\ndoes this emoji sequence mean 'big voice'? answer yes or no. assistant: no\",\n",
       " \"user:  \\ndoes this emoji sequence mean 'big voice'? answer yes or no. assistant: no\",\n",
       " \"user:  \\ndoes this emoji sequence mean 'big voice'? answer yes or no. assistant: no.\",\n",
       " \"user:  \\ndoes this emoji sequence mean 'big voice'? answer yes or no. assistant: no.\",\n",
       " \"user:  \\ndoes this emoji sequence mean 'big voice'? answer yes or no. assistant: no.\",\n",
       " \"user:  \\ndoes this emoji sequence mean 'big voice'? answer yes or no. assistant: no.\",\n",
       " \"user:  \\ndoes this emoji sequence mean 'big group'? answer yes or no. assistant: no.\",\n",
       " \"user:  \\ndoes this emoji sequence mean 'big group'? answer yes or no. assistant: no.\",\n",
       " \"user:  \\ndoes this emoji sequence mean 'big group'? answer yes or no. assistant: no.\",\n",
       " \"user:  \\ndoes this emoji sequence mean 'big group'? answer yes or no. assistant: yes.\",\n",
       " \"user:  \\ndoes this emoji sequence mean 'big group'? answer yes or no. assistant: no.\",\n",
       " \"user:  \\ndoes this emoji sequence mean 'big group'? answer yes or no. assistant: no.\",\n",
       " \"user:  \\ndoes this emoji sequence mean 'big group'? answer yes or no. assistant: no.\",\n",
       " \"user:  \\ndoes this emoji sequence mean 'big group'? answer yes or no. assistant: no.\",\n",
       " \"user:  \\ndoes this emoji sequence mean 'big man'? answer yes or no. assistant: no.\",\n",
       " \"user:  \\ndoes this emoji sequence mean 'big man'? answer yes or no. assistant: no.\",\n",
       " \"user:  \\ndoes this emoji sequence mean 'big man'? answer yes or no. assistant: no.\",\n",
       " \"user:  \\ndoes this emoji sequence mean 'big man'? answer yes or no. assistant: no.\",\n",
       " \"user:  \\ndoes this emoji sequence mean 'big man'? answer yes or no. assistant: no.\",\n",
       " \"user:  \\ndoes this emoji sequence mean 'big man'? answer yes or no. assistant: no.\",\n",
       " \"user:  \\ndoes this emoji sequence mean 'big man'? answer yes or no. assistant: no.\",\n",
       " \"user:  \\ndoes this emoji sequence mean 'big city'? answer yes or no. assistant: no.\",\n",
       " \"user:  \\ndoes this emoji sequence mean 'big city'? answer yes or no. assistant: no.\",\n",
       " \"user:  \\ndoes this emoji sequence mean 'big city'? answer yes or no. assistant: no.\",\n",
       " \"user:  \\ndoes this emoji sequence mean 'big city'? answer yes or no. assistant: no.\",\n",
       " \"user:  \\ndoes this emoji sequence mean 'big city'? answer yes or no. assistant: no.\",\n",
       " \"user:  \\ndoes this emoji sequence mean 'big city'? answer yes or no. assistant: yes.\",\n",
       " \"user:  \\ndoes this emoji sequence mean 'big city'? answer yes or no. assistant: no.\",\n",
       " \"user:  \\ndoes this emoji sequence mean 'big city'? answer yes or no. assistant: no.\",\n",
       " \"user:  \\ndoes this emoji sequence mean 'big tipper'? answer yes or no. assistant: no.\",\n",
       " \"user:  \\ndoes this emoji sequence mean 'big tipper'? answer yes or no. assistant: no.\",\n",
       " \"user:  \\ndoes this emoji sequence mean 'big tipper'? answer yes or no. assistant: no.\",\n",
       " \"user:  \\ndoes this emoji sequence mean 'big tipper'? answer yes or no. assistant: no.\",\n",
       " \"user:  \\ndoes this emoji sequence mean 'big tipper'? answer yes or no. assistant: no.\",\n",
       " \"user:  \\ndoes this emoji sequence mean 'big tipper'? answer yes or no. assistant: no.\",\n",
       " \"user:  \\ndoes this emoji sequence mean 'big tipper'? answer yes or no. assistant: no.\",\n",
       " \"user:  \\ndoes this emoji sequence mean 'big tipper'? answer yes or no. assistant: no.\",\n",
       " \"user:  \\ndoes this emoji sequence mean 'big day'? answer yes or no. assistant: no.\",\n",
       " \"user:  \\ndoes this emoji sequence mean 'big day'? answer yes or no. assistant: no.\",\n",
       " \"user:  \\ndoes this emoji sequence mean 'big day'? answer yes or no. assistant: no.\",\n",
       " \"user:  \\ndoes this emoji sequence mean 'big day'? answer yes or no. assistant: no.\",\n",
       " \"user:  \\ndoes this emoji sequence mean 'big day'? answer yes or no. assistant: no.\",\n",
       " \"user:  \\ndoes this emoji sequence mean 'big day'? answer yes or no. assistant: no.\",\n",
       " \"user:  \\ndoes this emoji sequence mean 'big day'? answer yes or no. assistant: no.\",\n",
       " \"user:  \\ndoes this emoji sequence mean 'big day'? answer yes or no. assistant: no.\",\n",
       " \"user:  \\ndoes this emoji sequence mean 'hot doll'? answer yes or no. assistant: no.\",\n",
       " \"user:  \\ndoes this emoji sequence mean 'hot doll'? answer yes or no. assistant: no.\",\n",
       " \"user:  \\ndoes this emoji sequence mean 'hot doll'? answer yes or no. assistant: no.\",\n",
       " \"user:  \\ndoes this emoji sequence mean 'hot doll'? answer yes or no. assistant: no.\",\n",
       " \"user:  \\ndoes this emoji sequence mean 'hot doll'? answer yes or no. assistant: no.\",\n",
       " \"user:  \\ndoes this emoji sequence mean 'hot doll'? answer yes or no. assistant: no.\",\n",
       " \"user:  \\ndoes this emoji sequence mean 'hot doll'? answer yes or no. assistant: no.\",\n",
       " \"user:  \\ndoes this emoji sequence mean 'hot water'? answer yes or no. assistant: yes.\",\n",
       " \"user:  \\ndoes this emoji sequence mean 'hot water'? answer yes or no. assistant: no.\",\n",
       " \"user:  \\ndoes this emoji sequence mean 'hot water'? answer yes or no. assistant: no.\",\n",
       " \"user:  \\ndoes this emoji sequence mean 'hot water'? answer yes or no. assistant: no.\",\n",
       " \"user:  \\ndoes this emoji sequence mean 'hot water'? answer yes or no. assistant: no.\",\n",
       " \"user:  \\ndoes this emoji sequence mean 'hot water'? answer yes or no. assistant: no.\",\n",
       " \"user:  \\ndoes this emoji sequence mean 'hot water'? answer yes or no. assistant: no.\",\n",
       " \"user:  \\ndoes this emoji sequence mean 'hot stove'? answer yes or no. assistant: no.\",\n",
       " \"user:  \\ndoes this emoji sequence mean 'hot stove'? answer yes or no. assistant: no.\",\n",
       " \"user:  \\ndoes this emoji sequence mean 'hot stove'? answer yes or no. assistant: no.\",\n",
       " \"user:  \\ndoes this emoji sequence mean 'hot stove'? answer yes or no. assistant: no.\",\n",
       " \"user:  \\ndoes this emoji sequence mean 'hot stove'? answer yes or no. assistant: no.\",\n",
       " \"user:  \\ndoes this emoji sequence mean 'hot topic'? answer yes or no. assistant: no.\",\n",
       " \"user:  \\ndoes this emoji sequence mean 'hot topic'? answer yes or no. assistant: no.\",\n",
       " \"user:  \\ndoes this emoji sequence mean 'hot topic'? answer yes or no. assistant: no\",\n",
       " \"user:  \\ndoes this emoji sequence mean 'hot topic'? answer yes or no. assistant: no\",\n",
       " \"user:  \\ndoes this emoji sequence mean 'hot topic'? answer yes or no. assistant: no\",\n",
       " \"user:  \\ndoes this emoji sequence mean 'hot topic'? answer yes or no. assistant: no\",\n",
       " \"user:  \\ndoes this emoji sequence mean 'hot topic'? answer yes or no. assistant: no\",\n",
       " \"user:  \\ndoes this emoji sequence mean 'hot merchandise'? answer yes or no. assistant: no.\",\n",
       " \"user:  \\ndoes this emoji sequence mean 'hot merchandise'? answer yes or no. assistant: no.\",\n",
       " \"user:  \\ndoes this emoji sequence mean 'hot merchandise'? answer yes or no. assistant: no.\",\n",
       " \"user:  \\ndoes this emoji sequence mean 'hot merchandise'? answer yes or no. assistant: no.\",\n",
       " \"user:  \\ndoes this emoji sequence mean 'hot merchandise'? answer yes or no. assistant: no.\",\n",
       " \"user:  \\ndoes this emoji sequence mean 'hot merchandise'? answer yes or no. assistant: no.\",\n",
       " \"user:  \\ndoes this emoji sequence mean 'hot merchandise'? answer yes or no. assistant: no.\",\n",
       " \"user:  \\ndoes this emoji sequence mean 'hot temper'? answer yes or no. assistant: no\",\n",
       " \"user:  \\ndoes this emoji sequence mean 'hot temper'? answer yes or no. assistant: yes\",\n",
       " \"user:  \\ndoes this emoji sequence mean 'hot temper'? answer yes or no. assistant: yes\",\n",
       " \"user:  \\ndoes this emoji sequence mean 'hot temper'? answer yes or no. assistant: yes\",\n",
       " \"user:  \\ndoes this emoji sequence mean 'hot temper'? answer yes or no. assistant: no.\",\n",
       " \"user:  \\ndoes this emoji sequence mean 'hot temper'? answer yes or no. assistant: no.\",\n",
       " \"user:  \\ndoes this emoji sequence mean 'hot temper'? answer yes or no. assistant: no.\",\n",
       " \"user:  \\ndoes this emoji sequence mean 'hot temper'? answer yes or no. assistant: no.\",\n",
       " \"user:  \\ndoes this emoji sequence mean 'hot argument'? answer yes or no. assistant: no.\",\n",
       " \"user:  \\ndoes this emoji sequence mean 'hot argument'? answer yes or no. assistant: no.\",\n",
       " \"user:  \\ndoes this emoji sequence mean 'hot argument'? answer yes or no. assistant: no.\",\n",
       " \"user:  \\ndoes this emoji sequence mean 'hot argument'? answer yes or no. assistant: no.\",\n",
       " \"user:  \\ndoes this emoji sequence mean 'hot argument'? answer yes or no. assistant: no.\",\n",
       " \"user:  \\ndoes this emoji sequence mean 'hot argument'? answer yes or no. assistant: no.\",\n",
       " \"user:  \\ndoes this emoji sequence mean 'hot argument'? answer yes or no. assistant: no.\",\n",
       " \"user:  \\ndoes this emoji sequence mean 'hot argument'? answer yes or no. assistant: no.\",\n",
       " \"user:  \\ndoes this emoji sequence mean 'hot forehead'? answer yes or no. assistant: no.\",\n",
       " \"user:  \\ndoes this emoji sequence mean 'hot forehead'? answer yes or no. assistant: no.\",\n",
       " \"user:  \\ndoes this emoji sequence mean 'hot forehead'? answer yes or no. assistant: no.\",\n",
       " \"user:  \\ndoes this emoji sequence mean 'hot forehead'? answer yes or no. assistant: no.\",\n",
       " \"user:  \\ndoes this emoji sequence mean 'hot forehead'? answer yes or no. assistant: no.\",\n",
       " \"user:  \\ndoes this emoji sequence mean 'hot forehead'? answer yes or no. assistant: no.\",\n",
       " \"user:  \\ndoes this emoji sequence mean 'hot forehead'? answer yes or no. assistant: no.\",\n",
       " \"user:  \\ndoes this emoji sequence mean 'hot forehead'? answer yes or no. assistant: no.\",\n",
       " \"user:  \\ndoes this emoji sequence mean 'full game'? answer yes or no. assistant: no.\",\n",
       " \"user:  \\ndoes this emoji sequence mean 'full game'? answer yes or no. assistant: no.\",\n",
       " \"user:  \\ndoes this emoji sequence mean 'full game'? answer yes or no. assistant: no.\",\n",
       " \"user:  \\ndoes this emoji sequence mean 'full game'? answer yes or no. assistant: no.\",\n",
       " \"user:  \\ndoes this emoji sequence mean 'full game'? answer yes or no. assistant: no.\",\n",
       " \"user:  \\ndoes this emoji sequence mean 'full game'? answer yes or no. assistant: no.\",\n",
       " \"user:  \\ndoes this emoji sequence mean 'full game'? answer yes or no. assistant: no\",\n",
       " \"user:  \\ndoes this emoji sequence mean 'full auditorium'? answer yes or no. assistant: no.\",\n",
       " \"user:  \\ndoes this emoji sequence mean 'full auditorium'? answer yes or no. assistant: no.\",\n",
       " \"user:  \\ndoes this emoji sequence mean 'full auditorium'? answer yes or no. assistant: no.\",\n",
       " \"user:  \\ndoes this emoji sequence mean 'full auditorium'? answer yes or no. assistant: no.\",\n",
       " \"user:  \\ndoes this emoji sequence mean 'full auditorium'? answer yes or no. assistant: no.\",\n",
       " \"user:  \\ndoes this emoji sequence mean 'full auditorium'? answer yes or no. assistant: no.\",\n",
       " \"user:  \\ndoes this emoji sequence mean 'full auditorium'? answer yes or no. assistant: no.\",\n",
       " \"user:  \\ndoes this emoji sequence mean 'full attention'? answer yes or no. assistant: no.\",\n",
       " \"user:  \\ndoes this emoji sequence mean 'full attention'? answer yes or no. assistant: no\",\n",
       " \"user:  \\ndoes this emoji sequence mean 'full attention'? answer yes or no. assistant: no\",\n",
       " \"user:  \\ndoes this emoji sequence mean 'full attention'? answer yes or no. assistant: no\",\n",
       " \"user:  \\ndoes this emoji sequence mean 'full attention'? answer yes or no. assistant: no\",\n",
       " \"user:  \\ndoes this emoji sequence mean 'full attention'? answer yes or no. assistant: no\",\n",
       " \"user:  \\ndoes this emoji sequence mean 'full attention'? answer yes or no. assistant: no.\",\n",
       " \"user:  \\ndoes this emoji sequence mean 'full glass'? answer yes or no. assistant: no.\",\n",
       " \"user:  \\ndoes this emoji sequence mean 'full glass'? answer yes or no. assistant: no.\",\n",
       " \"user:  \\ndoes this emoji sequence mean 'full glass'? answer yes or no. assistant: no.\",\n",
       " \"user:  \\ndoes this emoji sequence mean 'full glass'? answer yes or no. assistant: no.\",\n",
       " \"user:  \\ndoes this emoji sequence mean 'full glass'? answer yes or no. assistant: no.\",\n",
       " \"user:  \\ndoes this emoji sequence mean 'full glass'? answer yes or no. assistant: no.\",\n",
       " \"user:  \\ndoes this emoji sequence mean 'full glass'? answer yes or no. assistant: no.\",\n",
       " \"user:  \\ndoes this emoji sequence mean 'full life'? answer yes or no. assistant: no.\",\n",
       " \"user:  \\ndoes this emoji sequence mean 'full life'? answer yes or no. assistant: no.\",\n",
       " \"user:  \\ndoes this emoji sequence mean 'full life'? answer yes or no. assistant: no.\",\n",
       " \"user:  \\ndoes this emoji sequence mean 'full life'? answer yes or no. assistant: no.\",\n",
       " \"user:  \\ndoes this emoji sequence mean 'full life'? answer yes or no. assistant: no.\",\n",
       " \"user:  \\ndoes this emoji sequence mean 'full life'? answer yes or no. assistant: no.\",\n",
       " \"user:  \\ndoes this emoji sequence mean 'full life'? answer yes or no. assistant: no.\",\n",
       " \"user:  \\ndoes this emoji sequence mean 'little boy'? answer yes or no. assistant: no.\",\n",
       " \"user:  \\ndoes this emoji sequence mean 'little boy'? answer yes or no. assistant: no.\",\n",
       " \"user:  \\ndoes this emoji sequence mean 'little boy'? answer yes or no. assistant: no.\",\n",
       " \"user:  \\ndoes this emoji sequence mean 'little boy'? answer yes or no. assistant: no.\",\n",
       " \"user:  \\ndoes this emoji sequence mean 'little boy'? answer yes or no. assistant: no.\",\n",
       " \"user:  \\ndoes this emoji sequence mean 'little boy'? answer yes or no. assistant: no.\",\n",
       " \"user:  \\ndoes this emoji sequence mean 'little boy'? answer yes or no. assistant: yes.\",\n",
       " \"user:  \\ndoes this emoji sequence mean 'little boy'? answer yes or no. assistant: yes.\",\n",
       " \"user:  \\ndoes this emoji sequence mean 'little man'? answer yes or no. assistant: no.\",\n",
       " \"user:  \\ndoes this emoji sequence mean 'little man'? answer yes or no. assistant: yes.\",\n",
       " \"user:  \\ndoes this emoji sequence mean 'little man'? answer yes or no. assistant: yes.\",\n",
       " \"user:  \\ndoes this emoji sequence mean 'little man'? answer yes or no. assistant: no.\",\n",
       " \"user:  \\ndoes this emoji sequence mean 'little man'? answer yes or no. assistant: no.\",\n",
       " \"user:  \\ndoes this emoji sequence mean 'little man'? answer yes or no. assistant: no.\",\n",
       " \"user:  \\ndoes this emoji sequence mean 'little man'? answer yes or no. assistant: no.\",\n",
       " \"user:  \\ndoes this emoji sequence mean 'little man'? answer yes or no. assistant: no.\",\n",
       " \"user:  \\ndoes this emoji sequence mean 'little house'? answer yes or no. assistant: no.\",\n",
       " \"user:  \\ndoes this emoji sequence mean 'little house'? answer yes or no. assistant: no.\",\n",
       " \"user:  \\ndoes this emoji sequence mean 'little house'? answer yes or no. assistant: no.\",\n",
       " \"user:  \\ndoes this emoji sequence mean 'little house'? answer yes or no. assistant: no.\",\n",
       " \"user:  \\ndoes this emoji sequence mean 'little house'? answer yes or no. assistant: no.\",\n",
       " \"user:  \\ndoes this emoji sequence mean 'little house'? answer yes or no. assistant: no.\",\n",
       " \"user:  \\ndoes this emoji sequence mean 'little house'? answer yes or no. assistant: no.\",\n",
       " \"user:  \\ndoes this emoji sequence mean 'little house'? answer yes or no. assistant: no.\",\n",
       " \"user:  \\ndoes this emoji sequence mean 'thin oil'? answer yes or no. assistant: no.\",\n",
       " \"user:  \\ndoes this emoji sequence mean 'thin oil'? answer yes or no. assistant: no.\",\n",
       " \"user:  \\ndoes this emoji sequence mean 'thin oil'? answer yes or no. assistant: no.\",\n",
       " \"user:  \\ndoes this emoji sequence mean 'thin oil'? answer yes or no. assistant: no.\",\n",
       " \"user:  \\ndoes this emoji sequence mean 'thin oil'? answer yes or no. assistant: no.\",\n",
       " \"user:  \\ndoes this emoji sequence mean 'thin oil'? answer yes or no. assistant: no.\",\n",
       " \"user:  \\ndoes this emoji sequence mean 'thin oil'? answer yes or no. assistant: no.\",\n",
       " \"user:  \\ndoes this emoji sequence mean 'thin oil'? answer yes or no. assistant: no.\",\n",
       " \"user:  \\ndoes this emoji sequence mean 'thin soup'? answer yes or no. assistant: no.\",\n",
       " \"user:  \\ndoes this emoji sequence mean 'thin soup'? answer yes or no. assistant: no.\",\n",
       " \"user:  \\ndoes this emoji sequence mean 'thin soup'? answer yes or no. assistant: no.\",\n",
       " \"user:  \\ndoes this emoji sequence mean 'thin soup'? answer yes or no. assistant: no.\",\n",
       " \"user:  \\ndoes this emoji sequence mean 'thin soup'? answer yes or no. assistant: no.\",\n",
       " \"user:  \\ndoes this emoji sequence mean 'thin soup'? answer yes or no. assistant: no.\",\n",
       " \"user:  \\ndoes this emoji sequence mean 'thin soup'? answer yes or no. assistant: no.\",\n",
       " \"user:  \\ndoes this emoji sequence mean 'thin soup'? answer yes or no. assistant: no.\",\n",
       " \"user:  \\ndoes this emoji sequence mean 'thin air'? answer yes or no. assistant: no.\",\n",
       " \"user:  \\ndoes this emoji sequence mean 'thin air'? answer yes or no. assistant: no.\",\n",
       " \"user:  \\ndoes this emoji sequence mean 'thin air'? answer yes or no. assistant: no.\",\n",
       " \"user:  \\ndoes this emoji sequence mean 'thin air'? answer yes or no. assistant: no.\",\n",
       " \"user:  \\ndoes this emoji sequence mean 'thin air'? answer yes or no. assistant: no.\",\n",
       " \"user:  \\ndoes this emoji sequence mean 'thin air'? answer yes or no. assistant: no.\",\n",
       " \"user:  \\ndoes this emoji sequence mean 'thin air'? answer yes or no. assistant: no.\",\n",
       " \"user:  \\ndoes this emoji sequence mean 'thin air'? answer yes or no. assistant: no.\",\n",
       " \"user:  \\ndoes this emoji sequence mean 'thin line'? answer yes or no. assistant: no.\",\n",
       " \"user:  \\ndoes this emoji sequence mean 'thin line'? answer yes or no. assistant: no\",\n",
       " \"user:  \\ndoes this emoji sequence mean 'thin line'? answer yes or no. assistant: no\",\n",
       " \"user:  \\ndoes this emoji sequence mean 'thin line'? answer yes or no. assistant: no\",\n",
       " \"user:  \\ndoes this emoji sequence mean 'thin line'? answer yes or no. assistant: no\",\n",
       " \"user:  \\ndoes this emoji sequence mean 'thin line'? answer yes or no. assistant: no\",\n",
       " \"user:  \\ndoes this emoji sequence mean 'thin line'? answer yes or no. assistant: no\",\n",
       " \"user:  \\ndoes this emoji sequence mean 'thin line'? answer yes or no. assistant: no\",\n",
       " \"user:  \\ndoes this emoji sequence mean 'ineffectual ruler'? answer yes or no. assistant: no.\",\n",
       " \"user:  \\ndoes this emoji sequence mean 'ineffectual ruler'? answer yes or no. assistant: no.\",\n",
       " \"user:  \\ndoes this emoji sequence mean 'ineffectual ruler'? answer yes or no. assistant: no.\",\n",
       " \"user:  \\ndoes this emoji sequence mean 'ineffectual ruler'? answer yes or no. assistant: no.\",\n",
       " \"user:  \\ndoes this emoji sequence mean 'ineffectual ruler'? answer yes or no. assistant: no.\",\n",
       " \"user:  \\ndoes this emoji sequence mean 'ineffectual ruler'? answer yes or no. assistant: no.\",\n",
       " \"user:  \\ndoes this emoji sequence mean 'ineffectual ruler'? answer yes or no. assistant: no.\",\n",
       " \"user:  \\ndoes this emoji sequence mean 'ineffectual ruler'? answer yes or no. assistant: no.\",\n",
       " \"user:  \\ndoes this emoji sequence mean 'ineffectual therapy'? answer yes or no. assistant: no.\",\n",
       " \"user:  \\ndoes this emoji sequence mean 'ineffectual therapy'? answer yes or no. assistant: no.\",\n",
       " \"user:  \\ndoes this emoji sequence mean 'ineffectual therapy'? answer yes or no. assistant: no.\",\n",
       " \"user:  \\ndoes this emoji sequence mean 'ineffectual therapy'? answer yes or no. assistant: no.\",\n",
       " \"user:  \\ndoes this emoji sequence mean 'ineffectual therapy'? answer yes or no. assistant: no.\",\n",
       " \"user:  \\ndoes this emoji sequence mean 'ineffectual therapy'? answer yes or no. assistant: no.\",\n",
       " \"user:  \\ndoes this emoji sequence mean 'ineffectual therapy'? answer yes or no. assistant: no.\",\n",
       " \"user:  \\ndoes this emoji sequence mean 'effective step'? answer yes or no. assistant: yes\",\n",
       " \"user:  \\ndoes this emoji sequence mean 'effective step'? answer yes or no. assistant: no.\",\n",
       " \"user:  \\ndoes this emoji sequence mean 'effective step'? answer yes or no. assistant: no\",\n",
       " \"user:  \\ndoes this emoji sequence mean 'effective step'? answer yes or no. assistant: no.\",\n",
       " \"user:  \\ndoes this emoji sequence mean 'effective step'? answer yes or no. assistant: no\",\n",
       " \"user:  \\ndoes this emoji sequence mean 'effective step'? answer yes or no. assistant: no.\",\n",
       " \"user:  \\ndoes this emoji sequence mean 'effective step'? answer yes or no. assistant: no.\",\n",
       " \"user:  \\ndoes this emoji sequence mean 'effective reprimand'? answer yes or no. assistant: no.\",\n",
       " \"user:  \\ndoes this emoji sequence mean 'effective reprimand'? answer yes or no. assistant: no.\",\n",
       " \"user:  \\ndoes this emoji sequence mean 'effective reprimand'? answer yes or no. assistant: no.\",\n",
       " \"user:  \\ndoes this emoji sequence mean 'effective reprimand'? answer yes or no. assistant: no.\",\n",
       " \"user:  \\ndoes this emoji sequence mean 'effective reprimand'? answer yes or no. assistant: no.\",\n",
       " \"user:  \\ndoes this emoji sequence mean 'effective reprimand'? answer yes or no. assistant: no.\",\n",
       " \"user:  \\ndoes this emoji sequence mean 'effective reprimand'? answer yes or no. assistant: no.\",\n",
       " \"user:  \\ndoes this emoji sequence mean 'effective reprimand'? answer yes or no. assistant: no.\",\n",
       " \"user:  \\ndoes this emoji sequence mean 'effective entrance'? answer yes or no. assistant: no.\",\n",
       " \"user:  \\ndoes this emoji sequence mean 'effective entrance'? answer yes or no. assistant: no.\",\n",
       " \"user:  \\ndoes this emoji sequence mean 'effective entrance'? answer yes or no. assistant: no.\",\n",
       " \"user:  \\ndoes this emoji sequence mean 'effective entrance'? answer yes or no. assistant: no.\",\n",
       " \"user:  \\ndoes this emoji sequence mean 'effective entrance'? answer yes or no. assistant: no.\",\n",
       " \"user:  \\ndoes this emoji sequence mean 'effective entrance'? answer yes or no. assistant: no.\",\n",
       " \"user:  \\ndoes this emoji sequence mean 'effective entrance'? answer yes or no. assistant: no.\",\n",
       " \"user:  \\ndoes this emoji sequence mean 'effective entrance'? answer yes or no. assistant: no.\"]"
      ]
     },
     "execution_count": 11,
     "metadata": {},
     "output_type": "execute_result"
    }
   ],
   "source": [
    "generated_texts"
   ]
  },
  {
   "cell_type": "code",
   "execution_count": 15,
   "metadata": {},
   "outputs": [
    {
     "data": {
      "text/plain": [
       "[\"user:  does this emoji sequence mean 'big business'? answer yes or no. assistant: yes.\",\n",
       " \"user:  does this emoji sequence mean 'big business'? answer yes or no. assistant: yes.\",\n",
       " \"user:  does this emoji sequence mean 'big business'? answer yes or no. assistant: no.\",\n",
       " \"user:  does this emoji sequence mean 'big business'? answer yes or no. assistant: no.\",\n",
       " \"user:  does this emoji sequence mean 'big business'? answer yes or no. assistant: no.\",\n",
       " \"user:  does this emoji sequence mean 'big business'? answer yes or no. assistant: yes.\",\n",
       " \"user:  does this emoji sequence mean 'big business'? answer yes or no. assistant: no.\",\n",
       " \"user:  does this emoji sequence mean 'big business'? answer yes or no. assistant: no.\",\n",
       " \"user:  does this emoji sequence mean 'big expenditure'? answer yes or no. assistant: yes.\",\n",
       " \"user:  does this emoji sequence mean 'big expenditure'? answer yes or no. assistant: yes.\",\n",
       " \"user:  does this emoji sequence mean 'big expenditure'? answer yes or no. assistant: yes.\",\n",
       " \"user:  does this emoji sequence mean 'big expenditure'? answer yes or no. assistant: yes.\",\n",
       " \"user:  does this emoji sequence mean 'big expenditure'? answer yes or no. assistant: yes.\",\n",
       " \"user:  does this emoji sequence mean 'big expenditure'? answer yes or no. assistant: yes.\",\n",
       " \"user:  does this emoji sequence mean 'big expenditure'? answer yes or no. assistant: yes.\",\n",
       " \"user:  does this emoji sequence mean 'big expenditure'? answer yes or no. assistant: yes.\",\n",
       " \"user:  does this emoji sequence mean 'big voice'? answer yes or no. assistant: yes.\",\n",
       " \"user:  does this emoji sequence mean 'big voice'? answer yes or no. assistant: yes.\",\n",
       " \"user:  does this emoji sequence mean 'big voice'? answer yes or no. assistant: yes.\",\n",
       " \"user:  does this emoji sequence mean 'big voice'? answer yes or no. assistant: yes.\",\n",
       " \"user:  does this emoji sequence mean 'big voice'? answer yes or no. assistant: yes.\",\n",
       " \"user:  does this emoji sequence mean 'big voice'? answer yes or no. assistant: yes.\",\n",
       " \"user:  does this emoji sequence mean 'big voice'? answer yes or no. assistant: no.\",\n",
       " \"user:  does this emoji sequence mean 'big voice'? answer yes or no. assistant: yes.\",\n",
       " \"user:  does this emoji sequence mean 'big group'? answer yes or no. assistant: yes.\",\n",
       " \"user:  does this emoji sequence mean 'big group'? answer yes or no. assistant: yes.\",\n",
       " \"user:  does this emoji sequence mean 'big group'? answer yes or no. assistant: yes.\",\n",
       " \"user:  does this emoji sequence mean 'big group'? answer yes or no. assistant: yes.\",\n",
       " \"user:  does this emoji sequence mean 'big group'? answer yes or no. assistant: yes.\",\n",
       " \"user:  does this emoji sequence mean 'big group'? answer yes or no. assistant: yes.\",\n",
       " \"user:  does this emoji sequence mean 'big group'? answer yes or no. assistant: yes.\",\n",
       " \"user:  does this emoji sequence mean 'big man'? answer yes or no. assistant: no.\",\n",
       " \"user:  does this emoji sequence mean 'big man'? answer yes or no. assistant: no.\",\n",
       " \"user:  does this emoji sequence mean 'big man'? answer yes or no. assistant: no.\",\n",
       " \"user:  does this emoji sequence mean 'big man'? answer yes or no. assistant: yes.\",\n",
       " \"user:  does this emoji sequence mean 'big man'? answer yes or no. assistant: yes.\",\n",
       " \"user:  does this emoji sequence mean 'big man'? answer yes or no. assistant: no.\",\n",
       " \"user:  does this emoji sequence mean 'big man'? answer yes or no. assistant: no.\",\n",
       " \"user:  does this emoji sequence mean 'big man'? answer yes or no. assistant: yes.\",\n",
       " \"user:  does this emoji sequence mean 'big city'? answer yes or no. assistant: yes.\",\n",
       " \"user:  does this emoji sequence mean 'big city'? answer yes or no. assistant: yes\",\n",
       " \"user:  does this emoji sequence mean 'big city'? answer yes or no. assistant: yes.\",\n",
       " \"user:  does this emoji sequence mean 'big city'? answer yes or no. assistant: yes.\",\n",
       " \"user:  does this emoji sequence mean 'big city'? answer yes or no. assistant: yes.\",\n",
       " \"user:  does this emoji sequence mean 'big city'? answer yes or no. assistant: yes.\",\n",
       " \"user:  does this emoji sequence mean 'big city'? answer yes or no. assistant: yes.\",\n",
       " \"user:  does this emoji sequence mean 'big tipper'? answer yes or no. assistant: no.\",\n",
       " \"user:  does this emoji sequence mean 'big tipper'? answer yes or no. assistant: no.\",\n",
       " \"user:  does this emoji sequence mean 'big tipper'? answer yes or no. assistant: no.\",\n",
       " \"user:  does this emoji sequence mean 'big tipper'? answer yes or no. assistant: no.\",\n",
       " \"user:  does this emoji sequence mean 'big tipper'? answer yes or no. assistant: no.\",\n",
       " \"user:  does this emoji sequence mean 'big tipper'? answer yes or no. assistant: no.\",\n",
       " \"user:  does this emoji sequence mean 'big tipper'? answer yes or no. assistant: no.\",\n",
       " \"user:  does this emoji sequence mean 'big tipper'? answer yes or no. assistant: yes.\",\n",
       " \"user:  does this emoji sequence mean 'big day'? answer yes or no. assistant: yes.\",\n",
       " \"user:  does this emoji sequence mean 'big day'? answer yes or no. assistant: yes.\",\n",
       " \"user:  does this emoji sequence mean 'big day'? answer yes or no. assistant: yes.\",\n",
       " \"user:  does this emoji sequence mean 'big day'? answer yes or no. assistant: no.\",\n",
       " \"user:  does this emoji sequence mean 'big day'? answer yes or no. assistant: yes.\",\n",
       " \"user:  does this emoji sequence mean 'big day'? answer yes or no. assistant: yes.\",\n",
       " \"user:  does this emoji sequence mean 'big day'? answer yes or no. assistant: no.\",\n",
       " \"user:  does this emoji sequence mean 'big day'? answer yes or no. assistant: yes.\",\n",
       " \"user:  does this emoji sequence mean 'hot doll'? answer yes or no. assistant: no.\",\n",
       " \"user:  does this emoji sequence mean 'hot doll'? answer yes or no. assistant: no.\",\n",
       " \"user:  does this emoji sequence mean 'hot doll'? answer yes or no. assistant: no.\",\n",
       " \"user:  does this emoji sequence mean 'hot doll'? answer yes or no. assistant: no.\",\n",
       " \"user:  does this emoji sequence mean 'hot doll'? answer yes or no. assistant: no.\",\n",
       " \"user:  does this emoji sequence mean 'hot doll'? answer yes or no. assistant: no.\",\n",
       " \"user:  does this emoji sequence mean 'hot doll'? answer yes or no. assistant: no.\",\n",
       " \"user:  does this emoji sequence mean 'hot doll'? answer yes or no. assistant: no.\",\n",
       " \"user:  does this emoji sequence mean 'hot water'? answer yes or no. assistant: yes.\",\n",
       " \"user:  does this emoji sequence mean 'hot water'? answer yes or no. assistant: no.\",\n",
       " \"user:  does this emoji sequence mean 'hot water'? answer yes or no. assistant: yes.\",\n",
       " \"user:  does this emoji sequence mean 'hot water'? answer yes or no. assistant: yes.\",\n",
       " \"user:  does this emoji sequence mean 'hot water'? answer yes or no. assistant: yes.\",\n",
       " \"user:  does this emoji sequence mean 'hot water'? answer yes or no. assistant: yes.\",\n",
       " \"user:  does this emoji sequence mean 'hot water'? answer yes or no. assistant: yes.\",\n",
       " \"user:  does this emoji sequence mean 'hot water'? answer yes or no. assistant: yes.\",\n",
       " \"user:  does this emoji sequence mean 'hot stove'? answer yes or no. assistant: yes.\",\n",
       " \"user:  does this emoji sequence mean 'hot stove'? answer yes or no. assistant: yes.\",\n",
       " \"user:  does this emoji sequence mean 'hot stove'? answer yes or no. assistant: yes.\",\n",
       " \"user:  does this emoji sequence mean 'hot stove'? answer yes or no. assistant: no.\",\n",
       " \"user:  does this emoji sequence mean 'hot stove'? answer yes or no. assistant: no.\",\n",
       " \"user:  does this emoji sequence mean 'hot stove'? answer yes or no. assistant: yes.\",\n",
       " \"user:  does this emoji sequence mean 'hot stove'? answer yes or no. assistant: yes.\",\n",
       " \"user:  does this emoji sequence mean 'hot stove'? answer yes or no. assistant: yes.\",\n",
       " \"user:  does this emoji sequence mean 'hot topic'? answer yes or no. assistant: no.\",\n",
       " \"user:  does this emoji sequence mean 'hot topic'? answer yes or no. assistant: no.\",\n",
       " \"user:  does this emoji sequence mean 'hot topic'? answer yes or no. assistant: no\",\n",
       " \"user:  does this emoji sequence mean 'hot topic'? answer yes or no. assistant: no\",\n",
       " \"user:  does this emoji sequence mean 'hot topic'? answer yes or no. assistant: no.\",\n",
       " \"user:  does this emoji sequence mean 'hot topic'? answer yes or no. assistant: no.\",\n",
       " \"user:  does this emoji sequence mean 'hot topic'? answer yes or no. assistant: no.\",\n",
       " \"user:  does this emoji sequence mean 'hot topic'? answer yes or no. assistant: no.\",\n",
       " \"user:  does this emoji sequence mean 'hot merchandise'? answer yes or no. assistant: no.\",\n",
       " \"user:  does this emoji sequence mean 'hot merchandise'? answer yes or no. assistant: no.\",\n",
       " \"user:  does this emoji sequence mean 'hot merchandise'? answer yes or no. assistant: yes.\",\n",
       " \"user:  does this emoji sequence mean 'hot merchandise'? answer yes or no. assistant: yes.\",\n",
       " \"user:  does this emoji sequence mean 'hot merchandise'? answer yes or no. assistant: no.\",\n",
       " \"user:  does this emoji sequence mean 'hot merchandise'? answer yes or no. assistant: no.\",\n",
       " \"user:  does this emoji sequence mean 'hot merchandise'? answer yes or no. assistant: no.\",\n",
       " \"user:  does this emoji sequence mean 'hot merchandise'? answer yes or no. assistant: no.\",\n",
       " \"user:  does this emoji sequence mean 'hot temper'? answer yes or no. assistant: no\",\n",
       " \"user:  does this emoji sequence mean 'hot temper'? answer yes or no. assistant: no\",\n",
       " \"user:  does this emoji sequence mean 'hot argument'? answer yes or no. assistant: no.\",\n",
       " \"user:  does this emoji sequence mean 'hot argument'? answer yes or no. assistant: yes.\",\n",
       " \"user:  does this emoji sequence mean 'hot argument'? answer yes or no. assistant: no.\",\n",
       " \"user:  does this emoji sequence mean 'hot argument'? answer yes or no. assistant: no.\",\n",
       " \"user:  does this emoji sequence mean 'hot argument'? answer yes or no. assistant: no.\",\n",
       " \"user:  does this emoji sequence mean 'hot argument'? answer yes or no. assistant: no.\",\n",
       " \"user:  does this emoji sequence mean 'hot forehead'? answer yes or no. assistant: no.\",\n",
       " \"user:  does this emoji sequence mean 'hot forehead'? answer yes or no. assistant: no.\",\n",
       " \"user:  does this emoji sequence mean 'hot forehead'? answer yes or no. assistant: no.\",\n",
       " \"user:  does this emoji sequence mean 'hot forehead'? answer yes or no. assistant: no.\",\n",
       " \"user:  does this emoji sequence mean 'hot forehead'? answer yes or no. assistant: no.\",\n",
       " \"user:  does this emoji sequence mean 'hot forehead'? answer yes or no. assistant: no.\",\n",
       " \"user:  does this emoji sequence mean 'hot forehead'? answer yes or no. assistant: no.\",\n",
       " \"user:  does this emoji sequence mean 'hot forehead'? answer yes or no. assistant: no.\",\n",
       " \"user:  does this emoji sequence mean 'full game'? answer yes or no. assistant: no.\",\n",
       " \"user:  does this emoji sequence mean 'full game'? answer yes or no. assistant: no.\",\n",
       " \"user:  does this emoji sequence mean 'full game'? answer yes or no. assistant: no\",\n",
       " \"user:  does this emoji sequence mean 'full game'? answer yes or no. assistant: no\",\n",
       " \"user:  does this emoji sequence mean 'full game'? answer yes or no. assistant: no\",\n",
       " \"user:  does this emoji sequence mean 'full game'? answer yes or no. assistant: no.\",\n",
       " \"user:  does this emoji sequence mean 'full game'? answer yes or no. assistant: no\",\n",
       " \"user:  does this emoji sequence mean 'full auditorium'? answer yes or no. assistant: no.\",\n",
       " \"user:  does this emoji sequence mean 'full auditorium'? answer yes or no. assistant: no.\",\n",
       " \"user:  does this emoji sequence mean 'full auditorium'? answer yes or no. assistant: yes.\",\n",
       " \"user:  does this emoji sequence mean 'full auditorium'? answer yes or no. assistant: no.\",\n",
       " \"user:  does this emoji sequence mean 'full auditorium'? answer yes or no. assistant: no.\",\n",
       " \"user:  does this emoji sequence mean 'full auditorium'? answer yes or no. assistant: no.\",\n",
       " \"user:  does this emoji sequence mean 'full attention'? answer yes or no. assistant: no.\",\n",
       " \"user:  does this emoji sequence mean 'full attention'? answer yes or no. assistant: no.\",\n",
       " \"user:  does this emoji sequence mean 'full attention'? answer yes or no. assistant: no.\",\n",
       " \"user:  does this emoji sequence mean 'full attention'? answer yes or no. assistant: no\",\n",
       " \"user:  does this emoji sequence mean 'full attention'? answer yes or no. assistant: no\",\n",
       " \"user:  does this emoji sequence mean 'full attention'? answer yes or no. assistant: no.\",\n",
       " \"user:  does this emoji sequence mean 'full attention'? answer yes or no. assistant: no.\",\n",
       " \"user:  does this emoji sequence mean 'full glass'? answer yes or no. assistant: yes.\",\n",
       " \"user:  does this emoji sequence mean 'full glass'? answer yes or no. assistant: no.\",\n",
       " \"user:  does this emoji sequence mean 'full glass'? answer yes or no. assistant: no.\",\n",
       " \"user:  does this emoji sequence mean 'full glass'? answer yes or no. assistant: yes.\",\n",
       " \"user:  does this emoji sequence mean 'full glass'? answer yes or no. assistant: no.\",\n",
       " \"user:  does this emoji sequence mean 'full glass'? answer yes or no. assistant: yes.\",\n",
       " \"user:  does this emoji sequence mean 'full glass'? answer yes or no. assistant: yes.\",\n",
       " \"user:  does this emoji sequence mean 'full life'? answer yes or no. assistant: no.\",\n",
       " \"user:  does this emoji sequence mean 'full life'? answer yes or no. assistant: no.\",\n",
       " \"user:  does this emoji sequence mean 'full life'? answer yes or no. assistant: no.\",\n",
       " \"user:  does this emoji sequence mean 'full life'? answer yes or no. assistant: no.\",\n",
       " \"user:  does this emoji sequence mean 'full life'? answer yes or no. assistant: no.\",\n",
       " \"user:  does this emoji sequence mean 'full life'? answer yes or no. assistant: no.\",\n",
       " \"user:  does this emoji sequence mean 'full life'? answer yes or no. assistant: no.\",\n",
       " \"user:  does this emoji sequence mean 'little boy'? answer yes or no. assistant: yes.\",\n",
       " \"user:  does this emoji sequence mean 'little boy'? answer yes or no. assistant: yes.\",\n",
       " \"user:  does this emoji sequence mean 'little boy'? answer yes or no. assistant: yes.\",\n",
       " \"user:  does this emoji sequence mean 'little boy'? answer yes or no. assistant: yes.\",\n",
       " \"user:  does this emoji sequence mean 'little boy'? answer yes or no. assistant: yes.\",\n",
       " \"user:  does this emoji sequence mean 'little boy'? answer yes or no. assistant: yes.\",\n",
       " \"user:  does this emoji sequence mean 'little boy'? answer yes or no. assistant: yes.\",\n",
       " \"user:  does this emoji sequence mean 'little boy'? answer yes or no. assistant: yes.\",\n",
       " \"user:  does this emoji sequence mean 'little man'? answer yes or no. assistant: no.\",\n",
       " \"user:  does this emoji sequence mean 'little man'? answer yes or no. assistant: no.\",\n",
       " \"user:  does this emoji sequence mean 'little man'? answer yes or no. assistant: no.\",\n",
       " \"user:  does this emoji sequence mean 'little man'? answer yes or no. assistant: yes.\",\n",
       " \"user:  does this emoji sequence mean 'little man'? answer yes or no. assistant: yes.\",\n",
       " \"user:  does this emoji sequence mean 'little man'? answer yes or no. assistant: yes.\",\n",
       " \"user:  does this emoji sequence mean 'little man'? answer yes or no. assistant: yes.\",\n",
       " \"user:  does this emoji sequence mean 'little man'? answer yes or no. assistant: yes.\",\n",
       " \"user:  does this emoji sequence mean 'little house'? answer yes or no. assistant: yes.\",\n",
       " \"user:  does this emoji sequence mean 'little house'? answer yes or no. assistant: yes.\",\n",
       " \"user:  does this emoji sequence mean 'little house'? answer yes or no. assistant: yes.\",\n",
       " \"user:  does this emoji sequence mean 'little house'? answer yes or no. assistant: yes.\",\n",
       " \"user:  does this emoji sequence mean 'little house'? answer yes or no. assistant: yes.\",\n",
       " \"user:  does this emoji sequence mean 'little house'? answer yes or no. assistant: yes.\",\n",
       " \"user:  does this emoji sequence mean 'little house'? answer yes or no. assistant: yes.\",\n",
       " \"user:  does this emoji sequence mean 'little house'? answer yes or no. assistant: yes.\",\n",
       " \"user:  does this emoji sequence mean 'thin oil'? answer yes or no. assistant: no.\",\n",
       " \"user:  does this emoji sequence mean 'thin oil'? answer yes or no. assistant: no.\",\n",
       " \"user:  does this emoji sequence mean 'thin oil'? answer yes or no. assistant: no.\",\n",
       " \"user:  does this emoji sequence mean 'thin oil'? answer yes or no. assistant: no.\",\n",
       " \"user:  does this emoji sequence mean 'thin oil'? answer yes or no. assistant: no.\",\n",
       " \"user:  does this emoji sequence mean 'thin oil'? answer yes or no. assistant: no.\",\n",
       " \"user:  does this emoji sequence mean 'thin oil'? answer yes or no. assistant: no.\",\n",
       " \"user:  does this emoji sequence mean 'thin oil'? answer yes or no. assistant: no.\",\n",
       " \"user:  does this emoji sequence mean 'thin soup'? answer yes or no. assistant: no.\",\n",
       " \"user:  does this emoji sequence mean 'thin soup'? answer yes or no. assistant: no.\",\n",
       " \"user:  does this emoji sequence mean 'thin soup'? answer yes or no. assistant: yes.\",\n",
       " \"user:  does this emoji sequence mean 'thin soup'? answer yes or no. assistant: no.\",\n",
       " \"user:  does this emoji sequence mean 'thin soup'? answer yes or no. assistant: no.\",\n",
       " \"user:  does this emoji sequence mean 'thin soup'? answer yes or no. assistant: yes.\",\n",
       " \"user:  does this emoji sequence mean 'thin soup'? answer yes or no. assistant: no.\",\n",
       " \"user:  does this emoji sequence mean 'thin soup'? answer yes or no. assistant: no.\",\n",
       " \"user:  does this emoji sequence mean 'thin air'? answer yes or no. assistant: yes.\",\n",
       " \"user:  does this emoji sequence mean 'thin air'? answer yes or no. assistant: no.\",\n",
       " \"user:  does this emoji sequence mean 'thin air'? answer yes or no. assistant: no.\",\n",
       " \"user:  does this emoji sequence mean 'thin air'? answer yes or no. assistant: no.\",\n",
       " \"user:  does this emoji sequence mean 'thin air'? answer yes or no. assistant: yes.\",\n",
       " \"user:  does this emoji sequence mean 'thin air'? answer yes or no. assistant: no.\",\n",
       " \"user:  does this emoji sequence mean 'thin air'? answer yes or no. assistant: yes.\",\n",
       " \"user:  does this emoji sequence mean 'thin air'? answer yes or no. assistant: yes.\",\n",
       " \"user:  does this emoji sequence mean 'thin line'? answer yes or no. assistant: no.\",\n",
       " \"user:  does this emoji sequence mean 'thin line'? answer yes or no. assistant: no.\",\n",
       " \"user:  does this emoji sequence mean 'thin line'? answer yes or no. assistant: no.\",\n",
       " \"user:  does this emoji sequence mean 'thin line'? answer yes or no. assistant: no.\",\n",
       " \"user:  does this emoji sequence mean 'thin line'? answer yes or no. assistant: no.\",\n",
       " \"user:  does this emoji sequence mean 'thin line'? answer yes or no. assistant: no.\",\n",
       " \"user:  does this emoji sequence mean 'thin line'? answer yes or no. assistant: no.\",\n",
       " \"user:  does this emoji sequence mean 'thin line'? answer yes or no. assistant: no.\",\n",
       " \"user:  does this emoji sequence mean 'ineffectual ruler'? answer yes or no. assistant: yes.\",\n",
       " \"user:  does this emoji sequence mean 'ineffectual ruler'? answer yes or no. assistant: yes.\",\n",
       " \"user:  does this emoji sequence mean 'ineffectual ruler'? answer yes or no. assistant: yes.\",\n",
       " \"user:  does this emoji sequence mean 'ineffectual ruler'? answer yes or no. assistant: no.\",\n",
       " \"user:  does this emoji sequence mean 'ineffectual ruler'? answer yes or no. assistant: yes.\",\n",
       " \"user:  does this emoji sequence mean 'ineffectual ruler'? answer yes or no. assistant: yes.\",\n",
       " \"user:  does this emoji sequence mean 'ineffectual therapy'? answer yes or no. assistant: no.\",\n",
       " \"user:  does this emoji sequence mean 'ineffectual therapy'? answer yes or no. assistant: no.\",\n",
       " \"user:  does this emoji sequence mean 'ineffectual therapy'? answer yes or no. assistant: no.\",\n",
       " \"user:  does this emoji sequence mean 'ineffectual therapy'? answer yes or no. assistant: no.\",\n",
       " \"user:  does this emoji sequence mean 'ineffectual therapy'? answer yes or no. assistant: no.\",\n",
       " \"user:  does this emoji sequence mean 'ineffectual therapy'? answer yes or no. assistant: no.\",\n",
       " \"user:  does this emoji sequence mean 'ineffectual therapy'? answer yes or no. assistant: yes.\",\n",
       " \"user:  does this emoji sequence mean 'ineffectual therapy'? answer yes or no. assistant: no.\",\n",
       " \"user:  does this emoji sequence mean 'effective step'? answer yes or no. assistant: no\",\n",
       " \"user:  does this emoji sequence mean 'effective step'? answer yes or no. assistant: no\",\n",
       " \"user:  does this emoji sequence mean 'effective step'? answer yes or no. assistant: no.\",\n",
       " \"user:  does this emoji sequence mean 'effective step'? answer yes or no. assistant: no\",\n",
       " \"user:  does this emoji sequence mean 'effective step'? answer yes or no. assistant: no\",\n",
       " \"user:  does this emoji sequence mean 'effective step'? answer yes or no. assistant: no\",\n",
       " \"user:  does this emoji sequence mean 'effective step'? answer yes or no. assistant: no\",\n",
       " \"user:  does this emoji sequence mean 'effective step'? answer yes or no. assistant: no\",\n",
       " \"user:  does this emoji sequence mean 'effective reprimand'? answer yes or no. assistant: no.\",\n",
       " \"user:  does this emoji sequence mean 'effective reprimand'? answer yes or no. assistant: no.\",\n",
       " \"user:  does this emoji sequence mean 'effective reprimand'? answer yes or no. assistant: no.\",\n",
       " \"user:  does this emoji sequence mean 'effective reprimand'? answer yes or no. assistant: no.\",\n",
       " \"user:  does this emoji sequence mean 'effective reprimand'? answer yes or no. assistant: no.\",\n",
       " \"user:  does this emoji sequence mean 'effective reprimand'? answer yes or no. assistant: no.\",\n",
       " \"user:  does this emoji sequence mean 'effective entrance'? answer yes or no. assistant: no.\",\n",
       " \"user:  does this emoji sequence mean 'effective entrance'? answer yes or no. assistant: no.\",\n",
       " \"user:  does this emoji sequence mean 'effective entrance'? answer yes or no. assistant: no.\",\n",
       " \"user:  does this emoji sequence mean 'effective entrance'? answer yes or no. assistant: no.\",\n",
       " \"user:  does this emoji sequence mean 'effective entrance'? answer yes or no. assistant: no.\",\n",
       " \"user:  does this emoji sequence mean 'effective entrance'? answer yes or no. assistant: no.\",\n",
       " \"user:  does this emoji sequence mean 'effective entrance'? answer yes or no. assistant: no.\",\n",
       " \"user:  does this emoji sequence mean 'effective entrance'? answer yes or no. assistant: no.\",\n",
       " \"user:  does this emoji sequence mean 'big business'? answer yes or no. assistant: no.\",\n",
       " \"user:  does this emoji sequence mean 'big business'? answer yes or no. assistant: no.\",\n",
       " \"user:  does this emoji sequence mean 'big business'? answer yes or no. assistant: no.\",\n",
       " \"user:  does this emoji sequence mean 'big business'? answer yes or no. assistant: no.\",\n",
       " \"user:  does this emoji sequence mean 'big business'? answer yes or no. assistant: no\",\n",
       " \"user:  does this emoji sequence mean 'big business'? answer yes or no. assistant: no.\",\n",
       " \"user:  does this emoji sequence mean 'big business'? answer yes or no. assistant: no\",\n",
       " \"user:  does this emoji sequence mean 'big business'? answer yes or no. assistant: no.\",\n",
       " \"user:  does this emoji sequence mean 'big expenditure'? answer yes or no. assistant: no.\",\n",
       " \"user:  does this emoji sequence mean 'big expenditure'? answer yes or no. assistant: no.\",\n",
       " \"user:  does this emoji sequence mean 'big expenditure'? answer yes or no. assistant: no.\",\n",
       " \"user:  does this emoji sequence mean 'big expenditure'? answer yes or no. assistant: yes.\",\n",
       " \"user:  does this emoji sequence mean 'big expenditure'? answer yes or no. assistant: no.\",\n",
       " \"user:  does this emoji sequence mean 'big expenditure'? answer yes or no. assistant: no.\",\n",
       " \"user:  does this emoji sequence mean 'big expenditure'? answer yes or no. assistant: yes.\",\n",
       " \"user:  does this emoji sequence mean 'big expenditure'? answer yes or no. assistant: no.\",\n",
       " \"user:  does this emoji sequence mean 'big voice'? answer yes or no. assistant: no.\",\n",
       " \"user:  does this emoji sequence mean 'big voice'? answer yes or no. assistant: no\",\n",
       " \"user:  does this emoji sequence mean 'big voice'? answer yes or no. assistant: no\",\n",
       " \"user:  does this emoji sequence mean 'big voice'? answer yes or no. assistant: no\",\n",
       " \"user:  does this emoji sequence mean 'big voice'? answer yes or no. assistant: no.\",\n",
       " \"user:  does this emoji sequence mean 'big voice'? answer yes or no. assistant: no.\",\n",
       " \"user:  does this emoji sequence mean 'big voice'? answer yes or no. assistant: no.\",\n",
       " \"user:  does this emoji sequence mean 'big voice'? answer yes or no. assistant: no.\",\n",
       " \"user:  does this emoji sequence mean 'big group'? answer yes or no. assistant: no.\",\n",
       " \"user:  does this emoji sequence mean 'big group'? answer yes or no. assistant: no.\",\n",
       " \"user:  does this emoji sequence mean 'big group'? answer yes or no. assistant: no.\",\n",
       " \"user:  does this emoji sequence mean 'big group'? answer yes or no. assistant: yes.\",\n",
       " \"user:  does this emoji sequence mean 'big group'? answer yes or no. assistant: no.\",\n",
       " \"user:  does this emoji sequence mean 'big group'? answer yes or no. assistant: no.\",\n",
       " \"user:  does this emoji sequence mean 'big group'? answer yes or no. assistant: no.\",\n",
       " \"user:  does this emoji sequence mean 'big group'? answer yes or no. assistant: no.\",\n",
       " \"user:  does this emoji sequence mean 'big man'? answer yes or no. assistant: no.\",\n",
       " \"user:  does this emoji sequence mean 'big man'? answer yes or no. assistant: no.\",\n",
       " \"user:  does this emoji sequence mean 'big man'? answer yes or no. assistant: no.\",\n",
       " \"user:  does this emoji sequence mean 'big man'? answer yes or no. assistant: no.\",\n",
       " \"user:  does this emoji sequence mean 'big man'? answer yes or no. assistant: no.\",\n",
       " \"user:  does this emoji sequence mean 'big man'? answer yes or no. assistant: no.\",\n",
       " \"user:  does this emoji sequence mean 'big man'? answer yes or no. assistant: no.\",\n",
       " \"user:  does this emoji sequence mean 'big city'? answer yes or no. assistant: no.\",\n",
       " \"user:  does this emoji sequence mean 'big city'? answer yes or no. assistant: no.\",\n",
       " \"user:  does this emoji sequence mean 'big city'? answer yes or no. assistant: no.\",\n",
       " \"user:  does this emoji sequence mean 'big city'? answer yes or no. assistant: no.\",\n",
       " \"user:  does this emoji sequence mean 'big city'? answer yes or no. assistant: no.\",\n",
       " \"user:  does this emoji sequence mean 'big city'? answer yes or no. assistant: yes.\",\n",
       " \"user:  does this emoji sequence mean 'big city'? answer yes or no. assistant: no.\",\n",
       " \"user:  does this emoji sequence mean 'big city'? answer yes or no. assistant: no.\",\n",
       " \"user:  does this emoji sequence mean 'big tipper'? answer yes or no. assistant: no.\",\n",
       " \"user:  does this emoji sequence mean 'big tipper'? answer yes or no. assistant: no.\",\n",
       " \"user:  does this emoji sequence mean 'big tipper'? answer yes or no. assistant: no.\",\n",
       " \"user:  does this emoji sequence mean 'big tipper'? answer yes or no. assistant: no.\",\n",
       " \"user:  does this emoji sequence mean 'big tipper'? answer yes or no. assistant: no.\",\n",
       " \"user:  does this emoji sequence mean 'big tipper'? answer yes or no. assistant: no.\",\n",
       " \"user:  does this emoji sequence mean 'big tipper'? answer yes or no. assistant: no.\",\n",
       " \"user:  does this emoji sequence mean 'big tipper'? answer yes or no. assistant: no.\",\n",
       " \"user:  does this emoji sequence mean 'big day'? answer yes or no. assistant: no.\",\n",
       " \"user:  does this emoji sequence mean 'big day'? answer yes or no. assistant: no.\",\n",
       " \"user:  does this emoji sequence mean 'big day'? answer yes or no. assistant: no.\",\n",
       " \"user:  does this emoji sequence mean 'big day'? answer yes or no. assistant: no.\",\n",
       " \"user:  does this emoji sequence mean 'big day'? answer yes or no. assistant: no.\",\n",
       " \"user:  does this emoji sequence mean 'big day'? answer yes or no. assistant: no.\",\n",
       " \"user:  does this emoji sequence mean 'big day'? answer yes or no. assistant: no.\",\n",
       " \"user:  does this emoji sequence mean 'big day'? answer yes or no. assistant: no.\",\n",
       " \"user:  does this emoji sequence mean 'hot doll'? answer yes or no. assistant: no.\",\n",
       " \"user:  does this emoji sequence mean 'hot doll'? answer yes or no. assistant: no.\",\n",
       " \"user:  does this emoji sequence mean 'hot doll'? answer yes or no. assistant: no.\",\n",
       " \"user:  does this emoji sequence mean 'hot doll'? answer yes or no. assistant: no.\",\n",
       " \"user:  does this emoji sequence mean 'hot doll'? answer yes or no. assistant: no.\",\n",
       " \"user:  does this emoji sequence mean 'hot doll'? answer yes or no. assistant: no.\",\n",
       " \"user:  does this emoji sequence mean 'hot doll'? answer yes or no. assistant: no.\",\n",
       " \"user:  does this emoji sequence mean 'hot water'? answer yes or no. assistant: yes.\",\n",
       " \"user:  does this emoji sequence mean 'hot water'? answer yes or no. assistant: no.\",\n",
       " \"user:  does this emoji sequence mean 'hot water'? answer yes or no. assistant: no.\",\n",
       " \"user:  does this emoji sequence mean 'hot water'? answer yes or no. assistant: no.\",\n",
       " \"user:  does this emoji sequence mean 'hot water'? answer yes or no. assistant: no.\",\n",
       " \"user:  does this emoji sequence mean 'hot water'? answer yes or no. assistant: no.\",\n",
       " \"user:  does this emoji sequence mean 'hot water'? answer yes or no. assistant: no.\",\n",
       " \"user:  does this emoji sequence mean 'hot stove'? answer yes or no. assistant: no.\",\n",
       " \"user:  does this emoji sequence mean 'hot stove'? answer yes or no. assistant: no.\",\n",
       " \"user:  does this emoji sequence mean 'hot stove'? answer yes or no. assistant: no.\",\n",
       " \"user:  does this emoji sequence mean 'hot stove'? answer yes or no. assistant: no.\",\n",
       " \"user:  does this emoji sequence mean 'hot stove'? answer yes or no. assistant: no.\",\n",
       " \"user:  does this emoji sequence mean 'hot topic'? answer yes or no. assistant: no.\",\n",
       " \"user:  does this emoji sequence mean 'hot topic'? answer yes or no. assistant: no.\",\n",
       " \"user:  does this emoji sequence mean 'hot topic'? answer yes or no. assistant: no\",\n",
       " \"user:  does this emoji sequence mean 'hot topic'? answer yes or no. assistant: no\",\n",
       " \"user:  does this emoji sequence mean 'hot topic'? answer yes or no. assistant: no\",\n",
       " \"user:  does this emoji sequence mean 'hot topic'? answer yes or no. assistant: no\",\n",
       " \"user:  does this emoji sequence mean 'hot topic'? answer yes or no. assistant: no\",\n",
       " \"user:  does this emoji sequence mean 'hot merchandise'? answer yes or no. assistant: no.\",\n",
       " \"user:  does this emoji sequence mean 'hot merchandise'? answer yes or no. assistant: no.\",\n",
       " \"user:  does this emoji sequence mean 'hot merchandise'? answer yes or no. assistant: no.\",\n",
       " \"user:  does this emoji sequence mean 'hot merchandise'? answer yes or no. assistant: no.\",\n",
       " \"user:  does this emoji sequence mean 'hot merchandise'? answer yes or no. assistant: no.\",\n",
       " \"user:  does this emoji sequence mean 'hot merchandise'? answer yes or no. assistant: no.\",\n",
       " \"user:  does this emoji sequence mean 'hot merchandise'? answer yes or no. assistant: no.\",\n",
       " \"user:  does this emoji sequence mean 'hot temper'? answer yes or no. assistant: no\",\n",
       " \"user:  does this emoji sequence mean 'hot temper'? answer yes or no. assistant: yes\",\n",
       " \"user:  does this emoji sequence mean 'hot temper'? answer yes or no. assistant: yes\",\n",
       " \"user:  does this emoji sequence mean 'hot temper'? answer yes or no. assistant: yes\",\n",
       " \"user:  does this emoji sequence mean 'hot temper'? answer yes or no. assistant: no.\",\n",
       " \"user:  does this emoji sequence mean 'hot temper'? answer yes or no. assistant: no.\",\n",
       " \"user:  does this emoji sequence mean 'hot temper'? answer yes or no. assistant: no.\",\n",
       " \"user:  does this emoji sequence mean 'hot temper'? answer yes or no. assistant: no.\",\n",
       " \"user:  does this emoji sequence mean 'hot argument'? answer yes or no. assistant: no.\",\n",
       " \"user:  does this emoji sequence mean 'hot argument'? answer yes or no. assistant: no.\",\n",
       " \"user:  does this emoji sequence mean 'hot argument'? answer yes or no. assistant: no.\",\n",
       " \"user:  does this emoji sequence mean 'hot argument'? answer yes or no. assistant: no.\",\n",
       " \"user:  does this emoji sequence mean 'hot argument'? answer yes or no. assistant: no.\",\n",
       " \"user:  does this emoji sequence mean 'hot argument'? answer yes or no. assistant: no.\",\n",
       " \"user:  does this emoji sequence mean 'hot argument'? answer yes or no. assistant: no.\",\n",
       " \"user:  does this emoji sequence mean 'hot argument'? answer yes or no. assistant: no.\",\n",
       " \"user:  does this emoji sequence mean 'hot forehead'? answer yes or no. assistant: no.\",\n",
       " \"user:  does this emoji sequence mean 'hot forehead'? answer yes or no. assistant: no.\",\n",
       " \"user:  does this emoji sequence mean 'hot forehead'? answer yes or no. assistant: no.\",\n",
       " \"user:  does this emoji sequence mean 'hot forehead'? answer yes or no. assistant: no.\",\n",
       " \"user:  does this emoji sequence mean 'hot forehead'? answer yes or no. assistant: no.\",\n",
       " \"user:  does this emoji sequence mean 'hot forehead'? answer yes or no. assistant: no.\",\n",
       " \"user:  does this emoji sequence mean 'hot forehead'? answer yes or no. assistant: no.\",\n",
       " \"user:  does this emoji sequence mean 'hot forehead'? answer yes or no. assistant: no.\",\n",
       " \"user:  does this emoji sequence mean 'full game'? answer yes or no. assistant: no.\",\n",
       " \"user:  does this emoji sequence mean 'full game'? answer yes or no. assistant: no.\",\n",
       " \"user:  does this emoji sequence mean 'full game'? answer yes or no. assistant: no.\",\n",
       " \"user:  does this emoji sequence mean 'full game'? answer yes or no. assistant: no.\",\n",
       " \"user:  does this emoji sequence mean 'full game'? answer yes or no. assistant: no.\",\n",
       " \"user:  does this emoji sequence mean 'full game'? answer yes or no. assistant: no.\",\n",
       " \"user:  does this emoji sequence mean 'full game'? answer yes or no. assistant: no\",\n",
       " \"user:  does this emoji sequence mean 'full auditorium'? answer yes or no. assistant: no.\",\n",
       " \"user:  does this emoji sequence mean 'full auditorium'? answer yes or no. assistant: no.\",\n",
       " \"user:  does this emoji sequence mean 'full auditorium'? answer yes or no. assistant: no.\",\n",
       " \"user:  does this emoji sequence mean 'full auditorium'? answer yes or no. assistant: no.\",\n",
       " \"user:  does this emoji sequence mean 'full auditorium'? answer yes or no. assistant: no.\",\n",
       " \"user:  does this emoji sequence mean 'full auditorium'? answer yes or no. assistant: no.\",\n",
       " \"user:  does this emoji sequence mean 'full auditorium'? answer yes or no. assistant: no.\",\n",
       " \"user:  does this emoji sequence mean 'full attention'? answer yes or no. assistant: no.\",\n",
       " \"user:  does this emoji sequence mean 'full attention'? answer yes or no. assistant: no\",\n",
       " \"user:  does this emoji sequence mean 'full attention'? answer yes or no. assistant: no\",\n",
       " \"user:  does this emoji sequence mean 'full attention'? answer yes or no. assistant: no\",\n",
       " \"user:  does this emoji sequence mean 'full attention'? answer yes or no. assistant: no\",\n",
       " \"user:  does this emoji sequence mean 'full attention'? answer yes or no. assistant: no\",\n",
       " \"user:  does this emoji sequence mean 'full attention'? answer yes or no. assistant: no.\",\n",
       " \"user:  does this emoji sequence mean 'full glass'? answer yes or no. assistant: no.\",\n",
       " \"user:  does this emoji sequence mean 'full glass'? answer yes or no. assistant: no.\",\n",
       " \"user:  does this emoji sequence mean 'full glass'? answer yes or no. assistant: no.\",\n",
       " \"user:  does this emoji sequence mean 'full glass'? answer yes or no. assistant: no.\",\n",
       " \"user:  does this emoji sequence mean 'full glass'? answer yes or no. assistant: no.\",\n",
       " \"user:  does this emoji sequence mean 'full glass'? answer yes or no. assistant: no.\",\n",
       " \"user:  does this emoji sequence mean 'full glass'? answer yes or no. assistant: no.\",\n",
       " \"user:  does this emoji sequence mean 'full life'? answer yes or no. assistant: no.\",\n",
       " \"user:  does this emoji sequence mean 'full life'? answer yes or no. assistant: no.\",\n",
       " \"user:  does this emoji sequence mean 'full life'? answer yes or no. assistant: no.\",\n",
       " \"user:  does this emoji sequence mean 'full life'? answer yes or no. assistant: no.\",\n",
       " \"user:  does this emoji sequence mean 'full life'? answer yes or no. assistant: no.\",\n",
       " \"user:  does this emoji sequence mean 'full life'? answer yes or no. assistant: no.\",\n",
       " \"user:  does this emoji sequence mean 'full life'? answer yes or no. assistant: no.\",\n",
       " \"user:  does this emoji sequence mean 'little boy'? answer yes or no. assistant: no.\",\n",
       " \"user:  does this emoji sequence mean 'little boy'? answer yes or no. assistant: no.\",\n",
       " \"user:  does this emoji sequence mean 'little boy'? answer yes or no. assistant: no.\",\n",
       " \"user:  does this emoji sequence mean 'little boy'? answer yes or no. assistant: no.\",\n",
       " \"user:  does this emoji sequence mean 'little boy'? answer yes or no. assistant: no.\",\n",
       " \"user:  does this emoji sequence mean 'little boy'? answer yes or no. assistant: no.\",\n",
       " \"user:  does this emoji sequence mean 'little boy'? answer yes or no. assistant: yes.\",\n",
       " \"user:  does this emoji sequence mean 'little boy'? answer yes or no. assistant: yes.\",\n",
       " \"user:  does this emoji sequence mean 'little man'? answer yes or no. assistant: no.\",\n",
       " \"user:  does this emoji sequence mean 'little man'? answer yes or no. assistant: yes.\",\n",
       " \"user:  does this emoji sequence mean 'little man'? answer yes or no. assistant: yes.\",\n",
       " \"user:  does this emoji sequence mean 'little man'? answer yes or no. assistant: no.\",\n",
       " \"user:  does this emoji sequence mean 'little man'? answer yes or no. assistant: no.\",\n",
       " \"user:  does this emoji sequence mean 'little man'? answer yes or no. assistant: no.\",\n",
       " \"user:  does this emoji sequence mean 'little man'? answer yes or no. assistant: no.\",\n",
       " \"user:  does this emoji sequence mean 'little man'? answer yes or no. assistant: no.\",\n",
       " \"user:  does this emoji sequence mean 'little house'? answer yes or no. assistant: no.\",\n",
       " \"user:  does this emoji sequence mean 'little house'? answer yes or no. assistant: no.\",\n",
       " \"user:  does this emoji sequence mean 'little house'? answer yes or no. assistant: no.\",\n",
       " \"user:  does this emoji sequence mean 'little house'? answer yes or no. assistant: no.\",\n",
       " \"user:  does this emoji sequence mean 'little house'? answer yes or no. assistant: no.\",\n",
       " \"user:  does this emoji sequence mean 'little house'? answer yes or no. assistant: no.\",\n",
       " \"user:  does this emoji sequence mean 'little house'? answer yes or no. assistant: no.\",\n",
       " \"user:  does this emoji sequence mean 'little house'? answer yes or no. assistant: no.\",\n",
       " \"user:  does this emoji sequence mean 'thin oil'? answer yes or no. assistant: no.\",\n",
       " \"user:  does this emoji sequence mean 'thin oil'? answer yes or no. assistant: no.\",\n",
       " \"user:  does this emoji sequence mean 'thin oil'? answer yes or no. assistant: no.\",\n",
       " \"user:  does this emoji sequence mean 'thin oil'? answer yes or no. assistant: no.\",\n",
       " \"user:  does this emoji sequence mean 'thin oil'? answer yes or no. assistant: no.\",\n",
       " \"user:  does this emoji sequence mean 'thin oil'? answer yes or no. assistant: no.\",\n",
       " \"user:  does this emoji sequence mean 'thin oil'? answer yes or no. assistant: no.\",\n",
       " \"user:  does this emoji sequence mean 'thin oil'? answer yes or no. assistant: no.\",\n",
       " \"user:  does this emoji sequence mean 'thin soup'? answer yes or no. assistant: no.\",\n",
       " \"user:  does this emoji sequence mean 'thin soup'? answer yes or no. assistant: no.\",\n",
       " \"user:  does this emoji sequence mean 'thin soup'? answer yes or no. assistant: no.\",\n",
       " \"user:  does this emoji sequence mean 'thin soup'? answer yes or no. assistant: no.\",\n",
       " \"user:  does this emoji sequence mean 'thin soup'? answer yes or no. assistant: no.\",\n",
       " \"user:  does this emoji sequence mean 'thin soup'? answer yes or no. assistant: no.\",\n",
       " \"user:  does this emoji sequence mean 'thin soup'? answer yes or no. assistant: no.\",\n",
       " \"user:  does this emoji sequence mean 'thin soup'? answer yes or no. assistant: no.\",\n",
       " \"user:  does this emoji sequence mean 'thin air'? answer yes or no. assistant: no.\",\n",
       " \"user:  does this emoji sequence mean 'thin air'? answer yes or no. assistant: no.\",\n",
       " \"user:  does this emoji sequence mean 'thin air'? answer yes or no. assistant: no.\",\n",
       " \"user:  does this emoji sequence mean 'thin air'? answer yes or no. assistant: no.\",\n",
       " \"user:  does this emoji sequence mean 'thin air'? answer yes or no. assistant: no.\",\n",
       " \"user:  does this emoji sequence mean 'thin air'? answer yes or no. assistant: no.\",\n",
       " \"user:  does this emoji sequence mean 'thin air'? answer yes or no. assistant: no.\",\n",
       " \"user:  does this emoji sequence mean 'thin air'? answer yes or no. assistant: no.\",\n",
       " \"user:  does this emoji sequence mean 'thin line'? answer yes or no. assistant: no.\",\n",
       " \"user:  does this emoji sequence mean 'thin line'? answer yes or no. assistant: no\",\n",
       " \"user:  does this emoji sequence mean 'thin line'? answer yes or no. assistant: no\",\n",
       " \"user:  does this emoji sequence mean 'thin line'? answer yes or no. assistant: no\",\n",
       " \"user:  does this emoji sequence mean 'thin line'? answer yes or no. assistant: no\",\n",
       " \"user:  does this emoji sequence mean 'thin line'? answer yes or no. assistant: no\",\n",
       " \"user:  does this emoji sequence mean 'thin line'? answer yes or no. assistant: no\",\n",
       " \"user:  does this emoji sequence mean 'thin line'? answer yes or no. assistant: no\",\n",
       " \"user:  does this emoji sequence mean 'ineffectual ruler'? answer yes or no. assistant: no.\",\n",
       " \"user:  does this emoji sequence mean 'ineffectual ruler'? answer yes or no. assistant: no.\",\n",
       " \"user:  does this emoji sequence mean 'ineffectual ruler'? answer yes or no. assistant: no.\",\n",
       " \"user:  does this emoji sequence mean 'ineffectual ruler'? answer yes or no. assistant: no.\",\n",
       " \"user:  does this emoji sequence mean 'ineffectual ruler'? answer yes or no. assistant: no.\",\n",
       " \"user:  does this emoji sequence mean 'ineffectual ruler'? answer yes or no. assistant: no.\",\n",
       " \"user:  does this emoji sequence mean 'ineffectual ruler'? answer yes or no. assistant: no.\",\n",
       " \"user:  does this emoji sequence mean 'ineffectual ruler'? answer yes or no. assistant: no.\",\n",
       " \"user:  does this emoji sequence mean 'ineffectual therapy'? answer yes or no. assistant: no.\",\n",
       " \"user:  does this emoji sequence mean 'ineffectual therapy'? answer yes or no. assistant: no.\",\n",
       " \"user:  does this emoji sequence mean 'ineffectual therapy'? answer yes or no. assistant: no.\",\n",
       " \"user:  does this emoji sequence mean 'ineffectual therapy'? answer yes or no. assistant: no.\",\n",
       " \"user:  does this emoji sequence mean 'ineffectual therapy'? answer yes or no. assistant: no.\",\n",
       " \"user:  does this emoji sequence mean 'ineffectual therapy'? answer yes or no. assistant: no.\",\n",
       " \"user:  does this emoji sequence mean 'ineffectual therapy'? answer yes or no. assistant: no.\",\n",
       " \"user:  does this emoji sequence mean 'effective step'? answer yes or no. assistant: yes\",\n",
       " \"user:  does this emoji sequence mean 'effective step'? answer yes or no. assistant: no.\",\n",
       " \"user:  does this emoji sequence mean 'effective step'? answer yes or no. assistant: no\",\n",
       " \"user:  does this emoji sequence mean 'effective step'? answer yes or no. assistant: no.\",\n",
       " \"user:  does this emoji sequence mean 'effective step'? answer yes or no. assistant: no\",\n",
       " \"user:  does this emoji sequence mean 'effective step'? answer yes or no. assistant: no.\",\n",
       " \"user:  does this emoji sequence mean 'effective step'? answer yes or no. assistant: no.\",\n",
       " \"user:  does this emoji sequence mean 'effective reprimand'? answer yes or no. assistant: no.\",\n",
       " \"user:  does this emoji sequence mean 'effective reprimand'? answer yes or no. assistant: no.\",\n",
       " \"user:  does this emoji sequence mean 'effective reprimand'? answer yes or no. assistant: no.\",\n",
       " \"user:  does this emoji sequence mean 'effective reprimand'? answer yes or no. assistant: no.\",\n",
       " \"user:  does this emoji sequence mean 'effective reprimand'? answer yes or no. assistant: no.\",\n",
       " \"user:  does this emoji sequence mean 'effective reprimand'? answer yes or no. assistant: no.\",\n",
       " \"user:  does this emoji sequence mean 'effective reprimand'? answer yes or no. assistant: no.\",\n",
       " \"user:  does this emoji sequence mean 'effective reprimand'? answer yes or no. assistant: no.\",\n",
       " \"user:  does this emoji sequence mean 'effective entrance'? answer yes or no. assistant: no.\",\n",
       " \"user:  does this emoji sequence mean 'effective entrance'? answer yes or no. assistant: no.\",\n",
       " \"user:  does this emoji sequence mean 'effective entrance'? answer yes or no. assistant: no.\",\n",
       " \"user:  does this emoji sequence mean 'effective entrance'? answer yes or no. assistant: no.\",\n",
       " \"user:  does this emoji sequence mean 'effective entrance'? answer yes or no. assistant: no.\",\n",
       " \"user:  does this emoji sequence mean 'effective entrance'? answer yes or no. assistant: no.\",\n",
       " \"user:  does this emoji sequence mean 'effective entrance'? answer yes or no. assistant: no.\",\n",
       " \"user:  does this emoji sequence mean 'effective entrance'? answer yes or no. assistant: no.\"]"
      ]
     },
     "execution_count": 15,
     "metadata": {},
     "output_type": "execute_result"
    }
   ],
   "source": [
    "cleaned_generated_texts = [text.replace('\\n', '') for text in generated_texts]\n",
    "cleaned_generated_texts"
   ]
  },
  {
   "cell_type": "code",
   "execution_count": null,
   "metadata": {},
   "outputs": [],
   "source": [
    "test_dataset['predicted_label'] = predictions\n",
    "test_dataset['generated_text'] = cleaned_generated_texts\n",
    "test_dataset.to_csv(\"results.csv\", index=False)"
   ]
  },
  {
   "cell_type": "code",
   "execution_count": 32,
   "metadata": {},
   "outputs": [
    {
     "data": {
      "text/plain": [
       "\"user:  does this emoji sequence mean 'big business'? answer yes or no. assistant: yes.\""
      ]
     },
     "execution_count": 32,
     "metadata": {},
     "output_type": "execute_result"
    }
   ],
   "source": [
    "import pandas as pd\n",
    "\n",
    "cleaned_generated_texts = pd.read_csv(\"results.csv\")\n",
    "cleaned_generated_texts[\"generated_text\"][0]"
   ]
  },
  {
   "cell_type": "code",
   "execution_count": 33,
   "metadata": {},
   "outputs": [
    {
     "name": "stdout",
     "output_type": "stream",
     "text": [
      "[\"user:  does this emoji sequence mean 'big business'? answer yes or no. \", ' yes.'] 1\n",
      "[\"user:  does this emoji sequence mean 'big business'? answer yes or no. \", ' yes.'] 1\n",
      "[\"user:  does this emoji sequence mean 'big business'? answer yes or no. \", ' no.'] 0\n",
      "[\"user:  does this emoji sequence mean 'big business'? answer yes or no. \", ' no.'] 0\n",
      "[\"user:  does this emoji sequence mean 'big business'? answer yes or no. \", ' no.'] 0\n",
      "[\"user:  does this emoji sequence mean 'big business'? answer yes or no. \", ' yes.'] 1\n",
      "[\"user:  does this emoji sequence mean 'big business'? answer yes or no. \", ' no.'] 0\n",
      "[\"user:  does this emoji sequence mean 'big business'? answer yes or no. \", ' no.'] 0\n",
      "[\"user:  does this emoji sequence mean 'big expenditure'? answer yes or no. \", ' yes.'] 1\n",
      "[\"user:  does this emoji sequence mean 'big expenditure'? answer yes or no. \", ' yes.'] 1\n",
      "[\"user:  does this emoji sequence mean 'big expenditure'? answer yes or no. \", ' yes.'] 1\n",
      "[\"user:  does this emoji sequence mean 'big expenditure'? answer yes or no. \", ' yes.'] 1\n",
      "[\"user:  does this emoji sequence mean 'big expenditure'? answer yes or no. \", ' yes.'] 1\n",
      "[\"user:  does this emoji sequence mean 'big expenditure'? answer yes or no. \", ' yes.'] 1\n",
      "[\"user:  does this emoji sequence mean 'big expenditure'? answer yes or no. \", ' yes.'] 1\n",
      "[\"user:  does this emoji sequence mean 'big expenditure'? answer yes or no. \", ' yes.'] 1\n",
      "[\"user:  does this emoji sequence mean 'big voice'? answer yes or no. \", ' yes.'] 1\n",
      "[\"user:  does this emoji sequence mean 'big voice'? answer yes or no. \", ' yes.'] 1\n",
      "[\"user:  does this emoji sequence mean 'big voice'? answer yes or no. \", ' yes.'] 1\n",
      "[\"user:  does this emoji sequence mean 'big voice'? answer yes or no. \", ' yes.'] 1\n",
      "[\"user:  does this emoji sequence mean 'big voice'? answer yes or no. \", ' yes.'] 1\n",
      "[\"user:  does this emoji sequence mean 'big voice'? answer yes or no. \", ' yes.'] 1\n",
      "[\"user:  does this emoji sequence mean 'big voice'? answer yes or no. \", ' no.'] 0\n",
      "[\"user:  does this emoji sequence mean 'big voice'? answer yes or no. \", ' yes.'] 1\n",
      "[\"user:  does this emoji sequence mean 'big group'? answer yes or no. \", ' yes.'] 1\n",
      "[\"user:  does this emoji sequence mean 'big group'? answer yes or no. \", ' yes.'] 1\n",
      "[\"user:  does this emoji sequence mean 'big group'? answer yes or no. \", ' yes.'] 1\n",
      "[\"user:  does this emoji sequence mean 'big group'? answer yes or no. \", ' yes.'] 1\n",
      "[\"user:  does this emoji sequence mean 'big group'? answer yes or no. \", ' yes.'] 1\n",
      "[\"user:  does this emoji sequence mean 'big group'? answer yes or no. \", ' yes.'] 1\n",
      "[\"user:  does this emoji sequence mean 'big group'? answer yes or no. \", ' yes.'] 1\n",
      "[\"user:  does this emoji sequence mean 'big man'? answer yes or no. \", ' no.'] 0\n",
      "[\"user:  does this emoji sequence mean 'big man'? answer yes or no. \", ' no.'] 0\n",
      "[\"user:  does this emoji sequence mean 'big man'? answer yes or no. \", ' no.'] 0\n",
      "[\"user:  does this emoji sequence mean 'big man'? answer yes or no. \", ' yes.'] 1\n",
      "[\"user:  does this emoji sequence mean 'big man'? answer yes or no. \", ' yes.'] 1\n",
      "[\"user:  does this emoji sequence mean 'big man'? answer yes or no. \", ' no.'] 0\n",
      "[\"user:  does this emoji sequence mean 'big man'? answer yes or no. \", ' no.'] 0\n",
      "[\"user:  does this emoji sequence mean 'big man'? answer yes or no. \", ' yes.'] 1\n",
      "[\"user:  does this emoji sequence mean 'big city'? answer yes or no. \", ' yes.'] 1\n",
      "[\"user:  does this emoji sequence mean 'big city'? answer yes or no. \", ' yes'] 1\n",
      "[\"user:  does this emoji sequence mean 'big city'? answer yes or no. \", ' yes.'] 1\n",
      "[\"user:  does this emoji sequence mean 'big city'? answer yes or no. \", ' yes.'] 1\n",
      "[\"user:  does this emoji sequence mean 'big city'? answer yes or no. \", ' yes.'] 1\n",
      "[\"user:  does this emoji sequence mean 'big city'? answer yes or no. \", ' yes.'] 1\n",
      "[\"user:  does this emoji sequence mean 'big city'? answer yes or no. \", ' yes.'] 1\n",
      "[\"user:  does this emoji sequence mean 'big tipper'? answer yes or no. \", ' no.'] 0\n",
      "[\"user:  does this emoji sequence mean 'big tipper'? answer yes or no. \", ' no.'] 0\n",
      "[\"user:  does this emoji sequence mean 'big tipper'? answer yes or no. \", ' no.'] 0\n",
      "[\"user:  does this emoji sequence mean 'big tipper'? answer yes or no. \", ' no.'] 0\n",
      "[\"user:  does this emoji sequence mean 'big tipper'? answer yes or no. \", ' no.'] 0\n",
      "[\"user:  does this emoji sequence mean 'big tipper'? answer yes or no. \", ' no.'] 0\n",
      "[\"user:  does this emoji sequence mean 'big tipper'? answer yes or no. \", ' no.'] 0\n",
      "[\"user:  does this emoji sequence mean 'big tipper'? answer yes or no. \", ' yes.'] 1\n",
      "[\"user:  does this emoji sequence mean 'big day'? answer yes or no. \", ' yes.'] 1\n",
      "[\"user:  does this emoji sequence mean 'big day'? answer yes or no. \", ' yes.'] 1\n",
      "[\"user:  does this emoji sequence mean 'big day'? answer yes or no. \", ' yes.'] 1\n",
      "[\"user:  does this emoji sequence mean 'big day'? answer yes or no. \", ' no.'] 0\n",
      "[\"user:  does this emoji sequence mean 'big day'? answer yes or no. \", ' yes.'] 1\n",
      "[\"user:  does this emoji sequence mean 'big day'? answer yes or no. \", ' yes.'] 1\n",
      "[\"user:  does this emoji sequence mean 'big day'? answer yes or no. \", ' no.'] 0\n",
      "[\"user:  does this emoji sequence mean 'big day'? answer yes or no. \", ' yes.'] 1\n",
      "[\"user:  does this emoji sequence mean 'hot doll'? answer yes or no. \", ' no.'] 0\n",
      "[\"user:  does this emoji sequence mean 'hot doll'? answer yes or no. \", ' no.'] 0\n",
      "[\"user:  does this emoji sequence mean 'hot doll'? answer yes or no. \", ' no.'] 0\n",
      "[\"user:  does this emoji sequence mean 'hot doll'? answer yes or no. \", ' no.'] 0\n",
      "[\"user:  does this emoji sequence mean 'hot doll'? answer yes or no. \", ' no.'] 0\n",
      "[\"user:  does this emoji sequence mean 'hot doll'? answer yes or no. \", ' no.'] 0\n",
      "[\"user:  does this emoji sequence mean 'hot doll'? answer yes or no. \", ' no.'] 0\n",
      "[\"user:  does this emoji sequence mean 'hot doll'? answer yes or no. \", ' no.'] 0\n",
      "[\"user:  does this emoji sequence mean 'hot water'? answer yes or no. \", ' yes.'] 1\n",
      "[\"user:  does this emoji sequence mean 'hot water'? answer yes or no. \", ' no.'] 0\n",
      "[\"user:  does this emoji sequence mean 'hot water'? answer yes or no. \", ' yes.'] 1\n",
      "[\"user:  does this emoji sequence mean 'hot water'? answer yes or no. \", ' yes.'] 1\n",
      "[\"user:  does this emoji sequence mean 'hot water'? answer yes or no. \", ' yes.'] 1\n",
      "[\"user:  does this emoji sequence mean 'hot water'? answer yes or no. \", ' yes.'] 1\n",
      "[\"user:  does this emoji sequence mean 'hot water'? answer yes or no. \", ' yes.'] 1\n",
      "[\"user:  does this emoji sequence mean 'hot water'? answer yes or no. \", ' yes.'] 1\n",
      "[\"user:  does this emoji sequence mean 'hot stove'? answer yes or no. \", ' yes.'] 1\n",
      "[\"user:  does this emoji sequence mean 'hot stove'? answer yes or no. \", ' yes.'] 1\n",
      "[\"user:  does this emoji sequence mean 'hot stove'? answer yes or no. \", ' yes.'] 1\n",
      "[\"user:  does this emoji sequence mean 'hot stove'? answer yes or no. \", ' no.'] 0\n",
      "[\"user:  does this emoji sequence mean 'hot stove'? answer yes or no. \", ' no.'] 0\n",
      "[\"user:  does this emoji sequence mean 'hot stove'? answer yes or no. \", ' yes.'] 1\n",
      "[\"user:  does this emoji sequence mean 'hot stove'? answer yes or no. \", ' yes.'] 1\n",
      "[\"user:  does this emoji sequence mean 'hot stove'? answer yes or no. \", ' yes.'] 1\n",
      "[\"user:  does this emoji sequence mean 'hot topic'? answer yes or no. \", ' no.'] 0\n",
      "[\"user:  does this emoji sequence mean 'hot topic'? answer yes or no. \", ' no.'] 0\n",
      "[\"user:  does this emoji sequence mean 'hot topic'? answer yes or no. \", ' no'] 0\n",
      "[\"user:  does this emoji sequence mean 'hot topic'? answer yes or no. \", ' no'] 0\n",
      "[\"user:  does this emoji sequence mean 'hot topic'? answer yes or no. \", ' no.'] 0\n",
      "[\"user:  does this emoji sequence mean 'hot topic'? answer yes or no. \", ' no.'] 0\n",
      "[\"user:  does this emoji sequence mean 'hot topic'? answer yes or no. \", ' no.'] 0\n",
      "[\"user:  does this emoji sequence mean 'hot topic'? answer yes or no. \", ' no.'] 0\n",
      "[\"user:  does this emoji sequence mean 'hot merchandise'? answer yes or no. \", ' no.'] 0\n",
      "[\"user:  does this emoji sequence mean 'hot merchandise'? answer yes or no. \", ' no.'] 0\n",
      "[\"user:  does this emoji sequence mean 'hot merchandise'? answer yes or no. \", ' yes.'] 1\n",
      "[\"user:  does this emoji sequence mean 'hot merchandise'? answer yes or no. \", ' yes.'] 1\n",
      "[\"user:  does this emoji sequence mean 'hot merchandise'? answer yes or no. \", ' no.'] 0\n",
      "[\"user:  does this emoji sequence mean 'hot merchandise'? answer yes or no. \", ' no.'] 0\n",
      "[\"user:  does this emoji sequence mean 'hot merchandise'? answer yes or no. \", ' no.'] 0\n",
      "[\"user:  does this emoji sequence mean 'hot merchandise'? answer yes or no. \", ' no.'] 0\n",
      "[\"user:  does this emoji sequence mean 'hot temper'? answer yes or no. \", ' no'] 0\n",
      "[\"user:  does this emoji sequence mean 'hot temper'? answer yes or no. \", ' no'] 0\n",
      "[\"user:  does this emoji sequence mean 'hot argument'? answer yes or no. \", ' no.'] 0\n",
      "[\"user:  does this emoji sequence mean 'hot argument'? answer yes or no. \", ' yes.'] 1\n",
      "[\"user:  does this emoji sequence mean 'hot argument'? answer yes or no. \", ' no.'] 0\n",
      "[\"user:  does this emoji sequence mean 'hot argument'? answer yes or no. \", ' no.'] 0\n",
      "[\"user:  does this emoji sequence mean 'hot argument'? answer yes or no. \", ' no.'] 0\n",
      "[\"user:  does this emoji sequence mean 'hot argument'? answer yes or no. \", ' no.'] 0\n",
      "[\"user:  does this emoji sequence mean 'hot forehead'? answer yes or no. \", ' no.'] 0\n",
      "[\"user:  does this emoji sequence mean 'hot forehead'? answer yes or no. \", ' no.'] 0\n",
      "[\"user:  does this emoji sequence mean 'hot forehead'? answer yes or no. \", ' no.'] 0\n",
      "[\"user:  does this emoji sequence mean 'hot forehead'? answer yes or no. \", ' no.'] 0\n",
      "[\"user:  does this emoji sequence mean 'hot forehead'? answer yes or no. \", ' no.'] 0\n",
      "[\"user:  does this emoji sequence mean 'hot forehead'? answer yes or no. \", ' no.'] 0\n",
      "[\"user:  does this emoji sequence mean 'hot forehead'? answer yes or no. \", ' no.'] 0\n",
      "[\"user:  does this emoji sequence mean 'hot forehead'? answer yes or no. \", ' no.'] 0\n",
      "[\"user:  does this emoji sequence mean 'full game'? answer yes or no. \", ' no.'] 0\n",
      "[\"user:  does this emoji sequence mean 'full game'? answer yes or no. \", ' no.'] 0\n",
      "[\"user:  does this emoji sequence mean 'full game'? answer yes or no. \", ' no'] 0\n",
      "[\"user:  does this emoji sequence mean 'full game'? answer yes or no. \", ' no'] 0\n",
      "[\"user:  does this emoji sequence mean 'full game'? answer yes or no. \", ' no'] 0\n",
      "[\"user:  does this emoji sequence mean 'full game'? answer yes or no. \", ' no.'] 0\n",
      "[\"user:  does this emoji sequence mean 'full game'? answer yes or no. \", ' no'] 0\n",
      "[\"user:  does this emoji sequence mean 'full auditorium'? answer yes or no. \", ' no.'] 0\n",
      "[\"user:  does this emoji sequence mean 'full auditorium'? answer yes or no. \", ' no.'] 0\n",
      "[\"user:  does this emoji sequence mean 'full auditorium'? answer yes or no. \", ' yes.'] 1\n",
      "[\"user:  does this emoji sequence mean 'full auditorium'? answer yes or no. \", ' no.'] 0\n",
      "[\"user:  does this emoji sequence mean 'full auditorium'? answer yes or no. \", ' no.'] 0\n",
      "[\"user:  does this emoji sequence mean 'full auditorium'? answer yes or no. \", ' no.'] 0\n",
      "[\"user:  does this emoji sequence mean 'full attention'? answer yes or no. \", ' no.'] 0\n",
      "[\"user:  does this emoji sequence mean 'full attention'? answer yes or no. \", ' no.'] 0\n",
      "[\"user:  does this emoji sequence mean 'full attention'? answer yes or no. \", ' no.'] 0\n",
      "[\"user:  does this emoji sequence mean 'full attention'? answer yes or no. \", ' no'] 0\n",
      "[\"user:  does this emoji sequence mean 'full attention'? answer yes or no. \", ' no'] 0\n",
      "[\"user:  does this emoji sequence mean 'full attention'? answer yes or no. \", ' no.'] 0\n",
      "[\"user:  does this emoji sequence mean 'full attention'? answer yes or no. \", ' no.'] 0\n",
      "[\"user:  does this emoji sequence mean 'full glass'? answer yes or no. \", ' yes.'] 1\n",
      "[\"user:  does this emoji sequence mean 'full glass'? answer yes or no. \", ' no.'] 0\n",
      "[\"user:  does this emoji sequence mean 'full glass'? answer yes or no. \", ' no.'] 0\n",
      "[\"user:  does this emoji sequence mean 'full glass'? answer yes or no. \", ' yes.'] 1\n",
      "[\"user:  does this emoji sequence mean 'full glass'? answer yes or no. \", ' no.'] 0\n",
      "[\"user:  does this emoji sequence mean 'full glass'? answer yes or no. \", ' yes.'] 1\n",
      "[\"user:  does this emoji sequence mean 'full glass'? answer yes or no. \", ' yes.'] 1\n",
      "[\"user:  does this emoji sequence mean 'full life'? answer yes or no. \", ' no.'] 0\n",
      "[\"user:  does this emoji sequence mean 'full life'? answer yes or no. \", ' no.'] 0\n",
      "[\"user:  does this emoji sequence mean 'full life'? answer yes or no. \", ' no.'] 0\n",
      "[\"user:  does this emoji sequence mean 'full life'? answer yes or no. \", ' no.'] 0\n",
      "[\"user:  does this emoji sequence mean 'full life'? answer yes or no. \", ' no.'] 0\n",
      "[\"user:  does this emoji sequence mean 'full life'? answer yes or no. \", ' no.'] 0\n",
      "[\"user:  does this emoji sequence mean 'full life'? answer yes or no. \", ' no.'] 0\n",
      "[\"user:  does this emoji sequence mean 'little boy'? answer yes or no. \", ' yes.'] 1\n",
      "[\"user:  does this emoji sequence mean 'little boy'? answer yes or no. \", ' yes.'] 1\n",
      "[\"user:  does this emoji sequence mean 'little boy'? answer yes or no. \", ' yes.'] 1\n",
      "[\"user:  does this emoji sequence mean 'little boy'? answer yes or no. \", ' yes.'] 1\n",
      "[\"user:  does this emoji sequence mean 'little boy'? answer yes or no. \", ' yes.'] 1\n",
      "[\"user:  does this emoji sequence mean 'little boy'? answer yes or no. \", ' yes.'] 1\n",
      "[\"user:  does this emoji sequence mean 'little boy'? answer yes or no. \", ' yes.'] 1\n",
      "[\"user:  does this emoji sequence mean 'little boy'? answer yes or no. \", ' yes.'] 1\n",
      "[\"user:  does this emoji sequence mean 'little man'? answer yes or no. \", ' no.'] 0\n",
      "[\"user:  does this emoji sequence mean 'little man'? answer yes or no. \", ' no.'] 0\n",
      "[\"user:  does this emoji sequence mean 'little man'? answer yes or no. \", ' no.'] 0\n",
      "[\"user:  does this emoji sequence mean 'little man'? answer yes or no. \", ' yes.'] 1\n",
      "[\"user:  does this emoji sequence mean 'little man'? answer yes or no. \", ' yes.'] 1\n",
      "[\"user:  does this emoji sequence mean 'little man'? answer yes or no. \", ' yes.'] 1\n",
      "[\"user:  does this emoji sequence mean 'little man'? answer yes or no. \", ' yes.'] 1\n",
      "[\"user:  does this emoji sequence mean 'little man'? answer yes or no. \", ' yes.'] 1\n",
      "[\"user:  does this emoji sequence mean 'little house'? answer yes or no. \", ' yes.'] 1\n",
      "[\"user:  does this emoji sequence mean 'little house'? answer yes or no. \", ' yes.'] 1\n",
      "[\"user:  does this emoji sequence mean 'little house'? answer yes or no. \", ' yes.'] 1\n",
      "[\"user:  does this emoji sequence mean 'little house'? answer yes or no. \", ' yes.'] 1\n",
      "[\"user:  does this emoji sequence mean 'little house'? answer yes or no. \", ' yes.'] 1\n",
      "[\"user:  does this emoji sequence mean 'little house'? answer yes or no. \", ' yes.'] 1\n",
      "[\"user:  does this emoji sequence mean 'little house'? answer yes or no. \", ' yes.'] 1\n",
      "[\"user:  does this emoji sequence mean 'little house'? answer yes or no. \", ' yes.'] 1\n",
      "[\"user:  does this emoji sequence mean 'thin oil'? answer yes or no. \", ' no.'] 0\n",
      "[\"user:  does this emoji sequence mean 'thin oil'? answer yes or no. \", ' no.'] 0\n",
      "[\"user:  does this emoji sequence mean 'thin oil'? answer yes or no. \", ' no.'] 0\n",
      "[\"user:  does this emoji sequence mean 'thin oil'? answer yes or no. \", ' no.'] 0\n",
      "[\"user:  does this emoji sequence mean 'thin oil'? answer yes or no. \", ' no.'] 0\n",
      "[\"user:  does this emoji sequence mean 'thin oil'? answer yes or no. \", ' no.'] 0\n",
      "[\"user:  does this emoji sequence mean 'thin oil'? answer yes or no. \", ' no.'] 0\n",
      "[\"user:  does this emoji sequence mean 'thin oil'? answer yes or no. \", ' no.'] 0\n",
      "[\"user:  does this emoji sequence mean 'thin soup'? answer yes or no. \", ' no.'] 0\n",
      "[\"user:  does this emoji sequence mean 'thin soup'? answer yes or no. \", ' no.'] 0\n",
      "[\"user:  does this emoji sequence mean 'thin soup'? answer yes or no. \", ' yes.'] 1\n",
      "[\"user:  does this emoji sequence mean 'thin soup'? answer yes or no. \", ' no.'] 0\n",
      "[\"user:  does this emoji sequence mean 'thin soup'? answer yes or no. \", ' no.'] 0\n",
      "[\"user:  does this emoji sequence mean 'thin soup'? answer yes or no. \", ' yes.'] 1\n",
      "[\"user:  does this emoji sequence mean 'thin soup'? answer yes or no. \", ' no.'] 0\n",
      "[\"user:  does this emoji sequence mean 'thin soup'? answer yes or no. \", ' no.'] 0\n",
      "[\"user:  does this emoji sequence mean 'thin air'? answer yes or no. \", ' yes.'] 1\n",
      "[\"user:  does this emoji sequence mean 'thin air'? answer yes or no. \", ' no.'] 0\n",
      "[\"user:  does this emoji sequence mean 'thin air'? answer yes or no. \", ' no.'] 0\n",
      "[\"user:  does this emoji sequence mean 'thin air'? answer yes or no. \", ' no.'] 0\n",
      "[\"user:  does this emoji sequence mean 'thin air'? answer yes or no. \", ' yes.'] 1\n",
      "[\"user:  does this emoji sequence mean 'thin air'? answer yes or no. \", ' no.'] 0\n",
      "[\"user:  does this emoji sequence mean 'thin air'? answer yes or no. \", ' yes.'] 1\n",
      "[\"user:  does this emoji sequence mean 'thin air'? answer yes or no. \", ' yes.'] 1\n",
      "[\"user:  does this emoji sequence mean 'thin line'? answer yes or no. \", ' no.'] 0\n",
      "[\"user:  does this emoji sequence mean 'thin line'? answer yes or no. \", ' no.'] 0\n",
      "[\"user:  does this emoji sequence mean 'thin line'? answer yes or no. \", ' no.'] 0\n",
      "[\"user:  does this emoji sequence mean 'thin line'? answer yes or no. \", ' no.'] 0\n",
      "[\"user:  does this emoji sequence mean 'thin line'? answer yes or no. \", ' no.'] 0\n",
      "[\"user:  does this emoji sequence mean 'thin line'? answer yes or no. \", ' no.'] 0\n",
      "[\"user:  does this emoji sequence mean 'thin line'? answer yes or no. \", ' no.'] 0\n",
      "[\"user:  does this emoji sequence mean 'thin line'? answer yes or no. \", ' no.'] 0\n",
      "[\"user:  does this emoji sequence mean 'ineffectual ruler'? answer yes or no. \", ' yes.'] 1\n",
      "[\"user:  does this emoji sequence mean 'ineffectual ruler'? answer yes or no. \", ' yes.'] 1\n",
      "[\"user:  does this emoji sequence mean 'ineffectual ruler'? answer yes or no. \", ' yes.'] 1\n",
      "[\"user:  does this emoji sequence mean 'ineffectual ruler'? answer yes or no. \", ' no.'] 0\n",
      "[\"user:  does this emoji sequence mean 'ineffectual ruler'? answer yes or no. \", ' yes.'] 1\n",
      "[\"user:  does this emoji sequence mean 'ineffectual ruler'? answer yes or no. \", ' yes.'] 1\n",
      "[\"user:  does this emoji sequence mean 'ineffectual therapy'? answer yes or no. \", ' no.'] 0\n",
      "[\"user:  does this emoji sequence mean 'ineffectual therapy'? answer yes or no. \", ' no.'] 0\n",
      "[\"user:  does this emoji sequence mean 'ineffectual therapy'? answer yes or no. \", ' no.'] 0\n",
      "[\"user:  does this emoji sequence mean 'ineffectual therapy'? answer yes or no. \", ' no.'] 0\n",
      "[\"user:  does this emoji sequence mean 'ineffectual therapy'? answer yes or no. \", ' no.'] 0\n",
      "[\"user:  does this emoji sequence mean 'ineffectual therapy'? answer yes or no. \", ' no.'] 0\n",
      "[\"user:  does this emoji sequence mean 'ineffectual therapy'? answer yes or no. \", ' yes.'] 1\n",
      "[\"user:  does this emoji sequence mean 'ineffectual therapy'? answer yes or no. \", ' no.'] 0\n",
      "[\"user:  does this emoji sequence mean 'effective step'? answer yes or no. \", ' no'] 0\n",
      "[\"user:  does this emoji sequence mean 'effective step'? answer yes or no. \", ' no'] 0\n",
      "[\"user:  does this emoji sequence mean 'effective step'? answer yes or no. \", ' no.'] 0\n",
      "[\"user:  does this emoji sequence mean 'effective step'? answer yes or no. \", ' no'] 0\n",
      "[\"user:  does this emoji sequence mean 'effective step'? answer yes or no. \", ' no'] 0\n",
      "[\"user:  does this emoji sequence mean 'effective step'? answer yes or no. \", ' no'] 0\n",
      "[\"user:  does this emoji sequence mean 'effective step'? answer yes or no. \", ' no'] 0\n",
      "[\"user:  does this emoji sequence mean 'effective step'? answer yes or no. \", ' no'] 0\n",
      "[\"user:  does this emoji sequence mean 'effective reprimand'? answer yes or no. \", ' no.'] 0\n",
      "[\"user:  does this emoji sequence mean 'effective reprimand'? answer yes or no. \", ' no.'] 0\n",
      "[\"user:  does this emoji sequence mean 'effective reprimand'? answer yes or no. \", ' no.'] 0\n",
      "[\"user:  does this emoji sequence mean 'effective reprimand'? answer yes or no. \", ' no.'] 0\n",
      "[\"user:  does this emoji sequence mean 'effective reprimand'? answer yes or no. \", ' no.'] 0\n",
      "[\"user:  does this emoji sequence mean 'effective reprimand'? answer yes or no. \", ' no.'] 0\n",
      "[\"user:  does this emoji sequence mean 'effective entrance'? answer yes or no. \", ' no.'] 0\n",
      "[\"user:  does this emoji sequence mean 'effective entrance'? answer yes or no. \", ' no.'] 0\n",
      "[\"user:  does this emoji sequence mean 'effective entrance'? answer yes or no. \", ' no.'] 0\n",
      "[\"user:  does this emoji sequence mean 'effective entrance'? answer yes or no. \", ' no.'] 0\n",
      "[\"user:  does this emoji sequence mean 'effective entrance'? answer yes or no. \", ' no.'] 0\n",
      "[\"user:  does this emoji sequence mean 'effective entrance'? answer yes or no. \", ' no.'] 0\n",
      "[\"user:  does this emoji sequence mean 'effective entrance'? answer yes or no. \", ' no.'] 0\n",
      "[\"user:  does this emoji sequence mean 'effective entrance'? answer yes or no. \", ' no.'] 0\n",
      "[\"user:  does this emoji sequence mean 'big business'? answer yes or no. \", ' no.'] 0\n",
      "[\"user:  does this emoji sequence mean 'big business'? answer yes or no. \", ' no.'] 0\n",
      "[\"user:  does this emoji sequence mean 'big business'? answer yes or no. \", ' no.'] 0\n",
      "[\"user:  does this emoji sequence mean 'big business'? answer yes or no. \", ' no.'] 0\n",
      "[\"user:  does this emoji sequence mean 'big business'? answer yes or no. \", ' no'] 0\n",
      "[\"user:  does this emoji sequence mean 'big business'? answer yes or no. \", ' no.'] 0\n",
      "[\"user:  does this emoji sequence mean 'big business'? answer yes or no. \", ' no'] 0\n",
      "[\"user:  does this emoji sequence mean 'big business'? answer yes or no. \", ' no.'] 0\n",
      "[\"user:  does this emoji sequence mean 'big expenditure'? answer yes or no. \", ' no.'] 0\n",
      "[\"user:  does this emoji sequence mean 'big expenditure'? answer yes or no. \", ' no.'] 0\n",
      "[\"user:  does this emoji sequence mean 'big expenditure'? answer yes or no. \", ' no.'] 0\n",
      "[\"user:  does this emoji sequence mean 'big expenditure'? answer yes or no. \", ' yes.'] 1\n",
      "[\"user:  does this emoji sequence mean 'big expenditure'? answer yes or no. \", ' no.'] 0\n",
      "[\"user:  does this emoji sequence mean 'big expenditure'? answer yes or no. \", ' no.'] 0\n",
      "[\"user:  does this emoji sequence mean 'big expenditure'? answer yes or no. \", ' yes.'] 1\n",
      "[\"user:  does this emoji sequence mean 'big expenditure'? answer yes or no. \", ' no.'] 0\n",
      "[\"user:  does this emoji sequence mean 'big voice'? answer yes or no. \", ' no.'] 0\n",
      "[\"user:  does this emoji sequence mean 'big voice'? answer yes or no. \", ' no'] 0\n",
      "[\"user:  does this emoji sequence mean 'big voice'? answer yes or no. \", ' no'] 0\n",
      "[\"user:  does this emoji sequence mean 'big voice'? answer yes or no. \", ' no'] 0\n",
      "[\"user:  does this emoji sequence mean 'big voice'? answer yes or no. \", ' no.'] 0\n",
      "[\"user:  does this emoji sequence mean 'big voice'? answer yes or no. \", ' no.'] 0\n",
      "[\"user:  does this emoji sequence mean 'big voice'? answer yes or no. \", ' no.'] 0\n",
      "[\"user:  does this emoji sequence mean 'big voice'? answer yes or no. \", ' no.'] 0\n",
      "[\"user:  does this emoji sequence mean 'big group'? answer yes or no. \", ' no.'] 0\n",
      "[\"user:  does this emoji sequence mean 'big group'? answer yes or no. \", ' no.'] 0\n",
      "[\"user:  does this emoji sequence mean 'big group'? answer yes or no. \", ' no.'] 0\n",
      "[\"user:  does this emoji sequence mean 'big group'? answer yes or no. \", ' yes.'] 1\n",
      "[\"user:  does this emoji sequence mean 'big group'? answer yes or no. \", ' no.'] 0\n",
      "[\"user:  does this emoji sequence mean 'big group'? answer yes or no. \", ' no.'] 0\n",
      "[\"user:  does this emoji sequence mean 'big group'? answer yes or no. \", ' no.'] 0\n",
      "[\"user:  does this emoji sequence mean 'big group'? answer yes or no. \", ' no.'] 0\n",
      "[\"user:  does this emoji sequence mean 'big man'? answer yes or no. \", ' no.'] 0\n",
      "[\"user:  does this emoji sequence mean 'big man'? answer yes or no. \", ' no.'] 0\n",
      "[\"user:  does this emoji sequence mean 'big man'? answer yes or no. \", ' no.'] 0\n",
      "[\"user:  does this emoji sequence mean 'big man'? answer yes or no. \", ' no.'] 0\n",
      "[\"user:  does this emoji sequence mean 'big man'? answer yes or no. \", ' no.'] 0\n",
      "[\"user:  does this emoji sequence mean 'big man'? answer yes or no. \", ' no.'] 0\n",
      "[\"user:  does this emoji sequence mean 'big man'? answer yes or no. \", ' no.'] 0\n",
      "[\"user:  does this emoji sequence mean 'big city'? answer yes or no. \", ' no.'] 0\n",
      "[\"user:  does this emoji sequence mean 'big city'? answer yes or no. \", ' no.'] 0\n",
      "[\"user:  does this emoji sequence mean 'big city'? answer yes or no. \", ' no.'] 0\n",
      "[\"user:  does this emoji sequence mean 'big city'? answer yes or no. \", ' no.'] 0\n",
      "[\"user:  does this emoji sequence mean 'big city'? answer yes or no. \", ' no.'] 0\n",
      "[\"user:  does this emoji sequence mean 'big city'? answer yes or no. \", ' yes.'] 1\n",
      "[\"user:  does this emoji sequence mean 'big city'? answer yes or no. \", ' no.'] 0\n",
      "[\"user:  does this emoji sequence mean 'big city'? answer yes or no. \", ' no.'] 0\n",
      "[\"user:  does this emoji sequence mean 'big tipper'? answer yes or no. \", ' no.'] 0\n",
      "[\"user:  does this emoji sequence mean 'big tipper'? answer yes or no. \", ' no.'] 0\n",
      "[\"user:  does this emoji sequence mean 'big tipper'? answer yes or no. \", ' no.'] 0\n",
      "[\"user:  does this emoji sequence mean 'big tipper'? answer yes or no. \", ' no.'] 0\n",
      "[\"user:  does this emoji sequence mean 'big tipper'? answer yes or no. \", ' no.'] 0\n",
      "[\"user:  does this emoji sequence mean 'big tipper'? answer yes or no. \", ' no.'] 0\n",
      "[\"user:  does this emoji sequence mean 'big tipper'? answer yes or no. \", ' no.'] 0\n",
      "[\"user:  does this emoji sequence mean 'big tipper'? answer yes or no. \", ' no.'] 0\n",
      "[\"user:  does this emoji sequence mean 'big day'? answer yes or no. \", ' no.'] 0\n",
      "[\"user:  does this emoji sequence mean 'big day'? answer yes or no. \", ' no.'] 0\n",
      "[\"user:  does this emoji sequence mean 'big day'? answer yes or no. \", ' no.'] 0\n",
      "[\"user:  does this emoji sequence mean 'big day'? answer yes or no. \", ' no.'] 0\n",
      "[\"user:  does this emoji sequence mean 'big day'? answer yes or no. \", ' no.'] 0\n",
      "[\"user:  does this emoji sequence mean 'big day'? answer yes or no. \", ' no.'] 0\n",
      "[\"user:  does this emoji sequence mean 'big day'? answer yes or no. \", ' no.'] 0\n",
      "[\"user:  does this emoji sequence mean 'big day'? answer yes or no. \", ' no.'] 0\n",
      "[\"user:  does this emoji sequence mean 'hot doll'? answer yes or no. \", ' no.'] 0\n",
      "[\"user:  does this emoji sequence mean 'hot doll'? answer yes or no. \", ' no.'] 0\n",
      "[\"user:  does this emoji sequence mean 'hot doll'? answer yes or no. \", ' no.'] 0\n",
      "[\"user:  does this emoji sequence mean 'hot doll'? answer yes or no. \", ' no.'] 0\n",
      "[\"user:  does this emoji sequence mean 'hot doll'? answer yes or no. \", ' no.'] 0\n",
      "[\"user:  does this emoji sequence mean 'hot doll'? answer yes or no. \", ' no.'] 0\n",
      "[\"user:  does this emoji sequence mean 'hot doll'? answer yes or no. \", ' no.'] 0\n",
      "[\"user:  does this emoji sequence mean 'hot water'? answer yes or no. \", ' yes.'] 1\n",
      "[\"user:  does this emoji sequence mean 'hot water'? answer yes or no. \", ' no.'] 0\n",
      "[\"user:  does this emoji sequence mean 'hot water'? answer yes or no. \", ' no.'] 0\n",
      "[\"user:  does this emoji sequence mean 'hot water'? answer yes or no. \", ' no.'] 0\n",
      "[\"user:  does this emoji sequence mean 'hot water'? answer yes or no. \", ' no.'] 0\n",
      "[\"user:  does this emoji sequence mean 'hot water'? answer yes or no. \", ' no.'] 0\n",
      "[\"user:  does this emoji sequence mean 'hot water'? answer yes or no. \", ' no.'] 0\n",
      "[\"user:  does this emoji sequence mean 'hot stove'? answer yes or no. \", ' no.'] 0\n",
      "[\"user:  does this emoji sequence mean 'hot stove'? answer yes or no. \", ' no.'] 0\n",
      "[\"user:  does this emoji sequence mean 'hot stove'? answer yes or no. \", ' no.'] 0\n",
      "[\"user:  does this emoji sequence mean 'hot stove'? answer yes or no. \", ' no.'] 0\n",
      "[\"user:  does this emoji sequence mean 'hot stove'? answer yes or no. \", ' no.'] 0\n",
      "[\"user:  does this emoji sequence mean 'hot topic'? answer yes or no. \", ' no.'] 0\n",
      "[\"user:  does this emoji sequence mean 'hot topic'? answer yes or no. \", ' no.'] 0\n",
      "[\"user:  does this emoji sequence mean 'hot topic'? answer yes or no. \", ' no'] 0\n",
      "[\"user:  does this emoji sequence mean 'hot topic'? answer yes or no. \", ' no'] 0\n",
      "[\"user:  does this emoji sequence mean 'hot topic'? answer yes or no. \", ' no'] 0\n",
      "[\"user:  does this emoji sequence mean 'hot topic'? answer yes or no. \", ' no'] 0\n",
      "[\"user:  does this emoji sequence mean 'hot topic'? answer yes or no. \", ' no'] 0\n",
      "[\"user:  does this emoji sequence mean 'hot merchandise'? answer yes or no. \", ' no.'] 0\n",
      "[\"user:  does this emoji sequence mean 'hot merchandise'? answer yes or no. \", ' no.'] 0\n",
      "[\"user:  does this emoji sequence mean 'hot merchandise'? answer yes or no. \", ' no.'] 0\n",
      "[\"user:  does this emoji sequence mean 'hot merchandise'? answer yes or no. \", ' no.'] 0\n",
      "[\"user:  does this emoji sequence mean 'hot merchandise'? answer yes or no. \", ' no.'] 0\n",
      "[\"user:  does this emoji sequence mean 'hot merchandise'? answer yes or no. \", ' no.'] 0\n",
      "[\"user:  does this emoji sequence mean 'hot merchandise'? answer yes or no. \", ' no.'] 0\n",
      "[\"user:  does this emoji sequence mean 'hot temper'? answer yes or no. \", ' no'] 0\n",
      "[\"user:  does this emoji sequence mean 'hot temper'? answer yes or no. \", ' yes'] 1\n",
      "[\"user:  does this emoji sequence mean 'hot temper'? answer yes or no. \", ' yes'] 1\n",
      "[\"user:  does this emoji sequence mean 'hot temper'? answer yes or no. \", ' yes'] 1\n",
      "[\"user:  does this emoji sequence mean 'hot temper'? answer yes or no. \", ' no.'] 0\n",
      "[\"user:  does this emoji sequence mean 'hot temper'? answer yes or no. \", ' no.'] 0\n",
      "[\"user:  does this emoji sequence mean 'hot temper'? answer yes or no. \", ' no.'] 0\n",
      "[\"user:  does this emoji sequence mean 'hot temper'? answer yes or no. \", ' no.'] 0\n",
      "[\"user:  does this emoji sequence mean 'hot argument'? answer yes or no. \", ' no.'] 0\n",
      "[\"user:  does this emoji sequence mean 'hot argument'? answer yes or no. \", ' no.'] 0\n",
      "[\"user:  does this emoji sequence mean 'hot argument'? answer yes or no. \", ' no.'] 0\n",
      "[\"user:  does this emoji sequence mean 'hot argument'? answer yes or no. \", ' no.'] 0\n",
      "[\"user:  does this emoji sequence mean 'hot argument'? answer yes or no. \", ' no.'] 0\n",
      "[\"user:  does this emoji sequence mean 'hot argument'? answer yes or no. \", ' no.'] 0\n",
      "[\"user:  does this emoji sequence mean 'hot argument'? answer yes or no. \", ' no.'] 0\n",
      "[\"user:  does this emoji sequence mean 'hot argument'? answer yes or no. \", ' no.'] 0\n",
      "[\"user:  does this emoji sequence mean 'hot forehead'? answer yes or no. \", ' no.'] 0\n",
      "[\"user:  does this emoji sequence mean 'hot forehead'? answer yes or no. \", ' no.'] 0\n",
      "[\"user:  does this emoji sequence mean 'hot forehead'? answer yes or no. \", ' no.'] 0\n",
      "[\"user:  does this emoji sequence mean 'hot forehead'? answer yes or no. \", ' no.'] 0\n",
      "[\"user:  does this emoji sequence mean 'hot forehead'? answer yes or no. \", ' no.'] 0\n",
      "[\"user:  does this emoji sequence mean 'hot forehead'? answer yes or no. \", ' no.'] 0\n",
      "[\"user:  does this emoji sequence mean 'hot forehead'? answer yes or no. \", ' no.'] 0\n",
      "[\"user:  does this emoji sequence mean 'hot forehead'? answer yes or no. \", ' no.'] 0\n",
      "[\"user:  does this emoji sequence mean 'full game'? answer yes or no. \", ' no.'] 0\n",
      "[\"user:  does this emoji sequence mean 'full game'? answer yes or no. \", ' no.'] 0\n",
      "[\"user:  does this emoji sequence mean 'full game'? answer yes or no. \", ' no.'] 0\n",
      "[\"user:  does this emoji sequence mean 'full game'? answer yes or no. \", ' no.'] 0\n",
      "[\"user:  does this emoji sequence mean 'full game'? answer yes or no. \", ' no.'] 0\n",
      "[\"user:  does this emoji sequence mean 'full game'? answer yes or no. \", ' no.'] 0\n",
      "[\"user:  does this emoji sequence mean 'full game'? answer yes or no. \", ' no'] 0\n",
      "[\"user:  does this emoji sequence mean 'full auditorium'? answer yes or no. \", ' no.'] 0\n",
      "[\"user:  does this emoji sequence mean 'full auditorium'? answer yes or no. \", ' no.'] 0\n",
      "[\"user:  does this emoji sequence mean 'full auditorium'? answer yes or no. \", ' no.'] 0\n",
      "[\"user:  does this emoji sequence mean 'full auditorium'? answer yes or no. \", ' no.'] 0\n",
      "[\"user:  does this emoji sequence mean 'full auditorium'? answer yes or no. \", ' no.'] 0\n",
      "[\"user:  does this emoji sequence mean 'full auditorium'? answer yes or no. \", ' no.'] 0\n",
      "[\"user:  does this emoji sequence mean 'full auditorium'? answer yes or no. \", ' no.'] 0\n",
      "[\"user:  does this emoji sequence mean 'full attention'? answer yes or no. \", ' no.'] 0\n",
      "[\"user:  does this emoji sequence mean 'full attention'? answer yes or no. \", ' no'] 0\n",
      "[\"user:  does this emoji sequence mean 'full attention'? answer yes or no. \", ' no'] 0\n",
      "[\"user:  does this emoji sequence mean 'full attention'? answer yes or no. \", ' no'] 0\n",
      "[\"user:  does this emoji sequence mean 'full attention'? answer yes or no. \", ' no'] 0\n",
      "[\"user:  does this emoji sequence mean 'full attention'? answer yes or no. \", ' no'] 0\n",
      "[\"user:  does this emoji sequence mean 'full attention'? answer yes or no. \", ' no.'] 0\n",
      "[\"user:  does this emoji sequence mean 'full glass'? answer yes or no. \", ' no.'] 0\n",
      "[\"user:  does this emoji sequence mean 'full glass'? answer yes or no. \", ' no.'] 0\n",
      "[\"user:  does this emoji sequence mean 'full glass'? answer yes or no. \", ' no.'] 0\n",
      "[\"user:  does this emoji sequence mean 'full glass'? answer yes or no. \", ' no.'] 0\n",
      "[\"user:  does this emoji sequence mean 'full glass'? answer yes or no. \", ' no.'] 0\n",
      "[\"user:  does this emoji sequence mean 'full glass'? answer yes or no. \", ' no.'] 0\n",
      "[\"user:  does this emoji sequence mean 'full glass'? answer yes or no. \", ' no.'] 0\n",
      "[\"user:  does this emoji sequence mean 'full life'? answer yes or no. \", ' no.'] 0\n",
      "[\"user:  does this emoji sequence mean 'full life'? answer yes or no. \", ' no.'] 0\n",
      "[\"user:  does this emoji sequence mean 'full life'? answer yes or no. \", ' no.'] 0\n",
      "[\"user:  does this emoji sequence mean 'full life'? answer yes or no. \", ' no.'] 0\n",
      "[\"user:  does this emoji sequence mean 'full life'? answer yes or no. \", ' no.'] 0\n",
      "[\"user:  does this emoji sequence mean 'full life'? answer yes or no. \", ' no.'] 0\n",
      "[\"user:  does this emoji sequence mean 'full life'? answer yes or no. \", ' no.'] 0\n",
      "[\"user:  does this emoji sequence mean 'little boy'? answer yes or no. \", ' no.'] 0\n",
      "[\"user:  does this emoji sequence mean 'little boy'? answer yes or no. \", ' no.'] 0\n",
      "[\"user:  does this emoji sequence mean 'little boy'? answer yes or no. \", ' no.'] 0\n",
      "[\"user:  does this emoji sequence mean 'little boy'? answer yes or no. \", ' no.'] 0\n",
      "[\"user:  does this emoji sequence mean 'little boy'? answer yes or no. \", ' no.'] 0\n",
      "[\"user:  does this emoji sequence mean 'little boy'? answer yes or no. \", ' no.'] 0\n",
      "[\"user:  does this emoji sequence mean 'little boy'? answer yes or no. \", ' yes.'] 1\n",
      "[\"user:  does this emoji sequence mean 'little boy'? answer yes or no. \", ' yes.'] 1\n",
      "[\"user:  does this emoji sequence mean 'little man'? answer yes or no. \", ' no.'] 0\n",
      "[\"user:  does this emoji sequence mean 'little man'? answer yes or no. \", ' yes.'] 1\n",
      "[\"user:  does this emoji sequence mean 'little man'? answer yes or no. \", ' yes.'] 1\n",
      "[\"user:  does this emoji sequence mean 'little man'? answer yes or no. \", ' no.'] 0\n",
      "[\"user:  does this emoji sequence mean 'little man'? answer yes or no. \", ' no.'] 0\n",
      "[\"user:  does this emoji sequence mean 'little man'? answer yes or no. \", ' no.'] 0\n",
      "[\"user:  does this emoji sequence mean 'little man'? answer yes or no. \", ' no.'] 0\n",
      "[\"user:  does this emoji sequence mean 'little man'? answer yes or no. \", ' no.'] 0\n",
      "[\"user:  does this emoji sequence mean 'little house'? answer yes or no. \", ' no.'] 0\n",
      "[\"user:  does this emoji sequence mean 'little house'? answer yes or no. \", ' no.'] 0\n",
      "[\"user:  does this emoji sequence mean 'little house'? answer yes or no. \", ' no.'] 0\n",
      "[\"user:  does this emoji sequence mean 'little house'? answer yes or no. \", ' no.'] 0\n",
      "[\"user:  does this emoji sequence mean 'little house'? answer yes or no. \", ' no.'] 0\n",
      "[\"user:  does this emoji sequence mean 'little house'? answer yes or no. \", ' no.'] 0\n",
      "[\"user:  does this emoji sequence mean 'little house'? answer yes or no. \", ' no.'] 0\n",
      "[\"user:  does this emoji sequence mean 'little house'? answer yes or no. \", ' no.'] 0\n",
      "[\"user:  does this emoji sequence mean 'thin oil'? answer yes or no. \", ' no.'] 0\n",
      "[\"user:  does this emoji sequence mean 'thin oil'? answer yes or no. \", ' no.'] 0\n",
      "[\"user:  does this emoji sequence mean 'thin oil'? answer yes or no. \", ' no.'] 0\n",
      "[\"user:  does this emoji sequence mean 'thin oil'? answer yes or no. \", ' no.'] 0\n",
      "[\"user:  does this emoji sequence mean 'thin oil'? answer yes or no. \", ' no.'] 0\n",
      "[\"user:  does this emoji sequence mean 'thin oil'? answer yes or no. \", ' no.'] 0\n",
      "[\"user:  does this emoji sequence mean 'thin oil'? answer yes or no. \", ' no.'] 0\n",
      "[\"user:  does this emoji sequence mean 'thin oil'? answer yes or no. \", ' no.'] 0\n",
      "[\"user:  does this emoji sequence mean 'thin soup'? answer yes or no. \", ' no.'] 0\n",
      "[\"user:  does this emoji sequence mean 'thin soup'? answer yes or no. \", ' no.'] 0\n",
      "[\"user:  does this emoji sequence mean 'thin soup'? answer yes or no. \", ' no.'] 0\n",
      "[\"user:  does this emoji sequence mean 'thin soup'? answer yes or no. \", ' no.'] 0\n",
      "[\"user:  does this emoji sequence mean 'thin soup'? answer yes or no. \", ' no.'] 0\n",
      "[\"user:  does this emoji sequence mean 'thin soup'? answer yes or no. \", ' no.'] 0\n",
      "[\"user:  does this emoji sequence mean 'thin soup'? answer yes or no. \", ' no.'] 0\n",
      "[\"user:  does this emoji sequence mean 'thin soup'? answer yes or no. \", ' no.'] 0\n",
      "[\"user:  does this emoji sequence mean 'thin air'? answer yes or no. \", ' no.'] 0\n",
      "[\"user:  does this emoji sequence mean 'thin air'? answer yes or no. \", ' no.'] 0\n",
      "[\"user:  does this emoji sequence mean 'thin air'? answer yes or no. \", ' no.'] 0\n",
      "[\"user:  does this emoji sequence mean 'thin air'? answer yes or no. \", ' no.'] 0\n",
      "[\"user:  does this emoji sequence mean 'thin air'? answer yes or no. \", ' no.'] 0\n",
      "[\"user:  does this emoji sequence mean 'thin air'? answer yes or no. \", ' no.'] 0\n",
      "[\"user:  does this emoji sequence mean 'thin air'? answer yes or no. \", ' no.'] 0\n",
      "[\"user:  does this emoji sequence mean 'thin air'? answer yes or no. \", ' no.'] 0\n",
      "[\"user:  does this emoji sequence mean 'thin line'? answer yes or no. \", ' no.'] 0\n",
      "[\"user:  does this emoji sequence mean 'thin line'? answer yes or no. \", ' no'] 0\n",
      "[\"user:  does this emoji sequence mean 'thin line'? answer yes or no. \", ' no'] 0\n",
      "[\"user:  does this emoji sequence mean 'thin line'? answer yes or no. \", ' no'] 0\n",
      "[\"user:  does this emoji sequence mean 'thin line'? answer yes or no. \", ' no'] 0\n",
      "[\"user:  does this emoji sequence mean 'thin line'? answer yes or no. \", ' no'] 0\n",
      "[\"user:  does this emoji sequence mean 'thin line'? answer yes or no. \", ' no'] 0\n",
      "[\"user:  does this emoji sequence mean 'thin line'? answer yes or no. \", ' no'] 0\n",
      "[\"user:  does this emoji sequence mean 'ineffectual ruler'? answer yes or no. \", ' no.'] 0\n",
      "[\"user:  does this emoji sequence mean 'ineffectual ruler'? answer yes or no. \", ' no.'] 0\n",
      "[\"user:  does this emoji sequence mean 'ineffectual ruler'? answer yes or no. \", ' no.'] 0\n",
      "[\"user:  does this emoji sequence mean 'ineffectual ruler'? answer yes or no. \", ' no.'] 0\n",
      "[\"user:  does this emoji sequence mean 'ineffectual ruler'? answer yes or no. \", ' no.'] 0\n",
      "[\"user:  does this emoji sequence mean 'ineffectual ruler'? answer yes or no. \", ' no.'] 0\n",
      "[\"user:  does this emoji sequence mean 'ineffectual ruler'? answer yes or no. \", ' no.'] 0\n",
      "[\"user:  does this emoji sequence mean 'ineffectual ruler'? answer yes or no. \", ' no.'] 0\n",
      "[\"user:  does this emoji sequence mean 'ineffectual therapy'? answer yes or no. \", ' no.'] 0\n",
      "[\"user:  does this emoji sequence mean 'ineffectual therapy'? answer yes or no. \", ' no.'] 0\n",
      "[\"user:  does this emoji sequence mean 'ineffectual therapy'? answer yes or no. \", ' no.'] 0\n",
      "[\"user:  does this emoji sequence mean 'ineffectual therapy'? answer yes or no. \", ' no.'] 0\n",
      "[\"user:  does this emoji sequence mean 'ineffectual therapy'? answer yes or no. \", ' no.'] 0\n",
      "[\"user:  does this emoji sequence mean 'ineffectual therapy'? answer yes or no. \", ' no.'] 0\n",
      "[\"user:  does this emoji sequence mean 'ineffectual therapy'? answer yes or no. \", ' no.'] 0\n",
      "[\"user:  does this emoji sequence mean 'effective step'? answer yes or no. \", ' yes'] 1\n",
      "[\"user:  does this emoji sequence mean 'effective step'? answer yes or no. \", ' no.'] 0\n",
      "[\"user:  does this emoji sequence mean 'effective step'? answer yes or no. \", ' no'] 0\n",
      "[\"user:  does this emoji sequence mean 'effective step'? answer yes or no. \", ' no.'] 0\n",
      "[\"user:  does this emoji sequence mean 'effective step'? answer yes or no. \", ' no'] 0\n",
      "[\"user:  does this emoji sequence mean 'effective step'? answer yes or no. \", ' no.'] 0\n",
      "[\"user:  does this emoji sequence mean 'effective step'? answer yes or no. \", ' no.'] 0\n",
      "[\"user:  does this emoji sequence mean 'effective reprimand'? answer yes or no. \", ' no.'] 0\n",
      "[\"user:  does this emoji sequence mean 'effective reprimand'? answer yes or no. \", ' no.'] 0\n",
      "[\"user:  does this emoji sequence mean 'effective reprimand'? answer yes or no. \", ' no.'] 0\n",
      "[\"user:  does this emoji sequence mean 'effective reprimand'? answer yes or no. \", ' no.'] 0\n",
      "[\"user:  does this emoji sequence mean 'effective reprimand'? answer yes or no. \", ' no.'] 0\n",
      "[\"user:  does this emoji sequence mean 'effective reprimand'? answer yes or no. \", ' no.'] 0\n",
      "[\"user:  does this emoji sequence mean 'effective reprimand'? answer yes or no. \", ' no.'] 0\n",
      "[\"user:  does this emoji sequence mean 'effective reprimand'? answer yes or no. \", ' no.'] 0\n",
      "[\"user:  does this emoji sequence mean 'effective entrance'? answer yes or no. \", ' no.'] 0\n",
      "[\"user:  does this emoji sequence mean 'effective entrance'? answer yes or no. \", ' no.'] 0\n",
      "[\"user:  does this emoji sequence mean 'effective entrance'? answer yes or no. \", ' no.'] 0\n",
      "[\"user:  does this emoji sequence mean 'effective entrance'? answer yes or no. \", ' no.'] 0\n",
      "[\"user:  does this emoji sequence mean 'effective entrance'? answer yes or no. \", ' no.'] 0\n",
      "[\"user:  does this emoji sequence mean 'effective entrance'? answer yes or no. \", ' no.'] 0\n",
      "[\"user:  does this emoji sequence mean 'effective entrance'? answer yes or no. \", ' no.'] 0\n",
      "[\"user:  does this emoji sequence mean 'effective entrance'? answer yes or no. \", ' no.'] 0\n"
     ]
    }
   ],
   "source": [
    "predictions2 = []\n",
    "for text in cleaned_generated_texts[\"generated_text\"]:\n",
    "    parts = text.split(\"assistant:\")\n",
    "    assistant_response = parts[-1].strip() if len(parts) > 1 else text.strip()\n",
    "    prediction = 1 if \"yes\" in assistant_response.lower() else 0\n",
    "\n",
    "    print(parts, prediction)\n",
    "    predictions2.append(prediction)"
   ]
  },
  {
   "cell_type": "code",
   "execution_count": 34,
   "metadata": {},
   "outputs": [
    {
     "name": "stdout",
     "output_type": "stream",
     "text": [
      "Accuracy: 0.6734279918864098\n",
      "F1 Macro: 0.6447824783283882\n"
     ]
    }
   ],
   "source": [
    "from sklearn.metrics import accuracy_score, f1_score\n",
    "true_labels = cleaned_generated_texts[\"label\"]\n",
    "print(f\"Accuracy: {accuracy_score(true_labels, predictions2)}\")\n",
    "print(f\"F1 Macro: {f1_score(true_labels, predictions2, average='macro')}\")"
   ]
  },
  {
   "cell_type": "code",
   "execution_count": 35,
   "metadata": {},
   "outputs": [],
   "source": [
    "test_dataset = pd.read_csv(\"generated_img_dataset/test.csv\")\n"
   ]
  },
  {
   "cell_type": "code",
   "execution_count": 36,
   "metadata": {},
   "outputs": [],
   "source": [
    "test_dataset['predicted_label'] = predictions2\n",
    "test_dataset['generated_text'] = cleaned_generated_texts[\"generated_text\"]\n",
    "test_dataset.to_csv(\"results2.csv\", index=False)"
   ]
  }
 ],
 "metadata": {
  "kernelspec": {
   "display_name": "llava",
   "language": "python",
   "name": "python3"
  },
  "language_info": {
   "codemirror_mode": {
    "name": "ipython",
    "version": 3
   },
   "file_extension": ".py",
   "mimetype": "text/x-python",
   "name": "python",
   "nbconvert_exporter": "python",
   "pygments_lexer": "ipython3",
   "version": "3.10.16"
  }
 },
 "nbformat": 4,
 "nbformat_minor": 2
}
