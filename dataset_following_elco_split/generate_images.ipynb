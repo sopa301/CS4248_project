{
 "cells": [
  {
   "cell_type": "markdown",
   "metadata": {},
   "source": [
    "# Generates images for processing by the VLM\n",
    "Prereq for running this script: you need the datasets for the respective generators\n",
    "  \n",
    "Download and unzip google's emoji dataset here:\n",
    "* https://github.com/googlefonts/noto-emoji/\n",
    " \n",
    "Download and unzip twitter's emoji dataset here:\n",
    "* https://github.com/jdecked/twemoji/"
   ]
  },
  {
   "cell_type": "markdown",
   "metadata": {},
   "source": [
    "### Dependencies"
   ]
  },
  {
   "cell_type": "code",
   "execution_count": null,
   "metadata": {},
   "outputs": [],
   "source": [
    "import emoji\n",
    "import os\n",
    "import cv2\n",
    "import grapheme\n",
    "import numpy as np\n",
    "import shutil\n",
    "\n",
    "np.random.seed(0)"
   ]
  },
  {
   "cell_type": "code",
   "execution_count": null,
   "metadata": {},
   "outputs": [],
   "source": [
    "OUTPUT_SIZE = 224 # it's a square image\n",
    "MAX_EMOJIS_PER_ROW = 3\n",
    "MAX_EMOJI_SEQUENCE_LENGTH = MAX_EMOJIS_PER_ROW * MAX_EMOJIS_PER_ROW\n"
   ]
  },
  {
   "cell_type": "markdown",
   "metadata": {},
   "source": [
    "### Utility Functions"
   ]
  },
  {
   "cell_type": "code",
   "execution_count": null,
   "metadata": {},
   "outputs": [],
   "source": [
    "def emoji_str_from_description(desc_str):\n",
    "    desc_str = desc_str[8:-1]\n",
    "    desc_list = desc_str.split(' [EM] ')\n",
    "    return ''.join([emoji.emojize(f\":{desc}:\") for desc in desc_list])\n",
    "\n",
    "def get_png_image_from_local_repo(emoji, image_dir, filename_getter_fn, extension=\"png\"):\n",
    "  filename = filename_getter_fn(emoji, extension)\n",
    "  path = f'{image_dir}/{filename}'\n",
    "  if not os.path.exists(path):\n",
    "    print(f\"Couldn't find image for {emoji} at {path}\")\n",
    "    return None\n",
    "  img = cv2.imread(path, cv2.IMREAD_COLOR)  # Use only RGB channels\n",
    "  img_new_size = OUTPUT_SIZE // MAX_EMOJIS_PER_ROW\n",
    "  img = cv2.resize(img, (img_new_size, img_new_size))\n",
    "  return img\n",
    "\n",
    "def emoji_to_noto_filename(emoji, extension=\"png\"):\n",
    "    # Step 1: Get the Unicode code points of the emoji.\n",
    "    codepoints = [f\"U{ord(char):04X}\" for char in emoji]\n",
    "    # Step 2: Join the code points with underscores for ZWJ (Zero-Width Joiner) support.\n",
    "    # Replace the \"U\" prefix with a lowercase \"u\" and remove the \"+\" symbol.\n",
    "    file_name_parts = [f\"u{codepoints[0][1:].lower()}\"]  # First code point with \"u\"\n",
    "    for codepoint in codepoints[1:]:\n",
    "        str = codepoint[1:].lower()\n",
    "        if str == 'fe0f': # Remove the variation selector\n",
    "          continue\n",
    "        file_name_parts.append(codepoint[1:].lower())  # Following code points without \"u\"\n",
    "    \n",
    "    # Step 3: Construct the filename (e.g., emoji_u1f9cf_200d_2640.png)\n",
    "    file_name = \"_\".join(file_name_parts)\n",
    "    return f\"emoji_{file_name}.{extension}\""
   ]
  },
  {
   "cell_type": "code",
   "execution_count": 8,
   "metadata": {},
   "outputs": [
    {
     "data": {
      "text/plain": [
       "count    394.000000\n",
       "mean       2.715736\n",
       "std        1.058303\n",
       "min        1.000000\n",
       "25%        2.000000\n",
       "50%        2.000000\n",
       "75%        3.000000\n",
       "max        7.000000\n",
       "Name: length, dtype: float64"
      ]
     },
     "execution_count": 8,
     "metadata": {},
     "output_type": "execute_result"
    },
    {
     "data": {
      "image/png": "[encoded data removed]",
      "text/plain": [
       "<Figure size 640x480 with 1 Axes>"
      ]
     },
     "metadata": {},
     "output_type": "display_data"
    }
   ],
   "source": [
    "# # count the lengths and graph it\n",
    "# elco_df['length'] = elco_df['EM'].apply(lambda x: len(list(grapheme.graphemes(x))))\n",
    "# elco_df['length'].hist(bins=elco_df['length'].max())\n",
    "# elco_df['length'].describe()"
   ]
  },
  {
   "cell_type": "markdown",
   "metadata": {},
   "source": [
    "### Main method to generate image datasets"
   ]
  },
  {
   "cell_type": "code",
   "execution_count": null,
   "metadata": {},
   "outputs": [],
   "source": [
    "def generate_dataset(csv_file_path, local_image_dir, output_folder, filename_generator_fn, randomise=False):\n",
    "  df = pd.read_csv(csv_file_path)\n",
    "  df['EM'] = df['sent1'].apply(emoji_str_from_description)\n",
    "\n",
    "  if os.path.exists(output_folder):\n",
    "    # delete the directory\n",
    "    shutil.rmtree(output_folder)\n",
    "\n",
    "  os.makedirs(output_folder)\n",
    "\n",
    "  undone = 0\n",
    "\n",
    "  i = -1\n",
    "  for text in df['EM']:\n",
    "    i += 1\n",
    "    units = list(grapheme.graphemes(text))\n",
    "    units = [unit for unit in units if unit != ',' and unit != ' '] # don't ask me why they're there\n",
    "    if len(units) > MAX_EMOJI_SEQUENCE_LENGTH:\n",
    "      print(f\"Skipping {text} because it's too long\")\n",
    "      undone += 1\n",
    "      continue\n",
    "    \n",
    "    output_filename = f'{output_folder}/{i}.png'\n",
    "    \n",
    "    x = 0\n",
    "    y = 0\n",
    "    # Make a white image of size OUTPUT_SIZE x OUTPUT_SIZE\n",
    "    canvas = np.zeros((OUTPUT_SIZE, OUTPUT_SIZE, 3), dtype=np.uint8)  # RGB image\n",
    "    \n",
    "    img_new_size = OUTPUT_SIZE // MAX_EMOJIS_PER_ROW\n",
    "\n",
    "    if randomise:\n",
    "      while len(units) < MAX_EMOJI_SEQUENCE_LENGTH:\n",
    "        units.append(' ')\n",
    "      np.random.shuffle(units)\n",
    "\n",
    "    generated = True\n",
    "    # Generate the image\n",
    "    for j in range(len(units)):\n",
    "      unit = units[j]\n",
    "      if unit == ' ':\n",
    "        continue\n",
    "      img = get_png_image_from_local_repo(unit, local_image_dir, filename_generator_fn)\n",
    "      if img is None:\n",
    "        undone += 1\n",
    "        generated = False\n",
    "        break\n",
    "\n",
    "      # Ensure img is in RGB before placing it on the canvas\n",
    "      if img.shape[2] == 4:  # If the image is RGBA, convert it to RGB\n",
    "          img = img[..., :3]\n",
    "\n",
    "      # Write the img to canvas starting at x, y\n",
    "      x_pos = j % MAX_EMOJIS_PER_ROW\n",
    "      y_pos = j // MAX_EMOJIS_PER_ROW\n",
    "      x = x_pos * img_new_size\n",
    "      y = y_pos * img_new_size\n",
    "      canvas[y:y+img.shape[0], x:x+img.shape[1]] = img\n",
    "    \n",
    "    if generated:\n",
    "      cv2.imwrite(output_filename, canvas)\n",
    "  \n",
    "  print(f\"Undone: {undone}\")"
   ]
  },
  {
   "cell_type": "markdown",
   "metadata": {},
   "source": [
    "### Calling the main method for each split (val, test, train)"
   ]
  },
  {
   "cell_type": "code",
   "execution_count": null,
   "metadata": {},
   "outputs": [
    {
     "name": "stdout",
     "output_type": "stream",
     "text": [
      "Couldn't find image for 🇦🇽 at googlefonts-noto-emoji-main-png-512/emoji_u1f1e6_1f1fd.png\n",
      "Couldn't find image for 🇺🇸 at googlefonts-noto-emoji-main-png-512/emoji_u1f1fa_1f1f8.png\n",
      "Couldn't find image for 🇻🇪 at googlefonts-noto-emoji-main-png-512/emoji_u1f1fb_1f1ea.png\n",
      "Couldn't find image for 🇦🇽 at googlefonts-noto-emoji-main-png-512/emoji_u1f1e6_1f1fd.png\n",
      "Couldn't find image for 🇺🇸 at googlefonts-noto-emoji-main-png-512/emoji_u1f1fa_1f1f8.png\n",
      "Couldn't find image for 🇫🇷 at googlefonts-noto-emoji-main-png-512/emoji_u1f1eb_1f1f7.png\n",
      "Couldn't find image for 🇺🇳 at googlefonts-noto-emoji-main-png-512/emoji_u1f1fa_1f1f3.png\n",
      "Couldn't find image for 🇻🇪 at googlefonts-noto-emoji-main-png-512/emoji_u1f1fb_1f1ea.png\n",
      "Couldn't find image for 🇦🇫 at googlefonts-noto-emoji-main-png-512/emoji_u1f1e6_1f1eb.png\n",
      "Couldn't find image for 🇻🇪 at googlefonts-noto-emoji-main-png-512/emoji_u1f1fb_1f1ea.png\n",
      "Undone: 10\n",
      "Skipping 👬👬👬👬👬👬👬👬👬👬👬 because it's too long\n",
      "Couldn't find image for 🇷🇺 at googlefonts-noto-emoji-main-png-512/emoji_u1f1f7_1f1fa.png\n",
      "Skipping 🔥😐:pouting_face: because it's too long\n",
      "Skipping :pouting_face::pouting_face: because it's too long\n",
      "Skipping :pouting_face:😤🤬 because it's too long\n",
      "Skipping :pouting_face:😤 because it's too long\n",
      "Skipping 🔥:pouting_face: because it's too long\n",
      "Skipping :pouting_face:🤬 because it's too long\n",
      "Skipping :pouting_face:🤬🗣️ because it's too long\n",
      "Skipping 🤬💬:pouting_face: because it's too long\n",
      "Skipping 🧍‍♂️🧍‍♂️🧍‍♂️🧍‍♂️🧍‍♂️🧍‍♂️🧍‍♂️🧍‍♂️🧍‍♂️🕍 because it's too long\n",
      "Skipping :pouting_face:👮 because it's too long\n",
      "Skipping 🏰👑👎👎👎👬👭:pouting_face: because it's too long\n",
      "Skipping 👍😠:pouting_face:😤 because it's too long\n",
      "Skipping :pouting_face:👍 because it's too long\n",
      "Couldn't find image for 🇷🇺 at googlefonts-noto-emoji-main-png-512/emoji_u1f1f7_1f1fa.png\n",
      "Skipping :pouting_face:😤 because it's too long\n",
      "Skipping 🔥😐:pouting_face: because it's too long\n",
      "Skipping 🔥😐:pouting_face: because it's too long\n",
      "Skipping 🔥:pouting_face: because it's too long\n",
      "Skipping 🔥😐:pouting_face: because it's too long\n",
      "Skipping 🔥😐:pouting_face: because it's too long\n",
      "Skipping 🤬💬:pouting_face: because it's too long\n",
      "Skipping 🏰👑👎👎👎👬👭:pouting_face: because it's too long\n",
      "Skipping 👍😠:pouting_face:😤 because it's too long\n",
      "Undone: 25\n",
      "Skipping 🤬:pouting_face: because it's too long\n",
      "Couldn't find image for 🇦🇽 at googlefonts-noto-emoji-main-png-512/emoji_u1f1e6_1f1fd.png\n",
      "Skipping 📦📦📦📦📦📦📦📦📦✖️💯 because it's too long\n",
      "Skipping 🍏🍎🍐🍊🥔🍠🥐🥯🍞🫓🍑🥥🥝 because it's too long\n",
      "Skipping 🍏🍌🥐🌮🥪🥨🧀🥚🥞🥬🌶️🍢🧋🌰🍪🎂🥂🍨 because it's too long\n",
      "Skipping 💸🏦💵🪙💰💹🏧💲💳🤑 because it's too long\n",
      "Skipping 😑:pinata:🧸 because it's too long\n",
      "Couldn't find image for : at googlefonts-noto-emoji-main-png-512/emoji_u003a.png\n",
      "Skipping 😴🛌:zzz::zzz: because it's too long\n",
      "Couldn't find image for : at googlefonts-noto-emoji-main-png-512/emoji_u003a.png\n",
      "Skipping 😴😴:zzz::zzz: because it's too long\n",
      "Couldn't find image for 🇸🇬 at googlefonts-noto-emoji-main-png-512/emoji_u1f1f8_1f1ec.png\n",
      "Couldn't find image for : at googlefonts-noto-emoji-main-png-512/emoji_u003a.png\n",
      "Couldn't find image for 🇻🇪 at googlefonts-noto-emoji-main-png-512/emoji_u1f1fb_1f1ea.png\n",
      "Couldn't find image for 🇫🇷 at googlefonts-noto-emoji-main-png-512/emoji_u1f1eb_1f1f7.png\n",
      "Couldn't find image for 🇺🇳 at googlefonts-noto-emoji-main-png-512/emoji_u1f1fa_1f1f3.png\n",
      "Couldn't find image for 🇻🇪 at googlefonts-noto-emoji-main-png-512/emoji_u1f1fb_1f1ea.png\n",
      "Couldn't find image for 🇧🇱 at googlefonts-noto-emoji-main-png-512/emoji_u1f1e7_1f1f1.png\n",
      "Couldn't find image for 🇦🇫 at googlefonts-noto-emoji-main-png-512/emoji_u1f1e6_1f1eb.png\n",
      "Couldn't find image for 🇮🇴 at googlefonts-noto-emoji-main-png-512/emoji_u1f1ee_1f1f4.png\n",
      "Couldn't find image for 🇬🇧 at googlefonts-noto-emoji-main-png-512/emoji_u1f1ec_1f1e7.png\n",
      "Couldn't find image for 🇻🇪 at googlefonts-noto-emoji-main-png-512/emoji_u1f1fb_1f1ea.png\n",
      "Couldn't find image for 🇨🇿 at googlefonts-noto-emoji-main-png-512/emoji_u1f1e8_1f1ff.png\n",
      "Couldn't find image for 🇮🇴 at googlefonts-noto-emoji-main-png-512/emoji_u1f1ee_1f1f4.png\n",
      "Couldn't find image for 🇨🇳 at googlefonts-noto-emoji-main-png-512/emoji_u1f1e8_1f1f3.png\n",
      "Couldn't find image for 🇨🇳 at googlefonts-noto-emoji-main-png-512/emoji_u1f1e8_1f1f3.png\n",
      "Couldn't find image for 🇨🇳 at googlefonts-noto-emoji-main-png-512/emoji_u1f1e8_1f1f3.png\n",
      "Couldn't find image for 🇨🇳 at googlefonts-noto-emoji-main-png-512/emoji_u1f1e8_1f1f3.png\n",
      "Couldn't find image for 🇨🇳 at googlefonts-noto-emoji-main-png-512/emoji_u1f1e8_1f1f3.png\n",
      "Couldn't find image for 🇨🇳 at googlefonts-noto-emoji-main-png-512/emoji_u1f1e8_1f1f3.png\n",
      "Skipping :pouting_face:🧹😭 because it's too long\n",
      "Skipping 🤬:pouting_face: because it's too long\n",
      "Couldn't find image for 🇦🇽 at googlefonts-noto-emoji-main-png-512/emoji_u1f1e6_1f1fd.png\n",
      "Skipping 🍏🍌🥐🌮🥪🥨🧀🥚🥞🥬🌶️🍢🧋🌰🍪🎂🥂🍨 because it's too long\n",
      "Skipping 💸🏦💵🪙💰💹🏧💲💳🤑 because it's too long\n",
      "Skipping 👍😠:pouting_face:😤 because it's too long\n",
      "Skipping 👍😠:pouting_face:😤 because it's too long\n",
      "Skipping 😑:pinata:🧸 because it's too long\n",
      "Skipping 😑:pinata:🧸 because it's too long\n",
      "Skipping 😑:pinata:🧸 because it's too long\n",
      "Couldn't find image for : at googlefonts-noto-emoji-main-png-512/emoji_u003a.png\n",
      "Skipping 😴🛌:zzz::zzz: because it's too long\n",
      "Skipping 😴😴:zzz::zzz: because it's too long\n",
      "Couldn't find image for : at googlefonts-noto-emoji-main-png-512/emoji_u003a.png\n",
      "Couldn't find image for : at googlefonts-noto-emoji-main-png-512/emoji_u003a.png\n",
      "Couldn't find image for 🇻🇪 at googlefonts-noto-emoji-main-png-512/emoji_u1f1fb_1f1ea.png\n",
      "Couldn't find image for 🇨🇿 at googlefonts-noto-emoji-main-png-512/emoji_u1f1e8_1f1ff.png\n",
      "Couldn't find image for 🇨🇿 at googlefonts-noto-emoji-main-png-512/emoji_u1f1e8_1f1ff.png\n",
      "Couldn't find image for 🇨🇿 at googlefonts-noto-emoji-main-png-512/emoji_u1f1e8_1f1ff.png\n",
      "Couldn't find image for 🇮🇴 at googlefonts-noto-emoji-main-png-512/emoji_u1f1ee_1f1f4.png\n",
      "Couldn't find image for 🇬🇧 at googlefonts-noto-emoji-main-png-512/emoji_u1f1ec_1f1e7.png\n",
      "Couldn't find image for 🇫🇷 at googlefonts-noto-emoji-main-png-512/emoji_u1f1eb_1f1f7.png\n",
      "Couldn't find image for 🇨🇳 at googlefonts-noto-emoji-main-png-512/emoji_u1f1e8_1f1f3.png\n",
      "Couldn't find image for 🇨🇳 at googlefonts-noto-emoji-main-png-512/emoji_u1f1e8_1f1f3.png\n",
      "Couldn't find image for 🇨🇳 at googlefonts-noto-emoji-main-png-512/emoji_u1f1e8_1f1f3.png\n",
      "Couldn't find image for 🇨🇳 at googlefonts-noto-emoji-main-png-512/emoji_u1f1e8_1f1f3.png\n",
      "Couldn't find image for 🇨🇳 at googlefonts-noto-emoji-main-png-512/emoji_u1f1e8_1f1f3.png\n",
      "Undone: 57\n"
     ]
    }
   ],
   "source": [
    "output_folder = 'generated_img_dataset/google_dataset'\n",
    "local_image_dir = 'googlefonts-noto-emoji-main-png-512'\n",
    "\n",
    "\n",
    "datasets = {\n",
    "  'val': './original_ELCo_dataset/val.csv',\n",
    "  'test': './original_ELCo_dataset/test.csv',\n",
    "  'train': './original_ELCo_dataset/train.csv'\n",
    "}\n",
    "\n",
    "for dataset_name, csv_file_path in datasets.items():\n",
    "  output_folder = f'generated_img_dataset/{dataset_name}_google'\n",
    "  generate_dataset(csv_file_path, local_image_dir, output_folder, emoji_to_noto_filename, randomise=False)"
   ]
  }
 ],
 "metadata": {
  "kernelspec": {
   "display_name": ".venv",
   "language": "python",
   "name": "python3"
  },
  "language_info": {
   "codemirror_mode": {
    "name": "ipython",
    "version": 3
   },
   "file_extension": ".py",
   "mimetype": "text/x-python",
   "name": "python",
   "nbconvert_exporter": "python",
   "pygments_lexer": "ipython3",
   "version": "3.11.5"
  }
 },
 "nbformat": 4,
 "nbformat_minor": 2
}
