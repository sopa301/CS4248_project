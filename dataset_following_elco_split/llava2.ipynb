{
 "cells": [
  {
   "cell_type": "markdown",
   "metadata": {},
   "source": [
    "LLAVA case study"
   ]
  },
  {
   "cell_type": "code",
   "execution_count": 1,
   "metadata": {},
   "outputs": [
    {
     "name": "stderr",
     "output_type": "stream",
     "text": [
      "/home/andrew/anaconda3/envs/swin/lib/python3.11/site-packages/tqdm/auto.py:21: TqdmWarning: IProgress not found. Please update jupyter and ipywidgets. See https://ipywidgets.readthedocs.io/en/stable/user_install.html\n",
      "  from .autonotebook import tqdm as notebook_tqdm\n",
      "Loading checkpoint shards: 100%|██████████| 3/3 [00:05<00:00,  1.89s/it]\n",
      "Using a slow image processor as `use_fast` is unset and a slow processor was saved with this model. `use_fast=True` will be the default behavior in v4.48, even if the model was saved with a slow processor. This will result in minor differences in outputs. You'll still be able to use a slow processor with `use_fast=False`.\n"
     ]
    }
   ],
   "source": [
    "# Load model directly\n",
    "from transformers import AutoProcessor, AutoModelForImageTextToText, Trainer, TrainingArguments\n",
    "from transformers import AutoModelForCausalLM, AutoTokenizer\n",
    "from transformers import LlavaForConditionalGeneration\n",
    "import torch\n",
    "from sklearn.metrics import accuracy_score, f1_score\n",
    "import pandas as pd\n",
    "from PIL import Image\n",
    "from torch.amp import autocast\n",
    "import os\n",
    "os.environ[\"CUDA_VISIBLE_DEVICES\"] = \"4,5,6,7\"\n",
    "# device = \"cuda\"\n",
    "model_name = \"llava-hf/llava-1.5-7b-hf\"\n",
    "\n",
    "model = LlavaForConditionalGeneration.from_pretrained(\n",
    "    model_name, \n",
    "    device_map=\"auto\",\n",
    "    torch_dtype=torch.float16, \n",
    "    low_cpu_mem_usage=True, \n",
    ")\n",
    "\n",
    "processor = AutoProcessor.from_pretrained(\"llava-hf/llava-1.5-7b-hf\")"
   ]
  },
  {
   "cell_type": "markdown",
   "metadata": {},
   "source": [
    "load dataset"
   ]
  },
  {
   "cell_type": "code",
   "execution_count": 2,
   "metadata": {},
   "outputs": [],
   "source": [
    "train_dataset = pd.read_csv(\"generated_img_dataset/train.csv\")\n",
    "valid_dataset = pd.read_csv(\"generated_img_dataset/val.csv\")\n",
    "test_dataset = pd.read_csv(\"generated_img_dataset/test.csv\")"
   ]
  },
  {
   "cell_type": "code",
   "execution_count": 3,
   "metadata": {},
   "outputs": [
    {
     "data": {
      "text/html": [
       "<div>\n",
       "<style scoped>\n",
       "    .dataframe tbody tr th:only-of-type {\n",
       "        vertical-align: middle;\n",
       "    }\n",
       "\n",
       "    .dataframe tbody tr th {\n",
       "        vertical-align: top;\n",
       "    }\n",
       "\n",
       "    .dataframe thead th {\n",
       "        text-align: right;\n",
       "    }\n",
       "</style>\n",
       "<table border=\"1\" class=\"dataframe\">\n",
       "  <thead>\n",
       "    <tr style=\"text-align: right;\">\n",
       "      <th></th>\n",
       "      <th>EM</th>\n",
       "      <th>EN</th>\n",
       "      <th>unicode</th>\n",
       "      <th>label</th>\n",
       "      <th>strategy</th>\n",
       "      <th>image</th>\n",
       "    </tr>\n",
       "  </thead>\n",
       "  <tbody>\n",
       "    <tr>\n",
       "      <th>0</th>\n",
       "      <td>👔📈</td>\n",
       "      <td>big business</td>\n",
       "      <td>U+1F454 U+1F4C8</td>\n",
       "      <td>1</td>\n",
       "      <td>1</td>\n",
       "      <td>./generated_img_dataset/test_google/0.png</td>\n",
       "    </tr>\n",
       "    <tr>\n",
       "      <th>1</th>\n",
       "      <td>🏢🤑🤑</td>\n",
       "      <td>big business</td>\n",
       "      <td>U+1F3E2 U+1F911 U+1F911</td>\n",
       "      <td>1</td>\n",
       "      <td>1</td>\n",
       "      <td>./generated_img_dataset/test_google/1.png</td>\n",
       "    </tr>\n",
       "    <tr>\n",
       "      <th>2</th>\n",
       "      <td>👨‍💻🤝</td>\n",
       "      <td>big business</td>\n",
       "      <td>U+1F468 U+200D U+1F4BB U+1F91D</td>\n",
       "      <td>1</td>\n",
       "      <td>1</td>\n",
       "      <td>./generated_img_dataset/test_google/2.png</td>\n",
       "    </tr>\n",
       "    <tr>\n",
       "      <th>3</th>\n",
       "      <td>🏢🧑‍🤝‍🧑🧑‍🤝‍🧑🧑‍🤝‍🧑</td>\n",
       "      <td>big business</td>\n",
       "      <td>U+1F3E2 U+1F9D1 U+200D U+1F91D U+200D U+1F9D1 ...</td>\n",
       "      <td>1</td>\n",
       "      <td>1</td>\n",
       "      <td>./generated_img_dataset/test_google/3.png</td>\n",
       "    </tr>\n",
       "    <tr>\n",
       "      <th>4</th>\n",
       "      <td>👩‍💻🤑</td>\n",
       "      <td>big business</td>\n",
       "      <td>U+1F469 U+200D U+1F4BB U+1F911</td>\n",
       "      <td>1</td>\n",
       "      <td>1</td>\n",
       "      <td>./generated_img_dataset/test_google/4.png</td>\n",
       "    </tr>\n",
       "    <tr>\n",
       "      <th>...</th>\n",
       "      <td>...</td>\n",
       "      <td>...</td>\n",
       "      <td>...</td>\n",
       "      <td>...</td>\n",
       "      <td>...</td>\n",
       "      <td>...</td>\n",
       "    </tr>\n",
       "    <tr>\n",
       "      <th>513</th>\n",
       "      <td>👍👣</td>\n",
       "      <td>effective entrance</td>\n",
       "      <td>U+1F44D U+1F463</td>\n",
       "      <td>0</td>\n",
       "      <td>6</td>\n",
       "      <td>./generated_img_dataset/test_google/513.png</td>\n",
       "    </tr>\n",
       "    <tr>\n",
       "      <th>514</th>\n",
       "      <td>👏🪜</td>\n",
       "      <td>effective entrance</td>\n",
       "      <td>U+1F44F U+1FA9C</td>\n",
       "      <td>0</td>\n",
       "      <td>6</td>\n",
       "      <td>./generated_img_dataset/test_google/514.png</td>\n",
       "    </tr>\n",
       "    <tr>\n",
       "      <th>515</th>\n",
       "      <td>😤🗣️💬</td>\n",
       "      <td>effective entrance</td>\n",
       "      <td>U+1F624 U+1F5E3 U+FE0F U+1F4AC</td>\n",
       "      <td>0</td>\n",
       "      <td>6</td>\n",
       "      <td>./generated_img_dataset/test_google/515.png</td>\n",
       "    </tr>\n",
       "    <tr>\n",
       "      <th>516</th>\n",
       "      <td>💨🤬</td>\n",
       "      <td>effective entrance</td>\n",
       "      <td>U+1F4A8 U+1F92C</td>\n",
       "      <td>0</td>\n",
       "      <td>6</td>\n",
       "      <td>./generated_img_dataset/test_google/516.png</td>\n",
       "    </tr>\n",
       "    <tr>\n",
       "      <th>517</th>\n",
       "      <td>👍👣➡️</td>\n",
       "      <td>effective entrance</td>\n",
       "      <td>U+1F44D U+1F463 U+27A1 U+FE0F</td>\n",
       "      <td>0</td>\n",
       "      <td>6</td>\n",
       "      <td>./generated_img_dataset/test_google/517.png</td>\n",
       "    </tr>\n",
       "  </tbody>\n",
       "</table>\n",
       "<p>518 rows × 6 columns</p>\n",
       "</div>"
      ],
      "text/plain": [
       "                   EM                  EN  \\\n",
       "0                  👔📈        big business   \n",
       "1                 🏢🤑🤑        big business   \n",
       "2                👨‍💻🤝        big business   \n",
       "3    🏢🧑‍🤝‍🧑🧑‍🤝‍🧑🧑‍🤝‍🧑        big business   \n",
       "4                👩‍💻🤑        big business   \n",
       "..                ...                 ...   \n",
       "513                👍👣  effective entrance   \n",
       "514                👏🪜  effective entrance   \n",
       "515              😤🗣️💬  effective entrance   \n",
       "516                💨🤬  effective entrance   \n",
       "517              👍👣➡️  effective entrance   \n",
       "\n",
       "                                               unicode  label  strategy  \\\n",
       "0                                      U+1F454 U+1F4C8      1         1   \n",
       "1                              U+1F3E2 U+1F911 U+1F911      1         1   \n",
       "2                       U+1F468 U+200D U+1F4BB U+1F91D      1         1   \n",
       "3    U+1F3E2 U+1F9D1 U+200D U+1F91D U+200D U+1F9D1 ...      1         1   \n",
       "4                       U+1F469 U+200D U+1F4BB U+1F911      1         1   \n",
       "..                                                 ...    ...       ...   \n",
       "513                                    U+1F44D U+1F463      0         6   \n",
       "514                                    U+1F44F U+1FA9C      0         6   \n",
       "515                     U+1F624 U+1F5E3 U+FE0F U+1F4AC      0         6   \n",
       "516                                    U+1F4A8 U+1F92C      0         6   \n",
       "517                      U+1F44D U+1F463 U+27A1 U+FE0F      0         6   \n",
       "\n",
       "                                           image  \n",
       "0      ./generated_img_dataset/test_google/0.png  \n",
       "1      ./generated_img_dataset/test_google/1.png  \n",
       "2      ./generated_img_dataset/test_google/2.png  \n",
       "3      ./generated_img_dataset/test_google/3.png  \n",
       "4      ./generated_img_dataset/test_google/4.png  \n",
       "..                                           ...  \n",
       "513  ./generated_img_dataset/test_google/513.png  \n",
       "514  ./generated_img_dataset/test_google/514.png  \n",
       "515  ./generated_img_dataset/test_google/515.png  \n",
       "516  ./generated_img_dataset/test_google/516.png  \n",
       "517  ./generated_img_dataset/test_google/517.png  \n",
       "\n",
       "[518 rows x 6 columns]"
      ]
     },
     "execution_count": 3,
     "metadata": {},
     "output_type": "execute_result"
    }
   ],
   "source": [
    "test_dataset"
   ]
  },
  {
   "cell_type": "code",
   "execution_count": 4,
   "metadata": {},
   "outputs": [
    {
     "name": "stdout",
     "output_type": "stream",
     "text": [
      "Starting prediction with batch size 8 on device ...\n"
     ]
    },
    {
     "name": "stderr",
     "output_type": "stream",
     "text": [
      "Processing Batches:   0%|          | 0/65 [00:00<?, ?it/s]Asking to truncate to max_length but no maximum length is provided and the model has no predefined maximum length. Default to no truncation.\n",
      "/home/andrew/anaconda3/envs/swin/lib/python3.11/site-packages/transformers/generation/utils.py:2105: UserWarning: You are calling .generate() with the `input_ids` being on a device type different than your model's device. `input_ids` is on cpu, whereas the model is on cuda. You may experience unexpected behaviors or slower generation. Please make sure that you have put `input_ids` to the correct device by calling for example input_ids = input_ids.to('cuda') before running `.generate()`.\n",
      "  warnings.warn(\n",
      "Processing Batches:   2%|▏         | 1/65 [00:17<18:38, 17.48s/it]"
     ]
    },
    {
     "name": "stdout",
     "output_type": "stream",
     "text": [
      "Batch starting row 0: EN = big business -> Prediction: 1, Generated: user:  \n",
      "does this emoji sequence mean 'big business'? answer yes or no. assistant: yes....\n"
     ]
    },
    {
     "name": "stderr",
     "output_type": "stream",
     "text": [
      "Processing Batches:   3%|▎         | 2/65 [00:20<09:35,  9.14s/it]"
     ]
    },
    {
     "name": "stdout",
     "output_type": "stream",
     "text": [
      "Batch starting row 8: EN = big expenditure -> Prediction: 1, Generated: user:  \n",
      "does this emoji sequence mean 'big expenditure'? answer yes or no. assistant: yes....\n"
     ]
    },
    {
     "name": "stderr",
     "output_type": "stream",
     "text": [
      "Processing Batches:   5%|▍         | 3/65 [00:24<06:41,  6.47s/it]"
     ]
    },
    {
     "name": "stdout",
     "output_type": "stream",
     "text": [
      "Batch starting row 16: EN = big voice -> Prediction: 1, Generated: user:  \n",
      "does this emoji sequence mean 'big voice'? answer yes or no. assistant: yes....\n",
      "Warning: Error loading image ./generated_img_dataset/test_google/26.png for index 26: [Errno 2] No such file or directory: './generated_img_dataset/test_google/26.png'. Skipping this sample.\n"
     ]
    },
    {
     "name": "stderr",
     "output_type": "stream",
     "text": [
      "Processing Batches:   6%|▌         | 4/65 [00:27<05:11,  5.11s/it]"
     ]
    },
    {
     "name": "stdout",
     "output_type": "stream",
     "text": [
      "Batch starting row 24: EN = big group -> Prediction: 1, Generated: user:  \n",
      "does this emoji sequence mean 'big group'? answer yes or no. assistant: yes....\n"
     ]
    },
    {
     "name": "stderr",
     "output_type": "stream",
     "text": [
      "Processing Batches:   8%|▊         | 5/65 [00:30<04:25,  4.42s/it]"
     ]
    },
    {
     "name": "stdout",
     "output_type": "stream",
     "text": [
      "Batch starting row 32: EN = big man -> Prediction: 0, Generated: user:  \n",
      "does this emoji sequence mean 'big man'? answer yes or no. assistant: no....\n",
      "Warning: Error loading image ./generated_img_dataset/test_google/42.png for index 42: [Errno 2] No such file or directory: './generated_img_dataset/test_google/42.png'. Skipping this sample.\n"
     ]
    },
    {
     "name": "stderr",
     "output_type": "stream",
     "text": [
      "Processing Batches:   9%|▉         | 6/65 [00:33<03:52,  3.94s/it]"
     ]
    },
    {
     "name": "stdout",
     "output_type": "stream",
     "text": [
      "Batch starting row 40: EN = big city -> Prediction: 1, Generated: user:  \n",
      "does this emoji sequence mean 'big city'? answer yes or no. assistant: yes....\n"
     ]
    },
    {
     "name": "stderr",
     "output_type": "stream",
     "text": [
      "Processing Batches:  11%|█         | 7/65 [00:36<03:34,  3.69s/it]"
     ]
    },
    {
     "name": "stdout",
     "output_type": "stream",
     "text": [
      "Batch starting row 48: EN = big tipper -> Prediction: 0, Generated: user:  \n",
      "does this emoji sequence mean 'big tipper'? answer yes or no. assistant: no....\n"
     ]
    },
    {
     "name": "stderr",
     "output_type": "stream",
     "text": [
      "Processing Batches:  12%|█▏        | 8/65 [00:39<03:23,  3.57s/it]"
     ]
    },
    {
     "name": "stdout",
     "output_type": "stream",
     "text": [
      "Batch starting row 56: EN = big day -> Prediction: 1, Generated: user:  \n",
      "does this emoji sequence mean 'big day'? answer yes or no. assistant: yes....\n"
     ]
    },
    {
     "name": "stderr",
     "output_type": "stream",
     "text": [
      "Processing Batches:  14%|█▍        | 9/65 [00:42<03:11,  3.42s/it]"
     ]
    },
    {
     "name": "stdout",
     "output_type": "stream",
     "text": [
      "Batch starting row 64: EN = hot doll -> Prediction: 0, Generated: user:  \n",
      "does this emoji sequence mean 'hot doll'? answer yes or no. assistant: no....\n"
     ]
    },
    {
     "name": "stderr",
     "output_type": "stream",
     "text": [
      "Processing Batches:  15%|█▌        | 10/65 [00:46<03:06,  3.38s/it]"
     ]
    },
    {
     "name": "stdout",
     "output_type": "stream",
     "text": [
      "Batch starting row 72: EN = hot water -> Prediction: 1, Generated: user:  \n",
      "does this emoji sequence mean 'hot water'? answer yes or no. assistant: yes....\n"
     ]
    },
    {
     "name": "stderr",
     "output_type": "stream",
     "text": [
      "Processing Batches:  17%|█▋        | 11/65 [00:49<03:01,  3.36s/it]"
     ]
    },
    {
     "name": "stdout",
     "output_type": "stream",
     "text": [
      "Batch starting row 80: EN = hot stove -> Prediction: 1, Generated: user:  \n",
      "does this emoji sequence mean 'hot stove'? answer yes or no. assistant: yes....\n"
     ]
    },
    {
     "name": "stderr",
     "output_type": "stream",
     "text": [
      "Processing Batches:  18%|█▊        | 12/65 [00:52<02:57,  3.34s/it]"
     ]
    },
    {
     "name": "stdout",
     "output_type": "stream",
     "text": [
      "Batch starting row 88: EN = hot topic -> Prediction: 0, Generated: user:  \n",
      "does this emoji sequence mean 'hot topic'? answer yes or no. assistant: no....\n"
     ]
    },
    {
     "name": "stderr",
     "output_type": "stream",
     "text": [
      "Processing Batches:  20%|██        | 13/65 [00:56<02:53,  3.33s/it]"
     ]
    },
    {
     "name": "stdout",
     "output_type": "stream",
     "text": [
      "Batch starting row 96: EN = hot merchandise -> Prediction: 0, Generated: user:  \n",
      "does this emoji sequence mean 'hot merchandise'? answer yes or no. assistant: no....\n",
      "Warning: Error loading image ./generated_img_dataset/test_google/104.png for index 104: [Errno 2] No such file or directory: './generated_img_dataset/test_google/104.png'. Skipping this sample.\n",
      "Warning: Error loading image ./generated_img_dataset/test_google/106.png for index 106: [Errno 2] No such file or directory: './generated_img_dataset/test_google/106.png'. Skipping this sample.\n",
      "Warning: Error loading image ./generated_img_dataset/test_google/107.png for index 107: [Errno 2] No such file or directory: './generated_img_dataset/test_google/107.png'. Skipping this sample.\n",
      "Warning: Error loading image ./generated_img_dataset/test_google/108.png for index 108: [Errno 2] No such file or directory: './generated_img_dataset/test_google/108.png'. Skipping this sample.\n",
      "Warning: Error loading image ./generated_img_dataset/test_google/109.png for index 109: [Errno 2] No such file or directory: './generated_img_dataset/test_google/109.png'. Skipping this sample.\n",
      "Warning: Error loading image ./generated_img_dataset/test_google/111.png for index 111: [Errno 2] No such file or directory: './generated_img_dataset/test_google/111.png'. Skipping this sample.\n"
     ]
    },
    {
     "name": "stderr",
     "output_type": "stream",
     "text": [
      "Processing Batches:  22%|██▏       | 14/65 [00:57<02:18,  2.72s/it]"
     ]
    },
    {
     "name": "stdout",
     "output_type": "stream",
     "text": [
      "Batch starting row 104: EN = hot temper -> Prediction: 0, Generated: <SKIPPED_OR_ERROR>...\n",
      "Warning: Error loading image ./generated_img_dataset/test_google/114.png for index 114: [Errno 2] No such file or directory: './generated_img_dataset/test_google/114.png'. Skipping this sample.\n",
      "Warning: Error loading image ./generated_img_dataset/test_google/116.png for index 116: [Errno 2] No such file or directory: './generated_img_dataset/test_google/116.png'. Skipping this sample.\n"
     ]
    },
    {
     "name": "stderr",
     "output_type": "stream",
     "text": [
      "Processing Batches:  23%|██▎       | 15/65 [01:00<02:16,  2.72s/it]"
     ]
    },
    {
     "name": "stdout",
     "output_type": "stream",
     "text": [
      "Batch starting row 112: EN = hot argument -> Prediction: 0, Generated: user:  \n",
      "does this emoji sequence mean 'hot argument'? answer yes or no. assistant: no....\n"
     ]
    },
    {
     "name": "stderr",
     "output_type": "stream",
     "text": [
      "Processing Batches:  25%|██▍       | 16/65 [01:03<02:22,  2.91s/it]"
     ]
    },
    {
     "name": "stdout",
     "output_type": "stream",
     "text": [
      "Batch starting row 120: EN = hot forehead -> Prediction: 0, Generated: user:  \n",
      "does this emoji sequence mean 'hot forehead'? answer yes or no. assistant: no....\n"
     ]
    },
    {
     "name": "stderr",
     "output_type": "stream",
     "text": [
      "Processing Batches:  26%|██▌       | 17/65 [01:06<02:28,  3.09s/it]"
     ]
    },
    {
     "name": "stdout",
     "output_type": "stream",
     "text": [
      "Batch starting row 128: EN = full game -> Prediction: 0, Generated: user:  \n",
      "does this emoji sequence mean 'full game'? answer yes or no. assistant: no....\n",
      "Warning: Error loading image ./generated_img_dataset/test_google/136.png for index 136: [Errno 2] No such file or directory: './generated_img_dataset/test_google/136.png'. Skipping this sample.\n"
     ]
    },
    {
     "name": "stderr",
     "output_type": "stream",
     "text": [
      "Processing Batches:  28%|██▊       | 18/65 [01:10<02:26,  3.12s/it]"
     ]
    },
    {
     "name": "stdout",
     "output_type": "stream",
     "text": [
      "Batch starting row 136: EN = full auditorium -> Prediction: 0, Generated: <SKIPPED_OR_ERROR>...\n"
     ]
    },
    {
     "name": "stderr",
     "output_type": "stream",
     "text": [
      "Processing Batches:  29%|██▉       | 19/65 [01:13<02:25,  3.17s/it]"
     ]
    },
    {
     "name": "stdout",
     "output_type": "stream",
     "text": [
      "Batch starting row 144: EN = full attention -> Prediction: 0, Generated: user:  \n",
      "does this emoji sequence mean 'full attention'? answer yes or no. assistant: no....\n"
     ]
    },
    {
     "name": "stderr",
     "output_type": "stream",
     "text": [
      "Processing Batches:  31%|███       | 20/65 [01:16<02:23,  3.19s/it]"
     ]
    },
    {
     "name": "stdout",
     "output_type": "stream",
     "text": [
      "Batch starting row 152: EN = full glass -> Prediction: 1, Generated: user:  \n",
      "does this emoji sequence mean 'full glass'? answer yes or no. assistant: yes....\n"
     ]
    },
    {
     "name": "stderr",
     "output_type": "stream",
     "text": [
      "Processing Batches:  32%|███▏      | 21/65 [01:19<02:19,  3.17s/it]"
     ]
    },
    {
     "name": "stdout",
     "output_type": "stream",
     "text": [
      "Batch starting row 160: EN = full life -> Prediction: 0, Generated: user:  \n",
      "does this emoji sequence mean 'full life'? answer yes or no. assistant: no....\n"
     ]
    },
    {
     "name": "stderr",
     "output_type": "stream",
     "text": [
      "Processing Batches:  34%|███▍      | 22/65 [01:23<02:17,  3.20s/it]"
     ]
    },
    {
     "name": "stdout",
     "output_type": "stream",
     "text": [
      "Batch starting row 168: EN = little boy -> Prediction: 1, Generated: user:  \n",
      "does this emoji sequence mean 'little boy'? answer yes or no. assistant: yes....\n"
     ]
    },
    {
     "name": "stderr",
     "output_type": "stream",
     "text": [
      "Processing Batches:  35%|███▌      | 23/65 [01:26<02:14,  3.21s/it]"
     ]
    },
    {
     "name": "stdout",
     "output_type": "stream",
     "text": [
      "Batch starting row 176: EN = little man -> Prediction: 1, Generated: user:  \n",
      "does this emoji sequence mean 'little man'? answer yes or no. assistant: yes....\n"
     ]
    },
    {
     "name": "stderr",
     "output_type": "stream",
     "text": [
      "Processing Batches:  37%|███▋      | 24/65 [01:29<02:11,  3.22s/it]"
     ]
    },
    {
     "name": "stdout",
     "output_type": "stream",
     "text": [
      "Batch starting row 184: EN = little house -> Prediction: 1, Generated: user:  \n",
      "does this emoji sequence mean 'little house'? answer yes or no. assistant: yes....\n"
     ]
    },
    {
     "name": "stderr",
     "output_type": "stream",
     "text": [
      "Processing Batches:  38%|███▊      | 25/65 [01:32<02:09,  3.23s/it]"
     ]
    },
    {
     "name": "stdout",
     "output_type": "stream",
     "text": [
      "Batch starting row 192: EN = thin oil -> Prediction: 0, Generated: user:  \n",
      "does this emoji sequence mean 'thin oil'? answer yes or no. assistant: no....\n"
     ]
    },
    {
     "name": "stderr",
     "output_type": "stream",
     "text": [
      "Processing Batches:  40%|████      | 26/65 [01:36<02:05,  3.23s/it]"
     ]
    },
    {
     "name": "stdout",
     "output_type": "stream",
     "text": [
      "Batch starting row 200: EN = thin soup -> Prediction: 1, Generated: user:  \n",
      "does this emoji sequence mean 'thin soup'? answer yes or no. assistant: yes....\n"
     ]
    },
    {
     "name": "stderr",
     "output_type": "stream",
     "text": [
      "Processing Batches:  42%|████▏     | 27/65 [01:39<02:02,  3.22s/it]"
     ]
    },
    {
     "name": "stdout",
     "output_type": "stream",
     "text": [
      "Batch starting row 208: EN = thin air -> Prediction: 0, Generated: user:  \n",
      "does this emoji sequence mean 'thin air'? answer yes or no. assistant: no....\n"
     ]
    },
    {
     "name": "stderr",
     "output_type": "stream",
     "text": [
      "Processing Batches:  43%|████▎     | 28/65 [01:42<02:01,  3.28s/it]"
     ]
    },
    {
     "name": "stdout",
     "output_type": "stream",
     "text": [
      "Batch starting row 216: EN = thin line -> Prediction: 0, Generated: user:  \n",
      "does this emoji sequence mean 'thin line'? answer yes or no. assistant: no....\n",
      "Warning: Error loading image ./generated_img_dataset/test_google/224.png for index 224: [Errno 2] No such file or directory: './generated_img_dataset/test_google/224.png'. Skipping this sample.\n",
      "Warning: Error loading image ./generated_img_dataset/test_google/225.png for index 225: [Errno 2] No such file or directory: './generated_img_dataset/test_google/225.png'. Skipping this sample.\n"
     ]
    },
    {
     "name": "stderr",
     "output_type": "stream",
     "text": [
      "Processing Batches:  45%|████▍     | 29/65 [01:45<01:51,  3.09s/it]"
     ]
    },
    {
     "name": "stdout",
     "output_type": "stream",
     "text": [
      "Batch starting row 224: EN = ineffectual ruler -> Prediction: 0, Generated: <SKIPPED_OR_ERROR>...\n"
     ]
    },
    {
     "name": "stderr",
     "output_type": "stream",
     "text": [
      "Processing Batches:  46%|████▌     | 30/65 [01:48<01:52,  3.20s/it]"
     ]
    },
    {
     "name": "stdout",
     "output_type": "stream",
     "text": [
      "Batch starting row 232: EN = ineffectual therapy -> Prediction: 0, Generated: user:  \n",
      "does this emoji sequence mean 'ineffectual therapy'? answer yes or no. assistant: no....\n",
      "Warning: Error loading image ./generated_img_dataset/test_google/246.png for index 246: [Errno 2] No such file or directory: './generated_img_dataset/test_google/246.png'. Skipping this sample.\n"
     ]
    },
    {
     "name": "stderr",
     "output_type": "stream",
     "text": [
      "Processing Batches:  48%|████▊     | 31/65 [01:51<01:48,  3.19s/it]"
     ]
    },
    {
     "name": "stdout",
     "output_type": "stream",
     "text": [
      "Batch starting row 240: EN = effective step -> Prediction: 0, Generated: user:  \n",
      "does this emoji sequence mean 'effective step'? answer yes or no. assistant: no....\n",
      "Warning: Error loading image ./generated_img_dataset/test_google/248.png for index 248: [Errno 2] No such file or directory: './generated_img_dataset/test_google/248.png'. Skipping this sample.\n"
     ]
    },
    {
     "name": "stderr",
     "output_type": "stream",
     "text": [
      "Processing Batches:  49%|████▉     | 32/65 [01:55<01:44,  3.18s/it]"
     ]
    },
    {
     "name": "stdout",
     "output_type": "stream",
     "text": [
      "Batch starting row 248: EN = effective reprimand -> Prediction: 0, Generated: <SKIPPED_OR_ERROR>...\n"
     ]
    },
    {
     "name": "stderr",
     "output_type": "stream",
     "text": [
      "Processing Batches:  51%|█████     | 33/65 [01:58<01:43,  3.25s/it]"
     ]
    },
    {
     "name": "stdout",
     "output_type": "stream",
     "text": [
      "Batch starting row 256: EN = effective entrance -> Prediction: 0, Generated: user:  \n",
      "does this emoji sequence mean 'effective entrance'? answer yes or no. assistant: no....\n"
     ]
    },
    {
     "name": "stderr",
     "output_type": "stream",
     "text": [
      "Processing Batches:  52%|█████▏    | 34/65 [02:01<01:42,  3.31s/it]"
     ]
    },
    {
     "name": "stdout",
     "output_type": "stream",
     "text": [
      "Batch starting row 264: EN = big business -> Prediction: 0, Generated: user:  \n",
      "does this emoji sequence mean 'big business'? answer yes or no. assistant: no....\n"
     ]
    },
    {
     "name": "stderr",
     "output_type": "stream",
     "text": [
      "Processing Batches:  54%|█████▍    | 35/65 [02:05<01:40,  3.36s/it]"
     ]
    },
    {
     "name": "stdout",
     "output_type": "stream",
     "text": [
      "Batch starting row 272: EN = big expenditure -> Prediction: 0, Generated: user:  \n",
      "does this emoji sequence mean 'big expenditure'? answer yes or no. assistant: no....\n"
     ]
    },
    {
     "name": "stderr",
     "output_type": "stream",
     "text": [
      "Processing Batches:  55%|█████▌    | 36/65 [02:08<01:35,  3.31s/it]"
     ]
    },
    {
     "name": "stdout",
     "output_type": "stream",
     "text": [
      "Batch starting row 280: EN = big voice -> Prediction: 0, Generated: user:  \n",
      "does this emoji sequence mean 'big voice'? answer yes or no. assistant: no....\n",
      "Warning: Error loading image ./generated_img_dataset/test_google/292.png for index 292: [Errno 2] No such file or directory: './generated_img_dataset/test_google/292.png'. Skipping this sample.\n"
     ]
    },
    {
     "name": "stderr",
     "output_type": "stream",
     "text": [
      "Processing Batches:  57%|█████▋    | 37/65 [02:11<01:29,  3.20s/it]"
     ]
    },
    {
     "name": "stdout",
     "output_type": "stream",
     "text": [
      "Batch starting row 288: EN = big group -> Prediction: 0, Generated: user:  \n",
      "does this emoji sequence mean 'big group'? answer yes or no. assistant: no....\n"
     ]
    },
    {
     "name": "stderr",
     "output_type": "stream",
     "text": [
      "Processing Batches:  58%|█████▊    | 38/65 [02:14<01:26,  3.21s/it]"
     ]
    },
    {
     "name": "stdout",
     "output_type": "stream",
     "text": [
      "Batch starting row 296: EN = big man -> Prediction: 0, Generated: user:  \n",
      "does this emoji sequence mean 'big man'? answer yes or no. assistant: no....\n"
     ]
    },
    {
     "name": "stderr",
     "output_type": "stream",
     "text": [
      "Processing Batches:  60%|██████    | 39/65 [02:18<01:25,  3.28s/it]"
     ]
    },
    {
     "name": "stdout",
     "output_type": "stream",
     "text": [
      "Batch starting row 304: EN = big city -> Prediction: 1, Generated: user:  \n",
      "does this emoji sequence mean 'big city'? answer yes or no. assistant: yes....\n"
     ]
    },
    {
     "name": "stderr",
     "output_type": "stream",
     "text": [
      "Processing Batches:  62%|██████▏   | 40/65 [02:21<01:22,  3.32s/it]"
     ]
    },
    {
     "name": "stdout",
     "output_type": "stream",
     "text": [
      "Batch starting row 312: EN = big tipper -> Prediction: 0, Generated: user:  \n",
      "does this emoji sequence mean 'big tipper'? answer yes or no. assistant: no....\n",
      "Warning: Error loading image ./generated_img_dataset/test_google/325.png for index 325: [Errno 2] No such file or directory: './generated_img_dataset/test_google/325.png'. Skipping this sample.\n"
     ]
    },
    {
     "name": "stderr",
     "output_type": "stream",
     "text": [
      "Processing Batches:  63%|██████▎   | 41/65 [02:24<01:17,  3.21s/it]"
     ]
    },
    {
     "name": "stdout",
     "output_type": "stream",
     "text": [
      "Batch starting row 320: EN = big day -> Prediction: 0, Generated: user:  \n",
      "does this emoji sequence mean 'big day'? answer yes or no. assistant: no....\n",
      "Warning: Error loading image ./generated_img_dataset/test_google/335.png for index 335: [Errno 2] No such file or directory: './generated_img_dataset/test_google/335.png'. Skipping this sample.\n"
     ]
    },
    {
     "name": "stderr",
     "output_type": "stream",
     "text": [
      "Processing Batches:  65%|██████▍   | 42/65 [02:27<01:11,  3.12s/it]"
     ]
    },
    {
     "name": "stdout",
     "output_type": "stream",
     "text": [
      "Batch starting row 328: EN = hot doll -> Prediction: 0, Generated: user:  \n",
      "does this emoji sequence mean 'hot doll'? answer yes or no. assistant: no....\n",
      "Warning: Error loading image ./generated_img_dataset/test_google/341.png for index 341: [Errno 2] No such file or directory: './generated_img_dataset/test_google/341.png'. Skipping this sample.\n",
      "Warning: Error loading image ./generated_img_dataset/test_google/342.png for index 342: [Errno 2] No such file or directory: './generated_img_dataset/test_google/342.png'. Skipping this sample.\n"
     ]
    },
    {
     "name": "stderr",
     "output_type": "stream",
     "text": [
      "Processing Batches:  66%|██████▌   | 43/65 [02:30<01:06,  3.03s/it]"
     ]
    },
    {
     "name": "stdout",
     "output_type": "stream",
     "text": [
      "Batch starting row 336: EN = hot water -> Prediction: 0, Generated: user:  \n",
      "does this emoji sequence mean 'hot water'? answer yes or no. assistant: no....\n",
      "Warning: Error loading image ./generated_img_dataset/test_google/346.png for index 346: [Errno 2] No such file or directory: './generated_img_dataset/test_google/346.png'. Skipping this sample.\n",
      "Warning: Error loading image ./generated_img_dataset/test_google/349.png for index 349: [Errno 2] No such file or directory: './generated_img_dataset/test_google/349.png'. Skipping this sample.\n"
     ]
    },
    {
     "name": "stderr",
     "output_type": "stream",
     "text": [
      "Processing Batches:  68%|██████▊   | 44/65 [02:33<01:02,  2.96s/it]"
     ]
    },
    {
     "name": "stdout",
     "output_type": "stream",
     "text": [
      "Batch starting row 344: EN = hot stove -> Prediction: 0, Generated: user:  \n",
      "does this emoji sequence mean 'hot stove'? answer yes or no. assistant: no....\n"
     ]
    },
    {
     "name": "stderr",
     "output_type": "stream",
     "text": [
      "Processing Batches:  69%|██████▉   | 45/65 [02:36<01:02,  3.13s/it]"
     ]
    },
    {
     "name": "stdout",
     "output_type": "stream",
     "text": [
      "Batch starting row 352: EN = hot topic -> Prediction: 0, Generated: user:  \n",
      "does this emoji sequence mean 'hot topic'? answer yes or no. assistant: no....\n",
      "Warning: Error loading image ./generated_img_dataset/test_google/362.png for index 362: [Errno 2] No such file or directory: './generated_img_dataset/test_google/362.png'. Skipping this sample.\n"
     ]
    },
    {
     "name": "stderr",
     "output_type": "stream",
     "text": [
      "Processing Batches:  71%|███████   | 46/65 [02:39<00:59,  3.15s/it]"
     ]
    },
    {
     "name": "stdout",
     "output_type": "stream",
     "text": [
      "Batch starting row 360: EN = hot merchandise -> Prediction: 0, Generated: user:  \n",
      "does this emoji sequence mean 'hot merchandise'? answer yes or no. assistant: no....\n"
     ]
    },
    {
     "name": "stderr",
     "output_type": "stream",
     "text": [
      "Processing Batches:  72%|███████▏  | 47/65 [02:43<00:57,  3.19s/it]"
     ]
    },
    {
     "name": "stdout",
     "output_type": "stream",
     "text": [
      "Batch starting row 368: EN = hot temper -> Prediction: 0, Generated: user:  \n",
      "does this emoji sequence mean 'hot temper'? answer yes or no. assistant: no....\n"
     ]
    },
    {
     "name": "stderr",
     "output_type": "stream",
     "text": [
      "Processing Batches:  74%|███████▍  | 48/65 [02:46<00:55,  3.29s/it]"
     ]
    },
    {
     "name": "stdout",
     "output_type": "stream",
     "text": [
      "Batch starting row 376: EN = hot argument -> Prediction: 0, Generated: user:  \n",
      "does this emoji sequence mean 'hot argument'? answer yes or no. assistant: no....\n"
     ]
    },
    {
     "name": "stderr",
     "output_type": "stream",
     "text": [
      "Processing Batches:  75%|███████▌  | 49/65 [02:50<00:53,  3.36s/it]"
     ]
    },
    {
     "name": "stdout",
     "output_type": "stream",
     "text": [
      "Batch starting row 384: EN = hot forehead -> Prediction: 0, Generated: user:  \n",
      "does this emoji sequence mean 'hot forehead'? answer yes or no. assistant: no....\n"
     ]
    },
    {
     "name": "stderr",
     "output_type": "stream",
     "text": [
      "Processing Batches:  77%|███████▋  | 50/65 [02:53<00:51,  3.42s/it]"
     ]
    },
    {
     "name": "stdout",
     "output_type": "stream",
     "text": [
      "Batch starting row 392: EN = full game -> Prediction: 0, Generated: user:  \n",
      "does this emoji sequence mean 'full game'? answer yes or no. assistant: no....\n"
     ]
    },
    {
     "name": "stderr",
     "output_type": "stream",
     "text": [
      "Processing Batches:  78%|███████▊  | 51/65 [02:56<00:46,  3.30s/it]"
     ]
    },
    {
     "name": "stdout",
     "output_type": "stream",
     "text": [
      "Batch starting row 400: EN = full auditorium -> Prediction: 0, Generated: user:  \n",
      "does this emoji sequence mean 'full auditorium'? answer yes or no. assistant: no....\n"
     ]
    },
    {
     "name": "stderr",
     "output_type": "stream",
     "text": [
      "Processing Batches:  80%|████████  | 52/65 [02:59<00:42,  3.27s/it]"
     ]
    },
    {
     "name": "stdout",
     "output_type": "stream",
     "text": [
      "Batch starting row 408: EN = full glass -> Prediction: 0, Generated: user:  \n",
      "does this emoji sequence mean 'full glass'? answer yes or no. assistant: no....\n"
     ]
    },
    {
     "name": "stderr",
     "output_type": "stream",
     "text": [
      "Processing Batches:  82%|████████▏ | 53/65 [03:03<00:39,  3.32s/it]"
     ]
    },
    {
     "name": "stdout",
     "output_type": "stream",
     "text": [
      "Batch starting row 416: EN = full life -> Prediction: 0, Generated: user:  \n",
      "does this emoji sequence mean 'full life'? answer yes or no. assistant: no....\n"
     ]
    },
    {
     "name": "stderr",
     "output_type": "stream",
     "text": [
      "Processing Batches:  83%|████████▎ | 54/65 [03:06<00:36,  3.29s/it]"
     ]
    },
    {
     "name": "stdout",
     "output_type": "stream",
     "text": [
      "Batch starting row 424: EN = little boy -> Prediction: 0, Generated: user:  \n",
      "does this emoji sequence mean 'little boy'? answer yes or no. assistant: no....\n"
     ]
    },
    {
     "name": "stderr",
     "output_type": "stream",
     "text": [
      "Processing Batches:  85%|████████▍ | 55/65 [03:09<00:32,  3.27s/it]"
     ]
    },
    {
     "name": "stdout",
     "output_type": "stream",
     "text": [
      "Batch starting row 432: EN = little man -> Prediction: 1, Generated: user:  \n",
      "does this emoji sequence mean 'little man'? answer yes or no. assistant: yes....\n"
     ]
    },
    {
     "name": "stderr",
     "output_type": "stream",
     "text": [
      "Processing Batches:  86%|████████▌ | 56/65 [03:13<00:29,  3.25s/it]"
     ]
    },
    {
     "name": "stdout",
     "output_type": "stream",
     "text": [
      "Batch starting row 440: EN = little house -> Prediction: 0, Generated: user:  \n",
      "does this emoji sequence mean 'little house'? answer yes or no. assistant: no....\n"
     ]
    },
    {
     "name": "stderr",
     "output_type": "stream",
     "text": [
      "Processing Batches:  88%|████████▊ | 57/65 [03:16<00:25,  3.25s/it]"
     ]
    },
    {
     "name": "stdout",
     "output_type": "stream",
     "text": [
      "Batch starting row 448: EN = thin oil -> Prediction: 0, Generated: user:  \n",
      "does this emoji sequence mean 'thin oil'? answer yes or no. assistant: no....\n"
     ]
    },
    {
     "name": "stderr",
     "output_type": "stream",
     "text": [
      "Processing Batches:  89%|████████▉ | 58/65 [03:19<00:22,  3.22s/it]"
     ]
    },
    {
     "name": "stdout",
     "output_type": "stream",
     "text": [
      "Batch starting row 456: EN = thin soup -> Prediction: 0, Generated: user:  \n",
      "does this emoji sequence mean 'thin soup'? answer yes or no. assistant: no....\n"
     ]
    },
    {
     "name": "stderr",
     "output_type": "stream",
     "text": [
      "Processing Batches:  91%|█████████ | 59/65 [03:22<00:19,  3.22s/it]"
     ]
    },
    {
     "name": "stdout",
     "output_type": "stream",
     "text": [
      "Batch starting row 464: EN = thin air -> Prediction: 0, Generated: user:  \n",
      "does this emoji sequence mean 'thin air'? answer yes or no. assistant: no....\n"
     ]
    },
    {
     "name": "stderr",
     "output_type": "stream",
     "text": [
      "Processing Batches:  92%|█████████▏| 60/65 [03:26<00:16,  3.30s/it]"
     ]
    },
    {
     "name": "stdout",
     "output_type": "stream",
     "text": [
      "Batch starting row 472: EN = thin line -> Prediction: 0, Generated: user:  \n",
      "does this emoji sequence mean 'thin line'? answer yes or no. assistant: no....\n"
     ]
    },
    {
     "name": "stderr",
     "output_type": "stream",
     "text": [
      "Processing Batches:  94%|█████████▍| 61/65 [03:29<00:13,  3.28s/it]"
     ]
    },
    {
     "name": "stdout",
     "output_type": "stream",
     "text": [
      "Batch starting row 480: EN = ineffectual ruler -> Prediction: 0, Generated: user:  \n",
      "does this emoji sequence mean 'ineffectual ruler'? answer yes or no. assistant: no....\n",
      "Warning: Error loading image ./generated_img_dataset/test_google/492.png for index 492: [Errno 2] No such file or directory: './generated_img_dataset/test_google/492.png'. Skipping this sample.\n",
      "Warning: Error loading image ./generated_img_dataset/test_google/495.png for index 495: [Errno 2] No such file or directory: './generated_img_dataset/test_google/495.png'. Skipping this sample.\n"
     ]
    },
    {
     "name": "stderr",
     "output_type": "stream",
     "text": [
      "Processing Batches:  95%|█████████▌| 62/65 [03:32<00:09,  3.15s/it]"
     ]
    },
    {
     "name": "stdout",
     "output_type": "stream",
     "text": [
      "Batch starting row 488: EN = ineffectual therapy -> Prediction: 0, Generated: user:  \n",
      "does this emoji sequence mean 'ineffectual therapy'? answer yes or no. assistant: no....\n"
     ]
    },
    {
     "name": "stderr",
     "output_type": "stream",
     "text": [
      "Processing Batches:  97%|█████████▋| 63/65 [03:35<00:06,  3.24s/it]"
     ]
    },
    {
     "name": "stdout",
     "output_type": "stream",
     "text": [
      "Batch starting row 496: EN = effective step -> Prediction: 0, Generated: user:  \n",
      "does this emoji sequence mean 'effective step'? answer yes or no. assistant: no....\n"
     ]
    },
    {
     "name": "stderr",
     "output_type": "stream",
     "text": [
      "Processing Batches:  98%|█████████▊| 64/65 [03:39<00:03,  3.31s/it]"
     ]
    },
    {
     "name": "stdout",
     "output_type": "stream",
     "text": [
      "Batch starting row 504: EN = effective reprimand -> Prediction: 0, Generated: user:  \n",
      "does this emoji sequence mean 'effective reprimand'? answer yes or no. assistant: no....\n"
     ]
    },
    {
     "name": "stderr",
     "output_type": "stream",
     "text": [
      "Processing Batches: 100%|██████████| 65/65 [03:41<00:00,  3.41s/it]"
     ]
    },
    {
     "name": "stdout",
     "output_type": "stream",
     "text": [
      "Batch starting row 512: EN = effective entrance -> Prediction: 0, Generated: user:  \n",
      "does this emoji sequence mean 'effective entrance'? answer yes or no. assistant: no....\n",
      "Finished prediction.\n"
     ]
    },
    {
     "name": "stderr",
     "output_type": "stream",
     "text": [
      "\n"
     ]
    }
   ],
   "source": [
    "import torch\n",
    "from PIL import Image\n",
    "from tqdm.auto import tqdm\n",
    "\n",
    "# --- Configuration ---\n",
    "BATCH_SIZE = 8 # <<< START SMALL (e.g., 2 or 4) and increase if possible\n",
    "\n",
    "# Helper function to yield batches from the DataFrame\n",
    "def generate_batches(df, batch_size):\n",
    "    for i in range(0, len(df), batch_size):\n",
    "        yield df.iloc[i:min(i + batch_size, len(df))]\n",
    "\n",
    "def batch_zero_shot_predict(batch_samples):\n",
    "    \"\"\"\n",
    "    Given a batch of samples (a slice of your DataFrame),\n",
    "    construct conversations, generate prompts, process images and text\n",
    "    through the model to produce zero-shot predictions for the batch.\n",
    "    Returns a tuple (list_of_predictions, list_of_generated_texts).\n",
    "    \"\"\"\n",
    "    batch_prompts_structured = []\n",
    "    batch_raw_images = []\n",
    "    batch_indices_processed = [] # Keep track of which samples were successful\n",
    "\n",
    "    # 1. Prepare batch data (prompts and images)\n",
    "    for index, sample in batch_samples.iterrows():\n",
    "        # Construct prompt message\n",
    "        prompt_message = f\"Does this emoji sequence mean '{sample['EN']}'? Answer yes or no.\"\n",
    "\n",
    "        # Build the conversation structure for the processor template\n",
    "        # Note: We still build one structure per sample before applying the template\n",
    "        conversation = [\n",
    "            {\n",
    "                \"role\": \"user\",\n",
    "                \"content\": [\n",
    "                    {\"type\": \"text\", \"text\": prompt_message},\n",
    "                    {\"type\": \"image\"},\n",
    "                ],\n",
    "            },\n",
    "        ]\n",
    "        batch_prompts_structured.append(conversation)\n",
    "\n",
    "        # Load the image\n",
    "        try:\n",
    "            raw_image = Image.open(sample['image']).convert(\"RGB\")\n",
    "            batch_raw_images.append(raw_image)\n",
    "            batch_indices_processed.append(index) # Store original index\n",
    "        except Exception as e:\n",
    "            print(f\"Warning: Error loading image {sample['image']} for index {index}: {e}. Skipping this sample.\")\n",
    "            # Append placeholders to keep lists aligned for now, will filter later\n",
    "            # Or handle differently if your processor/model is sensitive to None\n",
    "            batch_raw_images.append(None) # Placeholder\n",
    "\n",
    "    # Filter out samples where image loading failed\n",
    "    valid_indices = [i for i, img in enumerate(batch_raw_images) if img is not None]\n",
    "    if not valid_indices:\n",
    "        print(\"Warning: No valid images found in this batch. Skipping.\")\n",
    "        # Return empty lists matching the expected output structure\n",
    "        return [0] * len(batch_samples), [\"<IMAGE_LOAD_ERROR>\"] * len(batch_samples)\n",
    "\n",
    "    # Keep only valid images and their corresponding structured prompts\n",
    "    final_batch_raw_images = [batch_raw_images[i] for i in valid_indices]\n",
    "    final_batch_prompts_structured = [batch_prompts_structured[i] for i in valid_indices]\n",
    "    original_indices_for_valid = [batch_samples.index[i] for i in valid_indices] # Get original df index\n",
    "\n",
    "    # 2. Apply chat template and tokenize prompts\n",
    "    # We need to apply the template individually then tokenize as a batch\n",
    "    # because apply_chat_template usually works on a single conversation.\n",
    "    batch_final_prompts_text = []\n",
    "    for conv in final_batch_prompts_structured:\n",
    "         # Use add_generation_prompt=True for the model's turn\n",
    "        prompt_text = processor.apply_chat_template(conv, add_generation_prompt=True)\n",
    "        batch_final_prompts_text.append(prompt_text)\n",
    "\n",
    "    # 3. Process the batch of images and text prompts\n",
    "    # Use padding=True for batching text inputs\n",
    "    inputs = processor(\n",
    "        images=final_batch_raw_images,\n",
    "        text=batch_final_prompts_text,\n",
    "        return_tensors=\"pt\",\n",
    "        padding=True, # Crucial for batching text\n",
    "        truncation=True # Good practice\n",
    "    )\n",
    "    inputs = {k: v for k, v in inputs.items()}\n",
    "\n",
    "    # 4. Generate outputs from the model for the batch\n",
    "    generated_ids = None\n",
    "    try:\n",
    "        with torch.no_grad():\n",
    "            generated_ids = model.generate(**inputs, max_new_tokens=50)\n",
    "    except Exception as e:\n",
    "         print(f\"Error during model generation for a batch (possible OOM): {e}\")\n",
    "         # Handle error: return default predictions for this batch\n",
    "         # Create placeholder results aligned with the original batch size\n",
    "         batch_predictions = [0] * len(batch_samples)\n",
    "         batch_generated_texts = [\"<GENERATION_ERROR>\"] * len(batch_samples)\n",
    "         return batch_predictions, batch_generated_texts\n",
    "\n",
    "    # Clean up GPU memory if applicable\n",
    "    # del inputs\n",
    "    # if torch.cuda.is_available():\n",
    "    #     torch.cuda.empty_cache()\n",
    "\n",
    "    # 5. Decode the generated tokens to text for the batch\n",
    "    # Use batch_decode for efficiency\n",
    "    batch_decoded_texts = processor.batch_decode(generated_ids, skip_special_tokens=True)\n",
    "\n",
    "    # 6. Interpret results and map back to original batch structure\n",
    "    batch_predictions_map = {}\n",
    "    batch_generated_texts_map = {}\n",
    "    for i, decoded_text in enumerate(batch_decoded_texts):\n",
    "        cleaned_text = decoded_text.strip().lower()\n",
    "        # The LLaVA output might include the prompt, need to isolate the answer\n",
    "        # Find the last occurrence of the assistant's turn marker if apply_chat_template added one\n",
    "        # Or simply check the end of the string if the template is simple\n",
    "        # Example check (adapt based on your model's exact output format):\n",
    "        answer_part = cleaned_text.split(\"assistant:\")[-1] # separator\n",
    "\n",
    "        prediction = 1 if \"yes\" in answer_part else 0\n",
    "        original_index = original_indices_for_valid[i] # Map back using original df index\n",
    "        batch_predictions_map[original_index] = prediction\n",
    "        batch_generated_texts_map[original_index] = cleaned_text # Store full generated text\n",
    "\n",
    "    # Create final lists in the original batch order, filling in defaults for skipped items\n",
    "    \n",
    "    final_predictions = []\n",
    "    final_gen_texts = []\n",
    "    for index in batch_samples.index:\n",
    "        final_predictions.append(batch_predictions_map.get(index, 0)) # Default 0 if skipped/error\n",
    "        final_gen_texts.append(batch_generated_texts_map.get(index, \"<SKIPPED_OR_ERROR>\"))\n",
    "\n",
    "    return final_predictions, final_gen_texts\n",
    "\n",
    "# --- Main prediction loop using batches ---\n",
    "predictions = []\n",
    "generated_texts = []\n",
    "true_labels = test_dataset[\"label\"].tolist()\n",
    "\n",
    "# Create the batch generator with a progress bar\n",
    "batch_generator = generate_batches(test_dataset, BATCH_SIZE)\n",
    "num_batches = (len(test_dataset) + BATCH_SIZE - 1) // BATCH_SIZE\n",
    "\n",
    "print(f\"Starting prediction with batch size {BATCH_SIZE} on device ...\")\n",
    "for batch_df in tqdm(batch_generator, total=num_batches, desc=\"Processing Batches\"):\n",
    "    batch_preds, batch_gen_texts = batch_zero_shot_predict(batch_df)\n",
    "    predictions.extend(batch_preds)\n",
    "    generated_texts.extend(batch_gen_texts)\n",
    "\n",
    "    # Optional: Print progress for the first item in the batch\n",
    "    first_idx = batch_df.index[0]\n",
    "    print(f\"Batch starting row {first_idx}: EN = {batch_df.iloc[0]['EN']} -> Prediction: {batch_preds[0]}, Generated: {batch_gen_texts[0][:100]}...\") # Print truncated generated text\n",
    "\n",
    "print(\"Finished prediction.\")\n",
    "\n",
    "# from sklearn.metrics import accuracy_score, f1_score\n",
    "# print(f\"Accuracy: {accuracy_score(true_labels, predictions)}\")\n",
    "# print(f\"F1 Macro: {f1_score(true_labels, predictions, average='macro')}\")\n"
   ]
  },
  {
   "cell_type": "markdown",
   "metadata": {},
   "source": [
    "save predictions"
   ]
  },
  {
   "cell_type": "code",
   "execution_count": 5,
   "metadata": {},
   "outputs": [
    {
     "data": {
      "text/plain": [
       "[\"user:  \\ndoes this emoji sequence mean 'big business'? answer yes or no. assistant: yes.\",\n",
       " \"user:  \\ndoes this emoji sequence mean 'big business'? answer yes or no. assistant: yes.\",\n",
       " \"user:  \\ndoes this emoji sequence mean 'big business'? answer yes or no. assistant: no.\",\n",
       " \"user:  \\ndoes this emoji sequence mean 'big business'? answer yes or no. assistant: no.\",\n",
       " \"user:  \\ndoes this emoji sequence mean 'big business'? answer yes or no. assistant: no.\",\n",
       " \"user:  \\ndoes this emoji sequence mean 'big business'? answer yes or no. assistant: yes.\",\n",
       " \"user:  \\ndoes this emoji sequence mean 'big business'? answer yes or no. assistant: no.\",\n",
       " \"user:  \\ndoes this emoji sequence mean 'big business'? answer yes or no. assistant: no.\",\n",
       " \"user:  \\ndoes this emoji sequence mean 'big expenditure'? answer yes or no. assistant: yes.\",\n",
       " \"user:  \\ndoes this emoji sequence mean 'big expenditure'? answer yes or no. assistant: yes.\",\n",
       " \"user:  \\ndoes this emoji sequence mean 'big expenditure'? answer yes or no. assistant: yes.\",\n",
       " \"user:  \\ndoes this emoji sequence mean 'big expenditure'? answer yes or no. assistant: yes.\",\n",
       " \"user:  \\ndoes this emoji sequence mean 'big expenditure'? answer yes or no. assistant: yes.\",\n",
       " \"user:  \\ndoes this emoji sequence mean 'big expenditure'? answer yes or no. assistant: yes.\",\n",
       " \"user:  \\ndoes this emoji sequence mean 'big expenditure'? answer yes or no. assistant: yes.\",\n",
       " \"user:  \\ndoes this emoji sequence mean 'big expenditure'? answer yes or no. assistant: yes.\",\n",
       " \"user:  \\ndoes this emoji sequence mean 'big voice'? answer yes or no. assistant: yes.\",\n",
       " \"user:  \\ndoes this emoji sequence mean 'big voice'? answer yes or no. assistant: yes.\",\n",
       " \"user:  \\ndoes this emoji sequence mean 'big voice'? answer yes or no. assistant: yes.\",\n",
       " \"user:  \\ndoes this emoji sequence mean 'big voice'? answer yes or no. assistant: yes.\",\n",
       " \"user:  \\ndoes this emoji sequence mean 'big voice'? answer yes or no. assistant: yes.\",\n",
       " \"user:  \\ndoes this emoji sequence mean 'big voice'? answer yes or no. assistant: yes.\",\n",
       " \"user:  \\ndoes this emoji sequence mean 'big voice'? answer yes or no. assistant: no.\",\n",
       " \"user:  \\ndoes this emoji sequence mean 'big voice'? answer yes or no. assistant: yes.\",\n",
       " \"user:  \\ndoes this emoji sequence mean 'big group'? answer yes or no. assistant: yes.\",\n",
       " \"user:  \\ndoes this emoji sequence mean 'big group'? answer yes or no. assistant: yes.\",\n",
       " '<SKIPPED_OR_ERROR>',\n",
       " \"user:  \\ndoes this emoji sequence mean 'big group'? answer yes or no. assistant: yes.\",\n",
       " \"user:  \\ndoes this emoji sequence mean 'big group'? answer yes or no. assistant: yes.\",\n",
       " \"user:  \\ndoes this emoji sequence mean 'big group'? answer yes or no. assistant: yes.\",\n",
       " \"user:  \\ndoes this emoji sequence mean 'big group'? answer yes or no. assistant: yes.\",\n",
       " \"user:  \\ndoes this emoji sequence mean 'big group'? answer yes or no. assistant: yes.\",\n",
       " \"user:  \\ndoes this emoji sequence mean 'big man'? answer yes or no. assistant: no.\",\n",
       " \"user:  \\ndoes this emoji sequence mean 'big man'? answer yes or no. assistant: no.\",\n",
       " \"user:  \\ndoes this emoji sequence mean 'big man'? answer yes or no. assistant: no.\",\n",
       " \"user:  \\ndoes this emoji sequence mean 'big man'? answer yes or no. assistant: yes.\",\n",
       " \"user:  \\ndoes this emoji sequence mean 'big man'? answer yes or no. assistant: yes.\",\n",
       " \"user:  \\ndoes this emoji sequence mean 'big man'? answer yes or no. assistant: no.\",\n",
       " \"user:  \\ndoes this emoji sequence mean 'big man'? answer yes or no. assistant: no.\",\n",
       " \"user:  \\ndoes this emoji sequence mean 'big man'? answer yes or no. assistant: yes.\",\n",
       " \"user:  \\ndoes this emoji sequence mean 'big city'? answer yes or no. assistant: yes.\",\n",
       " \"user:  \\ndoes this emoji sequence mean 'big city'? answer yes or no. assistant: yes.\",\n",
       " '<SKIPPED_OR_ERROR>',\n",
       " \"user:  \\ndoes this emoji sequence mean 'big city'? answer yes or no. assistant: yes.\",\n",
       " \"user:  \\ndoes this emoji sequence mean 'big city'? answer yes or no. assistant: yes.\",\n",
       " \"user:  \\ndoes this emoji sequence mean 'big city'? answer yes or no. assistant: yes.\",\n",
       " \"user:  \\ndoes this emoji sequence mean 'big city'? answer yes or no. assistant: yes.\",\n",
       " \"user:  \\ndoes this emoji sequence mean 'big city'? answer yes or no. assistant: yes.\",\n",
       " \"user:  \\ndoes this emoji sequence mean 'big tipper'? answer yes or no. assistant: no.\",\n",
       " \"user:  \\ndoes this emoji sequence mean 'big tipper'? answer yes or no. assistant: no.\",\n",
       " \"user:  \\ndoes this emoji sequence mean 'big tipper'? answer yes or no. assistant: no.\",\n",
       " \"user:  \\ndoes this emoji sequence mean 'big tipper'? answer yes or no. assistant: no.\",\n",
       " \"user:  \\ndoes this emoji sequence mean 'big tipper'? answer yes or no. assistant: no.\",\n",
       " \"user:  \\ndoes this emoji sequence mean 'big tipper'? answer yes or no. assistant: no.\",\n",
       " \"user:  \\ndoes this emoji sequence mean 'big tipper'? answer yes or no. assistant: no.\",\n",
       " \"user:  \\ndoes this emoji sequence mean 'big tipper'? answer yes or no. assistant: yes.\",\n",
       " \"user:  \\ndoes this emoji sequence mean 'big day'? answer yes or no. assistant: yes.\",\n",
       " \"user:  \\ndoes this emoji sequence mean 'big day'? answer yes or no. assistant: yes.\",\n",
       " \"user:  \\ndoes this emoji sequence mean 'big day'? answer yes or no. assistant: yes.\",\n",
       " \"user:  \\ndoes this emoji sequence mean 'big day'? answer yes or no. assistant: no.\",\n",
       " \"user:  \\ndoes this emoji sequence mean 'big day'? answer yes or no. assistant: yes.\",\n",
       " \"user:  \\ndoes this emoji sequence mean 'big day'? answer yes or no. assistant: yes.\",\n",
       " \"user:  \\ndoes this emoji sequence mean 'big day'? answer yes or no. assistant: no.\",\n",
       " \"user:  \\ndoes this emoji sequence mean 'big day'? answer yes or no. assistant: yes.\",\n",
       " \"user:  \\ndoes this emoji sequence mean 'hot doll'? answer yes or no. assistant: no.\",\n",
       " \"user:  \\ndoes this emoji sequence mean 'hot doll'? answer yes or no. assistant: no.\",\n",
       " \"user:  \\ndoes this emoji sequence mean 'hot doll'? answer yes or no. assistant: no.\",\n",
       " \"user:  \\ndoes this emoji sequence mean 'hot doll'? answer yes or no. assistant: no.\",\n",
       " \"user:  \\ndoes this emoji sequence mean 'hot doll'? answer yes or no. assistant: no.\",\n",
       " \"user:  \\ndoes this emoji sequence mean 'hot doll'? answer yes or no. assistant: no.\",\n",
       " \"user:  \\ndoes this emoji sequence mean 'hot doll'? answer yes or no. assistant: no.\",\n",
       " \"user:  \\ndoes this emoji sequence mean 'hot doll'? answer yes or no. assistant: no.\",\n",
       " \"user:  \\ndoes this emoji sequence mean 'hot water'? answer yes or no. assistant: yes.\",\n",
       " \"user:  \\ndoes this emoji sequence mean 'hot water'? answer yes or no. assistant: no.\",\n",
       " \"user:  \\ndoes this emoji sequence mean 'hot water'? answer yes or no. assistant: yes.\",\n",
       " \"user:  \\ndoes this emoji sequence mean 'hot water'? answer yes or no. assistant: yes.\",\n",
       " \"user:  \\ndoes this emoji sequence mean 'hot water'? answer yes or no. assistant: yes.\",\n",
       " \"user:  \\ndoes this emoji sequence mean 'hot water'? answer yes or no. assistant: yes.\",\n",
       " \"user:  \\ndoes this emoji sequence mean 'hot water'? answer yes or no. assistant: yes.\",\n",
       " \"user:  \\ndoes this emoji sequence mean 'hot water'? answer yes or no. assistant: yes.\",\n",
       " \"user:  \\ndoes this emoji sequence mean 'hot stove'? answer yes or no. assistant: yes.\",\n",
       " \"user:  \\ndoes this emoji sequence mean 'hot stove'? answer yes or no. assistant: yes.\",\n",
       " \"user:  \\ndoes this emoji sequence mean 'hot stove'? answer yes or no. assistant: yes.\",\n",
       " \"user:  \\ndoes this emoji sequence mean 'hot stove'? answer yes or no. assistant: no.\",\n",
       " \"user:  \\ndoes this emoji sequence mean 'hot stove'? answer yes or no. assistant: no.\",\n",
       " \"user:  \\ndoes this emoji sequence mean 'hot stove'? answer yes or no. assistant: yes.\",\n",
       " \"user:  \\ndoes this emoji sequence mean 'hot stove'? answer yes or no. assistant: yes.\",\n",
       " \"user:  \\ndoes this emoji sequence mean 'hot stove'? answer yes or no. assistant: yes.\",\n",
       " \"user:  \\ndoes this emoji sequence mean 'hot topic'? answer yes or no. assistant: no.\",\n",
       " \"user:  \\ndoes this emoji sequence mean 'hot topic'? answer yes or no. assistant: no.\",\n",
       " \"user:  \\ndoes this emoji sequence mean 'hot topic'? answer yes or no. assistant: no.\",\n",
       " \"user:  \\ndoes this emoji sequence mean 'hot topic'? answer yes or no. assistant: no.\",\n",
       " \"user:  \\ndoes this emoji sequence mean 'hot topic'? answer yes or no. assistant: no.\",\n",
       " \"user:  \\ndoes this emoji sequence mean 'hot topic'? answer yes or no. assistant: no.\",\n",
       " \"user:  \\ndoes this emoji sequence mean 'hot topic'? answer yes or no. assistant: no.\",\n",
       " \"user:  \\ndoes this emoji sequence mean 'hot topic'? answer yes or no. assistant: no.\",\n",
       " \"user:  \\ndoes this emoji sequence mean 'hot merchandise'? answer yes or no. assistant: no.\",\n",
       " \"user:  \\ndoes this emoji sequence mean 'hot merchandise'? answer yes or no. assistant: no.\",\n",
       " \"user:  \\ndoes this emoji sequence mean 'hot merchandise'? answer yes or no. assistant: yes.\",\n",
       " \"user:  \\ndoes this emoji sequence mean 'hot merchandise'? answer yes or no. assistant: yes.\",\n",
       " \"user:  \\ndoes this emoji sequence mean 'hot merchandise'? answer yes or no. assistant: no.\",\n",
       " \"user:  \\ndoes this emoji sequence mean 'hot merchandise'? answer yes or no. assistant: no.\",\n",
       " \"user:  \\ndoes this emoji sequence mean 'hot merchandise'? answer yes or no. assistant: no.\",\n",
       " \"user:  \\ndoes this emoji sequence mean 'hot merchandise'? answer yes or no. assistant: no.\",\n",
       " '<SKIPPED_OR_ERROR>',\n",
       " \"user:  \\ndoes this emoji sequence mean 'hot temper'? answer yes or no. assistant: no.\",\n",
       " '<SKIPPED_OR_ERROR>',\n",
       " '<SKIPPED_OR_ERROR>',\n",
       " '<SKIPPED_OR_ERROR>',\n",
       " '<SKIPPED_OR_ERROR>',\n",
       " \"user:  \\ndoes this emoji sequence mean 'hot temper'? answer yes or no. assistant: no.\",\n",
       " '<SKIPPED_OR_ERROR>',\n",
       " \"user:  \\ndoes this emoji sequence mean 'hot argument'? answer yes or no. assistant: no.\",\n",
       " \"user:  \\ndoes this emoji sequence mean 'hot argument'? answer yes or no. assistant: yes.\",\n",
       " '<SKIPPED_OR_ERROR>',\n",
       " \"user:  \\ndoes this emoji sequence mean 'hot argument'? answer yes or no. assistant: no.\",\n",
       " '<SKIPPED_OR_ERROR>',\n",
       " \"user:  \\ndoes this emoji sequence mean 'hot argument'? answer yes or no. assistant: no.\",\n",
       " \"user:  \\ndoes this emoji sequence mean 'hot argument'? answer yes or no. assistant: no.\",\n",
       " \"user:  \\ndoes this emoji sequence mean 'hot argument'? answer yes or no. assistant: no.\",\n",
       " \"user:  \\ndoes this emoji sequence mean 'hot forehead'? answer yes or no. assistant: no.\",\n",
       " \"user:  \\ndoes this emoji sequence mean 'hot forehead'? answer yes or no. assistant: no.\",\n",
       " \"user:  \\ndoes this emoji sequence mean 'hot forehead'? answer yes or no. assistant: no.\",\n",
       " \"user:  \\ndoes this emoji sequence mean 'hot forehead'? answer yes or no. assistant: no.\",\n",
       " \"user:  \\ndoes this emoji sequence mean 'hot forehead'? answer yes or no. assistant: no.\",\n",
       " \"user:  \\ndoes this emoji sequence mean 'hot forehead'? answer yes or no. assistant: no.\",\n",
       " \"user:  \\ndoes this emoji sequence mean 'hot forehead'? answer yes or no. assistant: no.\",\n",
       " \"user:  \\ndoes this emoji sequence mean 'hot forehead'? answer yes or no. assistant: no.\",\n",
       " \"user:  \\ndoes this emoji sequence mean 'full game'? answer yes or no. assistant: no.\",\n",
       " \"user:  \\ndoes this emoji sequence mean 'full game'? answer yes or no. assistant: no.\",\n",
       " \"user:  \\ndoes this emoji sequence mean 'full game'? answer yes or no. assistant: no.\",\n",
       " \"user:  \\ndoes this emoji sequence mean 'full game'? answer yes or no. assistant: no.\",\n",
       " \"user:  \\ndoes this emoji sequence mean 'full game'? answer yes or no. assistant: no.\",\n",
       " \"user:  \\ndoes this emoji sequence mean 'full game'? answer yes or no. assistant: no.\",\n",
       " \"user:  \\ndoes this emoji sequence mean 'full game'? answer yes or no. assistant: no.\",\n",
       " \"user:  \\ndoes this emoji sequence mean 'full auditorium'? answer yes or no. assistant: no.\",\n",
       " '<SKIPPED_OR_ERROR>',\n",
       " \"user:  \\ndoes this emoji sequence mean 'full auditorium'? answer yes or no. assistant: no.\",\n",
       " \"user:  \\ndoes this emoji sequence mean 'full auditorium'? answer yes or no. assistant: yes.\",\n",
       " \"user:  \\ndoes this emoji sequence mean 'full auditorium'? answer yes or no. assistant: no.\",\n",
       " \"user:  \\ndoes this emoji sequence mean 'full auditorium'? answer yes or no. assistant: no.\",\n",
       " \"user:  \\ndoes this emoji sequence mean 'full auditorium'? answer yes or no. assistant: no.\",\n",
       " \"user:  \\ndoes this emoji sequence mean 'full attention'? answer yes or no. assistant: no.\",\n",
       " \"user:  \\ndoes this emoji sequence mean 'full attention'? answer yes or no. assistant: no.\",\n",
       " \"user:  \\ndoes this emoji sequence mean 'full attention'? answer yes or no. assistant: no.\",\n",
       " \"user:  \\ndoes this emoji sequence mean 'full attention'? answer yes or no. assistant: no.\",\n",
       " \"user:  \\ndoes this emoji sequence mean 'full attention'? answer yes or no. assistant: no.\",\n",
       " \"user:  \\ndoes this emoji sequence mean 'full attention'? answer yes or no. assistant: no.\",\n",
       " \"user:  \\ndoes this emoji sequence mean 'full attention'? answer yes or no. assistant: no.\",\n",
       " \"user:  \\ndoes this emoji sequence mean 'full glass'? answer yes or no. assistant: yes.\",\n",
       " \"user:  \\ndoes this emoji sequence mean 'full glass'? answer yes or no. assistant: no.\",\n",
       " \"user:  \\ndoes this emoji sequence mean 'full glass'? answer yes or no. assistant: no.\",\n",
       " \"user:  \\ndoes this emoji sequence mean 'full glass'? answer yes or no. assistant: yes.\",\n",
       " \"user:  \\ndoes this emoji sequence mean 'full glass'? answer yes or no. assistant: no.\",\n",
       " \"user:  \\ndoes this emoji sequence mean 'full glass'? answer yes or no. assistant: yes.\",\n",
       " \"user:  \\ndoes this emoji sequence mean 'full glass'? answer yes or no. assistant: yes.\",\n",
       " \"user:  \\ndoes this emoji sequence mean 'full life'? answer yes or no. assistant: no.\",\n",
       " \"user:  \\ndoes this emoji sequence mean 'full life'? answer yes or no. assistant: no.\",\n",
       " \"user:  \\ndoes this emoji sequence mean 'full life'? answer yes or no. assistant: no.\",\n",
       " \"user:  \\ndoes this emoji sequence mean 'full life'? answer yes or no. assistant: no.\",\n",
       " \"user:  \\ndoes this emoji sequence mean 'full life'? answer yes or no. assistant: no.\",\n",
       " \"user:  \\ndoes this emoji sequence mean 'full life'? answer yes or no. assistant: no.\",\n",
       " \"user:  \\ndoes this emoji sequence mean 'full life'? answer yes or no. assistant: no.\",\n",
       " \"user:  \\ndoes this emoji sequence mean 'little boy'? answer yes or no. assistant: yes.\",\n",
       " \"user:  \\ndoes this emoji sequence mean 'little boy'? answer yes or no. assistant: yes.\",\n",
       " \"user:  \\ndoes this emoji sequence mean 'little boy'? answer yes or no. assistant: yes.\",\n",
       " \"user:  \\ndoes this emoji sequence mean 'little boy'? answer yes or no. assistant: yes.\",\n",
       " \"user:  \\ndoes this emoji sequence mean 'little boy'? answer yes or no. assistant: yes.\",\n",
       " \"user:  \\ndoes this emoji sequence mean 'little boy'? answer yes or no. assistant: yes.\",\n",
       " \"user:  \\ndoes this emoji sequence mean 'little boy'? answer yes or no. assistant: yes.\",\n",
       " \"user:  \\ndoes this emoji sequence mean 'little boy'? answer yes or no. assistant: yes.\",\n",
       " \"user:  \\ndoes this emoji sequence mean 'little man'? answer yes or no. assistant: no.\",\n",
       " \"user:  \\ndoes this emoji sequence mean 'little man'? answer yes or no. assistant: no.\",\n",
       " \"user:  \\ndoes this emoji sequence mean 'little man'? answer yes or no. assistant: no.\",\n",
       " \"user:  \\ndoes this emoji sequence mean 'little man'? answer yes or no. assistant: yes.\",\n",
       " \"user:  \\ndoes this emoji sequence mean 'little man'? answer yes or no. assistant: yes.\",\n",
       " \"user:  \\ndoes this emoji sequence mean 'little man'? answer yes or no. assistant: yes.\",\n",
       " \"user:  \\ndoes this emoji sequence mean 'little man'? answer yes or no. assistant: yes.\",\n",
       " \"user:  \\ndoes this emoji sequence mean 'little man'? answer yes or no. assistant: yes.\",\n",
       " \"user:  \\ndoes this emoji sequence mean 'little house'? answer yes or no. assistant: yes.\",\n",
       " \"user:  \\ndoes this emoji sequence mean 'little house'? answer yes or no. assistant: yes.\",\n",
       " \"user:  \\ndoes this emoji sequence mean 'little house'? answer yes or no. assistant: yes.\",\n",
       " \"user:  \\ndoes this emoji sequence mean 'little house'? answer yes or no. assistant: yes.\",\n",
       " \"user:  \\ndoes this emoji sequence mean 'little house'? answer yes or no. assistant: yes.\",\n",
       " \"user:  \\ndoes this emoji sequence mean 'little house'? answer yes or no. assistant: yes.\",\n",
       " \"user:  \\ndoes this emoji sequence mean 'little house'? answer yes or no. assistant: yes.\",\n",
       " \"user:  \\ndoes this emoji sequence mean 'little house'? answer yes or no. assistant: yes.\",\n",
       " \"user:  \\ndoes this emoji sequence mean 'thin oil'? answer yes or no. assistant: no.\",\n",
       " \"user:  \\ndoes this emoji sequence mean 'thin oil'? answer yes or no. assistant: no.\",\n",
       " \"user:  \\ndoes this emoji sequence mean 'thin oil'? answer yes or no. assistant: no.\",\n",
       " \"user:  \\ndoes this emoji sequence mean 'thin oil'? answer yes or no. assistant: no.\",\n",
       " \"user:  \\ndoes this emoji sequence mean 'thin oil'? answer yes or no. assistant: no.\",\n",
       " \"user:  \\ndoes this emoji sequence mean 'thin oil'? answer yes or no. assistant: no.\",\n",
       " \"user:  \\ndoes this emoji sequence mean 'thin oil'? answer yes or no. assistant: no.\",\n",
       " \"user:  \\ndoes this emoji sequence mean 'thin oil'? answer yes or no. assistant: no.\",\n",
       " \"user:  \\ndoes this emoji sequence mean 'thin soup'? answer yes or no. assistant: no.\",\n",
       " \"user:  \\ndoes this emoji sequence mean 'thin soup'? answer yes or no. assistant: no.\",\n",
       " \"user:  \\ndoes this emoji sequence mean 'thin soup'? answer yes or no. assistant: no.\",\n",
       " \"user:  \\ndoes this emoji sequence mean 'thin soup'? answer yes or no. assistant: no.\",\n",
       " \"user:  \\ndoes this emoji sequence mean 'thin soup'? answer yes or no. assistant: no.\",\n",
       " \"user:  \\ndoes this emoji sequence mean 'thin soup'? answer yes or no. assistant: yes.\",\n",
       " \"user:  \\ndoes this emoji sequence mean 'thin soup'? answer yes or no. assistant: no.\",\n",
       " \"user:  \\ndoes this emoji sequence mean 'thin soup'? answer yes or no. assistant: no.\",\n",
       " \"user:  \\ndoes this emoji sequence mean 'thin air'? answer yes or no. assistant: yes.\",\n",
       " \"user:  \\ndoes this emoji sequence mean 'thin air'? answer yes or no. assistant: no.\",\n",
       " \"user:  \\ndoes this emoji sequence mean 'thin air'? answer yes or no. assistant: no.\",\n",
       " \"user:  \\ndoes this emoji sequence mean 'thin air'? answer yes or no. assistant: no.\",\n",
       " \"user:  \\ndoes this emoji sequence mean 'thin air'? answer yes or no. assistant: yes.\",\n",
       " \"user:  \\ndoes this emoji sequence mean 'thin air'? answer yes or no. assistant: no.\",\n",
       " \"user:  \\ndoes this emoji sequence mean 'thin air'? answer yes or no. assistant: yes.\",\n",
       " \"user:  \\ndoes this emoji sequence mean 'thin air'? answer yes or no. assistant: yes.\",\n",
       " \"user:  \\ndoes this emoji sequence mean 'thin line'? answer yes or no. assistant: no.\",\n",
       " \"user:  \\ndoes this emoji sequence mean 'thin line'? answer yes or no. assistant: no.\",\n",
       " \"user:  \\ndoes this emoji sequence mean 'thin line'? answer yes or no. assistant: no.\",\n",
       " \"user:  \\ndoes this emoji sequence mean 'thin line'? answer yes or no. assistant: no.\",\n",
       " \"user:  \\ndoes this emoji sequence mean 'thin line'? answer yes or no. assistant: no.\",\n",
       " \"user:  \\ndoes this emoji sequence mean 'thin line'? answer yes or no. assistant: no.\",\n",
       " \"user:  \\ndoes this emoji sequence mean 'thin line'? answer yes or no. assistant: no.\",\n",
       " \"user:  \\ndoes this emoji sequence mean 'thin line'? answer yes or no. assistant: no.\",\n",
       " \"user:  \\ndoes this emoji sequence mean 'ineffectual ruler'? answer yes or no. assistant: yes.\",\n",
       " \"user:  \\ndoes this emoji sequence mean 'ineffectual ruler'? answer yes or no. assistant: yes.\",\n",
       " \"user:  \\ndoes this emoji sequence mean 'ineffectual ruler'? answer yes or no. assistant: yes.\",\n",
       " \"user:  \\ndoes this emoji sequence mean 'ineffectual ruler'? answer yes or no. assistant: no.\",\n",
       " \"user:  \\ndoes this emoji sequence mean 'ineffectual ruler'? answer yes or no. assistant: yes.\",\n",
       " '<SKIPPED_OR_ERROR>',\n",
       " '<SKIPPED_OR_ERROR>',\n",
       " \"user:  \\ndoes this emoji sequence mean 'ineffectual ruler'? answer yes or no. assistant: yes.\",\n",
       " \"user:  \\ndoes this emoji sequence mean 'ineffectual therapy'? answer yes or no. assistant: no.\",\n",
       " \"user:  \\ndoes this emoji sequence mean 'ineffectual therapy'? answer yes or no. assistant: no.\",\n",
       " \"user:  \\ndoes this emoji sequence mean 'ineffectual therapy'? answer yes or no. assistant: no.\",\n",
       " \"user:  \\ndoes this emoji sequence mean 'ineffectual therapy'? answer yes or no. assistant: no.\",\n",
       " \"user:  \\ndoes this emoji sequence mean 'ineffectual therapy'? answer yes or no. assistant: no.\",\n",
       " \"user:  \\ndoes this emoji sequence mean 'ineffectual therapy'? answer yes or no. assistant: no.\",\n",
       " \"user:  \\ndoes this emoji sequence mean 'ineffectual therapy'? answer yes or no. assistant: yes.\",\n",
       " \"user:  \\ndoes this emoji sequence mean 'ineffectual therapy'? answer yes or no. assistant: no.\",\n",
       " \"user:  \\ndoes this emoji sequence mean 'effective step'? answer yes or no. assistant: no.\",\n",
       " \"user:  \\ndoes this emoji sequence mean 'effective step'? answer yes or no. assistant: no.\",\n",
       " \"user:  \\ndoes this emoji sequence mean 'effective step'? answer yes or no. assistant: no.\",\n",
       " \"user:  \\ndoes this emoji sequence mean 'effective step'? answer yes or no. assistant: no.\",\n",
       " \"user:  \\ndoes this emoji sequence mean 'effective step'? answer yes or no. assistant: no.\",\n",
       " \"user:  \\ndoes this emoji sequence mean 'effective step'? answer yes or no. assistant: no.\",\n",
       " \"user:  \\ndoes this emoji sequence mean 'effective step'? answer yes or no. assistant: no.\",\n",
       " \"user:  \\ndoes this emoji sequence mean 'effective step'? answer yes or no. assistant: no.\",\n",
       " \"user:  \\ndoes this emoji sequence mean 'effective reprimand'? answer yes or no. assistant: no.\",\n",
       " \"user:  \\ndoes this emoji sequence mean 'effective reprimand'? answer yes or no. assistant: no.\",\n",
       " \"user:  \\ndoes this emoji sequence mean 'effective reprimand'? answer yes or no. assistant: no.\",\n",
       " '<SKIPPED_OR_ERROR>',\n",
       " \"user:  \\ndoes this emoji sequence mean 'effective reprimand'? answer yes or no. assistant: no.\",\n",
       " '<SKIPPED_OR_ERROR>',\n",
       " \"user:  \\ndoes this emoji sequence mean 'effective reprimand'? answer yes or no. assistant: no.\",\n",
       " \"user:  \\ndoes this emoji sequence mean 'effective reprimand'? answer yes or no. assistant: no.\",\n",
       " \"user:  \\ndoes this emoji sequence mean 'effective entrance'? answer yes or no. assistant: no.\",\n",
       " \"user:  \\ndoes this emoji sequence mean 'effective entrance'? answer yes or no. assistant: no.\",\n",
       " \"user:  \\ndoes this emoji sequence mean 'effective entrance'? answer yes or no. assistant: no.\",\n",
       " \"user:  \\ndoes this emoji sequence mean 'effective entrance'? answer yes or no. assistant: no.\",\n",
       " \"user:  \\ndoes this emoji sequence mean 'effective entrance'? answer yes or no. assistant: no.\",\n",
       " \"user:  \\ndoes this emoji sequence mean 'effective entrance'? answer yes or no. assistant: no.\",\n",
       " \"user:  \\ndoes this emoji sequence mean 'effective entrance'? answer yes or no. assistant: no.\",\n",
       " \"user:  \\ndoes this emoji sequence mean 'effective entrance'? answer yes or no. assistant: no.\",\n",
       " \"user:  \\ndoes this emoji sequence mean 'big business'? answer yes or no. assistant: no.\",\n",
       " \"user:  \\ndoes this emoji sequence mean 'big business'? answer yes or no. assistant: no.\",\n",
       " \"user:  \\ndoes this emoji sequence mean 'big business'? answer yes or no. assistant: no.\",\n",
       " \"user:  \\ndoes this emoji sequence mean 'big business'? answer yes or no. assistant: no.\",\n",
       " \"user:  \\ndoes this emoji sequence mean 'big business'? answer yes or no. assistant: no.\",\n",
       " \"user:  \\ndoes this emoji sequence mean 'big business'? answer yes or no. assistant: no.\",\n",
       " \"user:  \\ndoes this emoji sequence mean 'big business'? answer yes or no. assistant: no.\",\n",
       " \"user:  \\ndoes this emoji sequence mean 'big business'? answer yes or no. assistant: no.\",\n",
       " \"user:  \\ndoes this emoji sequence mean 'big expenditure'? answer yes or no. assistant: no.\",\n",
       " \"user:  \\ndoes this emoji sequence mean 'big expenditure'? answer yes or no. assistant: no.\",\n",
       " \"user:  \\ndoes this emoji sequence mean 'big expenditure'? answer yes or no. assistant: no.\",\n",
       " \"user:  \\ndoes this emoji sequence mean 'big expenditure'? answer yes or no. assistant: yes.\",\n",
       " \"user:  \\ndoes this emoji sequence mean 'big expenditure'? answer yes or no. assistant: no.\",\n",
       " \"user:  \\ndoes this emoji sequence mean 'big expenditure'? answer yes or no. assistant: no.\",\n",
       " \"user:  \\ndoes this emoji sequence mean 'big expenditure'? answer yes or no. assistant: yes.\",\n",
       " \"user:  \\ndoes this emoji sequence mean 'big expenditure'? answer yes or no. assistant: no.\",\n",
       " \"user:  \\ndoes this emoji sequence mean 'big voice'? answer yes or no. assistant: no.\",\n",
       " \"user:  \\ndoes this emoji sequence mean 'big voice'? answer yes or no. assistant: no.\",\n",
       " \"user:  \\ndoes this emoji sequence mean 'big voice'? answer yes or no. assistant: no.\",\n",
       " \"user:  \\ndoes this emoji sequence mean 'big voice'? answer yes or no. assistant: no.\",\n",
       " \"user:  \\ndoes this emoji sequence mean 'big voice'? answer yes or no. assistant: no.\",\n",
       " \"user:  \\ndoes this emoji sequence mean 'big voice'? answer yes or no. assistant: no.\",\n",
       " \"user:  \\ndoes this emoji sequence mean 'big voice'? answer yes or no. assistant: no.\",\n",
       " \"user:  \\ndoes this emoji sequence mean 'big voice'? answer yes or no. assistant: no.\",\n",
       " \"user:  \\ndoes this emoji sequence mean 'big group'? answer yes or no. assistant: no.\",\n",
       " \"user:  \\ndoes this emoji sequence mean 'big group'? answer yes or no. assistant: no.\",\n",
       " \"user:  \\ndoes this emoji sequence mean 'big group'? answer yes or no. assistant: no.\",\n",
       " \"user:  \\ndoes this emoji sequence mean 'big group'? answer yes or no. assistant: yes.\",\n",
       " \"user:  \\ndoes this emoji sequence mean 'big group'? answer yes or no. assistant: no.\",\n",
       " \"user:  \\ndoes this emoji sequence mean 'big group'? answer yes or no. assistant: no.\",\n",
       " \"user:  \\ndoes this emoji sequence mean 'big group'? answer yes or no. assistant: no.\",\n",
       " \"user:  \\ndoes this emoji sequence mean 'big group'? answer yes or no. assistant: no.\",\n",
       " \"user:  \\ndoes this emoji sequence mean 'big man'? answer yes or no. assistant: no.\",\n",
       " '<SKIPPED_OR_ERROR>',\n",
       " \"user:  \\ndoes this emoji sequence mean 'big man'? answer yes or no. assistant: no.\",\n",
       " \"user:  \\ndoes this emoji sequence mean 'big man'? answer yes or no. assistant: no.\",\n",
       " \"user:  \\ndoes this emoji sequence mean 'big man'? answer yes or no. assistant: no.\",\n",
       " \"user:  \\ndoes this emoji sequence mean 'big man'? answer yes or no. assistant: no.\",\n",
       " \"user:  \\ndoes this emoji sequence mean 'big man'? answer yes or no. assistant: no.\",\n",
       " \"user:  \\ndoes this emoji sequence mean 'big man'? answer yes or no. assistant: no.\",\n",
       " \"user:  \\ndoes this emoji sequence mean 'big city'? answer yes or no. assistant: no.\",\n",
       " \"user:  \\ndoes this emoji sequence mean 'big city'? answer yes or no. assistant: no.\",\n",
       " \"user:  \\ndoes this emoji sequence mean 'big city'? answer yes or no. assistant: no.\",\n",
       " \"user:  \\ndoes this emoji sequence mean 'big city'? answer yes or no. assistant: no.\",\n",
       " \"user:  \\ndoes this emoji sequence mean 'big city'? answer yes or no. assistant: no.\",\n",
       " \"user:  \\ndoes this emoji sequence mean 'big city'? answer yes or no. assistant: yes.\",\n",
       " \"user:  \\ndoes this emoji sequence mean 'big city'? answer yes or no. assistant: no.\",\n",
       " \"user:  \\ndoes this emoji sequence mean 'big city'? answer yes or no. assistant: no.\",\n",
       " \"user:  \\ndoes this emoji sequence mean 'big tipper'? answer yes or no. assistant: no.\",\n",
       " \"user:  \\ndoes this emoji sequence mean 'big tipper'? answer yes or no. assistant: no.\",\n",
       " \"user:  \\ndoes this emoji sequence mean 'big tipper'? answer yes or no. assistant: no.\",\n",
       " \"user:  \\ndoes this emoji sequence mean 'big tipper'? answer yes or no. assistant: no.\",\n",
       " \"user:  \\ndoes this emoji sequence mean 'big tipper'? answer yes or no. assistant: no.\",\n",
       " \"user:  \\ndoes this emoji sequence mean 'big tipper'? answer yes or no. assistant: no.\",\n",
       " \"user:  \\ndoes this emoji sequence mean 'big tipper'? answer yes or no. assistant: no.\",\n",
       " \"user:  \\ndoes this emoji sequence mean 'big tipper'? answer yes or no. assistant: no.\",\n",
       " \"user:  \\ndoes this emoji sequence mean 'big day'? answer yes or no. assistant: no.\",\n",
       " \"user:  \\ndoes this emoji sequence mean 'big day'? answer yes or no. assistant: no.\",\n",
       " \"user:  \\ndoes this emoji sequence mean 'big day'? answer yes or no. assistant: no.\",\n",
       " \"user:  \\ndoes this emoji sequence mean 'big day'? answer yes or no. assistant: no.\",\n",
       " \"user:  \\ndoes this emoji sequence mean 'big day'? answer yes or no. assistant: no.\",\n",
       " \"user:  \\ndoes this emoji sequence mean 'big day'? answer yes or no. assistant: no.\",\n",
       " \"user:  \\ndoes this emoji sequence mean 'big day'? answer yes or no. assistant: no.\",\n",
       " \"user:  \\ndoes this emoji sequence mean 'big day'? answer yes or no. assistant: no.\",\n",
       " \"user:  \\ndoes this emoji sequence mean 'hot doll'? answer yes or no. assistant: no.\",\n",
       " \"user:  \\ndoes this emoji sequence mean 'hot doll'? answer yes or no. assistant: no.\",\n",
       " '<SKIPPED_OR_ERROR>',\n",
       " \"user:  \\ndoes this emoji sequence mean 'hot doll'? answer yes or no. assistant: no.\",\n",
       " \"user:  \\ndoes this emoji sequence mean 'hot doll'? answer yes or no. assistant: no.\",\n",
       " \"user:  \\ndoes this emoji sequence mean 'hot doll'? answer yes or no. assistant: no.\",\n",
       " \"user:  \\ndoes this emoji sequence mean 'hot doll'? answer yes or no. assistant: no.\",\n",
       " \"user:  \\ndoes this emoji sequence mean 'hot doll'? answer yes or no. assistant: no.\",\n",
       " \"user:  \\ndoes this emoji sequence mean 'hot water'? answer yes or no. assistant: yes.\",\n",
       " \"user:  \\ndoes this emoji sequence mean 'hot water'? answer yes or no. assistant: no.\",\n",
       " \"user:  \\ndoes this emoji sequence mean 'hot water'? answer yes or no. assistant: no.\",\n",
       " \"user:  \\ndoes this emoji sequence mean 'hot water'? answer yes or no. assistant: no.\",\n",
       " '<SKIPPED_OR_ERROR>',\n",
       " \"user:  \\ndoes this emoji sequence mean 'hot water'? answer yes or no. assistant: no.\",\n",
       " \"user:  \\ndoes this emoji sequence mean 'hot water'? answer yes or no. assistant: no.\",\n",
       " \"user:  \\ndoes this emoji sequence mean 'hot water'? answer yes or no. assistant: no.\",\n",
       " \"user:  \\ndoes this emoji sequence mean 'hot stove'? answer yes or no. assistant: no.\",\n",
       " \"user:  \\ndoes this emoji sequence mean 'hot stove'? answer yes or no. assistant: no.\",\n",
       " '<SKIPPED_OR_ERROR>',\n",
       " '<SKIPPED_OR_ERROR>',\n",
       " \"user:  \\ndoes this emoji sequence mean 'hot stove'? answer yes or no. assistant: no.\",\n",
       " \"user:  \\ndoes this emoji sequence mean 'hot stove'? answer yes or no. assistant: no.\",\n",
       " \"user:  \\ndoes this emoji sequence mean 'hot stove'? answer yes or no. assistant: no.\",\n",
       " '<SKIPPED_OR_ERROR>',\n",
       " \"user:  \\ndoes this emoji sequence mean 'hot topic'? answer yes or no. assistant: no.\",\n",
       " \"user:  \\ndoes this emoji sequence mean 'hot topic'? answer yes or no. assistant: no.\",\n",
       " '<SKIPPED_OR_ERROR>',\n",
       " \"user:  \\ndoes this emoji sequence mean 'hot topic'? answer yes or no. assistant: no.\",\n",
       " \"user:  \\ndoes this emoji sequence mean 'hot topic'? answer yes or no. assistant: no.\",\n",
       " \"user:  \\ndoes this emoji sequence mean 'hot topic'? answer yes or no. assistant: no.\",\n",
       " \"user:  \\ndoes this emoji sequence mean 'hot topic'? answer yes or no. assistant: no.\",\n",
       " \"user:  \\ndoes this emoji sequence mean 'hot topic'? answer yes or no. assistant: no.\",\n",
       " \"user:  \\ndoes this emoji sequence mean 'hot merchandise'? answer yes or no. assistant: no.\",\n",
       " \"user:  \\ndoes this emoji sequence mean 'hot merchandise'? answer yes or no. assistant: no.\",\n",
       " \"user:  \\ndoes this emoji sequence mean 'hot merchandise'? answer yes or no. assistant: no.\",\n",
       " \"user:  \\ndoes this emoji sequence mean 'hot merchandise'? answer yes or no. assistant: no.\",\n",
       " \"user:  \\ndoes this emoji sequence mean 'hot merchandise'? answer yes or no. assistant: no.\",\n",
       " \"user:  \\ndoes this emoji sequence mean 'hot merchandise'? answer yes or no. assistant: no.\",\n",
       " \"user:  \\ndoes this emoji sequence mean 'hot merchandise'? answer yes or no. assistant: no.\",\n",
       " '<SKIPPED_OR_ERROR>',\n",
       " \"user:  \\ndoes this emoji sequence mean 'hot temper'? answer yes or no. assistant: no.\",\n",
       " \"user:  \\ndoes this emoji sequence mean 'hot temper'? answer yes or no. assistant: yes.\",\n",
       " \"user:  \\ndoes this emoji sequence mean 'hot temper'? answer yes or no. assistant: yes.\",\n",
       " \"user:  \\ndoes this emoji sequence mean 'hot temper'? answer yes or no. assistant: yes.\",\n",
       " \"user:  \\ndoes this emoji sequence mean 'hot temper'? answer yes or no. assistant: no.\",\n",
       " \"user:  \\ndoes this emoji sequence mean 'hot temper'? answer yes or no. assistant: no.\",\n",
       " \"user:  \\ndoes this emoji sequence mean 'hot temper'? answer yes or no. assistant: no.\",\n",
       " \"user:  \\ndoes this emoji sequence mean 'hot temper'? answer yes or no. assistant: no.\",\n",
       " \"user:  \\ndoes this emoji sequence mean 'hot argument'? answer yes or no. assistant: no.\",\n",
       " \"user:  \\ndoes this emoji sequence mean 'hot argument'? answer yes or no. assistant: no.\",\n",
       " \"user:  \\ndoes this emoji sequence mean 'hot argument'? answer yes or no. assistant: no.\",\n",
       " \"user:  \\ndoes this emoji sequence mean 'hot argument'? answer yes or no. assistant: no.\",\n",
       " \"user:  \\ndoes this emoji sequence mean 'hot argument'? answer yes or no. assistant: no.\",\n",
       " \"user:  \\ndoes this emoji sequence mean 'hot argument'? answer yes or no. assistant: no.\",\n",
       " \"user:  \\ndoes this emoji sequence mean 'hot argument'? answer yes or no. assistant: no.\",\n",
       " \"user:  \\ndoes this emoji sequence mean 'hot argument'? answer yes or no. assistant: no.\",\n",
       " \"user:  \\ndoes this emoji sequence mean 'hot forehead'? answer yes or no. assistant: no.\",\n",
       " \"user:  \\ndoes this emoji sequence mean 'hot forehead'? answer yes or no. assistant: no.\",\n",
       " \"user:  \\ndoes this emoji sequence mean 'hot forehead'? answer yes or no. assistant: no.\",\n",
       " \"user:  \\ndoes this emoji sequence mean 'hot forehead'? answer yes or no. assistant: no.\",\n",
       " \"user:  \\ndoes this emoji sequence mean 'hot forehead'? answer yes or no. assistant: no.\",\n",
       " \"user:  \\ndoes this emoji sequence mean 'hot forehead'? answer yes or no. assistant: no.\",\n",
       " \"user:  \\ndoes this emoji sequence mean 'hot forehead'? answer yes or no. assistant: no.\",\n",
       " \"user:  \\ndoes this emoji sequence mean 'hot forehead'? answer yes or no. assistant: no.\",\n",
       " \"user:  \\ndoes this emoji sequence mean 'full game'? answer yes or no. assistant: no.\",\n",
       " \"user:  \\ndoes this emoji sequence mean 'full game'? answer yes or no. assistant: no.\",\n",
       " \"user:  \\ndoes this emoji sequence mean 'full game'? answer yes or no. assistant: no.\",\n",
       " \"user:  \\ndoes this emoji sequence mean 'full game'? answer yes or no. assistant: no.\",\n",
       " \"user:  \\ndoes this emoji sequence mean 'full game'? answer yes or no. assistant: no.\",\n",
       " \"user:  \\ndoes this emoji sequence mean 'full game'? answer yes or no. assistant: no.\",\n",
       " \"user:  \\ndoes this emoji sequence mean 'full game'? answer yes or no. assistant: no.\",\n",
       " \"user:  \\ndoes this emoji sequence mean 'full auditorium'? answer yes or no. assistant: no.\",\n",
       " \"user:  \\ndoes this emoji sequence mean 'full auditorium'? answer yes or no. assistant: no.\",\n",
       " \"user:  \\ndoes this emoji sequence mean 'full auditorium'? answer yes or no. assistant: no.\",\n",
       " \"user:  \\ndoes this emoji sequence mean 'full auditorium'? answer yes or no. assistant: no.\",\n",
       " \"user:  \\ndoes this emoji sequence mean 'full auditorium'? answer yes or no. assistant: no.\",\n",
       " \"user:  \\ndoes this emoji sequence mean 'full auditorium'? answer yes or no. assistant: no.\",\n",
       " \"user:  \\ndoes this emoji sequence mean 'full auditorium'? answer yes or no. assistant: no.\",\n",
       " \"user:  \\ndoes this emoji sequence mean 'full attention'? answer yes or no. assistant: no.\",\n",
       " \"user:  \\ndoes this emoji sequence mean 'full attention'? answer yes or no. assistant: no.\",\n",
       " \"user:  \\ndoes this emoji sequence mean 'full attention'? answer yes or no. assistant: no.\",\n",
       " \"user:  \\ndoes this emoji sequence mean 'full attention'? answer yes or no. assistant: no.\",\n",
       " \"user:  \\ndoes this emoji sequence mean 'full attention'? answer yes or no. assistant: no.\",\n",
       " \"user:  \\ndoes this emoji sequence mean 'full attention'? answer yes or no. assistant: no.\",\n",
       " \"user:  \\ndoes this emoji sequence mean 'full attention'? answer yes or no. assistant: no.\",\n",
       " \"user:  \\ndoes this emoji sequence mean 'full glass'? answer yes or no. assistant: no.\",\n",
       " \"user:  \\ndoes this emoji sequence mean 'full glass'? answer yes or no. assistant: no.\",\n",
       " \"user:  \\ndoes this emoji sequence mean 'full glass'? answer yes or no. assistant: no.\",\n",
       " \"user:  \\ndoes this emoji sequence mean 'full glass'? answer yes or no. assistant: no.\",\n",
       " \"user:  \\ndoes this emoji sequence mean 'full glass'? answer yes or no. assistant: no.\",\n",
       " \"user:  \\ndoes this emoji sequence mean 'full glass'? answer yes or no. assistant: no.\",\n",
       " \"user:  \\ndoes this emoji sequence mean 'full glass'? answer yes or no. assistant: no.\",\n",
       " \"user:  \\ndoes this emoji sequence mean 'full life'? answer yes or no. assistant: no.\",\n",
       " \"user:  \\ndoes this emoji sequence mean 'full life'? answer yes or no. assistant: no.\",\n",
       " \"user:  \\ndoes this emoji sequence mean 'full life'? answer yes or no. assistant: no.\",\n",
       " \"user:  \\ndoes this emoji sequence mean 'full life'? answer yes or no. assistant: no.\",\n",
       " \"user:  \\ndoes this emoji sequence mean 'full life'? answer yes or no. assistant: no.\",\n",
       " \"user:  \\ndoes this emoji sequence mean 'full life'? answer yes or no. assistant: no.\",\n",
       " \"user:  \\ndoes this emoji sequence mean 'full life'? answer yes or no. assistant: no.\",\n",
       " \"user:  \\ndoes this emoji sequence mean 'little boy'? answer yes or no. assistant: no.\",\n",
       " \"user:  \\ndoes this emoji sequence mean 'little boy'? answer yes or no. assistant: no.\",\n",
       " \"user:  \\ndoes this emoji sequence mean 'little boy'? answer yes or no. assistant: no.\",\n",
       " \"user:  \\ndoes this emoji sequence mean 'little boy'? answer yes or no. assistant: no.\",\n",
       " \"user:  \\ndoes this emoji sequence mean 'little boy'? answer yes or no. assistant: no.\",\n",
       " \"user:  \\ndoes this emoji sequence mean 'little boy'? answer yes or no. assistant: no.\",\n",
       " \"user:  \\ndoes this emoji sequence mean 'little boy'? answer yes or no. assistant: yes.\",\n",
       " \"user:  \\ndoes this emoji sequence mean 'little boy'? answer yes or no. assistant: yes.\",\n",
       " \"user:  \\ndoes this emoji sequence mean 'little man'? answer yes or no. assistant: no.\",\n",
       " \"user:  \\ndoes this emoji sequence mean 'little man'? answer yes or no. assistant: yes.\",\n",
       " \"user:  \\ndoes this emoji sequence mean 'little man'? answer yes or no. assistant: yes.\",\n",
       " \"user:  \\ndoes this emoji sequence mean 'little man'? answer yes or no. assistant: no.\",\n",
       " \"user:  \\ndoes this emoji sequence mean 'little man'? answer yes or no. assistant: no.\",\n",
       " \"user:  \\ndoes this emoji sequence mean 'little man'? answer yes or no. assistant: no.\",\n",
       " \"user:  \\ndoes this emoji sequence mean 'little man'? answer yes or no. assistant: no.\",\n",
       " \"user:  \\ndoes this emoji sequence mean 'little man'? answer yes or no. assistant: no.\",\n",
       " \"user:  \\ndoes this emoji sequence mean 'little house'? answer yes or no. assistant: no.\",\n",
       " \"user:  \\ndoes this emoji sequence mean 'little house'? answer yes or no. assistant: no.\",\n",
       " \"user:  \\ndoes this emoji sequence mean 'little house'? answer yes or no. assistant: no.\",\n",
       " \"user:  \\ndoes this emoji sequence mean 'little house'? answer yes or no. assistant: no.\",\n",
       " \"user:  \\ndoes this emoji sequence mean 'little house'? answer yes or no. assistant: no.\",\n",
       " \"user:  \\ndoes this emoji sequence mean 'little house'? answer yes or no. assistant: no.\",\n",
       " \"user:  \\ndoes this emoji sequence mean 'little house'? answer yes or no. assistant: no.\",\n",
       " \"user:  \\ndoes this emoji sequence mean 'little house'? answer yes or no. assistant: no.\",\n",
       " \"user:  \\ndoes this emoji sequence mean 'thin oil'? answer yes or no. assistant: no.\",\n",
       " \"user:  \\ndoes this emoji sequence mean 'thin oil'? answer yes or no. assistant: no.\",\n",
       " \"user:  \\ndoes this emoji sequence mean 'thin oil'? answer yes or no. assistant: no.\",\n",
       " \"user:  \\ndoes this emoji sequence mean 'thin oil'? answer yes or no. assistant: no.\",\n",
       " \"user:  \\ndoes this emoji sequence mean 'thin oil'? answer yes or no. assistant: no.\",\n",
       " \"user:  \\ndoes this emoji sequence mean 'thin oil'? answer yes or no. assistant: no.\",\n",
       " \"user:  \\ndoes this emoji sequence mean 'thin oil'? answer yes or no. assistant: no.\",\n",
       " \"user:  \\ndoes this emoji sequence mean 'thin oil'? answer yes or no. assistant: no.\",\n",
       " \"user:  \\ndoes this emoji sequence mean 'thin soup'? answer yes or no. assistant: no.\",\n",
       " \"user:  \\ndoes this emoji sequence mean 'thin soup'? answer yes or no. assistant: no.\",\n",
       " \"user:  \\ndoes this emoji sequence mean 'thin soup'? answer yes or no. assistant: no.\",\n",
       " \"user:  \\ndoes this emoji sequence mean 'thin soup'? answer yes or no. assistant: no.\",\n",
       " \"user:  \\ndoes this emoji sequence mean 'thin soup'? answer yes or no. assistant: no.\",\n",
       " \"user:  \\ndoes this emoji sequence mean 'thin soup'? answer yes or no. assistant: no.\",\n",
       " \"user:  \\ndoes this emoji sequence mean 'thin soup'? answer yes or no. assistant: no.\",\n",
       " \"user:  \\ndoes this emoji sequence mean 'thin soup'? answer yes or no. assistant: no.\",\n",
       " \"user:  \\ndoes this emoji sequence mean 'thin air'? answer yes or no. assistant: no.\",\n",
       " \"user:  \\ndoes this emoji sequence mean 'thin air'? answer yes or no. assistant: no.\",\n",
       " \"user:  \\ndoes this emoji sequence mean 'thin air'? answer yes or no. assistant: no.\",\n",
       " \"user:  \\ndoes this emoji sequence mean 'thin air'? answer yes or no. assistant: no.\",\n",
       " \"user:  \\ndoes this emoji sequence mean 'thin air'? answer yes or no. assistant: no.\",\n",
       " \"user:  \\ndoes this emoji sequence mean 'thin air'? answer yes or no. assistant: no.\",\n",
       " \"user:  \\ndoes this emoji sequence mean 'thin air'? answer yes or no. assistant: no.\",\n",
       " \"user:  \\ndoes this emoji sequence mean 'thin air'? answer yes or no. assistant: no.\",\n",
       " \"user:  \\ndoes this emoji sequence mean 'thin line'? answer yes or no. assistant: no.\",\n",
       " \"user:  \\ndoes this emoji sequence mean 'thin line'? answer yes or no. assistant: no.\",\n",
       " \"user:  \\ndoes this emoji sequence mean 'thin line'? answer yes or no. assistant: no.\",\n",
       " \"user:  \\ndoes this emoji sequence mean 'thin line'? answer yes or no. assistant: no.\",\n",
       " \"user:  \\ndoes this emoji sequence mean 'thin line'? answer yes or no. assistant: no.\",\n",
       " \"user:  \\ndoes this emoji sequence mean 'thin line'? answer yes or no. assistant: no.\",\n",
       " \"user:  \\ndoes this emoji sequence mean 'thin line'? answer yes or no. assistant: no.\",\n",
       " \"user:  \\ndoes this emoji sequence mean 'thin line'? answer yes or no. assistant: no.\",\n",
       " \"user:  \\ndoes this emoji sequence mean 'ineffectual ruler'? answer yes or no. assistant: no.\",\n",
       " \"user:  \\ndoes this emoji sequence mean 'ineffectual ruler'? answer yes or no. assistant: no.\",\n",
       " \"user:  \\ndoes this emoji sequence mean 'ineffectual ruler'? answer yes or no. assistant: no.\",\n",
       " \"user:  \\ndoes this emoji sequence mean 'ineffectual ruler'? answer yes or no. assistant: no.\",\n",
       " \"user:  \\ndoes this emoji sequence mean 'ineffectual ruler'? answer yes or no. assistant: no.\",\n",
       " \"user:  \\ndoes this emoji sequence mean 'ineffectual ruler'? answer yes or no. assistant: no.\",\n",
       " \"user:  \\ndoes this emoji sequence mean 'ineffectual ruler'? answer yes or no. assistant: no.\",\n",
       " \"user:  \\ndoes this emoji sequence mean 'ineffectual ruler'? answer yes or no. assistant: no.\",\n",
       " \"user:  \\ndoes this emoji sequence mean 'ineffectual therapy'? answer yes or no. assistant: no.\",\n",
       " \"user:  \\ndoes this emoji sequence mean 'ineffectual therapy'? answer yes or no. assistant: no.\",\n",
       " \"user:  \\ndoes this emoji sequence mean 'ineffectual therapy'? answer yes or no. assistant: no.\",\n",
       " \"user:  \\ndoes this emoji sequence mean 'ineffectual therapy'? answer yes or no. assistant: no.\",\n",
       " \"user:  \\ndoes this emoji sequence mean 'ineffectual therapy'? answer yes or no. assistant: no.\",\n",
       " \"user:  \\ndoes this emoji sequence mean 'ineffectual therapy'? answer yes or no. assistant: no.\",\n",
       " '<SKIPPED_OR_ERROR>',\n",
       " \"user:  \\ndoes this emoji sequence mean 'ineffectual therapy'? answer yes or no. assistant: no.\",\n",
       " \"user:  \\ndoes this emoji sequence mean 'effective step'? answer yes or no. assistant: yes.\",\n",
       " '<SKIPPED_OR_ERROR>',\n",
       " \"user:  \\ndoes this emoji sequence mean 'effective step'? answer yes or no. assistant: no.\",\n",
       " \"user:  \\ndoes this emoji sequence mean 'effective step'? answer yes or no. assistant: no.\",\n",
       " \"user:  \\ndoes this emoji sequence mean 'effective step'? answer yes or no. assistant: no.\",\n",
       " \"user:  \\ndoes this emoji sequence mean 'effective step'? answer yes or no. assistant: no.\",\n",
       " \"user:  \\ndoes this emoji sequence mean 'effective step'? answer yes or no. assistant: no.\",\n",
       " \"user:  \\ndoes this emoji sequence mean 'effective step'? answer yes or no. assistant: no.\",\n",
       " \"user:  \\ndoes this emoji sequence mean 'effective reprimand'? answer yes or no. assistant: no.\",\n",
       " \"user:  \\ndoes this emoji sequence mean 'effective reprimand'? answer yes or no. assistant: no.\",\n",
       " \"user:  \\ndoes this emoji sequence mean 'effective reprimand'? answer yes or no. assistant: no.\",\n",
       " \"user:  \\ndoes this emoji sequence mean 'effective reprimand'? answer yes or no. assistant: no.\",\n",
       " \"user:  \\ndoes this emoji sequence mean 'effective reprimand'? answer yes or no. assistant: no.\",\n",
       " \"user:  \\ndoes this emoji sequence mean 'effective reprimand'? answer yes or no. assistant: no.\",\n",
       " \"user:  \\ndoes this emoji sequence mean 'effective reprimand'? answer yes or no. assistant: no.\",\n",
       " \"user:  \\ndoes this emoji sequence mean 'effective reprimand'? answer yes or no. assistant: no.\",\n",
       " \"user:  \\ndoes this emoji sequence mean 'effective entrance'? answer yes or no. assistant: no.\",\n",
       " \"user:  \\ndoes this emoji sequence mean 'effective entrance'? answer yes or no. assistant: no.\",\n",
       " \"user:  \\ndoes this emoji sequence mean 'effective entrance'? answer yes or no. assistant: no.\",\n",
       " \"user:  \\ndoes this emoji sequence mean 'effective entrance'? answer yes or no. assistant: no.\",\n",
       " \"user:  \\ndoes this emoji sequence mean 'effective entrance'? answer yes or no. assistant: no.\",\n",
       " \"user:  \\ndoes this emoji sequence mean 'effective entrance'? answer yes or no. assistant: no.\",\n",
       " \"user:  \\ndoes this emoji sequence mean 'effective entrance'? answer yes or no. assistant: no.\",\n",
       " \"user:  \\ndoes this emoji sequence mean 'effective entrance'? answer yes or no. assistant: no.\"]"
      ]
     },
     "execution_count": 5,
     "metadata": {},
     "output_type": "execute_result"
    }
   ],
   "source": [
    "generated_texts"
   ]
  },
  {
   "cell_type": "code",
   "execution_count": 6,
   "metadata": {},
   "outputs": [
    {
     "data": {
      "text/plain": [
       "[\"user:  does this emoji sequence mean 'big business'? answer yes or no. assistant: yes.\",\n",
       " \"user:  does this emoji sequence mean 'big business'? answer yes or no. assistant: yes.\",\n",
       " \"user:  does this emoji sequence mean 'big business'? answer yes or no. assistant: no.\",\n",
       " \"user:  does this emoji sequence mean 'big business'? answer yes or no. assistant: no.\",\n",
       " \"user:  does this emoji sequence mean 'big business'? answer yes or no. assistant: no.\",\n",
       " \"user:  does this emoji sequence mean 'big business'? answer yes or no. assistant: yes.\",\n",
       " \"user:  does this emoji sequence mean 'big business'? answer yes or no. assistant: no.\",\n",
       " \"user:  does this emoji sequence mean 'big business'? answer yes or no. assistant: no.\",\n",
       " \"user:  does this emoji sequence mean 'big expenditure'? answer yes or no. assistant: yes.\",\n",
       " \"user:  does this emoji sequence mean 'big expenditure'? answer yes or no. assistant: yes.\",\n",
       " \"user:  does this emoji sequence mean 'big expenditure'? answer yes or no. assistant: yes.\",\n",
       " \"user:  does this emoji sequence mean 'big expenditure'? answer yes or no. assistant: yes.\",\n",
       " \"user:  does this emoji sequence mean 'big expenditure'? answer yes or no. assistant: yes.\",\n",
       " \"user:  does this emoji sequence mean 'big expenditure'? answer yes or no. assistant: yes.\",\n",
       " \"user:  does this emoji sequence mean 'big expenditure'? answer yes or no. assistant: yes.\",\n",
       " \"user:  does this emoji sequence mean 'big expenditure'? answer yes or no. assistant: yes.\",\n",
       " \"user:  does this emoji sequence mean 'big voice'? answer yes or no. assistant: yes.\",\n",
       " \"user:  does this emoji sequence mean 'big voice'? answer yes or no. assistant: yes.\",\n",
       " \"user:  does this emoji sequence mean 'big voice'? answer yes or no. assistant: yes.\",\n",
       " \"user:  does this emoji sequence mean 'big voice'? answer yes or no. assistant: yes.\",\n",
       " \"user:  does this emoji sequence mean 'big voice'? answer yes or no. assistant: yes.\",\n",
       " \"user:  does this emoji sequence mean 'big voice'? answer yes or no. assistant: yes.\",\n",
       " \"user:  does this emoji sequence mean 'big voice'? answer yes or no. assistant: no.\",\n",
       " \"user:  does this emoji sequence mean 'big voice'? answer yes or no. assistant: yes.\",\n",
       " \"user:  does this emoji sequence mean 'big group'? answer yes or no. assistant: yes.\",\n",
       " \"user:  does this emoji sequence mean 'big group'? answer yes or no. assistant: yes.\",\n",
       " '<SKIPPED_OR_ERROR>',\n",
       " \"user:  does this emoji sequence mean 'big group'? answer yes or no. assistant: yes.\",\n",
       " \"user:  does this emoji sequence mean 'big group'? answer yes or no. assistant: yes.\",\n",
       " \"user:  does this emoji sequence mean 'big group'? answer yes or no. assistant: yes.\",\n",
       " \"user:  does this emoji sequence mean 'big group'? answer yes or no. assistant: yes.\",\n",
       " \"user:  does this emoji sequence mean 'big group'? answer yes or no. assistant: yes.\",\n",
       " \"user:  does this emoji sequence mean 'big man'? answer yes or no. assistant: no.\",\n",
       " \"user:  does this emoji sequence mean 'big man'? answer yes or no. assistant: no.\",\n",
       " \"user:  does this emoji sequence mean 'big man'? answer yes or no. assistant: no.\",\n",
       " \"user:  does this emoji sequence mean 'big man'? answer yes or no. assistant: yes.\",\n",
       " \"user:  does this emoji sequence mean 'big man'? answer yes or no. assistant: yes.\",\n",
       " \"user:  does this emoji sequence mean 'big man'? answer yes or no. assistant: no.\",\n",
       " \"user:  does this emoji sequence mean 'big man'? answer yes or no. assistant: no.\",\n",
       " \"user:  does this emoji sequence mean 'big man'? answer yes or no. assistant: yes.\",\n",
       " \"user:  does this emoji sequence mean 'big city'? answer yes or no. assistant: yes.\",\n",
       " \"user:  does this emoji sequence mean 'big city'? answer yes or no. assistant: yes.\",\n",
       " '<SKIPPED_OR_ERROR>',\n",
       " \"user:  does this emoji sequence mean 'big city'? answer yes or no. assistant: yes.\",\n",
       " \"user:  does this emoji sequence mean 'big city'? answer yes or no. assistant: yes.\",\n",
       " \"user:  does this emoji sequence mean 'big city'? answer yes or no. assistant: yes.\",\n",
       " \"user:  does this emoji sequence mean 'big city'? answer yes or no. assistant: yes.\",\n",
       " \"user:  does this emoji sequence mean 'big city'? answer yes or no. assistant: yes.\",\n",
       " \"user:  does this emoji sequence mean 'big tipper'? answer yes or no. assistant: no.\",\n",
       " \"user:  does this emoji sequence mean 'big tipper'? answer yes or no. assistant: no.\",\n",
       " \"user:  does this emoji sequence mean 'big tipper'? answer yes or no. assistant: no.\",\n",
       " \"user:  does this emoji sequence mean 'big tipper'? answer yes or no. assistant: no.\",\n",
       " \"user:  does this emoji sequence mean 'big tipper'? answer yes or no. assistant: no.\",\n",
       " \"user:  does this emoji sequence mean 'big tipper'? answer yes or no. assistant: no.\",\n",
       " \"user:  does this emoji sequence mean 'big tipper'? answer yes or no. assistant: no.\",\n",
       " \"user:  does this emoji sequence mean 'big tipper'? answer yes or no. assistant: yes.\",\n",
       " \"user:  does this emoji sequence mean 'big day'? answer yes or no. assistant: yes.\",\n",
       " \"user:  does this emoji sequence mean 'big day'? answer yes or no. assistant: yes.\",\n",
       " \"user:  does this emoji sequence mean 'big day'? answer yes or no. assistant: yes.\",\n",
       " \"user:  does this emoji sequence mean 'big day'? answer yes or no. assistant: no.\",\n",
       " \"user:  does this emoji sequence mean 'big day'? answer yes or no. assistant: yes.\",\n",
       " \"user:  does this emoji sequence mean 'big day'? answer yes or no. assistant: yes.\",\n",
       " \"user:  does this emoji sequence mean 'big day'? answer yes or no. assistant: no.\",\n",
       " \"user:  does this emoji sequence mean 'big day'? answer yes or no. assistant: yes.\",\n",
       " \"user:  does this emoji sequence mean 'hot doll'? answer yes or no. assistant: no.\",\n",
       " \"user:  does this emoji sequence mean 'hot doll'? answer yes or no. assistant: no.\",\n",
       " \"user:  does this emoji sequence mean 'hot doll'? answer yes or no. assistant: no.\",\n",
       " \"user:  does this emoji sequence mean 'hot doll'? answer yes or no. assistant: no.\",\n",
       " \"user:  does this emoji sequence mean 'hot doll'? answer yes or no. assistant: no.\",\n",
       " \"user:  does this emoji sequence mean 'hot doll'? answer yes or no. assistant: no.\",\n",
       " \"user:  does this emoji sequence mean 'hot doll'? answer yes or no. assistant: no.\",\n",
       " \"user:  does this emoji sequence mean 'hot doll'? answer yes or no. assistant: no.\",\n",
       " \"user:  does this emoji sequence mean 'hot water'? answer yes or no. assistant: yes.\",\n",
       " \"user:  does this emoji sequence mean 'hot water'? answer yes or no. assistant: no.\",\n",
       " \"user:  does this emoji sequence mean 'hot water'? answer yes or no. assistant: yes.\",\n",
       " \"user:  does this emoji sequence mean 'hot water'? answer yes or no. assistant: yes.\",\n",
       " \"user:  does this emoji sequence mean 'hot water'? answer yes or no. assistant: yes.\",\n",
       " \"user:  does this emoji sequence mean 'hot water'? answer yes or no. assistant: yes.\",\n",
       " \"user:  does this emoji sequence mean 'hot water'? answer yes or no. assistant: yes.\",\n",
       " \"user:  does this emoji sequence mean 'hot water'? answer yes or no. assistant: yes.\",\n",
       " \"user:  does this emoji sequence mean 'hot stove'? answer yes or no. assistant: yes.\",\n",
       " \"user:  does this emoji sequence mean 'hot stove'? answer yes or no. assistant: yes.\",\n",
       " \"user:  does this emoji sequence mean 'hot stove'? answer yes or no. assistant: yes.\",\n",
       " \"user:  does this emoji sequence mean 'hot stove'? answer yes or no. assistant: no.\",\n",
       " \"user:  does this emoji sequence mean 'hot stove'? answer yes or no. assistant: no.\",\n",
       " \"user:  does this emoji sequence mean 'hot stove'? answer yes or no. assistant: yes.\",\n",
       " \"user:  does this emoji sequence mean 'hot stove'? answer yes or no. assistant: yes.\",\n",
       " \"user:  does this emoji sequence mean 'hot stove'? answer yes or no. assistant: yes.\",\n",
       " \"user:  does this emoji sequence mean 'hot topic'? answer yes or no. assistant: no.\",\n",
       " \"user:  does this emoji sequence mean 'hot topic'? answer yes or no. assistant: no.\",\n",
       " \"user:  does this emoji sequence mean 'hot topic'? answer yes or no. assistant: no.\",\n",
       " \"user:  does this emoji sequence mean 'hot topic'? answer yes or no. assistant: no.\",\n",
       " \"user:  does this emoji sequence mean 'hot topic'? answer yes or no. assistant: no.\",\n",
       " \"user:  does this emoji sequence mean 'hot topic'? answer yes or no. assistant: no.\",\n",
       " \"user:  does this emoji sequence mean 'hot topic'? answer yes or no. assistant: no.\",\n",
       " \"user:  does this emoji sequence mean 'hot topic'? answer yes or no. assistant: no.\",\n",
       " \"user:  does this emoji sequence mean 'hot merchandise'? answer yes or no. assistant: no.\",\n",
       " \"user:  does this emoji sequence mean 'hot merchandise'? answer yes or no. assistant: no.\",\n",
       " \"user:  does this emoji sequence mean 'hot merchandise'? answer yes or no. assistant: yes.\",\n",
       " \"user:  does this emoji sequence mean 'hot merchandise'? answer yes or no. assistant: yes.\",\n",
       " \"user:  does this emoji sequence mean 'hot merchandise'? answer yes or no. assistant: no.\",\n",
       " \"user:  does this emoji sequence mean 'hot merchandise'? answer yes or no. assistant: no.\",\n",
       " \"user:  does this emoji sequence mean 'hot merchandise'? answer yes or no. assistant: no.\",\n",
       " \"user:  does this emoji sequence mean 'hot merchandise'? answer yes or no. assistant: no.\",\n",
       " '<SKIPPED_OR_ERROR>',\n",
       " \"user:  does this emoji sequence mean 'hot temper'? answer yes or no. assistant: no.\",\n",
       " '<SKIPPED_OR_ERROR>',\n",
       " '<SKIPPED_OR_ERROR>',\n",
       " '<SKIPPED_OR_ERROR>',\n",
       " '<SKIPPED_OR_ERROR>',\n",
       " \"user:  does this emoji sequence mean 'hot temper'? answer yes or no. assistant: no.\",\n",
       " '<SKIPPED_OR_ERROR>',\n",
       " \"user:  does this emoji sequence mean 'hot argument'? answer yes or no. assistant: no.\",\n",
       " \"user:  does this emoji sequence mean 'hot argument'? answer yes or no. assistant: yes.\",\n",
       " '<SKIPPED_OR_ERROR>',\n",
       " \"user:  does this emoji sequence mean 'hot argument'? answer yes or no. assistant: no.\",\n",
       " '<SKIPPED_OR_ERROR>',\n",
       " \"user:  does this emoji sequence mean 'hot argument'? answer yes or no. assistant: no.\",\n",
       " \"user:  does this emoji sequence mean 'hot argument'? answer yes or no. assistant: no.\",\n",
       " \"user:  does this emoji sequence mean 'hot argument'? answer yes or no. assistant: no.\",\n",
       " \"user:  does this emoji sequence mean 'hot forehead'? answer yes or no. assistant: no.\",\n",
       " \"user:  does this emoji sequence mean 'hot forehead'? answer yes or no. assistant: no.\",\n",
       " \"user:  does this emoji sequence mean 'hot forehead'? answer yes or no. assistant: no.\",\n",
       " \"user:  does this emoji sequence mean 'hot forehead'? answer yes or no. assistant: no.\",\n",
       " \"user:  does this emoji sequence mean 'hot forehead'? answer yes or no. assistant: no.\",\n",
       " \"user:  does this emoji sequence mean 'hot forehead'? answer yes or no. assistant: no.\",\n",
       " \"user:  does this emoji sequence mean 'hot forehead'? answer yes or no. assistant: no.\",\n",
       " \"user:  does this emoji sequence mean 'hot forehead'? answer yes or no. assistant: no.\",\n",
       " \"user:  does this emoji sequence mean 'full game'? answer yes or no. assistant: no.\",\n",
       " \"user:  does this emoji sequence mean 'full game'? answer yes or no. assistant: no.\",\n",
       " \"user:  does this emoji sequence mean 'full game'? answer yes or no. assistant: no.\",\n",
       " \"user:  does this emoji sequence mean 'full game'? answer yes or no. assistant: no.\",\n",
       " \"user:  does this emoji sequence mean 'full game'? answer yes or no. assistant: no.\",\n",
       " \"user:  does this emoji sequence mean 'full game'? answer yes or no. assistant: no.\",\n",
       " \"user:  does this emoji sequence mean 'full game'? answer yes or no. assistant: no.\",\n",
       " \"user:  does this emoji sequence mean 'full auditorium'? answer yes or no. assistant: no.\",\n",
       " '<SKIPPED_OR_ERROR>',\n",
       " \"user:  does this emoji sequence mean 'full auditorium'? answer yes or no. assistant: no.\",\n",
       " \"user:  does this emoji sequence mean 'full auditorium'? answer yes or no. assistant: yes.\",\n",
       " \"user:  does this emoji sequence mean 'full auditorium'? answer yes or no. assistant: no.\",\n",
       " \"user:  does this emoji sequence mean 'full auditorium'? answer yes or no. assistant: no.\",\n",
       " \"user:  does this emoji sequence mean 'full auditorium'? answer yes or no. assistant: no.\",\n",
       " \"user:  does this emoji sequence mean 'full attention'? answer yes or no. assistant: no.\",\n",
       " \"user:  does this emoji sequence mean 'full attention'? answer yes or no. assistant: no.\",\n",
       " \"user:  does this emoji sequence mean 'full attention'? answer yes or no. assistant: no.\",\n",
       " \"user:  does this emoji sequence mean 'full attention'? answer yes or no. assistant: no.\",\n",
       " \"user:  does this emoji sequence mean 'full attention'? answer yes or no. assistant: no.\",\n",
       " \"user:  does this emoji sequence mean 'full attention'? answer yes or no. assistant: no.\",\n",
       " \"user:  does this emoji sequence mean 'full attention'? answer yes or no. assistant: no.\",\n",
       " \"user:  does this emoji sequence mean 'full glass'? answer yes or no. assistant: yes.\",\n",
       " \"user:  does this emoji sequence mean 'full glass'? answer yes or no. assistant: no.\",\n",
       " \"user:  does this emoji sequence mean 'full glass'? answer yes or no. assistant: no.\",\n",
       " \"user:  does this emoji sequence mean 'full glass'? answer yes or no. assistant: yes.\",\n",
       " \"user:  does this emoji sequence mean 'full glass'? answer yes or no. assistant: no.\",\n",
       " \"user:  does this emoji sequence mean 'full glass'? answer yes or no. assistant: yes.\",\n",
       " \"user:  does this emoji sequence mean 'full glass'? answer yes or no. assistant: yes.\",\n",
       " \"user:  does this emoji sequence mean 'full life'? answer yes or no. assistant: no.\",\n",
       " \"user:  does this emoji sequence mean 'full life'? answer yes or no. assistant: no.\",\n",
       " \"user:  does this emoji sequence mean 'full life'? answer yes or no. assistant: no.\",\n",
       " \"user:  does this emoji sequence mean 'full life'? answer yes or no. assistant: no.\",\n",
       " \"user:  does this emoji sequence mean 'full life'? answer yes or no. assistant: no.\",\n",
       " \"user:  does this emoji sequence mean 'full life'? answer yes or no. assistant: no.\",\n",
       " \"user:  does this emoji sequence mean 'full life'? answer yes or no. assistant: no.\",\n",
       " \"user:  does this emoji sequence mean 'little boy'? answer yes or no. assistant: yes.\",\n",
       " \"user:  does this emoji sequence mean 'little boy'? answer yes or no. assistant: yes.\",\n",
       " \"user:  does this emoji sequence mean 'little boy'? answer yes or no. assistant: yes.\",\n",
       " \"user:  does this emoji sequence mean 'little boy'? answer yes or no. assistant: yes.\",\n",
       " \"user:  does this emoji sequence mean 'little boy'? answer yes or no. assistant: yes.\",\n",
       " \"user:  does this emoji sequence mean 'little boy'? answer yes or no. assistant: yes.\",\n",
       " \"user:  does this emoji sequence mean 'little boy'? answer yes or no. assistant: yes.\",\n",
       " \"user:  does this emoji sequence mean 'little boy'? answer yes or no. assistant: yes.\",\n",
       " \"user:  does this emoji sequence mean 'little man'? answer yes or no. assistant: no.\",\n",
       " \"user:  does this emoji sequence mean 'little man'? answer yes or no. assistant: no.\",\n",
       " \"user:  does this emoji sequence mean 'little man'? answer yes or no. assistant: no.\",\n",
       " \"user:  does this emoji sequence mean 'little man'? answer yes or no. assistant: yes.\",\n",
       " \"user:  does this emoji sequence mean 'little man'? answer yes or no. assistant: yes.\",\n",
       " \"user:  does this emoji sequence mean 'little man'? answer yes or no. assistant: yes.\",\n",
       " \"user:  does this emoji sequence mean 'little man'? answer yes or no. assistant: yes.\",\n",
       " \"user:  does this emoji sequence mean 'little man'? answer yes or no. assistant: yes.\",\n",
       " \"user:  does this emoji sequence mean 'little house'? answer yes or no. assistant: yes.\",\n",
       " \"user:  does this emoji sequence mean 'little house'? answer yes or no. assistant: yes.\",\n",
       " \"user:  does this emoji sequence mean 'little house'? answer yes or no. assistant: yes.\",\n",
       " \"user:  does this emoji sequence mean 'little house'? answer yes or no. assistant: yes.\",\n",
       " \"user:  does this emoji sequence mean 'little house'? answer yes or no. assistant: yes.\",\n",
       " \"user:  does this emoji sequence mean 'little house'? answer yes or no. assistant: yes.\",\n",
       " \"user:  does this emoji sequence mean 'little house'? answer yes or no. assistant: yes.\",\n",
       " \"user:  does this emoji sequence mean 'little house'? answer yes or no. assistant: yes.\",\n",
       " \"user:  does this emoji sequence mean 'thin oil'? answer yes or no. assistant: no.\",\n",
       " \"user:  does this emoji sequence mean 'thin oil'? answer yes or no. assistant: no.\",\n",
       " \"user:  does this emoji sequence mean 'thin oil'? answer yes or no. assistant: no.\",\n",
       " \"user:  does this emoji sequence mean 'thin oil'? answer yes or no. assistant: no.\",\n",
       " \"user:  does this emoji sequence mean 'thin oil'? answer yes or no. assistant: no.\",\n",
       " \"user:  does this emoji sequence mean 'thin oil'? answer yes or no. assistant: no.\",\n",
       " \"user:  does this emoji sequence mean 'thin oil'? answer yes or no. assistant: no.\",\n",
       " \"user:  does this emoji sequence mean 'thin oil'? answer yes or no. assistant: no.\",\n",
       " \"user:  does this emoji sequence mean 'thin soup'? answer yes or no. assistant: no.\",\n",
       " \"user:  does this emoji sequence mean 'thin soup'? answer yes or no. assistant: no.\",\n",
       " \"user:  does this emoji sequence mean 'thin soup'? answer yes or no. assistant: no.\",\n",
       " \"user:  does this emoji sequence mean 'thin soup'? answer yes or no. assistant: no.\",\n",
       " \"user:  does this emoji sequence mean 'thin soup'? answer yes or no. assistant: no.\",\n",
       " \"user:  does this emoji sequence mean 'thin soup'? answer yes or no. assistant: yes.\",\n",
       " \"user:  does this emoji sequence mean 'thin soup'? answer yes or no. assistant: no.\",\n",
       " \"user:  does this emoji sequence mean 'thin soup'? answer yes or no. assistant: no.\",\n",
       " \"user:  does this emoji sequence mean 'thin air'? answer yes or no. assistant: yes.\",\n",
       " \"user:  does this emoji sequence mean 'thin air'? answer yes or no. assistant: no.\",\n",
       " \"user:  does this emoji sequence mean 'thin air'? answer yes or no. assistant: no.\",\n",
       " \"user:  does this emoji sequence mean 'thin air'? answer yes or no. assistant: no.\",\n",
       " \"user:  does this emoji sequence mean 'thin air'? answer yes or no. assistant: yes.\",\n",
       " \"user:  does this emoji sequence mean 'thin air'? answer yes or no. assistant: no.\",\n",
       " \"user:  does this emoji sequence mean 'thin air'? answer yes or no. assistant: yes.\",\n",
       " \"user:  does this emoji sequence mean 'thin air'? answer yes or no. assistant: yes.\",\n",
       " \"user:  does this emoji sequence mean 'thin line'? answer yes or no. assistant: no.\",\n",
       " \"user:  does this emoji sequence mean 'thin line'? answer yes or no. assistant: no.\",\n",
       " \"user:  does this emoji sequence mean 'thin line'? answer yes or no. assistant: no.\",\n",
       " \"user:  does this emoji sequence mean 'thin line'? answer yes or no. assistant: no.\",\n",
       " \"user:  does this emoji sequence mean 'thin line'? answer yes or no. assistant: no.\",\n",
       " \"user:  does this emoji sequence mean 'thin line'? answer yes or no. assistant: no.\",\n",
       " \"user:  does this emoji sequence mean 'thin line'? answer yes or no. assistant: no.\",\n",
       " \"user:  does this emoji sequence mean 'thin line'? answer yes or no. assistant: no.\",\n",
       " \"user:  does this emoji sequence mean 'ineffectual ruler'? answer yes or no. assistant: yes.\",\n",
       " \"user:  does this emoji sequence mean 'ineffectual ruler'? answer yes or no. assistant: yes.\",\n",
       " \"user:  does this emoji sequence mean 'ineffectual ruler'? answer yes or no. assistant: yes.\",\n",
       " \"user:  does this emoji sequence mean 'ineffectual ruler'? answer yes or no. assistant: no.\",\n",
       " \"user:  does this emoji sequence mean 'ineffectual ruler'? answer yes or no. assistant: yes.\",\n",
       " '<SKIPPED_OR_ERROR>',\n",
       " '<SKIPPED_OR_ERROR>',\n",
       " \"user:  does this emoji sequence mean 'ineffectual ruler'? answer yes or no. assistant: yes.\",\n",
       " \"user:  does this emoji sequence mean 'ineffectual therapy'? answer yes or no. assistant: no.\",\n",
       " \"user:  does this emoji sequence mean 'ineffectual therapy'? answer yes or no. assistant: no.\",\n",
       " \"user:  does this emoji sequence mean 'ineffectual therapy'? answer yes or no. assistant: no.\",\n",
       " \"user:  does this emoji sequence mean 'ineffectual therapy'? answer yes or no. assistant: no.\",\n",
       " \"user:  does this emoji sequence mean 'ineffectual therapy'? answer yes or no. assistant: no.\",\n",
       " \"user:  does this emoji sequence mean 'ineffectual therapy'? answer yes or no. assistant: no.\",\n",
       " \"user:  does this emoji sequence mean 'ineffectual therapy'? answer yes or no. assistant: yes.\",\n",
       " \"user:  does this emoji sequence mean 'ineffectual therapy'? answer yes or no. assistant: no.\",\n",
       " \"user:  does this emoji sequence mean 'effective step'? answer yes or no. assistant: no.\",\n",
       " \"user:  does this emoji sequence mean 'effective step'? answer yes or no. assistant: no.\",\n",
       " \"user:  does this emoji sequence mean 'effective step'? answer yes or no. assistant: no.\",\n",
       " \"user:  does this emoji sequence mean 'effective step'? answer yes or no. assistant: no.\",\n",
       " \"user:  does this emoji sequence mean 'effective step'? answer yes or no. assistant: no.\",\n",
       " \"user:  does this emoji sequence mean 'effective step'? answer yes or no. assistant: no.\",\n",
       " \"user:  does this emoji sequence mean 'effective step'? answer yes or no. assistant: no.\",\n",
       " \"user:  does this emoji sequence mean 'effective step'? answer yes or no. assistant: no.\",\n",
       " \"user:  does this emoji sequence mean 'effective reprimand'? answer yes or no. assistant: no.\",\n",
       " \"user:  does this emoji sequence mean 'effective reprimand'? answer yes or no. assistant: no.\",\n",
       " \"user:  does this emoji sequence mean 'effective reprimand'? answer yes or no. assistant: no.\",\n",
       " '<SKIPPED_OR_ERROR>',\n",
       " \"user:  does this emoji sequence mean 'effective reprimand'? answer yes or no. assistant: no.\",\n",
       " '<SKIPPED_OR_ERROR>',\n",
       " \"user:  does this emoji sequence mean 'effective reprimand'? answer yes or no. assistant: no.\",\n",
       " \"user:  does this emoji sequence mean 'effective reprimand'? answer yes or no. assistant: no.\",\n",
       " \"user:  does this emoji sequence mean 'effective entrance'? answer yes or no. assistant: no.\",\n",
       " \"user:  does this emoji sequence mean 'effective entrance'? answer yes or no. assistant: no.\",\n",
       " \"user:  does this emoji sequence mean 'effective entrance'? answer yes or no. assistant: no.\",\n",
       " \"user:  does this emoji sequence mean 'effective entrance'? answer yes or no. assistant: no.\",\n",
       " \"user:  does this emoji sequence mean 'effective entrance'? answer yes or no. assistant: no.\",\n",
       " \"user:  does this emoji sequence mean 'effective entrance'? answer yes or no. assistant: no.\",\n",
       " \"user:  does this emoji sequence mean 'effective entrance'? answer yes or no. assistant: no.\",\n",
       " \"user:  does this emoji sequence mean 'effective entrance'? answer yes or no. assistant: no.\",\n",
       " \"user:  does this emoji sequence mean 'big business'? answer yes or no. assistant: no.\",\n",
       " \"user:  does this emoji sequence mean 'big business'? answer yes or no. assistant: no.\",\n",
       " \"user:  does this emoji sequence mean 'big business'? answer yes or no. assistant: no.\",\n",
       " \"user:  does this emoji sequence mean 'big business'? answer yes or no. assistant: no.\",\n",
       " \"user:  does this emoji sequence mean 'big business'? answer yes or no. assistant: no.\",\n",
       " \"user:  does this emoji sequence mean 'big business'? answer yes or no. assistant: no.\",\n",
       " \"user:  does this emoji sequence mean 'big business'? answer yes or no. assistant: no.\",\n",
       " \"user:  does this emoji sequence mean 'big business'? answer yes or no. assistant: no.\",\n",
       " \"user:  does this emoji sequence mean 'big expenditure'? answer yes or no. assistant: no.\",\n",
       " \"user:  does this emoji sequence mean 'big expenditure'? answer yes or no. assistant: no.\",\n",
       " \"user:  does this emoji sequence mean 'big expenditure'? answer yes or no. assistant: no.\",\n",
       " \"user:  does this emoji sequence mean 'big expenditure'? answer yes or no. assistant: yes.\",\n",
       " \"user:  does this emoji sequence mean 'big expenditure'? answer yes or no. assistant: no.\",\n",
       " \"user:  does this emoji sequence mean 'big expenditure'? answer yes or no. assistant: no.\",\n",
       " \"user:  does this emoji sequence mean 'big expenditure'? answer yes or no. assistant: yes.\",\n",
       " \"user:  does this emoji sequence mean 'big expenditure'? answer yes or no. assistant: no.\",\n",
       " \"user:  does this emoji sequence mean 'big voice'? answer yes or no. assistant: no.\",\n",
       " \"user:  does this emoji sequence mean 'big voice'? answer yes or no. assistant: no.\",\n",
       " \"user:  does this emoji sequence mean 'big voice'? answer yes or no. assistant: no.\",\n",
       " \"user:  does this emoji sequence mean 'big voice'? answer yes or no. assistant: no.\",\n",
       " \"user:  does this emoji sequence mean 'big voice'? answer yes or no. assistant: no.\",\n",
       " \"user:  does this emoji sequence mean 'big voice'? answer yes or no. assistant: no.\",\n",
       " \"user:  does this emoji sequence mean 'big voice'? answer yes or no. assistant: no.\",\n",
       " \"user:  does this emoji sequence mean 'big voice'? answer yes or no. assistant: no.\",\n",
       " \"user:  does this emoji sequence mean 'big group'? answer yes or no. assistant: no.\",\n",
       " \"user:  does this emoji sequence mean 'big group'? answer yes or no. assistant: no.\",\n",
       " \"user:  does this emoji sequence mean 'big group'? answer yes or no. assistant: no.\",\n",
       " \"user:  does this emoji sequence mean 'big group'? answer yes or no. assistant: yes.\",\n",
       " \"user:  does this emoji sequence mean 'big group'? answer yes or no. assistant: no.\",\n",
       " \"user:  does this emoji sequence mean 'big group'? answer yes or no. assistant: no.\",\n",
       " \"user:  does this emoji sequence mean 'big group'? answer yes or no. assistant: no.\",\n",
       " \"user:  does this emoji sequence mean 'big group'? answer yes or no. assistant: no.\",\n",
       " \"user:  does this emoji sequence mean 'big man'? answer yes or no. assistant: no.\",\n",
       " '<SKIPPED_OR_ERROR>',\n",
       " \"user:  does this emoji sequence mean 'big man'? answer yes or no. assistant: no.\",\n",
       " \"user:  does this emoji sequence mean 'big man'? answer yes or no. assistant: no.\",\n",
       " \"user:  does this emoji sequence mean 'big man'? answer yes or no. assistant: no.\",\n",
       " \"user:  does this emoji sequence mean 'big man'? answer yes or no. assistant: no.\",\n",
       " \"user:  does this emoji sequence mean 'big man'? answer yes or no. assistant: no.\",\n",
       " \"user:  does this emoji sequence mean 'big man'? answer yes or no. assistant: no.\",\n",
       " \"user:  does this emoji sequence mean 'big city'? answer yes or no. assistant: no.\",\n",
       " \"user:  does this emoji sequence mean 'big city'? answer yes or no. assistant: no.\",\n",
       " \"user:  does this emoji sequence mean 'big city'? answer yes or no. assistant: no.\",\n",
       " \"user:  does this emoji sequence mean 'big city'? answer yes or no. assistant: no.\",\n",
       " \"user:  does this emoji sequence mean 'big city'? answer yes or no. assistant: no.\",\n",
       " \"user:  does this emoji sequence mean 'big city'? answer yes or no. assistant: yes.\",\n",
       " \"user:  does this emoji sequence mean 'big city'? answer yes or no. assistant: no.\",\n",
       " \"user:  does this emoji sequence mean 'big city'? answer yes or no. assistant: no.\",\n",
       " \"user:  does this emoji sequence mean 'big tipper'? answer yes or no. assistant: no.\",\n",
       " \"user:  does this emoji sequence mean 'big tipper'? answer yes or no. assistant: no.\",\n",
       " \"user:  does this emoji sequence mean 'big tipper'? answer yes or no. assistant: no.\",\n",
       " \"user:  does this emoji sequence mean 'big tipper'? answer yes or no. assistant: no.\",\n",
       " \"user:  does this emoji sequence mean 'big tipper'? answer yes or no. assistant: no.\",\n",
       " \"user:  does this emoji sequence mean 'big tipper'? answer yes or no. assistant: no.\",\n",
       " \"user:  does this emoji sequence mean 'big tipper'? answer yes or no. assistant: no.\",\n",
       " \"user:  does this emoji sequence mean 'big tipper'? answer yes or no. assistant: no.\",\n",
       " \"user:  does this emoji sequence mean 'big day'? answer yes or no. assistant: no.\",\n",
       " \"user:  does this emoji sequence mean 'big day'? answer yes or no. assistant: no.\",\n",
       " \"user:  does this emoji sequence mean 'big day'? answer yes or no. assistant: no.\",\n",
       " \"user:  does this emoji sequence mean 'big day'? answer yes or no. assistant: no.\",\n",
       " \"user:  does this emoji sequence mean 'big day'? answer yes or no. assistant: no.\",\n",
       " \"user:  does this emoji sequence mean 'big day'? answer yes or no. assistant: no.\",\n",
       " \"user:  does this emoji sequence mean 'big day'? answer yes or no. assistant: no.\",\n",
       " \"user:  does this emoji sequence mean 'big day'? answer yes or no. assistant: no.\",\n",
       " \"user:  does this emoji sequence mean 'hot doll'? answer yes or no. assistant: no.\",\n",
       " \"user:  does this emoji sequence mean 'hot doll'? answer yes or no. assistant: no.\",\n",
       " '<SKIPPED_OR_ERROR>',\n",
       " \"user:  does this emoji sequence mean 'hot doll'? answer yes or no. assistant: no.\",\n",
       " \"user:  does this emoji sequence mean 'hot doll'? answer yes or no. assistant: no.\",\n",
       " \"user:  does this emoji sequence mean 'hot doll'? answer yes or no. assistant: no.\",\n",
       " \"user:  does this emoji sequence mean 'hot doll'? answer yes or no. assistant: no.\",\n",
       " \"user:  does this emoji sequence mean 'hot doll'? answer yes or no. assistant: no.\",\n",
       " \"user:  does this emoji sequence mean 'hot water'? answer yes or no. assistant: yes.\",\n",
       " \"user:  does this emoji sequence mean 'hot water'? answer yes or no. assistant: no.\",\n",
       " \"user:  does this emoji sequence mean 'hot water'? answer yes or no. assistant: no.\",\n",
       " \"user:  does this emoji sequence mean 'hot water'? answer yes or no. assistant: no.\",\n",
       " '<SKIPPED_OR_ERROR>',\n",
       " \"user:  does this emoji sequence mean 'hot water'? answer yes or no. assistant: no.\",\n",
       " \"user:  does this emoji sequence mean 'hot water'? answer yes or no. assistant: no.\",\n",
       " \"user:  does this emoji sequence mean 'hot water'? answer yes or no. assistant: no.\",\n",
       " \"user:  does this emoji sequence mean 'hot stove'? answer yes or no. assistant: no.\",\n",
       " \"user:  does this emoji sequence mean 'hot stove'? answer yes or no. assistant: no.\",\n",
       " '<SKIPPED_OR_ERROR>',\n",
       " '<SKIPPED_OR_ERROR>',\n",
       " \"user:  does this emoji sequence mean 'hot stove'? answer yes or no. assistant: no.\",\n",
       " \"user:  does this emoji sequence mean 'hot stove'? answer yes or no. assistant: no.\",\n",
       " \"user:  does this emoji sequence mean 'hot stove'? answer yes or no. assistant: no.\",\n",
       " '<SKIPPED_OR_ERROR>',\n",
       " \"user:  does this emoji sequence mean 'hot topic'? answer yes or no. assistant: no.\",\n",
       " \"user:  does this emoji sequence mean 'hot topic'? answer yes or no. assistant: no.\",\n",
       " '<SKIPPED_OR_ERROR>',\n",
       " \"user:  does this emoji sequence mean 'hot topic'? answer yes or no. assistant: no.\",\n",
       " \"user:  does this emoji sequence mean 'hot topic'? answer yes or no. assistant: no.\",\n",
       " \"user:  does this emoji sequence mean 'hot topic'? answer yes or no. assistant: no.\",\n",
       " \"user:  does this emoji sequence mean 'hot topic'? answer yes or no. assistant: no.\",\n",
       " \"user:  does this emoji sequence mean 'hot topic'? answer yes or no. assistant: no.\",\n",
       " \"user:  does this emoji sequence mean 'hot merchandise'? answer yes or no. assistant: no.\",\n",
       " \"user:  does this emoji sequence mean 'hot merchandise'? answer yes or no. assistant: no.\",\n",
       " \"user:  does this emoji sequence mean 'hot merchandise'? answer yes or no. assistant: no.\",\n",
       " \"user:  does this emoji sequence mean 'hot merchandise'? answer yes or no. assistant: no.\",\n",
       " \"user:  does this emoji sequence mean 'hot merchandise'? answer yes or no. assistant: no.\",\n",
       " \"user:  does this emoji sequence mean 'hot merchandise'? answer yes or no. assistant: no.\",\n",
       " \"user:  does this emoji sequence mean 'hot merchandise'? answer yes or no. assistant: no.\",\n",
       " '<SKIPPED_OR_ERROR>',\n",
       " \"user:  does this emoji sequence mean 'hot temper'? answer yes or no. assistant: no.\",\n",
       " \"user:  does this emoji sequence mean 'hot temper'? answer yes or no. assistant: yes.\",\n",
       " \"user:  does this emoji sequence mean 'hot temper'? answer yes or no. assistant: yes.\",\n",
       " \"user:  does this emoji sequence mean 'hot temper'? answer yes or no. assistant: yes.\",\n",
       " \"user:  does this emoji sequence mean 'hot temper'? answer yes or no. assistant: no.\",\n",
       " \"user:  does this emoji sequence mean 'hot temper'? answer yes or no. assistant: no.\",\n",
       " \"user:  does this emoji sequence mean 'hot temper'? answer yes or no. assistant: no.\",\n",
       " \"user:  does this emoji sequence mean 'hot temper'? answer yes or no. assistant: no.\",\n",
       " \"user:  does this emoji sequence mean 'hot argument'? answer yes or no. assistant: no.\",\n",
       " \"user:  does this emoji sequence mean 'hot argument'? answer yes or no. assistant: no.\",\n",
       " \"user:  does this emoji sequence mean 'hot argument'? answer yes or no. assistant: no.\",\n",
       " \"user:  does this emoji sequence mean 'hot argument'? answer yes or no. assistant: no.\",\n",
       " \"user:  does this emoji sequence mean 'hot argument'? answer yes or no. assistant: no.\",\n",
       " \"user:  does this emoji sequence mean 'hot argument'? answer yes or no. assistant: no.\",\n",
       " \"user:  does this emoji sequence mean 'hot argument'? answer yes or no. assistant: no.\",\n",
       " \"user:  does this emoji sequence mean 'hot argument'? answer yes or no. assistant: no.\",\n",
       " \"user:  does this emoji sequence mean 'hot forehead'? answer yes or no. assistant: no.\",\n",
       " \"user:  does this emoji sequence mean 'hot forehead'? answer yes or no. assistant: no.\",\n",
       " \"user:  does this emoji sequence mean 'hot forehead'? answer yes or no. assistant: no.\",\n",
       " \"user:  does this emoji sequence mean 'hot forehead'? answer yes or no. assistant: no.\",\n",
       " \"user:  does this emoji sequence mean 'hot forehead'? answer yes or no. assistant: no.\",\n",
       " \"user:  does this emoji sequence mean 'hot forehead'? answer yes or no. assistant: no.\",\n",
       " \"user:  does this emoji sequence mean 'hot forehead'? answer yes or no. assistant: no.\",\n",
       " \"user:  does this emoji sequence mean 'hot forehead'? answer yes or no. assistant: no.\",\n",
       " \"user:  does this emoji sequence mean 'full game'? answer yes or no. assistant: no.\",\n",
       " \"user:  does this emoji sequence mean 'full game'? answer yes or no. assistant: no.\",\n",
       " \"user:  does this emoji sequence mean 'full game'? answer yes or no. assistant: no.\",\n",
       " \"user:  does this emoji sequence mean 'full game'? answer yes or no. assistant: no.\",\n",
       " \"user:  does this emoji sequence mean 'full game'? answer yes or no. assistant: no.\",\n",
       " \"user:  does this emoji sequence mean 'full game'? answer yes or no. assistant: no.\",\n",
       " \"user:  does this emoji sequence mean 'full game'? answer yes or no. assistant: no.\",\n",
       " \"user:  does this emoji sequence mean 'full auditorium'? answer yes or no. assistant: no.\",\n",
       " \"user:  does this emoji sequence mean 'full auditorium'? answer yes or no. assistant: no.\",\n",
       " \"user:  does this emoji sequence mean 'full auditorium'? answer yes or no. assistant: no.\",\n",
       " \"user:  does this emoji sequence mean 'full auditorium'? answer yes or no. assistant: no.\",\n",
       " \"user:  does this emoji sequence mean 'full auditorium'? answer yes or no. assistant: no.\",\n",
       " \"user:  does this emoji sequence mean 'full auditorium'? answer yes or no. assistant: no.\",\n",
       " \"user:  does this emoji sequence mean 'full auditorium'? answer yes or no. assistant: no.\",\n",
       " \"user:  does this emoji sequence mean 'full attention'? answer yes or no. assistant: no.\",\n",
       " \"user:  does this emoji sequence mean 'full attention'? answer yes or no. assistant: no.\",\n",
       " \"user:  does this emoji sequence mean 'full attention'? answer yes or no. assistant: no.\",\n",
       " \"user:  does this emoji sequence mean 'full attention'? answer yes or no. assistant: no.\",\n",
       " \"user:  does this emoji sequence mean 'full attention'? answer yes or no. assistant: no.\",\n",
       " \"user:  does this emoji sequence mean 'full attention'? answer yes or no. assistant: no.\",\n",
       " \"user:  does this emoji sequence mean 'full attention'? answer yes or no. assistant: no.\",\n",
       " \"user:  does this emoji sequence mean 'full glass'? answer yes or no. assistant: no.\",\n",
       " \"user:  does this emoji sequence mean 'full glass'? answer yes or no. assistant: no.\",\n",
       " \"user:  does this emoji sequence mean 'full glass'? answer yes or no. assistant: no.\",\n",
       " \"user:  does this emoji sequence mean 'full glass'? answer yes or no. assistant: no.\",\n",
       " \"user:  does this emoji sequence mean 'full glass'? answer yes or no. assistant: no.\",\n",
       " \"user:  does this emoji sequence mean 'full glass'? answer yes or no. assistant: no.\",\n",
       " \"user:  does this emoji sequence mean 'full glass'? answer yes or no. assistant: no.\",\n",
       " \"user:  does this emoji sequence mean 'full life'? answer yes or no. assistant: no.\",\n",
       " \"user:  does this emoji sequence mean 'full life'? answer yes or no. assistant: no.\",\n",
       " \"user:  does this emoji sequence mean 'full life'? answer yes or no. assistant: no.\",\n",
       " \"user:  does this emoji sequence mean 'full life'? answer yes or no. assistant: no.\",\n",
       " \"user:  does this emoji sequence mean 'full life'? answer yes or no. assistant: no.\",\n",
       " \"user:  does this emoji sequence mean 'full life'? answer yes or no. assistant: no.\",\n",
       " \"user:  does this emoji sequence mean 'full life'? answer yes or no. assistant: no.\",\n",
       " \"user:  does this emoji sequence mean 'little boy'? answer yes or no. assistant: no.\",\n",
       " \"user:  does this emoji sequence mean 'little boy'? answer yes or no. assistant: no.\",\n",
       " \"user:  does this emoji sequence mean 'little boy'? answer yes or no. assistant: no.\",\n",
       " \"user:  does this emoji sequence mean 'little boy'? answer yes or no. assistant: no.\",\n",
       " \"user:  does this emoji sequence mean 'little boy'? answer yes or no. assistant: no.\",\n",
       " \"user:  does this emoji sequence mean 'little boy'? answer yes or no. assistant: no.\",\n",
       " \"user:  does this emoji sequence mean 'little boy'? answer yes or no. assistant: yes.\",\n",
       " \"user:  does this emoji sequence mean 'little boy'? answer yes or no. assistant: yes.\",\n",
       " \"user:  does this emoji sequence mean 'little man'? answer yes or no. assistant: no.\",\n",
       " \"user:  does this emoji sequence mean 'little man'? answer yes or no. assistant: yes.\",\n",
       " \"user:  does this emoji sequence mean 'little man'? answer yes or no. assistant: yes.\",\n",
       " \"user:  does this emoji sequence mean 'little man'? answer yes or no. assistant: no.\",\n",
       " \"user:  does this emoji sequence mean 'little man'? answer yes or no. assistant: no.\",\n",
       " \"user:  does this emoji sequence mean 'little man'? answer yes or no. assistant: no.\",\n",
       " \"user:  does this emoji sequence mean 'little man'? answer yes or no. assistant: no.\",\n",
       " \"user:  does this emoji sequence mean 'little man'? answer yes or no. assistant: no.\",\n",
       " \"user:  does this emoji sequence mean 'little house'? answer yes or no. assistant: no.\",\n",
       " \"user:  does this emoji sequence mean 'little house'? answer yes or no. assistant: no.\",\n",
       " \"user:  does this emoji sequence mean 'little house'? answer yes or no. assistant: no.\",\n",
       " \"user:  does this emoji sequence mean 'little house'? answer yes or no. assistant: no.\",\n",
       " \"user:  does this emoji sequence mean 'little house'? answer yes or no. assistant: no.\",\n",
       " \"user:  does this emoji sequence mean 'little house'? answer yes or no. assistant: no.\",\n",
       " \"user:  does this emoji sequence mean 'little house'? answer yes or no. assistant: no.\",\n",
       " \"user:  does this emoji sequence mean 'little house'? answer yes or no. assistant: no.\",\n",
       " \"user:  does this emoji sequence mean 'thin oil'? answer yes or no. assistant: no.\",\n",
       " \"user:  does this emoji sequence mean 'thin oil'? answer yes or no. assistant: no.\",\n",
       " \"user:  does this emoji sequence mean 'thin oil'? answer yes or no. assistant: no.\",\n",
       " \"user:  does this emoji sequence mean 'thin oil'? answer yes or no. assistant: no.\",\n",
       " \"user:  does this emoji sequence mean 'thin oil'? answer yes or no. assistant: no.\",\n",
       " \"user:  does this emoji sequence mean 'thin oil'? answer yes or no. assistant: no.\",\n",
       " \"user:  does this emoji sequence mean 'thin oil'? answer yes or no. assistant: no.\",\n",
       " \"user:  does this emoji sequence mean 'thin oil'? answer yes or no. assistant: no.\",\n",
       " \"user:  does this emoji sequence mean 'thin soup'? answer yes or no. assistant: no.\",\n",
       " \"user:  does this emoji sequence mean 'thin soup'? answer yes or no. assistant: no.\",\n",
       " \"user:  does this emoji sequence mean 'thin soup'? answer yes or no. assistant: no.\",\n",
       " \"user:  does this emoji sequence mean 'thin soup'? answer yes or no. assistant: no.\",\n",
       " \"user:  does this emoji sequence mean 'thin soup'? answer yes or no. assistant: no.\",\n",
       " \"user:  does this emoji sequence mean 'thin soup'? answer yes or no. assistant: no.\",\n",
       " \"user:  does this emoji sequence mean 'thin soup'? answer yes or no. assistant: no.\",\n",
       " \"user:  does this emoji sequence mean 'thin soup'? answer yes or no. assistant: no.\",\n",
       " \"user:  does this emoji sequence mean 'thin air'? answer yes or no. assistant: no.\",\n",
       " \"user:  does this emoji sequence mean 'thin air'? answer yes or no. assistant: no.\",\n",
       " \"user:  does this emoji sequence mean 'thin air'? answer yes or no. assistant: no.\",\n",
       " \"user:  does this emoji sequence mean 'thin air'? answer yes or no. assistant: no.\",\n",
       " \"user:  does this emoji sequence mean 'thin air'? answer yes or no. assistant: no.\",\n",
       " \"user:  does this emoji sequence mean 'thin air'? answer yes or no. assistant: no.\",\n",
       " \"user:  does this emoji sequence mean 'thin air'? answer yes or no. assistant: no.\",\n",
       " \"user:  does this emoji sequence mean 'thin air'? answer yes or no. assistant: no.\",\n",
       " \"user:  does this emoji sequence mean 'thin line'? answer yes or no. assistant: no.\",\n",
       " \"user:  does this emoji sequence mean 'thin line'? answer yes or no. assistant: no.\",\n",
       " \"user:  does this emoji sequence mean 'thin line'? answer yes or no. assistant: no.\",\n",
       " \"user:  does this emoji sequence mean 'thin line'? answer yes or no. assistant: no.\",\n",
       " \"user:  does this emoji sequence mean 'thin line'? answer yes or no. assistant: no.\",\n",
       " \"user:  does this emoji sequence mean 'thin line'? answer yes or no. assistant: no.\",\n",
       " \"user:  does this emoji sequence mean 'thin line'? answer yes or no. assistant: no.\",\n",
       " \"user:  does this emoji sequence mean 'thin line'? answer yes or no. assistant: no.\",\n",
       " \"user:  does this emoji sequence mean 'ineffectual ruler'? answer yes or no. assistant: no.\",\n",
       " \"user:  does this emoji sequence mean 'ineffectual ruler'? answer yes or no. assistant: no.\",\n",
       " \"user:  does this emoji sequence mean 'ineffectual ruler'? answer yes or no. assistant: no.\",\n",
       " \"user:  does this emoji sequence mean 'ineffectual ruler'? answer yes or no. assistant: no.\",\n",
       " \"user:  does this emoji sequence mean 'ineffectual ruler'? answer yes or no. assistant: no.\",\n",
       " \"user:  does this emoji sequence mean 'ineffectual ruler'? answer yes or no. assistant: no.\",\n",
       " \"user:  does this emoji sequence mean 'ineffectual ruler'? answer yes or no. assistant: no.\",\n",
       " \"user:  does this emoji sequence mean 'ineffectual ruler'? answer yes or no. assistant: no.\",\n",
       " \"user:  does this emoji sequence mean 'ineffectual therapy'? answer yes or no. assistant: no.\",\n",
       " \"user:  does this emoji sequence mean 'ineffectual therapy'? answer yes or no. assistant: no.\",\n",
       " \"user:  does this emoji sequence mean 'ineffectual therapy'? answer yes or no. assistant: no.\",\n",
       " \"user:  does this emoji sequence mean 'ineffectual therapy'? answer yes or no. assistant: no.\",\n",
       " \"user:  does this emoji sequence mean 'ineffectual therapy'? answer yes or no. assistant: no.\",\n",
       " \"user:  does this emoji sequence mean 'ineffectual therapy'? answer yes or no. assistant: no.\",\n",
       " '<SKIPPED_OR_ERROR>',\n",
       " \"user:  does this emoji sequence mean 'ineffectual therapy'? answer yes or no. assistant: no.\",\n",
       " \"user:  does this emoji sequence mean 'effective step'? answer yes or no. assistant: yes.\",\n",
       " '<SKIPPED_OR_ERROR>',\n",
       " \"user:  does this emoji sequence mean 'effective step'? answer yes or no. assistant: no.\",\n",
       " \"user:  does this emoji sequence mean 'effective step'? answer yes or no. assistant: no.\",\n",
       " \"user:  does this emoji sequence mean 'effective step'? answer yes or no. assistant: no.\",\n",
       " \"user:  does this emoji sequence mean 'effective step'? answer yes or no. assistant: no.\",\n",
       " \"user:  does this emoji sequence mean 'effective step'? answer yes or no. assistant: no.\",\n",
       " \"user:  does this emoji sequence mean 'effective step'? answer yes or no. assistant: no.\",\n",
       " \"user:  does this emoji sequence mean 'effective reprimand'? answer yes or no. assistant: no.\",\n",
       " \"user:  does this emoji sequence mean 'effective reprimand'? answer yes or no. assistant: no.\",\n",
       " \"user:  does this emoji sequence mean 'effective reprimand'? answer yes or no. assistant: no.\",\n",
       " \"user:  does this emoji sequence mean 'effective reprimand'? answer yes or no. assistant: no.\",\n",
       " \"user:  does this emoji sequence mean 'effective reprimand'? answer yes or no. assistant: no.\",\n",
       " \"user:  does this emoji sequence mean 'effective reprimand'? answer yes or no. assistant: no.\",\n",
       " \"user:  does this emoji sequence mean 'effective reprimand'? answer yes or no. assistant: no.\",\n",
       " \"user:  does this emoji sequence mean 'effective reprimand'? answer yes or no. assistant: no.\",\n",
       " \"user:  does this emoji sequence mean 'effective entrance'? answer yes or no. assistant: no.\",\n",
       " \"user:  does this emoji sequence mean 'effective entrance'? answer yes or no. assistant: no.\",\n",
       " \"user:  does this emoji sequence mean 'effective entrance'? answer yes or no. assistant: no.\",\n",
       " \"user:  does this emoji sequence mean 'effective entrance'? answer yes or no. assistant: no.\",\n",
       " \"user:  does this emoji sequence mean 'effective entrance'? answer yes or no. assistant: no.\",\n",
       " \"user:  does this emoji sequence mean 'effective entrance'? answer yes or no. assistant: no.\",\n",
       " \"user:  does this emoji sequence mean 'effective entrance'? answer yes or no. assistant: no.\",\n",
       " \"user:  does this emoji sequence mean 'effective entrance'? answer yes or no. assistant: no.\"]"
      ]
     },
     "execution_count": 6,
     "metadata": {},
     "output_type": "execute_result"
    }
   ],
   "source": [
    "cleaned_generated_texts = [text.replace('\\n', '') for text in generated_texts]\n",
    "cleaned_generated_texts"
   ]
  },
  {
   "cell_type": "code",
   "execution_count": 7,
   "metadata": {},
   "outputs": [],
   "source": [
    "test_dataset['predicted_label'] = predictions\n",
    "test_dataset['generated_text'] = cleaned_generated_texts\n",
    "test_dataset.to_csv(\"results.csv\", index=False)"
   ]
  },
  {
   "cell_type": "code",
   "execution_count": 8,
   "metadata": {},
   "outputs": [
    {
     "data": {
      "text/plain": [
       "\"user:  does this emoji sequence mean 'big business'? answer yes or no. assistant: yes.\""
      ]
     },
     "execution_count": 8,
     "metadata": {},
     "output_type": "execute_result"
    }
   ],
   "source": [
    "import pandas as pd\n",
    "\n",
    "cleaned_generated_texts = pd.read_csv(\"results.csv\")\n",
    "cleaned_generated_texts[\"generated_text\"][0]"
   ]
  },
  {
   "cell_type": "code",
   "execution_count": 9,
   "metadata": {},
   "outputs": [
    {
     "name": "stdout",
     "output_type": "stream",
     "text": [
      "[\"user:  does this emoji sequence mean 'big business'? answer yes or no. \", ' yes.'] 1\n",
      "[\"user:  does this emoji sequence mean 'big business'? answer yes or no. \", ' yes.'] 1\n",
      "[\"user:  does this emoji sequence mean 'big business'? answer yes or no. \", ' no.'] 0\n",
      "[\"user:  does this emoji sequence mean 'big business'? answer yes or no. \", ' no.'] 0\n",
      "[\"user:  does this emoji sequence mean 'big business'? answer yes or no. \", ' no.'] 0\n",
      "[\"user:  does this emoji sequence mean 'big business'? answer yes or no. \", ' yes.'] 1\n",
      "[\"user:  does this emoji sequence mean 'big business'? answer yes or no. \", ' no.'] 0\n",
      "[\"user:  does this emoji sequence mean 'big business'? answer yes or no. \", ' no.'] 0\n",
      "[\"user:  does this emoji sequence mean 'big expenditure'? answer yes or no. \", ' yes.'] 1\n",
      "[\"user:  does this emoji sequence mean 'big expenditure'? answer yes or no. \", ' yes.'] 1\n",
      "[\"user:  does this emoji sequence mean 'big expenditure'? answer yes or no. \", ' yes.'] 1\n",
      "[\"user:  does this emoji sequence mean 'big expenditure'? answer yes or no. \", ' yes.'] 1\n",
      "[\"user:  does this emoji sequence mean 'big expenditure'? answer yes or no. \", ' yes.'] 1\n",
      "[\"user:  does this emoji sequence mean 'big expenditure'? answer yes or no. \", ' yes.'] 1\n",
      "[\"user:  does this emoji sequence mean 'big expenditure'? answer yes or no. \", ' yes.'] 1\n",
      "[\"user:  does this emoji sequence mean 'big expenditure'? answer yes or no. \", ' yes.'] 1\n",
      "[\"user:  does this emoji sequence mean 'big voice'? answer yes or no. \", ' yes.'] 1\n",
      "[\"user:  does this emoji sequence mean 'big voice'? answer yes or no. \", ' yes.'] 1\n",
      "[\"user:  does this emoji sequence mean 'big voice'? answer yes or no. \", ' yes.'] 1\n",
      "[\"user:  does this emoji sequence mean 'big voice'? answer yes or no. \", ' yes.'] 1\n",
      "[\"user:  does this emoji sequence mean 'big voice'? answer yes or no. \", ' yes.'] 1\n",
      "[\"user:  does this emoji sequence mean 'big voice'? answer yes or no. \", ' yes.'] 1\n",
      "[\"user:  does this emoji sequence mean 'big voice'? answer yes or no. \", ' no.'] 0\n",
      "[\"user:  does this emoji sequence mean 'big voice'? answer yes or no. \", ' yes.'] 1\n",
      "[\"user:  does this emoji sequence mean 'big group'? answer yes or no. \", ' yes.'] 1\n",
      "[\"user:  does this emoji sequence mean 'big group'? answer yes or no. \", ' yes.'] 1\n",
      "['<SKIPPED_OR_ERROR>'] 0\n",
      "[\"user:  does this emoji sequence mean 'big group'? answer yes or no. \", ' yes.'] 1\n",
      "[\"user:  does this emoji sequence mean 'big group'? answer yes or no. \", ' yes.'] 1\n",
      "[\"user:  does this emoji sequence mean 'big group'? answer yes or no. \", ' yes.'] 1\n",
      "[\"user:  does this emoji sequence mean 'big group'? answer yes or no. \", ' yes.'] 1\n",
      "[\"user:  does this emoji sequence mean 'big group'? answer yes or no. \", ' yes.'] 1\n",
      "[\"user:  does this emoji sequence mean 'big man'? answer yes or no. \", ' no.'] 0\n",
      "[\"user:  does this emoji sequence mean 'big man'? answer yes or no. \", ' no.'] 0\n",
      "[\"user:  does this emoji sequence mean 'big man'? answer yes or no. \", ' no.'] 0\n",
      "[\"user:  does this emoji sequence mean 'big man'? answer yes or no. \", ' yes.'] 1\n",
      "[\"user:  does this emoji sequence mean 'big man'? answer yes or no. \", ' yes.'] 1\n",
      "[\"user:  does this emoji sequence mean 'big man'? answer yes or no. \", ' no.'] 0\n",
      "[\"user:  does this emoji sequence mean 'big man'? answer yes or no. \", ' no.'] 0\n",
      "[\"user:  does this emoji sequence mean 'big man'? answer yes or no. \", ' yes.'] 1\n",
      "[\"user:  does this emoji sequence mean 'big city'? answer yes or no. \", ' yes.'] 1\n",
      "[\"user:  does this emoji sequence mean 'big city'? answer yes or no. \", ' yes.'] 1\n",
      "['<SKIPPED_OR_ERROR>'] 0\n",
      "[\"user:  does this emoji sequence mean 'big city'? answer yes or no. \", ' yes.'] 1\n",
      "[\"user:  does this emoji sequence mean 'big city'? answer yes or no. \", ' yes.'] 1\n",
      "[\"user:  does this emoji sequence mean 'big city'? answer yes or no. \", ' yes.'] 1\n",
      "[\"user:  does this emoji sequence mean 'big city'? answer yes or no. \", ' yes.'] 1\n",
      "[\"user:  does this emoji sequence mean 'big city'? answer yes or no. \", ' yes.'] 1\n",
      "[\"user:  does this emoji sequence mean 'big tipper'? answer yes or no. \", ' no.'] 0\n",
      "[\"user:  does this emoji sequence mean 'big tipper'? answer yes or no. \", ' no.'] 0\n",
      "[\"user:  does this emoji sequence mean 'big tipper'? answer yes or no. \", ' no.'] 0\n",
      "[\"user:  does this emoji sequence mean 'big tipper'? answer yes or no. \", ' no.'] 0\n",
      "[\"user:  does this emoji sequence mean 'big tipper'? answer yes or no. \", ' no.'] 0\n",
      "[\"user:  does this emoji sequence mean 'big tipper'? answer yes or no. \", ' no.'] 0\n",
      "[\"user:  does this emoji sequence mean 'big tipper'? answer yes or no. \", ' no.'] 0\n",
      "[\"user:  does this emoji sequence mean 'big tipper'? answer yes or no. \", ' yes.'] 1\n",
      "[\"user:  does this emoji sequence mean 'big day'? answer yes or no. \", ' yes.'] 1\n",
      "[\"user:  does this emoji sequence mean 'big day'? answer yes or no. \", ' yes.'] 1\n",
      "[\"user:  does this emoji sequence mean 'big day'? answer yes or no. \", ' yes.'] 1\n",
      "[\"user:  does this emoji sequence mean 'big day'? answer yes or no. \", ' no.'] 0\n",
      "[\"user:  does this emoji sequence mean 'big day'? answer yes or no. \", ' yes.'] 1\n",
      "[\"user:  does this emoji sequence mean 'big day'? answer yes or no. \", ' yes.'] 1\n",
      "[\"user:  does this emoji sequence mean 'big day'? answer yes or no. \", ' no.'] 0\n",
      "[\"user:  does this emoji sequence mean 'big day'? answer yes or no. \", ' yes.'] 1\n",
      "[\"user:  does this emoji sequence mean 'hot doll'? answer yes or no. \", ' no.'] 0\n",
      "[\"user:  does this emoji sequence mean 'hot doll'? answer yes or no. \", ' no.'] 0\n",
      "[\"user:  does this emoji sequence mean 'hot doll'? answer yes or no. \", ' no.'] 0\n",
      "[\"user:  does this emoji sequence mean 'hot doll'? answer yes or no. \", ' no.'] 0\n",
      "[\"user:  does this emoji sequence mean 'hot doll'? answer yes or no. \", ' no.'] 0\n",
      "[\"user:  does this emoji sequence mean 'hot doll'? answer yes or no. \", ' no.'] 0\n",
      "[\"user:  does this emoji sequence mean 'hot doll'? answer yes or no. \", ' no.'] 0\n",
      "[\"user:  does this emoji sequence mean 'hot doll'? answer yes or no. \", ' no.'] 0\n",
      "[\"user:  does this emoji sequence mean 'hot water'? answer yes or no. \", ' yes.'] 1\n",
      "[\"user:  does this emoji sequence mean 'hot water'? answer yes or no. \", ' no.'] 0\n",
      "[\"user:  does this emoji sequence mean 'hot water'? answer yes or no. \", ' yes.'] 1\n",
      "[\"user:  does this emoji sequence mean 'hot water'? answer yes or no. \", ' yes.'] 1\n",
      "[\"user:  does this emoji sequence mean 'hot water'? answer yes or no. \", ' yes.'] 1\n",
      "[\"user:  does this emoji sequence mean 'hot water'? answer yes or no. \", ' yes.'] 1\n",
      "[\"user:  does this emoji sequence mean 'hot water'? answer yes or no. \", ' yes.'] 1\n",
      "[\"user:  does this emoji sequence mean 'hot water'? answer yes or no. \", ' yes.'] 1\n",
      "[\"user:  does this emoji sequence mean 'hot stove'? answer yes or no. \", ' yes.'] 1\n",
      "[\"user:  does this emoji sequence mean 'hot stove'? answer yes or no. \", ' yes.'] 1\n",
      "[\"user:  does this emoji sequence mean 'hot stove'? answer yes or no. \", ' yes.'] 1\n",
      "[\"user:  does this emoji sequence mean 'hot stove'? answer yes or no. \", ' no.'] 0\n",
      "[\"user:  does this emoji sequence mean 'hot stove'? answer yes or no. \", ' no.'] 0\n",
      "[\"user:  does this emoji sequence mean 'hot stove'? answer yes or no. \", ' yes.'] 1\n",
      "[\"user:  does this emoji sequence mean 'hot stove'? answer yes or no. \", ' yes.'] 1\n",
      "[\"user:  does this emoji sequence mean 'hot stove'? answer yes or no. \", ' yes.'] 1\n",
      "[\"user:  does this emoji sequence mean 'hot topic'? answer yes or no. \", ' no.'] 0\n",
      "[\"user:  does this emoji sequence mean 'hot topic'? answer yes or no. \", ' no.'] 0\n",
      "[\"user:  does this emoji sequence mean 'hot topic'? answer yes or no. \", ' no.'] 0\n",
      "[\"user:  does this emoji sequence mean 'hot topic'? answer yes or no. \", ' no.'] 0\n",
      "[\"user:  does this emoji sequence mean 'hot topic'? answer yes or no. \", ' no.'] 0\n",
      "[\"user:  does this emoji sequence mean 'hot topic'? answer yes or no. \", ' no.'] 0\n",
      "[\"user:  does this emoji sequence mean 'hot topic'? answer yes or no. \", ' no.'] 0\n",
      "[\"user:  does this emoji sequence mean 'hot topic'? answer yes or no. \", ' no.'] 0\n",
      "[\"user:  does this emoji sequence mean 'hot merchandise'? answer yes or no. \", ' no.'] 0\n",
      "[\"user:  does this emoji sequence mean 'hot merchandise'? answer yes or no. \", ' no.'] 0\n",
      "[\"user:  does this emoji sequence mean 'hot merchandise'? answer yes or no. \", ' yes.'] 1\n",
      "[\"user:  does this emoji sequence mean 'hot merchandise'? answer yes or no. \", ' yes.'] 1\n",
      "[\"user:  does this emoji sequence mean 'hot merchandise'? answer yes or no. \", ' no.'] 0\n",
      "[\"user:  does this emoji sequence mean 'hot merchandise'? answer yes or no. \", ' no.'] 0\n",
      "[\"user:  does this emoji sequence mean 'hot merchandise'? answer yes or no. \", ' no.'] 0\n",
      "[\"user:  does this emoji sequence mean 'hot merchandise'? answer yes or no. \", ' no.'] 0\n",
      "['<SKIPPED_OR_ERROR>'] 0\n",
      "[\"user:  does this emoji sequence mean 'hot temper'? answer yes or no. \", ' no.'] 0\n",
      "['<SKIPPED_OR_ERROR>'] 0\n",
      "['<SKIPPED_OR_ERROR>'] 0\n",
      "['<SKIPPED_OR_ERROR>'] 0\n",
      "['<SKIPPED_OR_ERROR>'] 0\n",
      "[\"user:  does this emoji sequence mean 'hot temper'? answer yes or no. \", ' no.'] 0\n",
      "['<SKIPPED_OR_ERROR>'] 0\n",
      "[\"user:  does this emoji sequence mean 'hot argument'? answer yes or no. \", ' no.'] 0\n",
      "[\"user:  does this emoji sequence mean 'hot argument'? answer yes or no. \", ' yes.'] 1\n",
      "['<SKIPPED_OR_ERROR>'] 0\n",
      "[\"user:  does this emoji sequence mean 'hot argument'? answer yes or no. \", ' no.'] 0\n",
      "['<SKIPPED_OR_ERROR>'] 0\n",
      "[\"user:  does this emoji sequence mean 'hot argument'? answer yes or no. \", ' no.'] 0\n",
      "[\"user:  does this emoji sequence mean 'hot argument'? answer yes or no. \", ' no.'] 0\n",
      "[\"user:  does this emoji sequence mean 'hot argument'? answer yes or no. \", ' no.'] 0\n",
      "[\"user:  does this emoji sequence mean 'hot forehead'? answer yes or no. \", ' no.'] 0\n",
      "[\"user:  does this emoji sequence mean 'hot forehead'? answer yes or no. \", ' no.'] 0\n",
      "[\"user:  does this emoji sequence mean 'hot forehead'? answer yes or no. \", ' no.'] 0\n",
      "[\"user:  does this emoji sequence mean 'hot forehead'? answer yes or no. \", ' no.'] 0\n",
      "[\"user:  does this emoji sequence mean 'hot forehead'? answer yes or no. \", ' no.'] 0\n",
      "[\"user:  does this emoji sequence mean 'hot forehead'? answer yes or no. \", ' no.'] 0\n",
      "[\"user:  does this emoji sequence mean 'hot forehead'? answer yes or no. \", ' no.'] 0\n",
      "[\"user:  does this emoji sequence mean 'hot forehead'? answer yes or no. \", ' no.'] 0\n",
      "[\"user:  does this emoji sequence mean 'full game'? answer yes or no. \", ' no.'] 0\n",
      "[\"user:  does this emoji sequence mean 'full game'? answer yes or no. \", ' no.'] 0\n",
      "[\"user:  does this emoji sequence mean 'full game'? answer yes or no. \", ' no.'] 0\n",
      "[\"user:  does this emoji sequence mean 'full game'? answer yes or no. \", ' no.'] 0\n",
      "[\"user:  does this emoji sequence mean 'full game'? answer yes or no. \", ' no.'] 0\n",
      "[\"user:  does this emoji sequence mean 'full game'? answer yes or no. \", ' no.'] 0\n",
      "[\"user:  does this emoji sequence mean 'full game'? answer yes or no. \", ' no.'] 0\n",
      "[\"user:  does this emoji sequence mean 'full auditorium'? answer yes or no. \", ' no.'] 0\n",
      "['<SKIPPED_OR_ERROR>'] 0\n",
      "[\"user:  does this emoji sequence mean 'full auditorium'? answer yes or no. \", ' no.'] 0\n",
      "[\"user:  does this emoji sequence mean 'full auditorium'? answer yes or no. \", ' yes.'] 1\n",
      "[\"user:  does this emoji sequence mean 'full auditorium'? answer yes or no. \", ' no.'] 0\n",
      "[\"user:  does this emoji sequence mean 'full auditorium'? answer yes or no. \", ' no.'] 0\n",
      "[\"user:  does this emoji sequence mean 'full auditorium'? answer yes or no. \", ' no.'] 0\n",
      "[\"user:  does this emoji sequence mean 'full attention'? answer yes or no. \", ' no.'] 0\n",
      "[\"user:  does this emoji sequence mean 'full attention'? answer yes or no. \", ' no.'] 0\n",
      "[\"user:  does this emoji sequence mean 'full attention'? answer yes or no. \", ' no.'] 0\n",
      "[\"user:  does this emoji sequence mean 'full attention'? answer yes or no. \", ' no.'] 0\n",
      "[\"user:  does this emoji sequence mean 'full attention'? answer yes or no. \", ' no.'] 0\n",
      "[\"user:  does this emoji sequence mean 'full attention'? answer yes or no. \", ' no.'] 0\n",
      "[\"user:  does this emoji sequence mean 'full attention'? answer yes or no. \", ' no.'] 0\n",
      "[\"user:  does this emoji sequence mean 'full glass'? answer yes or no. \", ' yes.'] 1\n",
      "[\"user:  does this emoji sequence mean 'full glass'? answer yes or no. \", ' no.'] 0\n",
      "[\"user:  does this emoji sequence mean 'full glass'? answer yes or no. \", ' no.'] 0\n",
      "[\"user:  does this emoji sequence mean 'full glass'? answer yes or no. \", ' yes.'] 1\n",
      "[\"user:  does this emoji sequence mean 'full glass'? answer yes or no. \", ' no.'] 0\n",
      "[\"user:  does this emoji sequence mean 'full glass'? answer yes or no. \", ' yes.'] 1\n",
      "[\"user:  does this emoji sequence mean 'full glass'? answer yes or no. \", ' yes.'] 1\n",
      "[\"user:  does this emoji sequence mean 'full life'? answer yes or no. \", ' no.'] 0\n",
      "[\"user:  does this emoji sequence mean 'full life'? answer yes or no. \", ' no.'] 0\n",
      "[\"user:  does this emoji sequence mean 'full life'? answer yes or no. \", ' no.'] 0\n",
      "[\"user:  does this emoji sequence mean 'full life'? answer yes or no. \", ' no.'] 0\n",
      "[\"user:  does this emoji sequence mean 'full life'? answer yes or no. \", ' no.'] 0\n",
      "[\"user:  does this emoji sequence mean 'full life'? answer yes or no. \", ' no.'] 0\n",
      "[\"user:  does this emoji sequence mean 'full life'? answer yes or no. \", ' no.'] 0\n",
      "[\"user:  does this emoji sequence mean 'little boy'? answer yes or no. \", ' yes.'] 1\n",
      "[\"user:  does this emoji sequence mean 'little boy'? answer yes or no. \", ' yes.'] 1\n",
      "[\"user:  does this emoji sequence mean 'little boy'? answer yes or no. \", ' yes.'] 1\n",
      "[\"user:  does this emoji sequence mean 'little boy'? answer yes or no. \", ' yes.'] 1\n",
      "[\"user:  does this emoji sequence mean 'little boy'? answer yes or no. \", ' yes.'] 1\n",
      "[\"user:  does this emoji sequence mean 'little boy'? answer yes or no. \", ' yes.'] 1\n",
      "[\"user:  does this emoji sequence mean 'little boy'? answer yes or no. \", ' yes.'] 1\n",
      "[\"user:  does this emoji sequence mean 'little boy'? answer yes or no. \", ' yes.'] 1\n",
      "[\"user:  does this emoji sequence mean 'little man'? answer yes or no. \", ' no.'] 0\n",
      "[\"user:  does this emoji sequence mean 'little man'? answer yes or no. \", ' no.'] 0\n",
      "[\"user:  does this emoji sequence mean 'little man'? answer yes or no. \", ' no.'] 0\n",
      "[\"user:  does this emoji sequence mean 'little man'? answer yes or no. \", ' yes.'] 1\n",
      "[\"user:  does this emoji sequence mean 'little man'? answer yes or no. \", ' yes.'] 1\n",
      "[\"user:  does this emoji sequence mean 'little man'? answer yes or no. \", ' yes.'] 1\n",
      "[\"user:  does this emoji sequence mean 'little man'? answer yes or no. \", ' yes.'] 1\n",
      "[\"user:  does this emoji sequence mean 'little man'? answer yes or no. \", ' yes.'] 1\n",
      "[\"user:  does this emoji sequence mean 'little house'? answer yes or no. \", ' yes.'] 1\n",
      "[\"user:  does this emoji sequence mean 'little house'? answer yes or no. \", ' yes.'] 1\n",
      "[\"user:  does this emoji sequence mean 'little house'? answer yes or no. \", ' yes.'] 1\n",
      "[\"user:  does this emoji sequence mean 'little house'? answer yes or no. \", ' yes.'] 1\n",
      "[\"user:  does this emoji sequence mean 'little house'? answer yes or no. \", ' yes.'] 1\n",
      "[\"user:  does this emoji sequence mean 'little house'? answer yes or no. \", ' yes.'] 1\n",
      "[\"user:  does this emoji sequence mean 'little house'? answer yes or no. \", ' yes.'] 1\n",
      "[\"user:  does this emoji sequence mean 'little house'? answer yes or no. \", ' yes.'] 1\n",
      "[\"user:  does this emoji sequence mean 'thin oil'? answer yes or no. \", ' no.'] 0\n",
      "[\"user:  does this emoji sequence mean 'thin oil'? answer yes or no. \", ' no.'] 0\n",
      "[\"user:  does this emoji sequence mean 'thin oil'? answer yes or no. \", ' no.'] 0\n",
      "[\"user:  does this emoji sequence mean 'thin oil'? answer yes or no. \", ' no.'] 0\n",
      "[\"user:  does this emoji sequence mean 'thin oil'? answer yes or no. \", ' no.'] 0\n",
      "[\"user:  does this emoji sequence mean 'thin oil'? answer yes or no. \", ' no.'] 0\n",
      "[\"user:  does this emoji sequence mean 'thin oil'? answer yes or no. \", ' no.'] 0\n",
      "[\"user:  does this emoji sequence mean 'thin oil'? answer yes or no. \", ' no.'] 0\n",
      "[\"user:  does this emoji sequence mean 'thin soup'? answer yes or no. \", ' no.'] 0\n",
      "[\"user:  does this emoji sequence mean 'thin soup'? answer yes or no. \", ' no.'] 0\n",
      "[\"user:  does this emoji sequence mean 'thin soup'? answer yes or no. \", ' no.'] 0\n",
      "[\"user:  does this emoji sequence mean 'thin soup'? answer yes or no. \", ' no.'] 0\n",
      "[\"user:  does this emoji sequence mean 'thin soup'? answer yes or no. \", ' no.'] 0\n",
      "[\"user:  does this emoji sequence mean 'thin soup'? answer yes or no. \", ' yes.'] 1\n",
      "[\"user:  does this emoji sequence mean 'thin soup'? answer yes or no. \", ' no.'] 0\n",
      "[\"user:  does this emoji sequence mean 'thin soup'? answer yes or no. \", ' no.'] 0\n",
      "[\"user:  does this emoji sequence mean 'thin air'? answer yes or no. \", ' yes.'] 1\n",
      "[\"user:  does this emoji sequence mean 'thin air'? answer yes or no. \", ' no.'] 0\n",
      "[\"user:  does this emoji sequence mean 'thin air'? answer yes or no. \", ' no.'] 0\n",
      "[\"user:  does this emoji sequence mean 'thin air'? answer yes or no. \", ' no.'] 0\n",
      "[\"user:  does this emoji sequence mean 'thin air'? answer yes or no. \", ' yes.'] 1\n",
      "[\"user:  does this emoji sequence mean 'thin air'? answer yes or no. \", ' no.'] 0\n",
      "[\"user:  does this emoji sequence mean 'thin air'? answer yes or no. \", ' yes.'] 1\n",
      "[\"user:  does this emoji sequence mean 'thin air'? answer yes or no. \", ' yes.'] 1\n",
      "[\"user:  does this emoji sequence mean 'thin line'? answer yes or no. \", ' no.'] 0\n",
      "[\"user:  does this emoji sequence mean 'thin line'? answer yes or no. \", ' no.'] 0\n",
      "[\"user:  does this emoji sequence mean 'thin line'? answer yes or no. \", ' no.'] 0\n",
      "[\"user:  does this emoji sequence mean 'thin line'? answer yes or no. \", ' no.'] 0\n",
      "[\"user:  does this emoji sequence mean 'thin line'? answer yes or no. \", ' no.'] 0\n",
      "[\"user:  does this emoji sequence mean 'thin line'? answer yes or no. \", ' no.'] 0\n",
      "[\"user:  does this emoji sequence mean 'thin line'? answer yes or no. \", ' no.'] 0\n",
      "[\"user:  does this emoji sequence mean 'thin line'? answer yes or no. \", ' no.'] 0\n",
      "[\"user:  does this emoji sequence mean 'ineffectual ruler'? answer yes or no. \", ' yes.'] 1\n",
      "[\"user:  does this emoji sequence mean 'ineffectual ruler'? answer yes or no. \", ' yes.'] 1\n",
      "[\"user:  does this emoji sequence mean 'ineffectual ruler'? answer yes or no. \", ' yes.'] 1\n",
      "[\"user:  does this emoji sequence mean 'ineffectual ruler'? answer yes or no. \", ' no.'] 0\n",
      "[\"user:  does this emoji sequence mean 'ineffectual ruler'? answer yes or no. \", ' yes.'] 1\n",
      "['<SKIPPED_OR_ERROR>'] 0\n",
      "['<SKIPPED_OR_ERROR>'] 0\n",
      "[\"user:  does this emoji sequence mean 'ineffectual ruler'? answer yes or no. \", ' yes.'] 1\n",
      "[\"user:  does this emoji sequence mean 'ineffectual therapy'? answer yes or no. \", ' no.'] 0\n",
      "[\"user:  does this emoji sequence mean 'ineffectual therapy'? answer yes or no. \", ' no.'] 0\n",
      "[\"user:  does this emoji sequence mean 'ineffectual therapy'? answer yes or no. \", ' no.'] 0\n",
      "[\"user:  does this emoji sequence mean 'ineffectual therapy'? answer yes or no. \", ' no.'] 0\n",
      "[\"user:  does this emoji sequence mean 'ineffectual therapy'? answer yes or no. \", ' no.'] 0\n",
      "[\"user:  does this emoji sequence mean 'ineffectual therapy'? answer yes or no. \", ' no.'] 0\n",
      "[\"user:  does this emoji sequence mean 'ineffectual therapy'? answer yes or no. \", ' yes.'] 1\n",
      "[\"user:  does this emoji sequence mean 'ineffectual therapy'? answer yes or no. \", ' no.'] 0\n",
      "[\"user:  does this emoji sequence mean 'effective step'? answer yes or no. \", ' no.'] 0\n",
      "[\"user:  does this emoji sequence mean 'effective step'? answer yes or no. \", ' no.'] 0\n",
      "[\"user:  does this emoji sequence mean 'effective step'? answer yes or no. \", ' no.'] 0\n",
      "[\"user:  does this emoji sequence mean 'effective step'? answer yes or no. \", ' no.'] 0\n",
      "[\"user:  does this emoji sequence mean 'effective step'? answer yes or no. \", ' no.'] 0\n",
      "[\"user:  does this emoji sequence mean 'effective step'? answer yes or no. \", ' no.'] 0\n",
      "[\"user:  does this emoji sequence mean 'effective step'? answer yes or no. \", ' no.'] 0\n",
      "[\"user:  does this emoji sequence mean 'effective step'? answer yes or no. \", ' no.'] 0\n",
      "[\"user:  does this emoji sequence mean 'effective reprimand'? answer yes or no. \", ' no.'] 0\n",
      "[\"user:  does this emoji sequence mean 'effective reprimand'? answer yes or no. \", ' no.'] 0\n",
      "[\"user:  does this emoji sequence mean 'effective reprimand'? answer yes or no. \", ' no.'] 0\n",
      "['<SKIPPED_OR_ERROR>'] 0\n",
      "[\"user:  does this emoji sequence mean 'effective reprimand'? answer yes or no. \", ' no.'] 0\n",
      "['<SKIPPED_OR_ERROR>'] 0\n",
      "[\"user:  does this emoji sequence mean 'effective reprimand'? answer yes or no. \", ' no.'] 0\n",
      "[\"user:  does this emoji sequence mean 'effective reprimand'? answer yes or no. \", ' no.'] 0\n",
      "[\"user:  does this emoji sequence mean 'effective entrance'? answer yes or no. \", ' no.'] 0\n",
      "[\"user:  does this emoji sequence mean 'effective entrance'? answer yes or no. \", ' no.'] 0\n",
      "[\"user:  does this emoji sequence mean 'effective entrance'? answer yes or no. \", ' no.'] 0\n",
      "[\"user:  does this emoji sequence mean 'effective entrance'? answer yes or no. \", ' no.'] 0\n",
      "[\"user:  does this emoji sequence mean 'effective entrance'? answer yes or no. \", ' no.'] 0\n",
      "[\"user:  does this emoji sequence mean 'effective entrance'? answer yes or no. \", ' no.'] 0\n",
      "[\"user:  does this emoji sequence mean 'effective entrance'? answer yes or no. \", ' no.'] 0\n",
      "[\"user:  does this emoji sequence mean 'effective entrance'? answer yes or no. \", ' no.'] 0\n",
      "[\"user:  does this emoji sequence mean 'big business'? answer yes or no. \", ' no.'] 0\n",
      "[\"user:  does this emoji sequence mean 'big business'? answer yes or no. \", ' no.'] 0\n",
      "[\"user:  does this emoji sequence mean 'big business'? answer yes or no. \", ' no.'] 0\n",
      "[\"user:  does this emoji sequence mean 'big business'? answer yes or no. \", ' no.'] 0\n",
      "[\"user:  does this emoji sequence mean 'big business'? answer yes or no. \", ' no.'] 0\n",
      "[\"user:  does this emoji sequence mean 'big business'? answer yes or no. \", ' no.'] 0\n",
      "[\"user:  does this emoji sequence mean 'big business'? answer yes or no. \", ' no.'] 0\n",
      "[\"user:  does this emoji sequence mean 'big business'? answer yes or no. \", ' no.'] 0\n",
      "[\"user:  does this emoji sequence mean 'big expenditure'? answer yes or no. \", ' no.'] 0\n",
      "[\"user:  does this emoji sequence mean 'big expenditure'? answer yes or no. \", ' no.'] 0\n",
      "[\"user:  does this emoji sequence mean 'big expenditure'? answer yes or no. \", ' no.'] 0\n",
      "[\"user:  does this emoji sequence mean 'big expenditure'? answer yes or no. \", ' yes.'] 1\n",
      "[\"user:  does this emoji sequence mean 'big expenditure'? answer yes or no. \", ' no.'] 0\n",
      "[\"user:  does this emoji sequence mean 'big expenditure'? answer yes or no. \", ' no.'] 0\n",
      "[\"user:  does this emoji sequence mean 'big expenditure'? answer yes or no. \", ' yes.'] 1\n",
      "[\"user:  does this emoji sequence mean 'big expenditure'? answer yes or no. \", ' no.'] 0\n",
      "[\"user:  does this emoji sequence mean 'big voice'? answer yes or no. \", ' no.'] 0\n",
      "[\"user:  does this emoji sequence mean 'big voice'? answer yes or no. \", ' no.'] 0\n",
      "[\"user:  does this emoji sequence mean 'big voice'? answer yes or no. \", ' no.'] 0\n",
      "[\"user:  does this emoji sequence mean 'big voice'? answer yes or no. \", ' no.'] 0\n",
      "[\"user:  does this emoji sequence mean 'big voice'? answer yes or no. \", ' no.'] 0\n",
      "[\"user:  does this emoji sequence mean 'big voice'? answer yes or no. \", ' no.'] 0\n",
      "[\"user:  does this emoji sequence mean 'big voice'? answer yes or no. \", ' no.'] 0\n",
      "[\"user:  does this emoji sequence mean 'big voice'? answer yes or no. \", ' no.'] 0\n",
      "[\"user:  does this emoji sequence mean 'big group'? answer yes or no. \", ' no.'] 0\n",
      "[\"user:  does this emoji sequence mean 'big group'? answer yes or no. \", ' no.'] 0\n",
      "[\"user:  does this emoji sequence mean 'big group'? answer yes or no. \", ' no.'] 0\n",
      "[\"user:  does this emoji sequence mean 'big group'? answer yes or no. \", ' yes.'] 1\n",
      "[\"user:  does this emoji sequence mean 'big group'? answer yes or no. \", ' no.'] 0\n",
      "[\"user:  does this emoji sequence mean 'big group'? answer yes or no. \", ' no.'] 0\n",
      "[\"user:  does this emoji sequence mean 'big group'? answer yes or no. \", ' no.'] 0\n",
      "[\"user:  does this emoji sequence mean 'big group'? answer yes or no. \", ' no.'] 0\n",
      "[\"user:  does this emoji sequence mean 'big man'? answer yes or no. \", ' no.'] 0\n",
      "['<SKIPPED_OR_ERROR>'] 0\n",
      "[\"user:  does this emoji sequence mean 'big man'? answer yes or no. \", ' no.'] 0\n",
      "[\"user:  does this emoji sequence mean 'big man'? answer yes or no. \", ' no.'] 0\n",
      "[\"user:  does this emoji sequence mean 'big man'? answer yes or no. \", ' no.'] 0\n",
      "[\"user:  does this emoji sequence mean 'big man'? answer yes or no. \", ' no.'] 0\n",
      "[\"user:  does this emoji sequence mean 'big man'? answer yes or no. \", ' no.'] 0\n",
      "[\"user:  does this emoji sequence mean 'big man'? answer yes or no. \", ' no.'] 0\n",
      "[\"user:  does this emoji sequence mean 'big city'? answer yes or no. \", ' no.'] 0\n",
      "[\"user:  does this emoji sequence mean 'big city'? answer yes or no. \", ' no.'] 0\n",
      "[\"user:  does this emoji sequence mean 'big city'? answer yes or no. \", ' no.'] 0\n",
      "[\"user:  does this emoji sequence mean 'big city'? answer yes or no. \", ' no.'] 0\n",
      "[\"user:  does this emoji sequence mean 'big city'? answer yes or no. \", ' no.'] 0\n",
      "[\"user:  does this emoji sequence mean 'big city'? answer yes or no. \", ' yes.'] 1\n",
      "[\"user:  does this emoji sequence mean 'big city'? answer yes or no. \", ' no.'] 0\n",
      "[\"user:  does this emoji sequence mean 'big city'? answer yes or no. \", ' no.'] 0\n",
      "[\"user:  does this emoji sequence mean 'big tipper'? answer yes or no. \", ' no.'] 0\n",
      "[\"user:  does this emoji sequence mean 'big tipper'? answer yes or no. \", ' no.'] 0\n",
      "[\"user:  does this emoji sequence mean 'big tipper'? answer yes or no. \", ' no.'] 0\n",
      "[\"user:  does this emoji sequence mean 'big tipper'? answer yes or no. \", ' no.'] 0\n",
      "[\"user:  does this emoji sequence mean 'big tipper'? answer yes or no. \", ' no.'] 0\n",
      "[\"user:  does this emoji sequence mean 'big tipper'? answer yes or no. \", ' no.'] 0\n",
      "[\"user:  does this emoji sequence mean 'big tipper'? answer yes or no. \", ' no.'] 0\n",
      "[\"user:  does this emoji sequence mean 'big tipper'? answer yes or no. \", ' no.'] 0\n",
      "[\"user:  does this emoji sequence mean 'big day'? answer yes or no. \", ' no.'] 0\n",
      "[\"user:  does this emoji sequence mean 'big day'? answer yes or no. \", ' no.'] 0\n",
      "[\"user:  does this emoji sequence mean 'big day'? answer yes or no. \", ' no.'] 0\n",
      "[\"user:  does this emoji sequence mean 'big day'? answer yes or no. \", ' no.'] 0\n",
      "[\"user:  does this emoji sequence mean 'big day'? answer yes or no. \", ' no.'] 0\n",
      "[\"user:  does this emoji sequence mean 'big day'? answer yes or no. \", ' no.'] 0\n",
      "[\"user:  does this emoji sequence mean 'big day'? answer yes or no. \", ' no.'] 0\n",
      "[\"user:  does this emoji sequence mean 'big day'? answer yes or no. \", ' no.'] 0\n",
      "[\"user:  does this emoji sequence mean 'hot doll'? answer yes or no. \", ' no.'] 0\n",
      "[\"user:  does this emoji sequence mean 'hot doll'? answer yes or no. \", ' no.'] 0\n",
      "['<SKIPPED_OR_ERROR>'] 0\n",
      "[\"user:  does this emoji sequence mean 'hot doll'? answer yes or no. \", ' no.'] 0\n",
      "[\"user:  does this emoji sequence mean 'hot doll'? answer yes or no. \", ' no.'] 0\n",
      "[\"user:  does this emoji sequence mean 'hot doll'? answer yes or no. \", ' no.'] 0\n",
      "[\"user:  does this emoji sequence mean 'hot doll'? answer yes or no. \", ' no.'] 0\n",
      "[\"user:  does this emoji sequence mean 'hot doll'? answer yes or no. \", ' no.'] 0\n",
      "[\"user:  does this emoji sequence mean 'hot water'? answer yes or no. \", ' yes.'] 1\n",
      "[\"user:  does this emoji sequence mean 'hot water'? answer yes or no. \", ' no.'] 0\n",
      "[\"user:  does this emoji sequence mean 'hot water'? answer yes or no. \", ' no.'] 0\n",
      "[\"user:  does this emoji sequence mean 'hot water'? answer yes or no. \", ' no.'] 0\n",
      "['<SKIPPED_OR_ERROR>'] 0\n",
      "[\"user:  does this emoji sequence mean 'hot water'? answer yes or no. \", ' no.'] 0\n",
      "[\"user:  does this emoji sequence mean 'hot water'? answer yes or no. \", ' no.'] 0\n",
      "[\"user:  does this emoji sequence mean 'hot water'? answer yes or no. \", ' no.'] 0\n",
      "[\"user:  does this emoji sequence mean 'hot stove'? answer yes or no. \", ' no.'] 0\n",
      "[\"user:  does this emoji sequence mean 'hot stove'? answer yes or no. \", ' no.'] 0\n",
      "['<SKIPPED_OR_ERROR>'] 0\n",
      "['<SKIPPED_OR_ERROR>'] 0\n",
      "[\"user:  does this emoji sequence mean 'hot stove'? answer yes or no. \", ' no.'] 0\n",
      "[\"user:  does this emoji sequence mean 'hot stove'? answer yes or no. \", ' no.'] 0\n",
      "[\"user:  does this emoji sequence mean 'hot stove'? answer yes or no. \", ' no.'] 0\n",
      "['<SKIPPED_OR_ERROR>'] 0\n",
      "[\"user:  does this emoji sequence mean 'hot topic'? answer yes or no. \", ' no.'] 0\n",
      "[\"user:  does this emoji sequence mean 'hot topic'? answer yes or no. \", ' no.'] 0\n",
      "['<SKIPPED_OR_ERROR>'] 0\n",
      "[\"user:  does this emoji sequence mean 'hot topic'? answer yes or no. \", ' no.'] 0\n",
      "[\"user:  does this emoji sequence mean 'hot topic'? answer yes or no. \", ' no.'] 0\n",
      "[\"user:  does this emoji sequence mean 'hot topic'? answer yes or no. \", ' no.'] 0\n",
      "[\"user:  does this emoji sequence mean 'hot topic'? answer yes or no. \", ' no.'] 0\n",
      "[\"user:  does this emoji sequence mean 'hot topic'? answer yes or no. \", ' no.'] 0\n",
      "[\"user:  does this emoji sequence mean 'hot merchandise'? answer yes or no. \", ' no.'] 0\n",
      "[\"user:  does this emoji sequence mean 'hot merchandise'? answer yes or no. \", ' no.'] 0\n",
      "[\"user:  does this emoji sequence mean 'hot merchandise'? answer yes or no. \", ' no.'] 0\n",
      "[\"user:  does this emoji sequence mean 'hot merchandise'? answer yes or no. \", ' no.'] 0\n",
      "[\"user:  does this emoji sequence mean 'hot merchandise'? answer yes or no. \", ' no.'] 0\n",
      "[\"user:  does this emoji sequence mean 'hot merchandise'? answer yes or no. \", ' no.'] 0\n",
      "[\"user:  does this emoji sequence mean 'hot merchandise'? answer yes or no. \", ' no.'] 0\n",
      "['<SKIPPED_OR_ERROR>'] 0\n",
      "[\"user:  does this emoji sequence mean 'hot temper'? answer yes or no. \", ' no.'] 0\n",
      "[\"user:  does this emoji sequence mean 'hot temper'? answer yes or no. \", ' yes.'] 1\n",
      "[\"user:  does this emoji sequence mean 'hot temper'? answer yes or no. \", ' yes.'] 1\n",
      "[\"user:  does this emoji sequence mean 'hot temper'? answer yes or no. \", ' yes.'] 1\n",
      "[\"user:  does this emoji sequence mean 'hot temper'? answer yes or no. \", ' no.'] 0\n",
      "[\"user:  does this emoji sequence mean 'hot temper'? answer yes or no. \", ' no.'] 0\n",
      "[\"user:  does this emoji sequence mean 'hot temper'? answer yes or no. \", ' no.'] 0\n",
      "[\"user:  does this emoji sequence mean 'hot temper'? answer yes or no. \", ' no.'] 0\n",
      "[\"user:  does this emoji sequence mean 'hot argument'? answer yes or no. \", ' no.'] 0\n",
      "[\"user:  does this emoji sequence mean 'hot argument'? answer yes or no. \", ' no.'] 0\n",
      "[\"user:  does this emoji sequence mean 'hot argument'? answer yes or no. \", ' no.'] 0\n",
      "[\"user:  does this emoji sequence mean 'hot argument'? answer yes or no. \", ' no.'] 0\n",
      "[\"user:  does this emoji sequence mean 'hot argument'? answer yes or no. \", ' no.'] 0\n",
      "[\"user:  does this emoji sequence mean 'hot argument'? answer yes or no. \", ' no.'] 0\n",
      "[\"user:  does this emoji sequence mean 'hot argument'? answer yes or no. \", ' no.'] 0\n",
      "[\"user:  does this emoji sequence mean 'hot argument'? answer yes or no. \", ' no.'] 0\n",
      "[\"user:  does this emoji sequence mean 'hot forehead'? answer yes or no. \", ' no.'] 0\n",
      "[\"user:  does this emoji sequence mean 'hot forehead'? answer yes or no. \", ' no.'] 0\n",
      "[\"user:  does this emoji sequence mean 'hot forehead'? answer yes or no. \", ' no.'] 0\n",
      "[\"user:  does this emoji sequence mean 'hot forehead'? answer yes or no. \", ' no.'] 0\n",
      "[\"user:  does this emoji sequence mean 'hot forehead'? answer yes or no. \", ' no.'] 0\n",
      "[\"user:  does this emoji sequence mean 'hot forehead'? answer yes or no. \", ' no.'] 0\n",
      "[\"user:  does this emoji sequence mean 'hot forehead'? answer yes or no. \", ' no.'] 0\n",
      "[\"user:  does this emoji sequence mean 'hot forehead'? answer yes or no. \", ' no.'] 0\n",
      "[\"user:  does this emoji sequence mean 'full game'? answer yes or no. \", ' no.'] 0\n",
      "[\"user:  does this emoji sequence mean 'full game'? answer yes or no. \", ' no.'] 0\n",
      "[\"user:  does this emoji sequence mean 'full game'? answer yes or no. \", ' no.'] 0\n",
      "[\"user:  does this emoji sequence mean 'full game'? answer yes or no. \", ' no.'] 0\n",
      "[\"user:  does this emoji sequence mean 'full game'? answer yes or no. \", ' no.'] 0\n",
      "[\"user:  does this emoji sequence mean 'full game'? answer yes or no. \", ' no.'] 0\n",
      "[\"user:  does this emoji sequence mean 'full game'? answer yes or no. \", ' no.'] 0\n",
      "[\"user:  does this emoji sequence mean 'full auditorium'? answer yes or no. \", ' no.'] 0\n",
      "[\"user:  does this emoji sequence mean 'full auditorium'? answer yes or no. \", ' no.'] 0\n",
      "[\"user:  does this emoji sequence mean 'full auditorium'? answer yes or no. \", ' no.'] 0\n",
      "[\"user:  does this emoji sequence mean 'full auditorium'? answer yes or no. \", ' no.'] 0\n",
      "[\"user:  does this emoji sequence mean 'full auditorium'? answer yes or no. \", ' no.'] 0\n",
      "[\"user:  does this emoji sequence mean 'full auditorium'? answer yes or no. \", ' no.'] 0\n",
      "[\"user:  does this emoji sequence mean 'full auditorium'? answer yes or no. \", ' no.'] 0\n",
      "[\"user:  does this emoji sequence mean 'full attention'? answer yes or no. \", ' no.'] 0\n",
      "[\"user:  does this emoji sequence mean 'full attention'? answer yes or no. \", ' no.'] 0\n",
      "[\"user:  does this emoji sequence mean 'full attention'? answer yes or no. \", ' no.'] 0\n",
      "[\"user:  does this emoji sequence mean 'full attention'? answer yes or no. \", ' no.'] 0\n",
      "[\"user:  does this emoji sequence mean 'full attention'? answer yes or no. \", ' no.'] 0\n",
      "[\"user:  does this emoji sequence mean 'full attention'? answer yes or no. \", ' no.'] 0\n",
      "[\"user:  does this emoji sequence mean 'full attention'? answer yes or no. \", ' no.'] 0\n",
      "[\"user:  does this emoji sequence mean 'full glass'? answer yes or no. \", ' no.'] 0\n",
      "[\"user:  does this emoji sequence mean 'full glass'? answer yes or no. \", ' no.'] 0\n",
      "[\"user:  does this emoji sequence mean 'full glass'? answer yes or no. \", ' no.'] 0\n",
      "[\"user:  does this emoji sequence mean 'full glass'? answer yes or no. \", ' no.'] 0\n",
      "[\"user:  does this emoji sequence mean 'full glass'? answer yes or no. \", ' no.'] 0\n",
      "[\"user:  does this emoji sequence mean 'full glass'? answer yes or no. \", ' no.'] 0\n",
      "[\"user:  does this emoji sequence mean 'full glass'? answer yes or no. \", ' no.'] 0\n",
      "[\"user:  does this emoji sequence mean 'full life'? answer yes or no. \", ' no.'] 0\n",
      "[\"user:  does this emoji sequence mean 'full life'? answer yes or no. \", ' no.'] 0\n",
      "[\"user:  does this emoji sequence mean 'full life'? answer yes or no. \", ' no.'] 0\n",
      "[\"user:  does this emoji sequence mean 'full life'? answer yes or no. \", ' no.'] 0\n",
      "[\"user:  does this emoji sequence mean 'full life'? answer yes or no. \", ' no.'] 0\n",
      "[\"user:  does this emoji sequence mean 'full life'? answer yes or no. \", ' no.'] 0\n",
      "[\"user:  does this emoji sequence mean 'full life'? answer yes or no. \", ' no.'] 0\n",
      "[\"user:  does this emoji sequence mean 'little boy'? answer yes or no. \", ' no.'] 0\n",
      "[\"user:  does this emoji sequence mean 'little boy'? answer yes or no. \", ' no.'] 0\n",
      "[\"user:  does this emoji sequence mean 'little boy'? answer yes or no. \", ' no.'] 0\n",
      "[\"user:  does this emoji sequence mean 'little boy'? answer yes or no. \", ' no.'] 0\n",
      "[\"user:  does this emoji sequence mean 'little boy'? answer yes or no. \", ' no.'] 0\n",
      "[\"user:  does this emoji sequence mean 'little boy'? answer yes or no. \", ' no.'] 0\n",
      "[\"user:  does this emoji sequence mean 'little boy'? answer yes or no. \", ' yes.'] 1\n",
      "[\"user:  does this emoji sequence mean 'little boy'? answer yes or no. \", ' yes.'] 1\n",
      "[\"user:  does this emoji sequence mean 'little man'? answer yes or no. \", ' no.'] 0\n",
      "[\"user:  does this emoji sequence mean 'little man'? answer yes or no. \", ' yes.'] 1\n",
      "[\"user:  does this emoji sequence mean 'little man'? answer yes or no. \", ' yes.'] 1\n",
      "[\"user:  does this emoji sequence mean 'little man'? answer yes or no. \", ' no.'] 0\n",
      "[\"user:  does this emoji sequence mean 'little man'? answer yes or no. \", ' no.'] 0\n",
      "[\"user:  does this emoji sequence mean 'little man'? answer yes or no. \", ' no.'] 0\n",
      "[\"user:  does this emoji sequence mean 'little man'? answer yes or no. \", ' no.'] 0\n",
      "[\"user:  does this emoji sequence mean 'little man'? answer yes or no. \", ' no.'] 0\n",
      "[\"user:  does this emoji sequence mean 'little house'? answer yes or no. \", ' no.'] 0\n",
      "[\"user:  does this emoji sequence mean 'little house'? answer yes or no. \", ' no.'] 0\n",
      "[\"user:  does this emoji sequence mean 'little house'? answer yes or no. \", ' no.'] 0\n",
      "[\"user:  does this emoji sequence mean 'little house'? answer yes or no. \", ' no.'] 0\n",
      "[\"user:  does this emoji sequence mean 'little house'? answer yes or no. \", ' no.'] 0\n",
      "[\"user:  does this emoji sequence mean 'little house'? answer yes or no. \", ' no.'] 0\n",
      "[\"user:  does this emoji sequence mean 'little house'? answer yes or no. \", ' no.'] 0\n",
      "[\"user:  does this emoji sequence mean 'little house'? answer yes or no. \", ' no.'] 0\n",
      "[\"user:  does this emoji sequence mean 'thin oil'? answer yes or no. \", ' no.'] 0\n",
      "[\"user:  does this emoji sequence mean 'thin oil'? answer yes or no. \", ' no.'] 0\n",
      "[\"user:  does this emoji sequence mean 'thin oil'? answer yes or no. \", ' no.'] 0\n",
      "[\"user:  does this emoji sequence mean 'thin oil'? answer yes or no. \", ' no.'] 0\n",
      "[\"user:  does this emoji sequence mean 'thin oil'? answer yes or no. \", ' no.'] 0\n",
      "[\"user:  does this emoji sequence mean 'thin oil'? answer yes or no. \", ' no.'] 0\n",
      "[\"user:  does this emoji sequence mean 'thin oil'? answer yes or no. \", ' no.'] 0\n",
      "[\"user:  does this emoji sequence mean 'thin oil'? answer yes or no. \", ' no.'] 0\n",
      "[\"user:  does this emoji sequence mean 'thin soup'? answer yes or no. \", ' no.'] 0\n",
      "[\"user:  does this emoji sequence mean 'thin soup'? answer yes or no. \", ' no.'] 0\n",
      "[\"user:  does this emoji sequence mean 'thin soup'? answer yes or no. \", ' no.'] 0\n",
      "[\"user:  does this emoji sequence mean 'thin soup'? answer yes or no. \", ' no.'] 0\n",
      "[\"user:  does this emoji sequence mean 'thin soup'? answer yes or no. \", ' no.'] 0\n",
      "[\"user:  does this emoji sequence mean 'thin soup'? answer yes or no. \", ' no.'] 0\n",
      "[\"user:  does this emoji sequence mean 'thin soup'? answer yes or no. \", ' no.'] 0\n",
      "[\"user:  does this emoji sequence mean 'thin soup'? answer yes or no. \", ' no.'] 0\n",
      "[\"user:  does this emoji sequence mean 'thin air'? answer yes or no. \", ' no.'] 0\n",
      "[\"user:  does this emoji sequence mean 'thin air'? answer yes or no. \", ' no.'] 0\n",
      "[\"user:  does this emoji sequence mean 'thin air'? answer yes or no. \", ' no.'] 0\n",
      "[\"user:  does this emoji sequence mean 'thin air'? answer yes or no. \", ' no.'] 0\n",
      "[\"user:  does this emoji sequence mean 'thin air'? answer yes or no. \", ' no.'] 0\n",
      "[\"user:  does this emoji sequence mean 'thin air'? answer yes or no. \", ' no.'] 0\n",
      "[\"user:  does this emoji sequence mean 'thin air'? answer yes or no. \", ' no.'] 0\n",
      "[\"user:  does this emoji sequence mean 'thin air'? answer yes or no. \", ' no.'] 0\n",
      "[\"user:  does this emoji sequence mean 'thin line'? answer yes or no. \", ' no.'] 0\n",
      "[\"user:  does this emoji sequence mean 'thin line'? answer yes or no. \", ' no.'] 0\n",
      "[\"user:  does this emoji sequence mean 'thin line'? answer yes or no. \", ' no.'] 0\n",
      "[\"user:  does this emoji sequence mean 'thin line'? answer yes or no. \", ' no.'] 0\n",
      "[\"user:  does this emoji sequence mean 'thin line'? answer yes or no. \", ' no.'] 0\n",
      "[\"user:  does this emoji sequence mean 'thin line'? answer yes or no. \", ' no.'] 0\n",
      "[\"user:  does this emoji sequence mean 'thin line'? answer yes or no. \", ' no.'] 0\n",
      "[\"user:  does this emoji sequence mean 'thin line'? answer yes or no. \", ' no.'] 0\n",
      "[\"user:  does this emoji sequence mean 'ineffectual ruler'? answer yes or no. \", ' no.'] 0\n",
      "[\"user:  does this emoji sequence mean 'ineffectual ruler'? answer yes or no. \", ' no.'] 0\n",
      "[\"user:  does this emoji sequence mean 'ineffectual ruler'? answer yes or no. \", ' no.'] 0\n",
      "[\"user:  does this emoji sequence mean 'ineffectual ruler'? answer yes or no. \", ' no.'] 0\n",
      "[\"user:  does this emoji sequence mean 'ineffectual ruler'? answer yes or no. \", ' no.'] 0\n",
      "[\"user:  does this emoji sequence mean 'ineffectual ruler'? answer yes or no. \", ' no.'] 0\n",
      "[\"user:  does this emoji sequence mean 'ineffectual ruler'? answer yes or no. \", ' no.'] 0\n",
      "[\"user:  does this emoji sequence mean 'ineffectual ruler'? answer yes or no. \", ' no.'] 0\n",
      "[\"user:  does this emoji sequence mean 'ineffectual therapy'? answer yes or no. \", ' no.'] 0\n",
      "[\"user:  does this emoji sequence mean 'ineffectual therapy'? answer yes or no. \", ' no.'] 0\n",
      "[\"user:  does this emoji sequence mean 'ineffectual therapy'? answer yes or no. \", ' no.'] 0\n",
      "[\"user:  does this emoji sequence mean 'ineffectual therapy'? answer yes or no. \", ' no.'] 0\n",
      "[\"user:  does this emoji sequence mean 'ineffectual therapy'? answer yes or no. \", ' no.'] 0\n",
      "[\"user:  does this emoji sequence mean 'ineffectual therapy'? answer yes or no. \", ' no.'] 0\n",
      "['<SKIPPED_OR_ERROR>'] 0\n",
      "[\"user:  does this emoji sequence mean 'ineffectual therapy'? answer yes or no. \", ' no.'] 0\n",
      "[\"user:  does this emoji sequence mean 'effective step'? answer yes or no. \", ' yes.'] 1\n",
      "['<SKIPPED_OR_ERROR>'] 0\n",
      "[\"user:  does this emoji sequence mean 'effective step'? answer yes or no. \", ' no.'] 0\n",
      "[\"user:  does this emoji sequence mean 'effective step'? answer yes or no. \", ' no.'] 0\n",
      "[\"user:  does this emoji sequence mean 'effective step'? answer yes or no. \", ' no.'] 0\n",
      "[\"user:  does this emoji sequence mean 'effective step'? answer yes or no. \", ' no.'] 0\n",
      "[\"user:  does this emoji sequence mean 'effective step'? answer yes or no. \", ' no.'] 0\n",
      "[\"user:  does this emoji sequence mean 'effective step'? answer yes or no. \", ' no.'] 0\n",
      "[\"user:  does this emoji sequence mean 'effective reprimand'? answer yes or no. \", ' no.'] 0\n",
      "[\"user:  does this emoji sequence mean 'effective reprimand'? answer yes or no. \", ' no.'] 0\n",
      "[\"user:  does this emoji sequence mean 'effective reprimand'? answer yes or no. \", ' no.'] 0\n",
      "[\"user:  does this emoji sequence mean 'effective reprimand'? answer yes or no. \", ' no.'] 0\n",
      "[\"user:  does this emoji sequence mean 'effective reprimand'? answer yes or no. \", ' no.'] 0\n",
      "[\"user:  does this emoji sequence mean 'effective reprimand'? answer yes or no. \", ' no.'] 0\n",
      "[\"user:  does this emoji sequence mean 'effective reprimand'? answer yes or no. \", ' no.'] 0\n",
      "[\"user:  does this emoji sequence mean 'effective reprimand'? answer yes or no. \", ' no.'] 0\n",
      "[\"user:  does this emoji sequence mean 'effective entrance'? answer yes or no. \", ' no.'] 0\n",
      "[\"user:  does this emoji sequence mean 'effective entrance'? answer yes or no. \", ' no.'] 0\n",
      "[\"user:  does this emoji sequence mean 'effective entrance'? answer yes or no. \", ' no.'] 0\n",
      "[\"user:  does this emoji sequence mean 'effective entrance'? answer yes or no. \", ' no.'] 0\n",
      "[\"user:  does this emoji sequence mean 'effective entrance'? answer yes or no. \", ' no.'] 0\n",
      "[\"user:  does this emoji sequence mean 'effective entrance'? answer yes or no. \", ' no.'] 0\n",
      "[\"user:  does this emoji sequence mean 'effective entrance'? answer yes or no. \", ' no.'] 0\n",
      "[\"user:  does this emoji sequence mean 'effective entrance'? answer yes or no. \", ' no.'] 0\n"
     ]
    }
   ],
   "source": [
    "predictions2 = []\n",
    "for text in cleaned_generated_texts[\"generated_text\"]:\n",
    "    parts = text.split(\"assistant:\")\n",
    "    assistant_response = parts[-1].strip() if len(parts) > 1 else text.strip()\n",
    "    prediction = 1 if \"yes\" in assistant_response.lower() else 0\n",
    "\n",
    "    print(parts, prediction)\n",
    "    predictions2.append(prediction)"
   ]
  },
  {
   "cell_type": "code",
   "execution_count": 10,
   "metadata": {},
   "outputs": [
    {
     "name": "stdout",
     "output_type": "stream",
     "text": [
      "Accuracy: 0.6583011583011583\n",
      "F1 Macro: 0.6265685903153676\n"
     ]
    }
   ],
   "source": [
    "from sklearn.metrics import accuracy_score, f1_score\n",
    "true_labels = cleaned_generated_texts[\"label\"]\n",
    "print(f\"Accuracy: {accuracy_score(true_labels, predictions2)}\")\n",
    "print(f\"F1 Macro: {f1_score(true_labels, predictions2, average='macro')}\")"
   ]
  },
  {
   "cell_type": "code",
   "execution_count": 11,
   "metadata": {},
   "outputs": [],
   "source": [
    "test_dataset = pd.read_csv(\"generated_img_dataset/test.csv\")\n"
   ]
  },
  {
   "cell_type": "code",
   "execution_count": 12,
   "metadata": {},
   "outputs": [],
   "source": [
    "test_dataset['predicted_label'] = predictions2\n",
    "test_dataset['generated_text'] = cleaned_generated_texts[\"generated_text\"]\n",
    "test_dataset.to_csv(\"results2.csv\", index=False)"
   ]
  }
 ],
 "metadata": {
  "kernelspec": {
   "display_name": "swin",
   "language": "python",
   "name": "python3"
  },
  "language_info": {
   "codemirror_mode": {
    "name": "ipython",
    "version": 3
   },
   "file_extension": ".py",
   "mimetype": "text/x-python",
   "name": "python",
   "nbconvert_exporter": "python",
   "pygments_lexer": "ipython3",
   "version": "3.11.11"
  }
 },
 "nbformat": 4,
 "nbformat_minor": 2
}
